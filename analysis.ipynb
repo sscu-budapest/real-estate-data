{
 "cells": [
  {
   "cell_type": "markdown",
   "id": "bebf92ca",
   "metadata": {},
   "source": [
    "Minta:\n",
    " - legdrágább 1% kidob\n",
    " - ha többen (user) használnak egy számot akkor kidob\n",
    " - ha többen (agency) használnak egy számot akkor kidob\n",
    " - vezetékes, külföldi, ismeretlen számok kidob"
   ]
  },
  {
   "cell_type": "code",
   "execution_count": 1,
   "id": "89e8248e",
   "metadata": {},
   "outputs": [],
   "source": [
    "from src.ingatlan import (\n",
    "    property_table,\n",
    "    seller_table,\n",
    "    parking_table,\n",
    "    price_table,\n",
    "    heating_table,\n",
    "    utility_cost_table,\n",
    "    contact_table,\n",
    "    label_table,\n",
    "    location_table,\n",
    "    property_rec_table,\n",
    ")\n",
    "from tqdm import tqdm\n",
    "\n",
    "tqdm.pandas()\n",
    "\n",
    "from src.meta import (\n",
    "    Contact,\n",
    "    Heating,\n",
    "    Label,\n",
    "    Parking,\n",
    "    Price,\n",
    "    RealEstate,\n",
    "    RealEstateRecord,\n",
    "    Seller,\n",
    "    UtilityCost,\n",
    "    Location,\n",
    ")\n",
    "import seaborn as sns\n",
    "import pandas as pd\n",
    "import numpy as np\n",
    "from matplotlib import pyplot as plt\n",
    "import datetime as dt\n",
    "import json\n",
    "from pathlib import Path\n"
   ]
  },
  {
   "cell_type": "code",
   "execution_count": 2,
   "id": "a2ef06a6",
   "metadata": {
    "ExecuteTime": {
     "end_time": "2023-03-14T08:04:47.850079Z",
     "start_time": "2023-03-14T08:04:42.559191Z"
    }
   },
   "outputs": [],
   "source": [
    "property_df = (\n",
    "    property_table.get_full_df(env=\"complete\")\n",
    "    .applymap(lambda x: None if x == \"None\" else x)\n",
    "    .loc[lambda _df: ~_df.index.duplicated(keep=\"first\"), :]\n",
    ")\n",
    "seller_df = (\n",
    "    seller_table.get_full_df(env=\"complete\")\n",
    "    .applymap(lambda x: None if x == \"None\" else x)\n",
    "    .loc[lambda _df: ~_df.index.duplicated(keep=\"first\"), :]\n",
    ")\n",
    "price_df = (\n",
    "    price_table.get_full_df(env=\"complete\")\n",
    "    .applymap(lambda x: None if x == \"None\" else x)\n",
    "    .loc[lambda _df: ~_df.index.duplicated(keep=\"first\"), :]\n",
    ")\n",
    "contact_df = (\n",
    "    contact_table.get_full_df(env=\"complete\")\n",
    "    .applymap(lambda x: None if x == \"None\" else x)\n",
    "    .loc[lambda _df: ~_df.index.duplicated(keep=\"first\"), :]\n",
    ")\n",
    "location_df = (\n",
    "    location_table.get_full_df(env=\"complete\")\n",
    "    .applymap(lambda x: None if x == \"None\" else x)\n",
    "    .loc[lambda _df: ~_df.index.duplicated(keep=\"first\"), :]\n",
    ")\n",
    "property_rec_df = property_rec_table.get_full_df(env=\"complete\").applymap(\n",
    "    lambda x: None if x == \"None\" else x\n",
    ")\n"
   ]
  },
  {
   "cell_type": "code",
   "execution_count": 3,
   "id": "1b51fe75",
   "metadata": {
    "ExecuteTime": {
     "end_time": "2023-03-14T08:04:47.883240Z",
     "start_time": "2023-03-14T08:04:47.852658Z"
    }
   },
   "outputs": [],
   "source": [
    "proc_price_df = (\n",
    "    price_df.reset_index()\n",
    "    .assign(\n",
    "        **{\n",
    "            Price.amount: lambda _df: (\n",
    "                (\n",
    "                    _df[Price.interval_d] * _df[Price.amount] * 30\n",
    "                    + _df[Price.interval_m] * _df[Price.amount]\n",
    "                    + _df[Price.interval_y] * _df[Price.amount] / 12\n",
    "                )\n",
    "                / 100_000\n",
    "            )\n",
    "        }\n",
    "    )\n",
    "    .loc[lambda _df: _df[Price.currency] == \"HUF\", [Price.property_id.id, Price.amount]]\n",
    "    .set_index(Price.property_id.id)\n",
    "    .rename(columns={\"amount\": \"price\"})\n",
    ")\n"
   ]
  },
  {
   "cell_type": "code",
   "execution_count": 4,
   "id": "14f3de20",
   "metadata": {
    "ExecuteTime": {
     "end_time": "2023-03-14T08:04:50.124073Z",
     "start_time": "2023-03-14T08:04:49.229866Z"
    },
    "scrolled": false
   },
   "outputs": [
    {
     "data": {
      "text/plain": [
       "(23845,)"
      ]
     },
     "execution_count": 4,
     "metadata": {},
     "output_type": "execute_result"
    }
   ],
   "source": [
    "current_ads = (\n",
    "    property_rec_df.reset_index(RealEstateRecord.recorded)\n",
    "    .loc[\n",
    "        lambda _df: (\n",
    "            _df[RealEstateRecord.recorded].dt.date\n",
    "            == dt.datetime.now().date() - dt.timedelta(days=10)\n",
    "        ),  # TODO\n",
    "        :,\n",
    "    ]\n",
    "    .index.drop_duplicates()\n",
    ")\n",
    "current_ads.shape\n"
   ]
  },
  {
   "cell_type": "code",
   "execution_count": 5,
   "id": "4a64ef54",
   "metadata": {},
   "outputs": [],
   "source": [
    "valid_contacts = (\n",
    "    pd.merge(\n",
    "        contact_df.reset_index(),\n",
    "        property_df[[RealEstate.seller_id.id]],\n",
    "        left_on=Contact.property_id.id,\n",
    "        right_index=True,\n",
    "    )\n",
    "    .drop_duplicates(subset=[RealEstate.seller_id.id, Contact.phone_number])\n",
    "    .groupby(Contact.phone_number)\n",
    "    .filter(lambda _gdf: _gdf[RealEstate.seller_id.id].nunique() == 1)\n",
    "    .drop(columns=Contact.property_id.id)\n",
    "    .drop_duplicates(subset=[RealEstate.seller_id.id], keep=\"first\")\n",
    "    .set_index(RealEstate.seller_id.id)\n",
    ")\n"
   ]
  },
  {
   "cell_type": "code",
   "execution_count": 6,
   "id": "186700a1",
   "metadata": {
    "ExecuteTime": {
     "end_time": "2023-03-14T08:04:50.258805Z",
     "start_time": "2023-03-14T08:04:50.255880Z"
    }
   },
   "outputs": [],
   "source": [
    "PLACES_NAMING = json.loads(Path(\"place_names.json\").read_text())\n",
    "\n",
    "\n",
    "def find_boundary_type(loc_df, loc_id, loc_type):\n",
    "    parent = loc_df.loc[loc_id, :]\n",
    "    if parent[Location.type] == loc_type:\n",
    "        return parent.name\n",
    "    else:\n",
    "        return find_boundary_type(loc_df, parent[Location.parent_id], loc_type)\n",
    "\n",
    "\n",
    "def generate_location_string(loc_df, loc_id):\n",
    "    if loc_df.loc[loc_id, Location.type] == \"poi\":\n",
    "        return generate_location_string(\n",
    "            loc_df, find_boundary_type(loc_df, loc_id, \"street\")\n",
    "        )\n",
    "    if loc_df.loc[loc_id, Location.type] == \"street\":\n",
    "        city = find_boundary_type(loc_df, loc_id, \"city\")\n",
    "        if city == 11:\n",
    "            district = find_boundary_type(loc_df, loc_id, \"district\")\n",
    "            city_name = f\"{loc_df.loc[district, Location.name]} {loc_df.loc[district, Location.name_postfix]}\"\n",
    "        else:\n",
    "            city_name = f\"{loc_df.loc[city, Location.name]} {loc_df.loc[city, Location.name_postfix]}\"\n",
    "        address_name = f\"{loc_df.loc[loc_id, Location.name]} {PLACES_NAMING[loc_df.loc[loc_id, Location.name_postfix]]}\"\n",
    "        return f\"{city_name} {address_name}\"\n",
    "    else:\n",
    "        if not loc_df.loc[loc_id, Location.inflection_from] in ((None, \"\")):\n",
    "            city_name = loc_df.loc[loc_id, Location.inflection_from]\n",
    "        else:\n",
    "            city_name = f\"{loc_df.loc[loc_id, Location.name]}i\".lower()\n",
    "        return city_name\n"
   ]
  },
  {
   "cell_type": "code",
   "execution_count": 7,
   "id": "a35a682e",
   "metadata": {},
   "outputs": [
    {
     "data": {
      "text/plain": [
       "(23842, 55)"
      ]
     },
     "execution_count": 7,
     "metadata": {},
     "output_type": "execute_result"
    }
   ],
   "source": [
    "proc_property_df = property_df.loc[lambda _df: _df.index.intersection(current_ads), :]\n",
    "proc_property_df.shape\n"
   ]
  },
  {
   "cell_type": "code",
   "execution_count": 8,
   "id": "0a1eb31e",
   "metadata": {},
   "outputs": [
    {
     "name": "stderr",
     "output_type": "stream",
     "text": [
      "100%|██████████| 17568/17568 [00:12<00:00, 1389.44it/s]\n",
      "100%|██████████| 17568/17568 [00:08<00:00, 2051.12it/s]\n",
      "100%|██████████| 17568/17568 [00:00<00:00, 100236.61it/s]\n"
     ]
    },
    {
     "data": {
      "text/plain": [
       "(17568, 14)"
      ]
     },
     "execution_count": 8,
     "metadata": {},
     "output_type": "execute_result"
    }
   ],
   "source": [
    "final_df = (\n",
    "    proc_property_df.merge(\n",
    "        (\n",
    "            seller_df.loc[:, [Seller.agency, Seller.name]].assign(\n",
    "                is_agency=lambda _df: ~_df[Seller.agency].isna()\n",
    "            )\n",
    "        ),\n",
    "        left_on=RealEstate.seller_id.id,\n",
    "        right_index=True,\n",
    "        how=\"inner\",\n",
    "    )\n",
    "    .merge(proc_price_df, left_index=True, right_on=Price.property_id.id, how=\"inner\")\n",
    "    .merge(\n",
    "        valid_contacts, left_on=RealEstate.seller_id.id, right_index=True, how=\"inner\"\n",
    "    )\n",
    "    .assign(\n",
    "        address=lambda _df: _df[RealEstate.location_id.id].progress_apply(\n",
    "            lambda x: generate_location_string(location_df, x)\n",
    "        ),\n",
    "        city_code=lambda _df: _df[RealEstate.location_id.id].progress_apply(\n",
    "            lambda x: find_boundary_type(location_df, x, \"city\")\n",
    "        ),\n",
    "        city_name=lambda _df: _df[\"city_code\"].progress_apply(\n",
    "            lambda x: location_df.loc[x, \"name\"]\n",
    "        ),\n",
    "    )\n",
    "    .loc[\n",
    "        :,\n",
    "        [\n",
    "            RealEstate.reference_id,\n",
    "            RealEstate.seller_id.id,\n",
    "            RealEstate.location_id.id,\n",
    "            RealEstate.condition,\n",
    "            RealEstate.area_size,\n",
    "            RealEstate.type,\n",
    "            \"price\",\n",
    "            \"address\",\n",
    "            Contact.phone_number,\n",
    "            Seller.agency,\n",
    "            Seller.name,\n",
    "            \"is_agency\",\n",
    "            \"city_code\",\n",
    "            \"city_name\",\n",
    "        ],\n",
    "    ]\n",
    ")\n",
    "\n",
    "final_df.shape\n"
   ]
  },
  {
   "cell_type": "code",
   "execution_count": 9,
   "id": "3a0f186d",
   "metadata": {},
   "outputs": [],
   "source": [
    "import seaborn as sns"
   ]
  },
  {
   "cell_type": "code",
   "execution_count": 10,
   "id": "8187fcdc",
   "metadata": {},
   "outputs": [
    {
     "data": {
      "text/html": [
       "<div>\n",
       "<style scoped>\n",
       "    .dataframe tbody tr th:only-of-type {\n",
       "        vertical-align: middle;\n",
       "    }\n",
       "\n",
       "    .dataframe tbody tr th {\n",
       "        vertical-align: top;\n",
       "    }\n",
       "\n",
       "    .dataframe thead th {\n",
       "        text-align: right;\n",
       "    }\n",
       "</style>\n",
       "<table border=\"1\" class=\"dataframe\">\n",
       "  <thead>\n",
       "    <tr style=\"text-align: right;\">\n",
       "      <th></th>\n",
       "      <th>reference_id</th>\n",
       "      <th>seller_id__id</th>\n",
       "      <th>location_id__id</th>\n",
       "      <th>condition</th>\n",
       "      <th>area_size</th>\n",
       "      <th>type</th>\n",
       "      <th>price</th>\n",
       "      <th>address</th>\n",
       "      <th>phone_number</th>\n",
       "      <th>agency</th>\n",
       "      <th>name</th>\n",
       "      <th>is_agency</th>\n",
       "      <th>city_code</th>\n",
       "      <th>city_name</th>\n",
       "    </tr>\n",
       "    <tr>\n",
       "      <th>property_id__id</th>\n",
       "      <th></th>\n",
       "      <th></th>\n",
       "      <th></th>\n",
       "      <th></th>\n",
       "      <th></th>\n",
       "      <th></th>\n",
       "      <th></th>\n",
       "      <th></th>\n",
       "      <th></th>\n",
       "      <th></th>\n",
       "      <th></th>\n",
       "      <th></th>\n",
       "      <th></th>\n",
       "      <th></th>\n",
       "    </tr>\n",
       "  </thead>\n",
       "  <tbody>\n",
       "    <tr>\n",
       "      <th>33455225</th>\n",
       "      <td>None</td>\n",
       "      <td>95476</td>\n",
       "      <td>135711</td>\n",
       "      <td>newlyBuilt</td>\n",
       "      <td>45.0</td>\n",
       "      <td>flat</td>\n",
       "      <td>250.0</td>\n",
       "      <td>XIV. kerület Egressy úti</td>\n",
       "      <td>+36 30 811 8112</td>\n",
       "      <td>Eagle Home Center</td>\n",
       "      <td>Eagle Home Center</td>\n",
       "      <td>True</td>\n",
       "      <td>11</td>\n",
       "      <td>Budapest</td>\n",
       "    </tr>\n",
       "    <tr>\n",
       "      <th>33454394</th>\n",
       "      <td>None</td>\n",
       "      <td>95476</td>\n",
       "      <td>32732</td>\n",
       "      <td>renovated</td>\n",
       "      <td>40.0</td>\n",
       "      <td>flat</td>\n",
       "      <td>150.0</td>\n",
       "      <td>VIII. kerület Baross utcai</td>\n",
       "      <td>+36 30 811 8112</td>\n",
       "      <td>Eagle Home Center</td>\n",
       "      <td>Eagle Home Center</td>\n",
       "      <td>True</td>\n",
       "      <td>11</td>\n",
       "      <td>Budapest</td>\n",
       "    </tr>\n",
       "    <tr>\n",
       "      <th>33455358</th>\n",
       "      <td>None</td>\n",
       "      <td>95476</td>\n",
       "      <td>40327</td>\n",
       "      <td>newlyBuilt</td>\n",
       "      <td>45.0</td>\n",
       "      <td>flat</td>\n",
       "      <td>200.0</td>\n",
       "      <td>IX. kerület Tűzoltó utcai</td>\n",
       "      <td>+36 30 811 8112</td>\n",
       "      <td>Eagle Home Center</td>\n",
       "      <td>Eagle Home Center</td>\n",
       "      <td>True</td>\n",
       "      <td>11</td>\n",
       "      <td>Budapest</td>\n",
       "    </tr>\n",
       "    <tr>\n",
       "      <th>33454455</th>\n",
       "      <td>None</td>\n",
       "      <td>95476</td>\n",
       "      <td>32731</td>\n",
       "      <td>renovated</td>\n",
       "      <td>40.0</td>\n",
       "      <td>flat</td>\n",
       "      <td>145.0</td>\n",
       "      <td>VIII. kerület Baross utcai</td>\n",
       "      <td>+36 30 811 8112</td>\n",
       "      <td>Eagle Home Center</td>\n",
       "      <td>Eagle Home Center</td>\n",
       "      <td>True</td>\n",
       "      <td>11</td>\n",
       "      <td>Budapest</td>\n",
       "    </tr>\n",
       "    <tr>\n",
       "      <th>33455262</th>\n",
       "      <td>None</td>\n",
       "      <td>95476</td>\n",
       "      <td>135767</td>\n",
       "      <td>renovated</td>\n",
       "      <td>40.0</td>\n",
       "      <td>flat</td>\n",
       "      <td>175.0</td>\n",
       "      <td>VII. kerület Erzsébet körúti</td>\n",
       "      <td>+36 30 811 8112</td>\n",
       "      <td>Eagle Home Center</td>\n",
       "      <td>Eagle Home Center</td>\n",
       "      <td>True</td>\n",
       "      <td>11</td>\n",
       "      <td>Budapest</td>\n",
       "    </tr>\n",
       "    <tr>\n",
       "      <th>...</th>\n",
       "      <td>...</td>\n",
       "      <td>...</td>\n",
       "      <td>...</td>\n",
       "      <td>...</td>\n",
       "      <td>...</td>\n",
       "      <td>...</td>\n",
       "      <td>...</td>\n",
       "      <td>...</td>\n",
       "      <td>...</td>\n",
       "      <td>...</td>\n",
       "      <td>...</td>\n",
       "      <td>...</td>\n",
       "      <td>...</td>\n",
       "      <td>...</td>\n",
       "    </tr>\n",
       "    <tr>\n",
       "      <th>33194267</th>\n",
       "      <td>None</td>\n",
       "      <td>200228526</td>\n",
       "      <td>8549</td>\n",
       "      <td>renovated</td>\n",
       "      <td>82.0</td>\n",
       "      <td>flat</td>\n",
       "      <td>99.0</td>\n",
       "      <td>Kalocsa  Kunszt József utcai</td>\n",
       "      <td>+36 70 613 6823</td>\n",
       "      <td>None</td>\n",
       "      <td>nan</td>\n",
       "      <td>False</td>\n",
       "      <td>1368</td>\n",
       "      <td>Kalocsa</td>\n",
       "    </tr>\n",
       "    <tr>\n",
       "      <th>31974635</th>\n",
       "      <td>None</td>\n",
       "      <td>200897165</td>\n",
       "      <td>34206</td>\n",
       "      <td>renovated</td>\n",
       "      <td>105.0</td>\n",
       "      <td>flat</td>\n",
       "      <td>1400.0</td>\n",
       "      <td>V. kerület Falk Miksa utcai</td>\n",
       "      <td>+36 30 278 2962</td>\n",
       "      <td>None</td>\n",
       "      <td>nan</td>\n",
       "      <td>False</td>\n",
       "      <td>11</td>\n",
       "      <td>Budapest</td>\n",
       "    </tr>\n",
       "    <tr>\n",
       "      <th>33166878</th>\n",
       "      <td>None</td>\n",
       "      <td>103773</td>\n",
       "      <td>136307</td>\n",
       "      <td>inGoodCondition</td>\n",
       "      <td>61.0</td>\n",
       "      <td>flat</td>\n",
       "      <td>160.0</td>\n",
       "      <td>VIII. kerület József körúti</td>\n",
       "      <td>+36 30 200 6145</td>\n",
       "      <td>BeMyHome Ingatlan</td>\n",
       "      <td>Sződy Zsuzsanna</td>\n",
       "      <td>True</td>\n",
       "      <td>11</td>\n",
       "      <td>Budapest</td>\n",
       "    </tr>\n",
       "    <tr>\n",
       "      <th>33071312</th>\n",
       "      <td>None</td>\n",
       "      <td>123622</td>\n",
       "      <td>33384</td>\n",
       "      <td>newlyBuilt</td>\n",
       "      <td>104.0</td>\n",
       "      <td>flat</td>\n",
       "      <td>840.0</td>\n",
       "      <td>VI. kerület Csengery utcai</td>\n",
       "      <td>+36 30 224 8176</td>\n",
       "      <td>Premium Apartments</td>\n",
       "      <td>Jalits Edit</td>\n",
       "      <td>True</td>\n",
       "      <td>11</td>\n",
       "      <td>Budapest</td>\n",
       "    </tr>\n",
       "    <tr>\n",
       "      <th>32671640</th>\n",
       "      <td>None</td>\n",
       "      <td>210775685</td>\n",
       "      <td>44002</td>\n",
       "      <td>renovated</td>\n",
       "      <td>64.0</td>\n",
       "      <td>flat</td>\n",
       "      <td>150.0</td>\n",
       "      <td>Szeged  Arany János utcai</td>\n",
       "      <td>+36 30 915 6178</td>\n",
       "      <td>None</td>\n",
       "      <td>nan</td>\n",
       "      <td>False</td>\n",
       "      <td>2644</td>\n",
       "      <td>Szeged</td>\n",
       "    </tr>\n",
       "  </tbody>\n",
       "</table>\n",
       "<p>17568 rows × 14 columns</p>\n",
       "</div>"
      ],
      "text/plain": [
       "                reference_id  seller_id__id  location_id__id        condition  \\\n",
       "property_id__id                                                                 \n",
       "33455225                None          95476           135711       newlyBuilt   \n",
       "33454394                None          95476            32732        renovated   \n",
       "33455358                None          95476            40327       newlyBuilt   \n",
       "33454455                None          95476            32731        renovated   \n",
       "33455262                None          95476           135767        renovated   \n",
       "...                      ...            ...              ...              ...   \n",
       "33194267                None      200228526             8549        renovated   \n",
       "31974635                None      200897165            34206        renovated   \n",
       "33166878                None         103773           136307  inGoodCondition   \n",
       "33071312                None         123622            33384       newlyBuilt   \n",
       "32671640                None      210775685            44002        renovated   \n",
       "\n",
       "                 area_size  type   price                       address  \\\n",
       "property_id__id                                                          \n",
       "33455225              45.0  flat   250.0      XIV. kerület Egressy úti   \n",
       "33454394              40.0  flat   150.0    VIII. kerület Baross utcai   \n",
       "33455358              45.0  flat   200.0     IX. kerület Tűzoltó utcai   \n",
       "33454455              40.0  flat   145.0    VIII. kerület Baross utcai   \n",
       "33455262              40.0  flat   175.0  VII. kerület Erzsébet körúti   \n",
       "...                    ...   ...     ...                           ...   \n",
       "33194267              82.0  flat    99.0  Kalocsa  Kunszt József utcai   \n",
       "31974635             105.0  flat  1400.0   V. kerület Falk Miksa utcai   \n",
       "33166878              61.0  flat   160.0   VIII. kerület József körúti   \n",
       "33071312             104.0  flat   840.0    VI. kerület Csengery utcai   \n",
       "32671640              64.0  flat   150.0     Szeged  Arany János utcai   \n",
       "\n",
       "                    phone_number              agency               name  \\\n",
       "property_id__id                                                           \n",
       "33455225         +36 30 811 8112   Eagle Home Center  Eagle Home Center   \n",
       "33454394         +36 30 811 8112   Eagle Home Center  Eagle Home Center   \n",
       "33455358         +36 30 811 8112   Eagle Home Center  Eagle Home Center   \n",
       "33454455         +36 30 811 8112   Eagle Home Center  Eagle Home Center   \n",
       "33455262         +36 30 811 8112   Eagle Home Center  Eagle Home Center   \n",
       "...                          ...                 ...                ...   \n",
       "33194267         +36 70 613 6823                None                nan   \n",
       "31974635         +36 30 278 2962                None                nan   \n",
       "33166878         +36 30 200 6145   BeMyHome Ingatlan    Sződy Zsuzsanna   \n",
       "33071312         +36 30 224 8176  Premium Apartments        Jalits Edit   \n",
       "32671640         +36 30 915 6178                None                nan   \n",
       "\n",
       "                 is_agency  city_code city_name  \n",
       "property_id__id                                  \n",
       "33455225              True         11  Budapest  \n",
       "33454394              True         11  Budapest  \n",
       "33455358              True         11  Budapest  \n",
       "33454455              True         11  Budapest  \n",
       "33455262              True         11  Budapest  \n",
       "...                    ...        ...       ...  \n",
       "33194267             False       1368   Kalocsa  \n",
       "31974635             False         11  Budapest  \n",
       "33166878              True         11  Budapest  \n",
       "33071312              True         11  Budapest  \n",
       "32671640             False       2644    Szeged  \n",
       "\n",
       "[17568 rows x 14 columns]"
      ]
     },
     "execution_count": 10,
     "metadata": {},
     "output_type": "execute_result"
    }
   ],
   "source": [
    "final_df"
   ]
  },
  {
   "cell_type": "code",
   "execution_count": 13,
   "id": "75431287",
   "metadata": {},
   "outputs": [
    {
     "data": {
      "text/plain": [
       "<seaborn.axisgrid.FacetGrid at 0x7f6b4c03e290>"
      ]
     },
     "execution_count": 13,
     "metadata": {},
     "output_type": "execute_result"
    },
    {
     "data": {
      "image/png": "[encoded data removed]",
      "text/plain": [
       "<Figure size 500x500 with 1 Axes>"
      ]
     },
     "metadata": {},
     "output_type": "display_data"
    }
   ],
   "source": [
    "sns.displot(data=final_df, x='price')"
   ]
  },
  {
   "cell_type": "code",
   "execution_count": 14,
   "id": "5efede02",
   "metadata": {},
   "outputs": [],
   "source": [
    "final_df.to_parquet(\"releveant_ad.parquet\")\n"
   ]
  },
  {
   "attachments": {},
   "cell_type": "markdown",
   "id": "2d1c3356",
   "metadata": {},
   "source": [
    "# Experiment data"
   ]
  },
  {
   "cell_type": "code",
   "execution_count": 11,
   "id": "95fd62e2",
   "metadata": {},
   "outputs": [
    {
     "name": "stdout",
     "output_type": "stream",
     "text": [
      "1300.0\n",
      "20.0\n"
     ]
    }
   ],
   "source": [
    "print(final_df[\"price\"].quantile(0.95))\n",
    "print(final_df[\"price\"].quantile(0.05))\n"
   ]
  },
  {
   "cell_type": "code",
   "execution_count": 12,
   "id": "0df67232",
   "metadata": {},
   "outputs": [],
   "source": [
    "USERS = (\n",
    "    \"roma_1\",\n",
    "    \"roma_2\",\n",
    "    \"roma_3\",\n",
    "    \"roma_4\",\n",
    "    \"kontrol_1\",\n",
    "    \"kontrol_2\",\n",
    "    \"kontrol_3\",\n",
    "    \"kontrol_4\",\n",
    ")\n",
    "\n",
    "PHONES = (\n",
    "    \"phone_1\",\n",
    "    # \"phone_2\",\n",
    ")\n"
   ]
  },
  {
   "cell_type": "code",
   "execution_count": 13,
   "id": "015e40be",
   "metadata": {},
   "outputs": [
    {
     "data": {
      "text/html": [
       "<div>\n",
       "<style scoped>\n",
       "    .dataframe tbody tr th:only-of-type {\n",
       "        vertical-align: middle;\n",
       "    }\n",
       "\n",
       "    .dataframe tbody tr th {\n",
       "        vertical-align: top;\n",
       "    }\n",
       "\n",
       "    .dataframe thead th {\n",
       "        text-align: right;\n",
       "    }\n",
       "</style>\n",
       "<table border=\"1\" class=\"dataframe\">\n",
       "  <thead>\n",
       "    <tr style=\"text-align: right;\">\n",
       "      <th>quintil</th>\n",
       "      <th>(20.198999999999998, 120.0]</th>\n",
       "      <th>(120.0, 200.0]</th>\n",
       "      <th>(200.0, 285.0]</th>\n",
       "      <th>(285.0, 440.0]</th>\n",
       "      <th>(440.0, 1299.0]</th>\n",
       "    </tr>\n",
       "    <tr>\n",
       "      <th>is_agency</th>\n",
       "      <th></th>\n",
       "      <th></th>\n",
       "      <th></th>\n",
       "      <th></th>\n",
       "      <th></th>\n",
       "    </tr>\n",
       "  </thead>\n",
       "  <tbody>\n",
       "    <tr>\n",
       "      <th>False</th>\n",
       "      <td>845</td>\n",
       "      <td>727</td>\n",
       "      <td>400</td>\n",
       "      <td>334</td>\n",
       "      <td>286</td>\n",
       "    </tr>\n",
       "    <tr>\n",
       "      <th>True</th>\n",
       "      <td>124</td>\n",
       "      <td>237</td>\n",
       "      <td>170</td>\n",
       "      <td>219</td>\n",
       "      <td>209</td>\n",
       "    </tr>\n",
       "  </tbody>\n",
       "</table>\n",
       "</div>"
      ],
      "text/plain": [
       "quintil    (20.198999999999998, 120.0]  (120.0, 200.0]  (200.0, 285.0]  \\\n",
       "is_agency                                                                \n",
       "False                              845             727             400   \n",
       "True                               124             237             170   \n",
       "\n",
       "quintil    (285.0, 440.0]  (440.0, 1299.0]  \n",
       "is_agency                                   \n",
       "False                 334              286  \n",
       "True                  219              209  "
      ]
     },
     "execution_count": 13,
     "metadata": {},
     "output_type": "execute_result"
    }
   ],
   "source": [
    "(\n",
    "    final_df.loc[\n",
    "        lambda _df: (\n",
    "            (_df[\"city_name\"] == \"Budapest\")\n",
    "            & (_df[\"price\"] < _df[\"price\"].quantile(0.95))\n",
    "            & (_df[\"price\"] > _df[\"price\"].quantile(0.05))\n",
    "        )\n",
    "    ]\n",
    "    .assign(quintil=lambda _df: pd.qcut(_df[\"price\"], 5), n=1)\n",
    "    .groupby(RealEstate.seller_id.id)\n",
    "    .sample(1, random_state=42)\n",
    "    .loc[lambda _df: (~_df[Seller.agency].duplicated()) | (~_df[\"is_agency\"]), :]\n",
    "    .pivot_table(index=\"is_agency\", columns=\"quintil\", values=\"n\", aggfunc=\"count\")\n",
    "    # .sum(axis = 1)\n",
    ")\n"
   ]
  },
  {
   "cell_type": "code",
   "execution_count": 14,
   "id": "95fd8e34",
   "metadata": {},
   "outputs": [],
   "source": [
    "SAMPLE_SIZE = 200\n",
    "BATCH_SIZE = 100\n"
   ]
  },
  {
   "cell_type": "code",
   "execution_count": 15,
   "id": "2a211d29",
   "metadata": {},
   "outputs": [],
   "source": [
    "import vobject"
   ]
  },
  {
   "cell_type": "code",
   "execution_count": 16,
   "id": "0632ab9c",
   "metadata": {},
   "outputs": [],
   "source": [
    "np.random.seed(42)\n",
    "experiment_data = (\n",
    "    final_df.loc[\n",
    "        lambda _df: (\n",
    "            (_df[\"city_name\"] == \"Budapest\")\n",
    "            & (_df[\"price\"] < _df[\"price\"].quantile(0.95))\n",
    "            & (_df[\"price\"] > _df[\"price\"].quantile(0.05))\n",
    "        )\n",
    "    ]\n",
    "    .groupby(RealEstate.seller_id.id)\n",
    "    .sample(1, random_state=42)\n",
    "    .loc[lambda _df: (~_df[Seller.agency].duplicated()) | (~_df[\"is_agency\"]), :]\n",
    "    # .groupby([\"is_agency\"])\n",
    "    # .sample(int(SAMPLE_SIZE / 2), random_state=42)\n",
    "    .sample(200, random_state=42) #TODO\n",
    "    .sample(frac=1, random_state=42)\n",
    "    .assign(\n",
    "        exp_user=(USERS * (SAMPLE_SIZE // len(USERS) + 1))[:SAMPLE_SIZE],\n",
    "    )\n",
    "    .sample(frac=1, random_state=42)\n",
    "    .assign(\n",
    "        exp_phone=(PHONES * (SAMPLE_SIZE // len(PHONES) + 1))[:SAMPLE_SIZE],\n",
    "    )\n",
    "    .sample(frac=1, random_state=42)\n",
    "    .assign(\n",
    "        exp_phone=(PHONES * (SAMPLE_SIZE // len(PHONES) + 1))[:SAMPLE_SIZE],\n",
    "    )\n",
    "    .sample(frac=1, random_state=42)\n",
    "    .groupby(\"exp_phone\", group_keys=True)\n",
    "    .apply(\n",
    "        lambda _gdf: _gdf.assign(\n",
    "            exp_batch=sorted(\n",
    "                [*range((int(SAMPLE_SIZE / len(PHONES) / BATCH_SIZE)))] * BATCH_SIZE\n",
    "            )\n",
    "        )\n",
    "    )\n",
    "    .reset_index(\"exp_phone\", drop=True)\n",
    "    .sample(frac=1, random_state=42)\n",
    "    .pipe(\n",
    "        lambda _df: _df.groupby(\n",
    "            _df[\"exp_user\"].str.split(\"_\").str[0], group_keys=True\n",
    "        )\n",
    "    )\n",
    "    .apply(\n",
    "        lambda gdf: gdf.assign(exp_msg=[*np.arange(0, 4)] * int(SAMPLE_SIZE / 2 / 4))\n",
    "    )\n",
    "    .reset_index(\"exp_user\", drop=True)\n",
    ")\n"
   ]
  },
  {
   "cell_type": "code",
   "execution_count": 17,
   "id": "e575e797",
   "metadata": {},
   "outputs": [],
   "source": [
    "# experiment_data.to_parquet('pre_trial.parquet')"
   ]
  },
  {
   "cell_type": "code",
   "execution_count": 18,
   "id": "9c478143",
   "metadata": {},
   "outputs": [
    {
     "data": {
      "text/html": [
       "<div>\n",
       "<style scoped>\n",
       "    .dataframe tbody tr th:only-of-type {\n",
       "        vertical-align: middle;\n",
       "    }\n",
       "\n",
       "    .dataframe tbody tr th {\n",
       "        vertical-align: top;\n",
       "    }\n",
       "\n",
       "    .dataframe thead th {\n",
       "        text-align: right;\n",
       "    }\n",
       "</style>\n",
       "<table border=\"1\" class=\"dataframe\">\n",
       "  <thead>\n",
       "    <tr style=\"text-align: right;\">\n",
       "      <th></th>\n",
       "      <th>reference_id</th>\n",
       "      <th>seller_id__id</th>\n",
       "      <th>location_id__id</th>\n",
       "      <th>condition</th>\n",
       "      <th>area_size</th>\n",
       "      <th>type</th>\n",
       "      <th>price</th>\n",
       "      <th>address</th>\n",
       "      <th>phone_number</th>\n",
       "      <th>agency</th>\n",
       "      <th>name</th>\n",
       "      <th>is_agency</th>\n",
       "      <th>city_code</th>\n",
       "      <th>city_name</th>\n",
       "      <th>exp_user</th>\n",
       "      <th>exp_phone</th>\n",
       "      <th>exp_batch</th>\n",
       "      <th>exp_msg</th>\n",
       "    </tr>\n",
       "    <tr>\n",
       "      <th>property_id__id</th>\n",
       "      <th></th>\n",
       "      <th></th>\n",
       "      <th></th>\n",
       "      <th></th>\n",
       "      <th></th>\n",
       "      <th></th>\n",
       "      <th></th>\n",
       "      <th></th>\n",
       "      <th></th>\n",
       "      <th></th>\n",
       "      <th></th>\n",
       "      <th></th>\n",
       "      <th></th>\n",
       "      <th></th>\n",
       "      <th></th>\n",
       "      <th></th>\n",
       "      <th></th>\n",
       "      <th></th>\n",
       "    </tr>\n",
       "  </thead>\n",
       "  <tbody>\n",
       "    <tr>\n",
       "      <th>33244403</th>\n",
       "      <td>None</td>\n",
       "      <td>3678</td>\n",
       "      <td>5377</td>\n",
       "      <td>looksLikeNew</td>\n",
       "      <td>90.0</td>\n",
       "      <td>flat</td>\n",
       "      <td>340.0</td>\n",
       "      <td>soroksári</td>\n",
       "      <td>+36 30 402 5319</td>\n",
       "      <td>Délcsillag Ingatlaniroda</td>\n",
       "      <td>Sternádné Szita Lívia</td>\n",
       "      <td>True</td>\n",
       "      <td>11</td>\n",
       "      <td>Budapest</td>\n",
       "      <td>kontrol_4</td>\n",
       "      <td>phone_1</td>\n",
       "      <td>0</td>\n",
       "      <td>0</td>\n",
       "    </tr>\n",
       "    <tr>\n",
       "      <th>33093340</th>\n",
       "      <td>None</td>\n",
       "      <td>205283379</td>\n",
       "      <td>135976</td>\n",
       "      <td>None</td>\n",
       "      <td>55.0</td>\n",
       "      <td>flat</td>\n",
       "      <td>155.0</td>\n",
       "      <td>XXIII. kerület Grassalkovich úti</td>\n",
       "      <td>+36 70 390 8006</td>\n",
       "      <td>None</td>\n",
       "      <td>nan</td>\n",
       "      <td>False</td>\n",
       "      <td>11</td>\n",
       "      <td>Budapest</td>\n",
       "      <td>kontrol_3</td>\n",
       "      <td>phone_1</td>\n",
       "      <td>0</td>\n",
       "      <td>1</td>\n",
       "    </tr>\n",
       "    <tr>\n",
       "      <th>33316714</th>\n",
       "      <td>None</td>\n",
       "      <td>212367487</td>\n",
       "      <td>135805</td>\n",
       "      <td>inGoodCondition</td>\n",
       "      <td>20.0</td>\n",
       "      <td>flat</td>\n",
       "      <td>110.0</td>\n",
       "      <td>XI. kerület Fehérvári úti</td>\n",
       "      <td>+36 30 604 8071</td>\n",
       "      <td>None</td>\n",
       "      <td>nan</td>\n",
       "      <td>False</td>\n",
       "      <td>11</td>\n",
       "      <td>Budapest</td>\n",
       "      <td>kontrol_1</td>\n",
       "      <td>phone_1</td>\n",
       "      <td>0</td>\n",
       "      <td>2</td>\n",
       "    </tr>\n",
       "    <tr>\n",
       "      <th>22687691</th>\n",
       "      <td>None</td>\n",
       "      <td>200889143</td>\n",
       "      <td>33385</td>\n",
       "      <td>inMediumCondition</td>\n",
       "      <td>33.0</td>\n",
       "      <td>flat</td>\n",
       "      <td>110.0</td>\n",
       "      <td>VII. kerület Csengery utcai</td>\n",
       "      <td>+36 30 699 5552</td>\n",
       "      <td>None</td>\n",
       "      <td>nan</td>\n",
       "      <td>False</td>\n",
       "      <td>11</td>\n",
       "      <td>Budapest</td>\n",
       "      <td>kontrol_1</td>\n",
       "      <td>phone_1</td>\n",
       "      <td>1</td>\n",
       "      <td>3</td>\n",
       "    </tr>\n",
       "    <tr>\n",
       "      <th>33146652</th>\n",
       "      <td>None</td>\n",
       "      <td>200481188</td>\n",
       "      <td>137663</td>\n",
       "      <td>renovated</td>\n",
       "      <td>52.0</td>\n",
       "      <td>flat</td>\n",
       "      <td>195.0</td>\n",
       "      <td>VIII. kerület Tömő utcai</td>\n",
       "      <td>+36 70 417 3967</td>\n",
       "      <td>None</td>\n",
       "      <td>nan</td>\n",
       "      <td>False</td>\n",
       "      <td>11</td>\n",
       "      <td>Budapest</td>\n",
       "      <td>kontrol_1</td>\n",
       "      <td>phone_1</td>\n",
       "      <td>0</td>\n",
       "      <td>0</td>\n",
       "    </tr>\n",
       "    <tr>\n",
       "      <th>...</th>\n",
       "      <td>...</td>\n",
       "      <td>...</td>\n",
       "      <td>...</td>\n",
       "      <td>...</td>\n",
       "      <td>...</td>\n",
       "      <td>...</td>\n",
       "      <td>...</td>\n",
       "      <td>...</td>\n",
       "      <td>...</td>\n",
       "      <td>...</td>\n",
       "      <td>...</td>\n",
       "      <td>...</td>\n",
       "      <td>...</td>\n",
       "      <td>...</td>\n",
       "      <td>...</td>\n",
       "      <td>...</td>\n",
       "      <td>...</td>\n",
       "      <td>...</td>\n",
       "    </tr>\n",
       "    <tr>\n",
       "      <th>33454334</th>\n",
       "      <td>None</td>\n",
       "      <td>201100073</td>\n",
       "      <td>136025</td>\n",
       "      <td>renovated</td>\n",
       "      <td>34.0</td>\n",
       "      <td>flat</td>\n",
       "      <td>160.0</td>\n",
       "      <td>IX. kerület Haller utcai</td>\n",
       "      <td>+36 70 428 3563</td>\n",
       "      <td>None</td>\n",
       "      <td>nan</td>\n",
       "      <td>False</td>\n",
       "      <td>11</td>\n",
       "      <td>Budapest</td>\n",
       "      <td>roma_1</td>\n",
       "      <td>phone_1</td>\n",
       "      <td>1</td>\n",
       "      <td>3</td>\n",
       "    </tr>\n",
       "    <tr>\n",
       "      <th>33297922</th>\n",
       "      <td>None</td>\n",
       "      <td>132028</td>\n",
       "      <td>32274</td>\n",
       "      <td>renovated</td>\n",
       "      <td>140.0</td>\n",
       "      <td>shop</td>\n",
       "      <td>499.0</td>\n",
       "      <td>VII. kerület Almássy téri</td>\n",
       "      <td>+36 70 387 9102</td>\n",
       "      <td>Ittislakhatok</td>\n",
       "      <td>Bátky Csaba</td>\n",
       "      <td>True</td>\n",
       "      <td>11</td>\n",
       "      <td>Budapest</td>\n",
       "      <td>roma_3</td>\n",
       "      <td>phone_1</td>\n",
       "      <td>0</td>\n",
       "      <td>0</td>\n",
       "    </tr>\n",
       "    <tr>\n",
       "      <th>33429925</th>\n",
       "      <td>COM 161530</td>\n",
       "      <td>136518</td>\n",
       "      <td>5178</td>\n",
       "      <td>looksLikeNew</td>\n",
       "      <td>48.0</td>\n",
       "      <td>flat</td>\n",
       "      <td>280.0</td>\n",
       "      <td>angyalföldi</td>\n",
       "      <td>+36 70 777 6342</td>\n",
       "      <td>Openhouse - Budapest Cityhome</td>\n",
       "      <td>Molnár Imre - Budapest IX.</td>\n",
       "      <td>True</td>\n",
       "      <td>11</td>\n",
       "      <td>Budapest</td>\n",
       "      <td>roma_2</td>\n",
       "      <td>phone_1</td>\n",
       "      <td>1</td>\n",
       "      <td>1</td>\n",
       "    </tr>\n",
       "    <tr>\n",
       "      <th>33042838</th>\n",
       "      <td>COM M220133</td>\n",
       "      <td>88273</td>\n",
       "      <td>135348</td>\n",
       "      <td>inMediumCondition</td>\n",
       "      <td>80.0</td>\n",
       "      <td>office</td>\n",
       "      <td>200.0</td>\n",
       "      <td>XIII. kerület Béke téri</td>\n",
       "      <td>+36 30 495 3819</td>\n",
       "      <td>OTPIP Lehel út</td>\n",
       "      <td>Takács Zsuzsanna</td>\n",
       "      <td>True</td>\n",
       "      <td>11</td>\n",
       "      <td>Budapest</td>\n",
       "      <td>roma_3</td>\n",
       "      <td>phone_1</td>\n",
       "      <td>1</td>\n",
       "      <td>2</td>\n",
       "    </tr>\n",
       "    <tr>\n",
       "      <th>32416973</th>\n",
       "      <td>None</td>\n",
       "      <td>200969171</td>\n",
       "      <td>136205</td>\n",
       "      <td>renovated</td>\n",
       "      <td>122.0</td>\n",
       "      <td>office</td>\n",
       "      <td>287.0</td>\n",
       "      <td>XXI. kerület II. Rákóczi Ferenc úti</td>\n",
       "      <td>+36 30 297 6806</td>\n",
       "      <td>None</td>\n",
       "      <td>nan</td>\n",
       "      <td>False</td>\n",
       "      <td>11</td>\n",
       "      <td>Budapest</td>\n",
       "      <td>roma_1</td>\n",
       "      <td>phone_1</td>\n",
       "      <td>0</td>\n",
       "      <td>3</td>\n",
       "    </tr>\n",
       "  </tbody>\n",
       "</table>\n",
       "<p>200 rows × 18 columns</p>\n",
       "</div>"
      ],
      "text/plain": [
       "                reference_id  seller_id__id  location_id__id  \\\n",
       "property_id__id                                                \n",
       "33244403                None           3678             5377   \n",
       "33093340                None      205283379           135976   \n",
       "33316714                None      212367487           135805   \n",
       "22687691                None      200889143            33385   \n",
       "33146652                None      200481188           137663   \n",
       "...                      ...            ...              ...   \n",
       "33454334                None      201100073           136025   \n",
       "33297922                None         132028            32274   \n",
       "33429925          COM 161530         136518             5178   \n",
       "33042838         COM M220133          88273           135348   \n",
       "32416973                None      200969171           136205   \n",
       "\n",
       "                         condition  area_size    type  price  \\\n",
       "property_id__id                                                \n",
       "33244403              looksLikeNew       90.0    flat  340.0   \n",
       "33093340                      None       55.0    flat  155.0   \n",
       "33316714           inGoodCondition       20.0    flat  110.0   \n",
       "22687691         inMediumCondition       33.0    flat  110.0   \n",
       "33146652                 renovated       52.0    flat  195.0   \n",
       "...                            ...        ...     ...    ...   \n",
       "33454334                 renovated       34.0    flat  160.0   \n",
       "33297922                 renovated      140.0    shop  499.0   \n",
       "33429925              looksLikeNew       48.0    flat  280.0   \n",
       "33042838         inMediumCondition       80.0  office  200.0   \n",
       "32416973                 renovated      122.0  office  287.0   \n",
       "\n",
       "                                             address     phone_number  \\\n",
       "property_id__id                                                         \n",
       "33244403                                   soroksári  +36 30 402 5319   \n",
       "33093340            XXIII. kerület Grassalkovich úti  +36 70 390 8006   \n",
       "33316714                   XI. kerület Fehérvári úti  +36 30 604 8071   \n",
       "22687691                 VII. kerület Csengery utcai  +36 30 699 5552   \n",
       "33146652                    VIII. kerület Tömő utcai  +36 70 417 3967   \n",
       "...                                              ...              ...   \n",
       "33454334                    IX. kerület Haller utcai  +36 70 428 3563   \n",
       "33297922                   VII. kerület Almássy téri  +36 70 387 9102   \n",
       "33429925                                 angyalföldi  +36 70 777 6342   \n",
       "33042838                     XIII. kerület Béke téri  +36 30 495 3819   \n",
       "32416973         XXI. kerület II. Rákóczi Ferenc úti  +36 30 297 6806   \n",
       "\n",
       "                                        agency                        name  \\\n",
       "property_id__id                                                              \n",
       "33244403              Délcsillag Ingatlaniroda       Sternádné Szita Lívia   \n",
       "33093340                                  None                         nan   \n",
       "33316714                                  None                         nan   \n",
       "22687691                                  None                         nan   \n",
       "33146652                                  None                         nan   \n",
       "...                                        ...                         ...   \n",
       "33454334                                  None                         nan   \n",
       "33297922                         Ittislakhatok                 Bátky Csaba   \n",
       "33429925         Openhouse - Budapest Cityhome  Molnár Imre - Budapest IX.   \n",
       "33042838                        OTPIP Lehel út            Takács Zsuzsanna   \n",
       "32416973                                  None                         nan   \n",
       "\n",
       "                 is_agency  city_code city_name   exp_user exp_phone  \\\n",
       "property_id__id                                                        \n",
       "33244403              True         11  Budapest  kontrol_4   phone_1   \n",
       "33093340             False         11  Budapest  kontrol_3   phone_1   \n",
       "33316714             False         11  Budapest  kontrol_1   phone_1   \n",
       "22687691             False         11  Budapest  kontrol_1   phone_1   \n",
       "33146652             False         11  Budapest  kontrol_1   phone_1   \n",
       "...                    ...        ...       ...        ...       ...   \n",
       "33454334             False         11  Budapest     roma_1   phone_1   \n",
       "33297922              True         11  Budapest     roma_3   phone_1   \n",
       "33429925              True         11  Budapest     roma_2   phone_1   \n",
       "33042838              True         11  Budapest     roma_3   phone_1   \n",
       "32416973             False         11  Budapest     roma_1   phone_1   \n",
       "\n",
       "                 exp_batch  exp_msg  \n",
       "property_id__id                      \n",
       "33244403                 0        0  \n",
       "33093340                 0        1  \n",
       "33316714                 0        2  \n",
       "22687691                 1        3  \n",
       "33146652                 0        0  \n",
       "...                    ...      ...  \n",
       "33454334                 1        3  \n",
       "33297922                 0        0  \n",
       "33429925                 1        1  \n",
       "33042838                 1        2  \n",
       "32416973                 0        3  \n",
       "\n",
       "[200 rows x 18 columns]"
      ]
     },
     "execution_count": 18,
     "metadata": {},
     "output_type": "execute_result"
    }
   ],
   "source": [
    "pd.read_parquet(\"pre_trial.parquet\")"
   ]
  },
  {
   "cell_type": "code",
   "execution_count": 19,
   "id": "da73d26a",
   "metadata": {},
   "outputs": [
    {
     "data": {
      "text/plain": [
       "is_agency\n",
       "False    139\n",
       "True      61\n",
       "dtype: int64"
      ]
     },
     "execution_count": 19,
     "metadata": {},
     "output_type": "execute_result"
    }
   ],
   "source": [
    "experiment_data.groupby(\"is_agency\").size()\n",
    "# experiment_data[\"exp_user\"].value_counts()\n",
    "# experiment_data[\"exp_phone\"].value_counts()\n",
    "# experiment_data[\"exp_batch\"].value_counts()\n",
    "# experiment_data[\"exp_msg\"].value_counts()"
   ]
  },
  {
   "cell_type": "code",
   "execution_count": 20,
   "id": "0b9367a8",
   "metadata": {},
   "outputs": [],
   "source": [
    "USER_NAME_MAPPING = {\n",
    "    \"roma_1\": (\"Oláh\", \"László\"),\n",
    "    \"roma_2\": (\"Kalányos\", \"János\"),\n",
    "    \"roma_3\": (\"Orsós\", \"Attila\"),\n",
    "    \"roma_4\": (\"Kolompár\", \"István\"),\n",
    "    \"kontrol_1\": (\"Nagy\", \"Ferenc\"),\n",
    "    \"kontrol_2\": (\"Molnár\", \"Tamás\"),\n",
    "    \"kontrol_3\": (\"Varga\", \"Károly\"),\n",
    "    \"kontrol_4\": (\"Tóth\", \"Zoltán\"),\n",
    "}\n",
    "\n",
    "USER_MSG_MAPPING = {\n",
    "    \"roma\": [Path(f'experiment/messages/roma_{x}.txt').read_text() for x in range(1, 5)],\n",
    "    \"kontrol\": [Path(f'experiment/messages/kontrol_{x}.txt').read_text() for x in range(1, 5)],\n",
    "}\n"
   ]
  },
  {
   "cell_type": "code",
   "execution_count": 21,
   "id": "ffb1d69e",
   "metadata": {},
   "outputs": [
    {
     "name": "stdout",
     "output_type": "stream",
     "text": [
      "<class 'pandas.core.frame.DataFrame'>\n",
      "Int64Index: 200 entries, 33047202 to 33330198\n",
      "Data columns (total 6 columns):\n",
      " #   Column        Non-Null Count  Dtype \n",
      "---  ------        --------------  ----- \n",
      " 0   phone_number  200 non-null    object\n",
      " 1   exp_user      200 non-null    object\n",
      " 2   exp_phone     200 non-null    object\n",
      " 3   exp_batch     200 non-null    int64 \n",
      " 4   address       200 non-null    object\n",
      " 5   exp_msg       200 non-null    int64 \n",
      "dtypes: int64(2), object(4)\n",
      "memory usage: 10.9+ KB\n"
     ]
    }
   ],
   "source": [
    "experiment_data[[\"phone_number\", \"exp_user\", \"exp_phone\", \"exp_batch\", \"address\", \"exp_msg\"]].info()"
   ]
  },
  {
   "cell_type": "code",
   "execution_count": 22,
   "id": "53eaf64d",
   "metadata": {},
   "outputs": [],
   "source": [
    "for (phone, batch), gdf in experiment_data[\n",
    "    [\"phone_number\", \"exp_user\", \"exp_phone\", \"exp_batch\", \"address\", \"exp_msg\"]\n",
    "].groupby([\"exp_phone\", \"exp_batch\"]):\n",
    "    card_ls = []\n",
    "    for prop_id, row in gdf.iterrows():\n",
    "        first_name, last_name = USER_NAME_MAPPING[row[\"exp_user\"]]\n",
    "        msg = USER_MSG_MAPPING[row[\"exp_user\"].split(\"_\")[0]][row[\"exp_msg\"]].format(\n",
    "            address=row[\"address\"], name=f\"{first_name} {last_name}\"\n",
    "        )\n",
    "\n",
    "        card = vobject.vCard()\n",
    "        prop = card.add(\"fn\")\n",
    "        prop.value = f\"id: {prop_id}\"\n",
    "        prop = card.add(\"n\")\n",
    "        prop.value = vobject.vcard.Name(family=str(prop_id), given=row['exp_user'])\n",
    "        prop = card.add(\"tel\")\n",
    "        prop.type_param = \"cell\"\n",
    "        prop.value = row[\"phone_number\"]\n",
    "        prop = card.add(\"org\")\n",
    "        prop.value = [msg]\n",
    "        prop = card.add(\"note\")\n",
    "        prop.value = f\"phone: {phone}; user: {row['exp_user']}, msg:{row['exp_msg']}\"\n",
    "        card_ls.append(card.serialize())\n",
    "\n",
    "    # Path(f\"experiment/contact/{phone}/{batch}.vcf\").write_text(\n",
    "    #     \"\\n\".join(card_ls), encoding=\"utf-8\"\n",
    "    # )\n"
   ]
  },
  {
   "cell_type": "code",
   "execution_count": 23,
   "id": "4f76707f",
   "metadata": {},
   "outputs": [
    {
     "data": {
      "text/plain": [
       "'BEGIN:VCARD\\r\\nVERSION:3.0\\r\\nFN:id: 32402653\\r\\nN:32402653;roma_3;;;\\r\\nNOTE:phone: phone_1\\\\; user: roma_3\\\\, msg:2\\r\\nORG:Üdvözöm!  Az ingatlan.com-on láttam a székesdűlői kiadó lakást\\r\\n \\\\, és nagyon érdekelne. Valamelyik délután vagy este meg tudnám-e né\\r\\n zni munkaidő után? Még hozzátenném\\\\, hogy én roma származású vagy\\r\\n ok\\\\, remélem ez nem probléma. Köszönöm\\\\, Orsós Attila\\r\\nTEL;TYPE=cell:+36 70 777 6346\\r\\nEND:VCARD\\r\\n'"
      ]
     },
     "execution_count": 23,
     "metadata": {},
     "output_type": "execute_result"
    }
   ],
   "source": [
    "\"\\n\".join(card_ls)"
   ]
  },
  {
   "cell_type": "markdown",
   "id": "c394789d",
   "metadata": {},
   "source": [
    "--------"
   ]
  },
  {
   "cell_type": "code",
   "execution_count": null,
   "id": "0c89d2cb",
   "metadata": {
    "ExecuteTime": {
     "end_time": "2022-10-21T12:06:56.303545Z",
     "start_time": "2022-10-21T12:06:56.291332Z"
    }
   },
   "outputs": [],
   "source": [
    "price_data = (\n",
    "    price_df.loc[(slice(None), \"HUF\"), :]\n",
    "    .loc[\n",
    "        lambda _df: (\n",
    "            (_df[Price.interval_d] == 0)\n",
    "            & (_df[Price.interval_m] == 1)\n",
    "            & (_df[Price.interval_y] == 0)\n",
    "        ),\n",
    "        Price.amount,\n",
    "    ]\n",
    "    .pipe(lambda _df: _df / 100)\n",
    "    .sort_values()[lambda _s: _s < _s.quantile(0.99)]\n",
    "    .reset_index(Price.currency, drop=True)\n",
    ")\n"
   ]
  },
  {
   "cell_type": "code",
   "execution_count": null,
   "id": "16b10cdd",
   "metadata": {
    "ExecuteTime": {
     "end_time": "2022-10-21T12:08:31.111663Z",
     "start_time": "2022-10-21T12:08:31.106432Z"
    }
   },
   "outputs": [],
   "source": [
    "agent_data = (\n",
    "    seller_df[Seller.agency]\n",
    "    .isna()\n",
    "    .rename(\"is_agent\")\n",
    "    .map({True: \"Individual\", False: \"Agent\"})\n",
    ")\n"
   ]
  },
  {
   "cell_type": "code",
   "execution_count": null,
   "id": "252907e2",
   "metadata": {
    "ExecuteTime": {
     "end_time": "2022-10-21T12:08:38.144526Z",
     "start_time": "2022-10-21T12:08:38.138750Z"
    }
   },
   "outputs": [],
   "source": [
    "agent_data.value_counts()\n"
   ]
  },
  {
   "cell_type": "code",
   "execution_count": null,
   "id": "303387a2",
   "metadata": {
    "ExecuteTime": {
     "end_time": "2022-10-21T12:06:56.603028Z",
     "start_time": "2022-10-21T12:06:56.599819Z"
    }
   },
   "outputs": [],
   "source": [
    "def get_district(loc_id: int):\n",
    "    if location_df.loc[loc_id, \"type\"] == \"district\":\n",
    "        return location_df.loc[loc_id, \"name\"]\n",
    "    else:\n",
    "        return get_district(int(location_df.loc[loc_id, \"parent_id\"]))\n"
   ]
  },
  {
   "cell_type": "code",
   "execution_count": null,
   "id": "77d72d0e",
   "metadata": {
    "ExecuteTime": {
     "end_time": "2022-10-21T12:06:56.863072Z",
     "start_time": "2022-10-21T12:06:56.823715Z"
    }
   },
   "outputs": [],
   "source": [
    "property_df[property_df[\"subtype\"] == \"slipFormed\"]\n"
   ]
  },
  {
   "cell_type": "code",
   "execution_count": null,
   "id": "31caea73",
   "metadata": {
    "ExecuteTime": {
     "end_time": "2022-10-21T12:06:58.223448Z",
     "start_time": "2022-10-21T12:06:57.849285Z"
    }
   },
   "outputs": [],
   "source": [
    "district_data = (\n",
    "    property_df[RealEstate.location_id.id].apply(get_district).rename(\"district\")\n",
    ")\n"
   ]
  },
  {
   "cell_type": "code",
   "execution_count": null,
   "id": "7d4b603d",
   "metadata": {
    "ExecuteTime": {
     "end_time": "2022-10-21T12:06:58.303182Z",
     "start_time": "2022-10-21T12:06:58.298514Z"
    }
   },
   "outputs": [],
   "source": [
    "district_data\n"
   ]
  },
  {
   "cell_type": "code",
   "execution_count": null,
   "id": "8a59e7c0",
   "metadata": {
    "ExecuteTime": {
     "end_time": "2022-10-21T12:06:58.870579Z",
     "start_time": "2022-10-21T12:06:58.839528Z"
    }
   },
   "outputs": [],
   "source": [
    "analysis_data = (\n",
    "    property_df.merge(price_data, left_index=True, right_index=True)\n",
    "    .merge(agent_data, left_on=RealEstate.seller_id.id, right_index=True)\n",
    "    .merge(district_data, left_index=True, right_index=True)\n",
    ")\n"
   ]
  },
  {
   "cell_type": "code",
   "execution_count": null,
   "id": "c8e2f425",
   "metadata": {
    "ExecuteTime": {
     "end_time": "2022-10-21T12:06:59.603502Z",
     "start_time": "2022-10-21T12:06:59.328329Z"
    }
   },
   "outputs": [],
   "source": [
    "sns.displot(\n",
    "    analysis_data,\n",
    "    x=RealEstate.subtype,\n",
    "    hue=\"is_agent\",\n",
    "    multiple=\"dodge\",\n",
    ")\n"
   ]
  },
  {
   "cell_type": "code",
   "execution_count": null,
   "id": "eae88f8e",
   "metadata": {
    "ExecuteTime": {
     "end_time": "2022-10-21T12:07:00.678159Z",
     "start_time": "2022-10-21T12:07:00.153858Z"
    }
   },
   "outputs": [],
   "source": [
    "sns.displot(\n",
    "    analysis_data,\n",
    "    x=\"district\",\n",
    "    hue=\"is_agent\",\n",
    "    multiple=\"dodge\",\n",
    ")\n"
   ]
  },
  {
   "cell_type": "code",
   "execution_count": null,
   "id": "86dae52d",
   "metadata": {
    "ExecuteTime": {
     "end_time": "2022-10-21T12:07:02.270752Z",
     "start_time": "2022-10-21T12:07:00.680843Z"
    }
   },
   "outputs": [],
   "source": [
    "sns.pairplot(\n",
    "    analysis_data[[Price.amount, RealEstate.area_size, \"is_agent\"]], hue=\"is_agent\"\n",
    ")\n"
   ]
  },
  {
   "cell_type": "code",
   "execution_count": null,
   "id": "fd2728b3",
   "metadata": {
    "ExecuteTime": {
     "end_time": "2022-10-21T12:07:02.349683Z",
     "start_time": "2022-10-21T12:07:02.274316Z"
    }
   },
   "outputs": [],
   "source": [
    "from sklearn.linear_model import LogisticRegression\n",
    "from sklearn.metrics import classification_report, confusion_matrix\n",
    "from sklearn.preprocessing import OneHotEncoder\n",
    "from sklearn.compose import make_column_selector as selector\n",
    "from sklearn.compose import ColumnTransformer\n"
   ]
  },
  {
   "cell_type": "code",
   "execution_count": null,
   "id": "3c041dba",
   "metadata": {
    "ExecuteTime": {
     "end_time": "2022-10-21T12:07:02.355122Z",
     "start_time": "2022-10-21T12:07:02.351873Z"
    }
   },
   "outputs": [],
   "source": [
    "logit = LogisticRegression()\n",
    "ohe = OneHotEncoder(sparse=False)\n",
    "\n",
    "transformer = ColumnTransformer(\n",
    "    [(\"dummy\", ohe, selector(dtype_include=\"object\"))], remainder=\"passthrough\"\n",
    ")\n"
   ]
  },
  {
   "cell_type": "code",
   "execution_count": null,
   "id": "d281fffe",
   "metadata": {
    "ExecuteTime": {
     "end_time": "2022-10-21T12:52:53.278727Z",
     "start_time": "2022-10-21T12:52:53.273565Z"
    },
    "scrolled": true
   },
   "outputs": [],
   "source": [
    "seller_df[\"agency\"].nunique()\n"
   ]
  },
  {
   "cell_type": "code",
   "execution_count": null,
   "id": "0a10288e",
   "metadata": {
    "ExecuteTime": {
     "end_time": "2022-10-21T12:09:45.316283Z",
     "start_time": "2022-10-21T12:09:45.312364Z"
    }
   },
   "outputs": [],
   "source": [
    "833 * 2\n"
   ]
  },
  {
   "cell_type": "markdown",
   "id": "a682ba73",
   "metadata": {},
   "source": [
    "# Agency"
   ]
  },
  {
   "cell_type": "markdown",
   "id": "fffbac02",
   "metadata": {},
   "source": [
    "## Distrubuion of agency size"
   ]
  },
  {
   "cell_type": "code",
   "execution_count": null,
   "id": "2d2fe156",
   "metadata": {
    "ExecuteTime": {
     "end_time": "2022-09-12T19:48:18.907343Z",
     "start_time": "2022-09-12T19:48:18.903018Z"
    }
   },
   "outputs": [],
   "source": [
    "data = seller_df[Seller.agency].value_counts()\n"
   ]
  },
  {
   "cell_type": "code",
   "execution_count": null,
   "id": "5ab995a8",
   "metadata": {
    "ExecuteTime": {
     "end_time": "2022-09-12T19:48:19.147857Z",
     "start_time": "2022-09-12T19:48:19.143638Z"
    }
   },
   "outputs": [],
   "source": [
    "f\"{data.shape[0]} agency in total with {data.values.mean():.4} member in average.\"\n"
   ]
  },
  {
   "cell_type": "code",
   "execution_count": null,
   "id": "57cb40ae",
   "metadata": {
    "ExecuteTime": {
     "end_time": "2022-09-12T19:48:20.347687Z",
     "start_time": "2022-09-12T19:48:19.559866Z"
    }
   },
   "outputs": [],
   "source": [
    "fig = sns.displot(data=data.values, bins=10).set(\n",
    "    title=\"Distrubuion of agency size\", yscale=\"log\", xticks=np.arange(0, 20, 5)\n",
    ")\n",
    "fig.savefig(\"output/agency_size.png\")\n"
   ]
  },
  {
   "cell_type": "markdown",
   "id": "10f049ea",
   "metadata": {},
   "source": [
    "# Prices"
   ]
  },
  {
   "cell_type": "markdown",
   "id": "d9c36c47",
   "metadata": {},
   "source": [
    "## Distribution of prices"
   ]
  },
  {
   "cell_type": "code",
   "execution_count": null,
   "id": "f8a73548",
   "metadata": {
    "ExecuteTime": {
     "end_time": "2022-09-12T19:54:28.037308Z",
     "start_time": "2022-09-12T19:54:28.027474Z"
    }
   },
   "outputs": [],
   "source": [
    "price_data = (\n",
    "    price_df.loc[(slice(None), \"HUF\"), :]\n",
    "    .loc[\n",
    "        lambda _df: (\n",
    "            (_df[Price.interval_d] == 0)\n",
    "            & (_df[Price.interval_m] == 1)\n",
    "            & (_df[Price.interval_y] == 0)\n",
    "        ),\n",
    "        Price.amount,\n",
    "    ]\n",
    "    .pipe(lambda _df: _df / 100)\n",
    "    .sort_values()[lambda _s: _s < _s.quantile(0.99)]\n",
    "    .reset_index(Price.currency, drop=True)\n",
    ")\n"
   ]
  },
  {
   "cell_type": "code",
   "execution_count": null,
   "id": "64709cda",
   "metadata": {
    "ExecuteTime": {
     "end_time": "2022-09-12T19:48:22.304601Z",
     "start_time": "2022-09-12T19:48:21.869050Z"
    }
   },
   "outputs": [],
   "source": [
    "fig = (\n",
    "    sns.displot(data=price_data.values, bins=50)\n",
    "    .set(title=\"Distribution of prices\")\n",
    "    .set(xlabel=\"Price (HUF)\")\n",
    ")\n",
    "fig.savefig(\"output/price.png\")\n"
   ]
  },
  {
   "cell_type": "markdown",
   "id": "139db5ef",
   "metadata": {},
   "source": [
    "## Distribution of prices by seller type"
   ]
  },
  {
   "cell_type": "code",
   "execution_count": null,
   "id": "c90948f6",
   "metadata": {
    "ExecuteTime": {
     "end_time": "2022-09-12T19:53:15.678950Z",
     "start_time": "2022-09-12T19:53:15.670125Z"
    }
   },
   "outputs": [],
   "source": [
    "analysis_data = (\n",
    "    price_data.to_frame()\n",
    "    .reset_index(level=Price.currency)\n",
    "    .join(\n",
    "        (\n",
    "            property_df[RealEstate.seller_id.id]\n",
    "            .map(seller_df[Seller.agency].isna())\n",
    "            .rename(\"is_agent\")\n",
    "            .map({True: \"Individual\", False: \"Agent\"})\n",
    "        )\n",
    "    )\n",
    ")\n"
   ]
  },
  {
   "cell_type": "code",
   "execution_count": null,
   "id": "73c3e878",
   "metadata": {
    "ExecuteTime": {
     "end_time": "2022-09-12T19:52:21.988581Z",
     "start_time": "2022-09-12T19:52:21.239074Z"
    }
   },
   "outputs": [],
   "source": [
    "fig = (\n",
    "    sns.displot(data=data, x=Price.amount, bins=50, hue=\"is_agent\")\n",
    "    .set(title=\"Distribution of prices by seller type\")\n",
    "    .set(xlabel=\"Price (HUF)\")\n",
    ")\n",
    "fig.savefig(\"output/price_by_seller_type.png\")\n"
   ]
  },
  {
   "cell_type": "code",
   "execution_count": null,
   "id": "cec0160e",
   "metadata": {},
   "outputs": [],
   "source": []
  },
  {
   "cell_type": "markdown",
   "id": "9116eec8",
   "metadata": {},
   "source": [
    "# Available from"
   ]
  },
  {
   "cell_type": "code",
   "execution_count": null,
   "id": "6b21dfa5",
   "metadata": {
    "ExecuteTime": {
     "end_time": "2022-08-25T16:35:08.451465Z",
     "start_time": "2022-08-25T16:35:08.447557Z"
    }
   },
   "outputs": [],
   "source": [
    "f\"{property_df[RealEstate.available_from].isna().mean():.2%} available from now\"\n"
   ]
  },
  {
   "cell_type": "code",
   "execution_count": null,
   "id": "0824ae51",
   "metadata": {
    "ExecuteTime": {
     "end_time": "2022-08-25T16:35:08.459197Z",
     "start_time": "2022-08-25T16:35:08.453411Z"
    }
   },
   "outputs": [],
   "source": [
    "property_df[RealEstate.available_from].dropna().sort_values()\n"
   ]
  },
  {
   "cell_type": "markdown",
   "id": "c56c6d87",
   "metadata": {},
   "source": [
    "# Sellers"
   ]
  },
  {
   "cell_type": "markdown",
   "id": "18ee4d49",
   "metadata": {},
   "source": [
    "## Offer count of users by user type"
   ]
  },
  {
   "cell_type": "code",
   "execution_count": null,
   "id": "dc640648",
   "metadata": {
    "ExecuteTime": {
     "end_time": "2022-10-21T12:07:34.759421Z",
     "start_time": "2022-10-21T12:07:34.734989Z"
    }
   },
   "outputs": [],
   "source": [
    "data = (\n",
    "    property_df.merge(\n",
    "        seller_df[[Seller.agency]], left_on=RealEstate.seller_id.id, right_index=True\n",
    "    )[Seller.agency].value_counts()\n",
    "    #     .head(10)\n",
    ")\n"
   ]
  },
  {
   "cell_type": "code",
   "execution_count": null,
   "id": "61168cd6",
   "metadata": {
    "ExecuteTime": {
     "end_time": "2022-10-21T12:07:35.714529Z",
     "start_time": "2022-10-21T12:07:35.708329Z"
    }
   },
   "outputs": [],
   "source": [
    "data[lambda _s: _s.index.str.startswith(\"Duna\")]\n"
   ]
  },
  {
   "cell_type": "code",
   "execution_count": null,
   "id": "1c28faa3",
   "metadata": {
    "ExecuteTime": {
     "end_time": "2022-10-21T12:07:43.133564Z",
     "start_time": "2022-10-21T12:07:43.123608Z"
    },
    "scrolled": true
   },
   "outputs": [],
   "source": [
    "data = (\n",
    "    property_df[RealEstate.seller_id.id]\n",
    "    .value_counts()\n",
    "    .to_frame()\n",
    "    .join(\n",
    "        (\n",
    "            seller_df[Seller.agency]\n",
    "            .isna()\n",
    "            .rename(\"is_agent\")\n",
    "            .map({True: \"Individual\", False: \"Agent\"})\n",
    "        )\n",
    "    )\n",
    "    .sort_values(\"is_agent\", ascending=False)\n",
    ")\n"
   ]
  },
  {
   "cell_type": "code",
   "execution_count": null,
   "id": "6e91e747",
   "metadata": {
    "ExecuteTime": {
     "end_time": "2022-10-21T12:07:47.418693Z",
     "start_time": "2022-10-21T12:07:46.471426Z"
    }
   },
   "outputs": [],
   "source": [
    "fig = sns.displot(\n",
    "    data=data, x=RealEstate.seller_id.id, bins=10, hue=\"is_agent\", multiple=\"dodge\"\n",
    ").set(\n",
    "    title=\"Offer count of users by user type\",\n",
    "    xlabel=\"Offer count\",\n",
    "    ylabel=\"Users\",\n",
    "    yscale=\"log\",\n",
    ")\n",
    "fig.savefig(\"output/offer_count_by_usertype.png\")\n"
   ]
  },
  {
   "cell_type": "markdown",
   "id": "c79bf668",
   "metadata": {},
   "source": [
    "# Contact"
   ]
  },
  {
   "cell_type": "code",
   "execution_count": null,
   "id": "9bfb298f",
   "metadata": {
    "ExecuteTime": {
     "end_time": "2022-10-21T12:07:50.873350Z",
     "start_time": "2022-10-21T12:07:50.855167Z"
    }
   },
   "outputs": [],
   "source": [
    "seller_data = (\n",
    "    contact_df.reset_index(Contact.phone_number)\n",
    "    .join(property_df[[RealEstate.seller_id.id]])\n",
    "    .merge(seller_df[Seller.agency], left_on=RealEstate.seller_id.id, right_index=True)\n",
    "    .assign(\n",
    "        is_agent=(\n",
    "            lambda _df: _df[Seller.agency]\n",
    "            .isna()\n",
    "            .rename(\"is_agent\")\n",
    "            .map({True: \"Individual\", False: \"Agent\"})\n",
    "        )\n",
    "    )\n",
    ")\n"
   ]
  },
  {
   "cell_type": "code",
   "execution_count": null,
   "id": "9e8fccc6",
   "metadata": {
    "ExecuteTime": {
     "end_time": "2022-10-21T12:07:51.735482Z",
     "start_time": "2022-10-21T12:07:51.724454Z"
    }
   },
   "outputs": [],
   "source": [
    "seller_data.groupby(Contact.phone_number)[Seller.agency].nunique(\n",
    "    dropna=False\n",
    ").sort_values()\n"
   ]
  },
  {
   "cell_type": "code",
   "execution_count": null,
   "id": "00325326",
   "metadata": {
    "ExecuteTime": {
     "end_time": "2022-10-21T12:07:52.523359Z",
     "start_time": "2022-10-21T12:07:52.515534Z"
    }
   },
   "outputs": [],
   "source": [
    "data = (\n",
    "    seller_data.groupby([\"is_agent\", RealEstate.seller_id.id])[Contact.phone_number]\n",
    "    .count()\n",
    "    .sort_values()\n",
    "    .rename(\"phone_count\")\n",
    "    .reset_index()\n",
    ")\n"
   ]
  },
  {
   "cell_type": "markdown",
   "id": "8b5f9b35",
   "metadata": {},
   "source": [
    "## Phone count of users by user type"
   ]
  },
  {
   "cell_type": "code",
   "execution_count": null,
   "id": "913321e6",
   "metadata": {
    "ExecuteTime": {
     "end_time": "2022-10-21T12:07:54.519257Z",
     "start_time": "2022-10-21T12:07:53.696237Z"
    }
   },
   "outputs": [],
   "source": [
    "fig = sns.displot(\n",
    "    data=data, x=\"phone_count\", bins=10, hue=\"is_agent\", multiple=\"dodge\"\n",
    ").set(\n",
    "    title=\"Phone count of users by user type\",\n",
    "    xlabel=\"Phone count\",\n",
    "    ylabel=\"Users\",\n",
    "    yscale=\"log\",\n",
    ")\n",
    "fig.savefig(\"output/user_phones_by_usertype.png\")\n"
   ]
  },
  {
   "cell_type": "markdown",
   "id": "6f2f88f7",
   "metadata": {},
   "source": [
    "## User count of phone number by user type"
   ]
  },
  {
   "cell_type": "code",
   "execution_count": null,
   "id": "0dab4c30",
   "metadata": {
    "ExecuteTime": {
     "end_time": "2022-10-21T12:18:41.161475Z",
     "start_time": "2022-10-21T12:18:41.157153Z"
    }
   },
   "outputs": [],
   "source": [
    "property_df.shape\n"
   ]
  },
  {
   "cell_type": "code",
   "execution_count": null,
   "id": "bbedae7f",
   "metadata": {
    "ExecuteTime": {
     "end_time": "2022-10-21T12:55:57.508811Z",
     "start_time": "2022-10-21T12:55:56.347319Z"
    }
   },
   "outputs": [],
   "source": [
    "x = seller_data.assign(\n",
    "    phone_user_counts=lambda _df: (\n",
    "        _df.groupby(Contact.phone_number)[RealEstate.seller_id.id].transform(\n",
    "            pd.Series.nunique\n",
    "        )\n",
    "    ),\n",
    "    phone_agency_counts=lambda _df: (\n",
    "        _df.groupby(Contact.phone_number)[Seller.agency].transform(pd.Series.nunique)\n",
    "    ),\n",
    ")[lambda _df: (_df[\"phone_user_counts\"] <= 1) & (_df[\"phone_agency_counts\"] <= 1)]\n"
   ]
  },
  {
   "cell_type": "code",
   "execution_count": null,
   "id": "25fd9b51",
   "metadata": {
    "ExecuteTime": {
     "end_time": "2022-10-21T12:56:00.454888Z",
     "start_time": "2022-10-21T12:56:00.447599Z"
    }
   },
   "outputs": [],
   "source": [
    "x.groupby(\"is_agent\")[\"agency\"].nunique()\n"
   ]
  },
  {
   "cell_type": "code",
   "execution_count": null,
   "id": "5a31acfb",
   "metadata": {
    "ExecuteTime": {
     "end_time": "2022-10-21T12:07:55.534406Z",
     "start_time": "2022-10-21T12:07:55.522765Z"
    }
   },
   "outputs": [],
   "source": [
    "user_phones = (\n",
    "    seller_data.groupby([Contact.phone_number, \"is_agent\"])[RealEstate.seller_id.id]\n",
    "    .nunique()\n",
    "    .rename(\"user_count\")\n",
    "    .reset_index()\n",
    ")\n",
    "# user_phones\n"
   ]
  },
  {
   "cell_type": "code",
   "execution_count": null,
   "id": "d5c55e73",
   "metadata": {
    "ExecuteTime": {
     "end_time": "2022-10-21T12:07:56.209858Z",
     "start_time": "2022-10-21T12:07:56.205224Z"
    }
   },
   "outputs": [],
   "source": [
    "correct_phones = (\n",
    "    user_phones[lambda _df: _df[\"user_count\"] <= 1]\n",
    "    .set_index(Contact.phone_number)\n",
    "    .index\n",
    ")\n"
   ]
  },
  {
   "cell_type": "code",
   "execution_count": null,
   "id": "0c7f6834",
   "metadata": {
    "ExecuteTime": {
     "end_time": "2022-10-21T12:07:56.794569Z",
     "start_time": "2022-10-21T12:07:56.789395Z"
    }
   },
   "outputs": [],
   "source": [
    "seller_data[Contact.phone_number].isin(correct_phones).mean()\n"
   ]
  },
  {
   "cell_type": "code",
   "execution_count": null,
   "id": "9cf6b911",
   "metadata": {
    "ExecuteTime": {
     "end_time": "2022-10-21T12:10:54.504341Z",
     "start_time": "2022-10-21T12:10:54.499118Z"
    }
   },
   "outputs": [],
   "source": [
    "seller_data_final = seller_data[\n",
    "    lambda _df: _df[Contact.phone_number].isin(correct_phones)\n",
    "]\n"
   ]
  },
  {
   "cell_type": "code",
   "execution_count": null,
   "id": "52c2e5fd",
   "metadata": {
    "ExecuteTime": {
     "end_time": "2022-10-21T12:11:35.255294Z",
     "start_time": "2022-10-21T12:11:35.243782Z"
    },
    "scrolled": true
   },
   "outputs": [],
   "source": [
    "user_phones[lambda _df: _df[\"user_count\"] == 1]\n"
   ]
  },
  {
   "cell_type": "code",
   "execution_count": null,
   "id": "508e42d2",
   "metadata": {
    "ExecuteTime": {
     "end_time": "2022-10-21T12:10:56.092043Z",
     "start_time": "2022-10-21T12:10:55.242279Z"
    },
    "scrolled": false
   },
   "outputs": [],
   "source": [
    "fig = sns.displot(\n",
    "    data=user_phones, x=\"user_count\", hue=\"is_agent\", multiple=\"dodge\", bins=10\n",
    ").set(\n",
    "    title=\"User count of phone number by user type\",\n",
    "    xlabel=\"User count\",\n",
    "    ylabel=\"Phone numbers\",\n",
    "    yscale=\"log\",\n",
    ")\n",
    "fig.savefig(\"output/phone_users_by_usertype.png\")\n"
   ]
  },
  {
   "cell_type": "code",
   "execution_count": null,
   "id": "01a99d45",
   "metadata": {
    "ExecuteTime": {
     "end_time": "2022-10-21T12:08:00.215167Z",
     "start_time": "2022-10-21T12:08:00.210859Z"
    }
   },
   "outputs": [],
   "source": [
    "x = seller_data_final[\"phone_number\"].iloc[0]\n"
   ]
  },
  {
   "cell_type": "code",
   "execution_count": null,
   "id": "a384ec77",
   "metadata": {
    "ExecuteTime": {
     "end_time": "2022-10-21T12:08:01.050360Z",
     "start_time": "2022-10-21T12:08:01.047420Z"
    }
   },
   "outputs": [],
   "source": [
    "import re\n"
   ]
  },
  {
   "cell_type": "code",
   "execution_count": null,
   "id": "d0873346",
   "metadata": {
    "ExecuteTime": {
     "end_time": "2022-10-21T12:08:01.928494Z",
     "start_time": "2022-10-21T12:08:01.924826Z"
    }
   },
   "outputs": [],
   "source": [
    "phone_regex = re.compile(\n",
    "    r\"^\\s*(?:\\+?(\\d{1,3}))?[-. (]*(\\d{3})[-. )]*(\\d{3})[-. ]*(\\d{4})(?: *x(\\d+))?\\s*$\"\n",
    ")\n"
   ]
  },
  {
   "cell_type": "code",
   "execution_count": null,
   "id": "48b88aae",
   "metadata": {
    "ExecuteTime": {
     "end_time": "2022-10-21T12:08:02.700998Z",
     "start_time": "2022-10-21T12:08:02.696919Z"
    }
   },
   "outputs": [],
   "source": [
    "x\n"
   ]
  },
  {
   "cell_type": "code",
   "execution_count": null,
   "id": "cc85b241",
   "metadata": {
    "ExecuteTime": {
     "end_time": "2022-10-21T12:08:03.362386Z",
     "start_time": "2022-10-21T12:08:03.359726Z"
    }
   },
   "outputs": [],
   "source": [
    "phone_regex.search(x)\n"
   ]
  }
 ],
 "metadata": {
  "kernelspec": {
   "display_name": "Python 3 (ipykernel)",
   "language": "python",
   "name": "python3"
  },
  "language_info": {
   "codemirror_mode": {
    "name": "ipython",
    "version": 3
   },
   "file_extension": ".py",
   "mimetype": "text/x-python",
   "name": "python",
   "nbconvert_exporter": "python",
   "pygments_lexer": "ipython3",
   "version": "3.10.6"
  },
  "toc": {
   "base_numbering": 1,
   "nav_menu": {},
   "number_sections": true,
   "sideBar": true,
   "skip_h1_title": false,
   "title_cell": "Table of Contents",
   "title_sidebar": "Contents",
   "toc_cell": false,
   "toc_position": {
    "height": "calc(100% - 180px)",
    "left": "10px",
    "top": "150px",
    "width": "303.837px"
   },
   "toc_section_display": true,
   "toc_window_display": true
  }
 },
 "nbformat": 4,
 "nbformat_minor": 5
}
