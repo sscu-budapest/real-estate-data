{
 "cells": [
  {
   "cell_type": "code",
   "execution_count": 1,
   "id": "a028676a",
   "metadata": {
    "ExecuteTime": {
     "end_time": "2023-03-10T10:03:04.062842Z",
     "start_time": "2023-03-10T10:03:01.957025Z"
    }
   },
   "outputs": [],
   "source": [
    "from src.ingatlan import PropertyDzA, AdHandler"
   ]
  },
  {
   "cell_type": "code",
   "execution_count": 8,
   "id": "c31c2c52",
   "metadata": {},
   "outputs": [
    {
     "name": "stdout",
     "output_type": "stream",
     "text": [
      "2023-02-03 11:43:55 [warning  ] can't get module name, likely due to notebook call\n"
     ]
    },
    {
     "ename": "AttributeError",
     "evalue": "'NoneType' object has no attribute 'split'",
     "output_type": "error",
     "traceback": [
      "\u001b[0;31m---------------------------------------------------------------------------\u001b[0m",
      "\u001b[0;31mAttributeError\u001b[0m                            Traceback (most recent call last)",
      "Cell \u001b[0;32mIn[8], line 1\u001b[0m\n\u001b[0;32m----> 1\u001b[0m \u001b[43mPropertyDzA\u001b[49m\u001b[43m(\u001b[49m\u001b[43mglobal_run\u001b[49m\u001b[38;5;241;43m=\u001b[39;49m\u001b[38;5;28;43;01mFalse\u001b[39;49;00m\u001b[43m)\u001b[49m\u001b[38;5;241m.\u001b[39mget_all_events(AdHandler)\n",
      "File \u001b[0;32m~/Github/real-estate-data/venv/lib/python3.10/site-packages/datazimmer/aswan_integration.py:28\u001b[0m, in \u001b[0;36mDzAswan.__init__\u001b[0;34m(self, global_run)\u001b[0m\n\u001b[1;32m     25\u001b[0m \u001b[38;5;28;01mfrom\u001b[39;00m \u001b[38;5;21;01maswan\u001b[39;00m \u001b[38;5;28;01mimport\u001b[39;00m Project\n\u001b[1;32m     27\u001b[0m \u001b[38;5;28mself\u001b[39m\u001b[38;5;241m.\u001b[39m_module \u001b[38;5;241m=\u001b[39m get_creation_module_name()\n\u001b[0;32m---> 28\u001b[0m \u001b[38;5;28mself\u001b[39m\u001b[38;5;241m.\u001b[39m_ns \u001b[38;5;241m=\u001b[39m global_run \u001b[38;5;129;01mor\u001b[39;00m \u001b[43mCompleteIdBase\u001b[49m\u001b[38;5;241;43m.\u001b[39;49m\u001b[43mfrom_module_name\u001b[49m\u001b[43m(\u001b[49m\u001b[38;5;28;43mself\u001b[39;49m\u001b[38;5;241;43m.\u001b[39;49m\u001b[43m_module\u001b[49m\u001b[43m)\u001b[49m\u001b[38;5;241m.\u001b[39mnamespace\n\u001b[1;32m     29\u001b[0m \u001b[38;5;28mself\u001b[39m\u001b[38;5;241m.\u001b[39m_conf \u001b[38;5;241m=\u001b[39m Config\u001b[38;5;241m.\u001b[39mload()\n\u001b[1;32m     30\u001b[0m \u001b[38;5;28mself\u001b[39m\u001b[38;5;241m.\u001b[39mproject \u001b[38;5;241m=\u001b[39m Project(\u001b[38;5;28mself\u001b[39m\u001b[38;5;241m.\u001b[39mname)\n",
      "File \u001b[0;32m~/Github/real-estate-data/venv/lib/python3.10/site-packages/datazimmer/metadata/complete_id.py:44\u001b[0m, in \u001b[0;36mCompleteIdBase.from_module_name\u001b[0;34m(cls, module_name, project)\u001b[0m\n\u001b[1;32m     42\u001b[0m \u001b[38;5;129m@classmethod\u001b[39m\n\u001b[1;32m     43\u001b[0m \u001b[38;5;28;01mdef\u001b[39;00m \u001b[38;5;21mfrom_module_name\u001b[39m(\u001b[38;5;28mcls\u001b[39m, module_name, project\u001b[38;5;241m=\u001b[39m\u001b[38;5;28;01mNone\u001b[39;00m):\n\u001b[0;32m---> 44\u001b[0m     _splitted \u001b[38;5;241m=\u001b[39m \u001b[43mmodule_name\u001b[49m\u001b[38;5;241;43m.\u001b[39;49m\u001b[43msplit\u001b[49m(\u001b[38;5;124m\"\u001b[39m\u001b[38;5;124m.\u001b[39m\u001b[38;5;124m\"\u001b[39m)\n\u001b[1;32m     45\u001b[0m     \u001b[38;5;28;01mif\u001b[39;00m _splitted[\u001b[38;5;241m0\u001b[39m] \u001b[38;5;241m==\u001b[39m META_MODULE_NAME:\n\u001b[1;32m     46\u001b[0m         \u001b[38;5;28;01mreturn\u001b[39;00m \u001b[38;5;28mcls\u001b[39m(from_mod_name(_splitted[\u001b[38;5;241m1\u001b[39m]), _splitted[\u001b[38;5;241m2\u001b[39m])\n",
      "\u001b[0;31mAttributeError\u001b[0m: 'NoneType' object has no attribute 'split'"
     ]
    }
   ],
   "source": [
    "PropertyDzA(global_run=False).get_all_events(AdHandler)"
   ]
  },
  {
   "cell_type": "markdown",
   "id": "02b912ff",
   "metadata": {},
   "source": [
    "# View project"
   ]
  },
  {
   "cell_type": "code",
   "execution_count": 31,
   "id": "da9c728a",
   "metadata": {
    "ExecuteTime": {
     "end_time": "2023-03-10T10:12:06.372995Z",
     "start_time": "2023-03-10T10:12:06.370485Z"
    }
   },
   "outputs": [],
   "source": [
    "from bs4 import BeautifulSoup\n",
    "import json\n",
    "import pandas as pd\n",
    "import re"
   ]
  },
  {
   "cell_type": "code",
   "execution_count": 14,
   "id": "9fd8c537",
   "metadata": {
    "ExecuteTime": {
     "end_time": "2023-03-10T10:05:27.063975Z",
     "start_time": "2023-03-10T10:05:26.490027Z"
    }
   },
   "outputs": [],
   "source": [
    "gen = project.depot.get_handler_events(AdHandler)\n",
    "\n",
    "for pcev in gen:\n",
    "    break"
   ]
  },
  {
   "cell_type": "code",
   "execution_count": 23,
   "id": "525949df",
   "metadata": {
    "ExecuteTime": {
     "end_time": "2023-03-10T10:08:22.779659Z",
     "start_time": "2023-03-10T10:08:22.523600Z"
    }
   },
   "outputs": [],
   "source": [
    "df = pd.DataFrame(\n",
    "    json.loads(\n",
    "        BeautifulSoup(pcev.content, \"html5lib\")\n",
    "        .select_one(\"#listing\")\n",
    "        .get(\"data-location-hierarchy\")\n",
    "    )\n",
    ")"
   ]
  },
  {
   "cell_type": "code",
   "execution_count": 29,
   "id": "50d63d3b",
   "metadata": {
    "ExecuteTime": {
     "end_time": "2023-03-10T10:11:35.262062Z",
     "start_time": "2023-03-10T10:11:35.259369Z"
    }
   },
   "outputs": [],
   "source": [
    "def _camel_to_snake(name):\n",
    "    name = re.sub(\"(.)([A-Z][a-z]+)\", r\"\\1_\\2\", name)\n",
    "    return re.sub(\"([a-z0-9])([A-Z])\", r\"\\1_\\2\", name).lower()\n"
   ]
  },
  {
   "cell_type": "code",
   "execution_count": 32,
   "id": "142437fd",
   "metadata": {
    "ExecuteTime": {
     "end_time": "2023-03-10T10:12:08.776412Z",
     "start_time": "2023-03-10T10:12:08.753822Z"
    }
   },
   "outputs": [
    {
     "data": {
      "text/html": [
       "<div>\n",
       "<style scoped>\n",
       "    .dataframe tbody tr th:only-of-type {\n",
       "        vertical-align: middle;\n",
       "    }\n",
       "\n",
       "    .dataframe tbody tr th {\n",
       "        vertical-align: top;\n",
       "    }\n",
       "\n",
       "    .dataframe thead th {\n",
       "        text-align: right;\n",
       "    }\n",
       "</style>\n",
       "<table border=\"1\" class=\"dataframe\">\n",
       "  <thead>\n",
       "    <tr style=\"text-align: right;\">\n",
       "      <th></th>\n",
       "      <th>id</th>\n",
       "      <th>type</th>\n",
       "      <th>name</th>\n",
       "      <th>name_postfix</th>\n",
       "      <th>slug</th>\n",
       "      <th>coordinates</th>\n",
       "      <th>bounds</th>\n",
       "      <th>url_part</th>\n",
       "      <th>parent_id</th>\n",
       "      <th>is_office_building</th>\n",
       "      <th>old_name</th>\n",
       "      <th>usable_in_ad</th>\n",
       "      <th>polygon</th>\n",
       "      <th>inflection_from</th>\n",
       "      <th>inflection_at</th>\n",
       "      <th>zip_code</th>\n",
       "    </tr>\n",
       "  </thead>\n",
       "  <tbody>\n",
       "    <tr>\n",
       "      <th>0</th>\n",
       "      <td>80853</td>\n",
       "      <td>street</td>\n",
       "      <td>Kölcsey</td>\n",
       "      <td>utca</td>\n",
       "      <td>paszto-kolcsey-utca-80853</td>\n",
       "      <td>{'lat': 47.92122, 'lon': 19.69823}</td>\n",
       "      <td>{'south': 47.9196, 'west': 19.696175, 'north':...</td>\n",
       "      <td>u:Kölcsey_utca|80853</td>\n",
       "      <td>2365.0</td>\n",
       "      <td>False</td>\n",
       "      <td>None</td>\n",
       "      <td>True</td>\n",
       "      <td>{\"type\":\"Feature\",\"geometry\":{\"type\":\"MultiLin...</td>\n",
       "      <td></td>\n",
       "      <td></td>\n",
       "      <td>3060</td>\n",
       "    </tr>\n",
       "    <tr>\n",
       "      <th>1</th>\n",
       "      <td>2365</td>\n",
       "      <td>city</td>\n",
       "      <td>Pásztó</td>\n",
       "      <td></td>\n",
       "      <td>paszto</td>\n",
       "      <td>{'lat': 47.921091, 'lon': 19.699835}</td>\n",
       "      <td>{'south': 47.902718, 'west': 19.68396, 'north'...</td>\n",
       "      <td>paszto</td>\n",
       "      <td>144813.0</td>\n",
       "      <td>False</td>\n",
       "      <td>None</td>\n",
       "      <td>True</td>\n",
       "      <td>{\"type\":\"MultiPolygon\",\"coordinates\":[[[[19.63...</td>\n",
       "      <td>pásztói</td>\n",
       "      <td>Pásztón</td>\n",
       "      <td>3060</td>\n",
       "    </tr>\n",
       "    <tr>\n",
       "      <th>2</th>\n",
       "      <td>144813</td>\n",
       "      <td>microRegion</td>\n",
       "      <td>Pásztói</td>\n",
       "      <td>járás</td>\n",
       "      <td>pasztói-jaras</td>\n",
       "      <td>{'lat': 47.843502, 'lon': 19.635364}</td>\n",
       "      <td>{'south': 47.687813, 'west': 19.415585, 'north...</td>\n",
       "      <td>pasztói-jaras</td>\n",
       "      <td>21.0</td>\n",
       "      <td>False</td>\n",
       "      <td>None</td>\n",
       "      <td>True</td>\n",
       "      <td>{\"type\":\"MultiPolygon\",\"coordinates\":[[[[19.41...</td>\n",
       "      <td>pásztói járási</td>\n",
       "      <td>Pásztói járásban</td>\n",
       "      <td></td>\n",
       "    </tr>\n",
       "    <tr>\n",
       "      <th>3</th>\n",
       "      <td>21</td>\n",
       "      <td>county</td>\n",
       "      <td>Nógrád</td>\n",
       "      <td>megye</td>\n",
       "      <td>nograd-megye</td>\n",
       "      <td>{'lat': 47.958407, 'lon': 19.530543}</td>\n",
       "      <td>{'south': 47.74914, 'west': 18.919771, 'north'...</td>\n",
       "      <td>nograd-megye</td>\n",
       "      <td>5.0</td>\n",
       "      <td>False</td>\n",
       "      <td>None</td>\n",
       "      <td>True</td>\n",
       "      <td>{\"type\":\"Polygon\",\"coordinates\":[[[18.92806098...</td>\n",
       "      <td>Nógrád megyei</td>\n",
       "      <td>Nógrád megyében</td>\n",
       "      <td></td>\n",
       "    </tr>\n",
       "    <tr>\n",
       "      <th>4</th>\n",
       "      <td>5</td>\n",
       "      <td>region</td>\n",
       "      <td>Észak-Magyarország</td>\n",
       "      <td></td>\n",
       "      <td>eszak-magyarorszag</td>\n",
       "      <td>{'lat': 47.92, 'lon': 20.4}</td>\n",
       "      <td>{'south': 47.383472, 'west': 18.89649, 'north'...</td>\n",
       "      <td>eszak-magyarorszag</td>\n",
       "      <td>1.0</td>\n",
       "      <td>False</td>\n",
       "      <td>None</td>\n",
       "      <td>True</td>\n",
       "      <td></td>\n",
       "      <td></td>\n",
       "      <td></td>\n",
       "      <td></td>\n",
       "    </tr>\n",
       "    <tr>\n",
       "      <th>5</th>\n",
       "      <td>1</td>\n",
       "      <td>country</td>\n",
       "      <td>Magyarország</td>\n",
       "      <td></td>\n",
       "      <td>magyarorszag</td>\n",
       "      <td>{'lat': 47.40996, 'lon': 19.061834}</td>\n",
       "      <td>{'south': 45.783646, 'west': 16.16333, 'north'...</td>\n",
       "      <td>magyarorszag</td>\n",
       "      <td>NaN</td>\n",
       "      <td>False</td>\n",
       "      <td>None</td>\n",
       "      <td>True</td>\n",
       "      <td></td>\n",
       "      <td></td>\n",
       "      <td></td>\n",
       "      <td></td>\n",
       "    </tr>\n",
       "  </tbody>\n",
       "</table>\n",
       "</div>"
      ],
      "text/plain": [
       "       id         type                name name_postfix  \\\n",
       "0   80853       street             Kölcsey         utca   \n",
       "1    2365         city              Pásztó                \n",
       "2  144813  microRegion             Pásztói        járás   \n",
       "3      21       county              Nógrád        megye   \n",
       "4       5       region  Észak-Magyarország                \n",
       "5       1      country        Magyarország                \n",
       "\n",
       "                        slug                           coordinates  \\\n",
       "0  paszto-kolcsey-utca-80853    {'lat': 47.92122, 'lon': 19.69823}   \n",
       "1                     paszto  {'lat': 47.921091, 'lon': 19.699835}   \n",
       "2              pasztói-jaras  {'lat': 47.843502, 'lon': 19.635364}   \n",
       "3               nograd-megye  {'lat': 47.958407, 'lon': 19.530543}   \n",
       "4         eszak-magyarorszag           {'lat': 47.92, 'lon': 20.4}   \n",
       "5               magyarorszag   {'lat': 47.40996, 'lon': 19.061834}   \n",
       "\n",
       "                                              bounds              url_part  \\\n",
       "0  {'south': 47.9196, 'west': 19.696175, 'north':...  u:Kölcsey_utca|80853   \n",
       "1  {'south': 47.902718, 'west': 19.68396, 'north'...                paszto   \n",
       "2  {'south': 47.687813, 'west': 19.415585, 'north...         pasztói-jaras   \n",
       "3  {'south': 47.74914, 'west': 18.919771, 'north'...          nograd-megye   \n",
       "4  {'south': 47.383472, 'west': 18.89649, 'north'...    eszak-magyarorszag   \n",
       "5  {'south': 45.783646, 'west': 16.16333, 'north'...          magyarorszag   \n",
       "\n",
       "   parent_id  is_office_building old_name  usable_in_ad  \\\n",
       "0     2365.0               False     None          True   \n",
       "1   144813.0               False     None          True   \n",
       "2       21.0               False     None          True   \n",
       "3        5.0               False     None          True   \n",
       "4        1.0               False     None          True   \n",
       "5        NaN               False     None          True   \n",
       "\n",
       "                                             polygon inflection_from  \\\n",
       "0  {\"type\":\"Feature\",\"geometry\":{\"type\":\"MultiLin...                   \n",
       "1  {\"type\":\"MultiPolygon\",\"coordinates\":[[[[19.63...         pásztói   \n",
       "2  {\"type\":\"MultiPolygon\",\"coordinates\":[[[[19.41...  pásztói járási   \n",
       "3  {\"type\":\"Polygon\",\"coordinates\":[[[18.92806098...   Nógrád megyei   \n",
       "4                                                                      \n",
       "5                                                                      \n",
       "\n",
       "      inflection_at zip_code  \n",
       "0                       3060  \n",
       "1           Pásztón     3060  \n",
       "2  Pásztói járásban           \n",
       "3   Nógrád megyében           \n",
       "4                             \n",
       "5                             "
      ]
     },
     "execution_count": 32,
     "metadata": {},
     "output_type": "execute_result"
    }
   ],
   "source": [
    "df[\"locations\"].apply(pd.Series).rename(_camel_to_snake, axis=1)"
   ]
  },
  {
   "cell_type": "code",
   "execution_count": 15,
   "id": "627577c5",
   "metadata": {
    "ExecuteTime": {
     "end_time": "2023-03-10T10:05:31.244493Z",
     "start_time": "2023-03-10T10:05:31.230758Z"
    }
   },
   "outputs": [
    {
     "data": {
      "text/plain": [
       "b'<!DOCTYPE html>\\n<html lang=\"hu\">\\n    <head>\\n        <meta charset=\"UTF-8\">\\n        <meta name=\"viewport\" content=\"width=device-width, initial-scale=1\">\\n                    \\n\\n                    \\n    <link rel=\"canonical\" href=\"https://ingatlan.com/paszto/kiado+lakas/panel-lakas/33441333\" />\\n    <meta name=\"title\" content=\"Kiad\\xc3\\xb3 panel lak\\xc3\\xa1s - P\\xc3\\xa1szt\\xc3\\xb3, K\\xc3\\xb6lcsey utca  #33441333\">\\n    <meta name=\"description\" content=\"P\\xc3\\xa1szt\\xc3\\xb3n a K\\xc3\\xb6lcsey \\xc3\\xbaton, 30 m2  erk\\xc3\\xa9lyes, M\\xc3\\xa1tr\\xc3\\xa1ra n\\xc3\\xa9z\\xc5\\x91 panor\\xc3\\xa1m\\xc3\\xa1s egyszob\\xc3\\xa1s lak\\xc3\\xa1s kiad\\xc3\\xb3. \\nB\\xc3\\xa9rleti d\\xc3\\xadj:90.000.- +rezsi / h\\xc3\\xb3. 2 havi kauci\\xc3\\xb3 sz\\xc3\\xbcks\\xc3\\xa9ges. \\nA lak\\xc3\\xa1s ig\\xc3\\xa9nyesen,...\">\\n    <meta property=\"og:type\" content=\"website\">\\n    <meta property=\"og:site_name\" content=\"ingatlan.com\">\\n    <meta property=\"og:url\" content=\"https://ingatlan.com/paszto/kiado+lakas/panel-lakas/33441333\">\\n    <meta property=\"og:title\" content=\"Kiad\\xc3\\xb3 panel lak\\xc3\\xa1s, P\\xc3\\xa1szt\\xc3\\xb3\">\\n    <meta property=\"og:description\" content=\"P\\xc3\\xa1szt\\xc3\\xb3n a K\\xc3\\xb6lcsey \\xc3\\xbaton, 30 m2  erk\\xc3\\xa9lyes, M\\xc3\\xa1tr\\xc3\\xa1ra n\\xc3\\xa9z\\xc5\\x91 panor\\xc3\\xa1m\\xc3\\xa1s egyszob\\xc3\\xa1s lak\\xc3\\xa1s kiad\\xc3\\xb3. \\nB\\xc3\\xa9rleti d\\xc3\\xadj:90.000.- +rezsi / h\\xc3\\xb3. 2 havi kauci\\xc3\\xb3 sz\\xc3\\xbcks\\xc3\\xa9ges. \\nA lak\\xc3\\xa1s ig\\xc3\\xa9nyesen,...\">\\n    <meta property=\"twitter:card\" content=\"summary\">\\n    <meta property=\"twitter:title\" content=\"Kiad\\xc3\\xb3 panel lak\\xc3\\xa1s\">\\n    <meta property=\"twitter:description\" content=\"P\\xc3\\xa1szt\\xc3\\xb3n a K\\xc3\\xb6lcsey \\xc3\\xbaton, 30 m2  erk\\xc3\\xa9lyes, M\\xc3\\xa1tr\\xc3\\xa1ra n\\xc3\\xa9z\\xc5\\x91 panor\\xc3\\xa1m\\xc3\\xa1s egyszob\\xc3\\xa1s lak\\xc3\\xa1s kiad\\xc3\\xb3. \\nB\\xc3\\xa9rleti d\\xc3\\xadj:90.000.- +rezsi / h\\xc3\\xb3. 2 havi kauci\\xc3\\xb3 sz\\xc3\\xbcks\\xc3\\xa9ges. \\nA lak\\xc3\\xa1s ig\\xc3\\xa9nyesen,...\">\\n\\n    \\n\\n        <title>    Kiad\\xc3\\xb3 panel lak\\xc3\\xa1s - P\\xc3\\xa1szt\\xc3\\xb3, K\\xc3\\xb6lcsey utca  #33441333\\n</title>\\n\\n                        <link rel=\"stylesheet\" href=\"https://ingatlan.com/build/app.8a2a34c4.css\">\\n            <link rel=\"preconnect\" href=\"https://fonts.googleapis.com\">\\n            <link rel=\"preconnect\" href=\"https://fonts.gstatic.com\" crossorigin>\\n            <link href=\"https://fonts.googleapis.com/css2?family=Roboto:wght@300;400;500;700;900&family=Red+Hat+Display:wght@300;400;500;700;900&display=swap\" rel=\"preload\" as=\"style\" onload=\"this.rel=\\'stylesheet\\'\">\\n            <link href=\"https://fonts.googleapis.com/icon?family=Material+Icons|Material+Icons+Outlined&display=block\" rel=\"preload\" as=\"style\" onload=\"this.rel=\\'stylesheet\\'\">\\n        \\n    <link rel=\"stylesheet\" href=\"https://ingatlan.com/build/details.9ca7cd67.css\">\\n    <style>\\n        /* override for the revealed phone number\\'s dropdown */\\n        .revealed-phone-numbers .dropdown-menu {\\n            transform: translate(0, 40px) !important;\\n        }\\n    </style>\\n\\n        <link rel=\"shortcut icon\" href=\"https://ingatlan.com/images/favicons/favicon.ico\" type=\"image/x-icon\">\\n        <link rel=\"apple-touch-icon\" sizes=\"57x57\" href=\"https://ingatlan.com/images/favicons/apple-touch-icon-57x57.png\">\\n        <link rel=\"apple-touch-icon\" sizes=\"60x60\" href=\"https://ingatlan.com/images/favicons/apple-touch-icon-60x60.png\">\\n        <link rel=\"apple-touch-icon\" sizes=\"72x72\" href=\"https://ingatlan.com/images/favicons/apple-touch-icon-72x72.png\">\\n        <link rel=\"apple-touch-icon\" sizes=\"76x76\" href=\"https://ingatlan.com/images/favicons/apple-touch-icon-76x76.png\">\\n        <link rel=\"apple-touch-icon\" sizes=\"114x114\" href=\"https://ingatlan.com/images/favicons/apple-touch-icon-114x114.png\">\\n        <link rel=\"apple-touch-icon\" sizes=\"120x120\" href=\"https://ingatlan.com/images/favicons/apple-touch-icon-120x120.png\">\\n        <link rel=\"apple-touch-icon\" sizes=\"144x144\" href=\"https://ingatlan.com/images/favicons/apple-touch-icon-144x144.png\">\\n        <link rel=\"apple-touch-icon\" sizes=\"152x152\" href=\"https://ingatlan.com/images/favicons/apple-touch-icon-152x152.png\">\\n        <link rel=\"apple-touch-icon\" sizes=\"180x180\" href=\"https://ingatlan.com/images/favicons/apple-touch-icon-180x180.png\">\\n        <link rel=\"icon\" type=\"image/png\" href=\"https://ingatlan.com/images/favicons/favicon-16x16.png\" sizes=\"16x16\">\\n        <link rel=\"icon\" type=\"image/png\" href=\"https://ingatlan.com/images/favicons/favicon-32x32.png\" sizes=\"32x32\">\\n        <link rel=\"icon\" type=\"image/png\" href=\"https://ingatlan.com/images/favicons/favicon-96x96.png\" sizes=\"96x96\">\\n        <link rel=\"mask-icon\" href=\"https://ingatlan.com/images/favicons/safari-pinned-tab.svg\" color=\"#000000\">\\n        <meta name=\"msapplication-TileColor\" content=\"#000000\">\\n        <meta name=\"msapplication-TileImage\" content=\"https://ingatlan.com/images/favicons/msapplication-square-144x144.png\">\\n        <meta name=\"theme-color\" content=\"#d35630\">\\n        <meta name=\"msapplication-square70x70logo\" content=\"https://ingatlan.com/images/favicons/msapplication-square-70x70.png\">\\n        <meta name=\"msapplication-square150x150logo\" content=\"https://ingatlan.com/images/favicons/msapplication-square-150x150.png\">\\n        <meta name=\"msapplication-wide310x150logo\" content=\"https://ingatlan.com/images/favicons/msapplication-wide-310x150.png\">\\n        <meta name=\"msapplication-square310x310logo\" content=\"https://ingatlan.com/images/favicons/msapplication-square-310x310.png\">\\n\\n                    <script src=\"https://ingatlan.com/build/runtime.9b12d948.js\"></script><script src=\"https://ingatlan.com/build/9059.eed34847.js\"></script><script src=\"https://ingatlan.com/build/8674.eefec180.js\"></script><script src=\"https://ingatlan.com/build/2652.1d1ddbbc.js\"></script><script src=\"https://ingatlan.com/build/242.7f7a2e69.js\"></script><script src=\"https://ingatlan.com/build/8969.90d7ece1.js\"></script><script src=\"https://ingatlan.com/build/icom-events.005ff835.js\"></script>\\n        \\n        <script src=\"https://ingatlan.com/js/cookieCategories.js\"></script>\\n        <script id=\"IcomConsentManager\" src=\"https://cookie-consent.ingatlancdn.com/icom-cookie-consent-manager-1.7.1.min.js\" data-id=\"7d00de3b-827c-4159-b631-c011e4eae86f\" data-remove-href-from-links=\"1\" data-blocking-mode=\"1\" data-throw-error=\"0\" data-has-google-ads=\"1\" data-iab-consent=\"1\" data-force-tcf-consent=\"1\"></script>\\n        <script src=\"//ad.adverticum.net/g3.js\" type=\"text/javascript\" charset=\"utf-8\"></script>\\n    </head>\\n    <body class=\"bg-concrete\">\\n    <div style=\"height: 0; overflow: hidden;\">\\n        <!-- Google Tag Manager (noscript) -->\\n                    <noscript><iframe src=\"https://www.googletagmanager.com/ns.html?id=GTM-LSRG\" height=\"0\" width=\"0\" style=\"display:none;visibility:hidden\"></iframe></noscript>\\n                <!-- End Google Tag Manager (noscript) -->\\n    </div>\\n        <div id=\"config-element\" class=\"d-none\" data-page-type=\"details-page\" data-environment=\"prod\" data-sentry-dsn=\"https://c1f467703b194f7c8ea8ee1627a039d7@o125414.ingest.sentry.io/6269562\" data-user-data=\"\" data-network-error-message=\"A m\\xc5\\xb1veletet h\\xc3\\xa1l\\xc3\\xb3zati hiba miatt nem siker\\xc3\\xbclt elv\\xc3\\xa9gezni. K\\xc3\\xa9rlek, pr\\xc3\\xb3b\\xc3\\xa1ld meg k\\xc3\\xa9s\\xc5\\x91bb!\" data-facebook-app-id=\"714371405246696\" data-google-signin-client-id=\"691164352612-hm1kmm8qt46ejnco4grppg1amdur7i1u.apps.googleusercontent.com\" data-icom-tracker-url=\"https://events.ingatlan.com\" data-is-mobile=\"\" data-is-mobile-or-tablet=\"\" data-is-desktop=\"1\"></div>\\n            <header class=\"primary-header z-index-500\">\\n        <nav class=\"navbar navbar-expand-lg navbar-light position-relative shadow-sm bg-white\">\\n        <div class=\"container-xl justify-content-between position-relative\">\\n            <button class=\"navbar-toggler position-absolute start-0 top-0 mt-1 ms-2 border-0 shadow-none\" type=\"button\" data-bs-toggle=\"collapse\" data-bs-target=\"#navbarSupportedContent\" aria-controls=\"navbarSupportedContent\" aria-expanded=\"false\" aria-label=\"Toggle navigation\">\\n                <span class=\"navbar-toggler-icon\"></span>\\n            </button>\\n            <a class=\"navbar-brand mx-auto mx-lg-0\" href=\"/\" onclick=\"window.icomEvents.headerClickEvent({ name: \\'logo\\' })\">\\n                <img src=\"/images/logo.svg\" alt=\"ingatlan.com logo\" width=\"167\" height=\"30\">\\n            </a>\\n            \\n            <div class=\"navbar-backdrop d-none position-fixed top-0 start-0 w-100 h-100\"></div>\\n            <div class=\"flex-grow-0\" id=\"navbarSupportedContent\">\\n                <ul class=\"navbar-nav me-auto mb-2 mb-lg-0 align-items-lg-center\">\\n                    <li class=\"nav-item d-lg-none\">\\n                        <a href=\"/\" class=\"nav-link text-midnight\" onclick=\"window.icomEvents.headerClickEvent({ name: \\'newSearch\\' })\">\\xc3\\x9aj keres\\xc3\\xa9s</a>\\n                    </li>\\n                    <li class=\"nav-item d-lg-none\">\\n                        <a href=\"https://hirdetesfeladas.ingatlan.com/hirdetesfeladas\" class=\"nav-link text-midnight\" onclick=\"window.icomEvents.headerClickEvent({ name: \\'postListing\\' })\">Hirdet\\xc3\\xa9s felad\\xc3\\xa1sa</a>\\n                    </li>\\n                                                                        <li class=\"nav-item me-3\">\\n    <a class=\"nav-link text-midnight fw-bold fs-7 text-midnight text-hover-tomato\" href=\"https://hitelintezo.ingatlan.com\" onclick=\"window.icomEvents.headerClickEvent({ name: \\'loanAdmin\\' })\">Hitelint\\xc3\\xa9z\\xc5\\x91</a>\\n</li>\\n<li class=\"nav-item me-3\">\\n    <a class=\"nav-link fw-bold fs-7 text-midnight text-hover-tomato\" href=\"https://partner.ingatlan.com\" onclick=\"window.icomEvents.pppClickEvent(\\'header\\')\">Ingatlanos megb\\xc3\\xadz\\xc3\\xa1sa</a>\\n</li>\\n<li class=\"nav-item me-3\">\\n    <a id=\"header-login-button\" href=\"#belepes?action=header\" data-testid=\"loginLink\" class=\"nav-link fw-bold fs-7 text-midnight text-hover-tomato\" data-login-button=\"true\" role=\"button\" onclick=\"window.icomEvents.headerClickEvent({ name: \\'loginOrRegister\\' })\">Bejelentkez\\xc3\\xa9s/Regisztr\\xc3\\xa1ci\\xc3\\xb3</a>\\n</li>\\n<li class=\"nav-item\">\\n    <a href=\"https://hirdetesfeladas.ingatlan.com/hirdetesfeladas\" type=\"button\" class=\"btn btn-outline-ash text-tomato d-none d-lg-flex\" onclick=\"window.icomEvents.headerClickEvent({ name: \\'postListing\\' })\">Hirdet\\xc3\\xa9sfelad\\xc3\\xa1s</a>\\n</li>\\n                                                            </ul>\\n\\n                <a class=\"navbar-close d-lg-none position-absolute text-midnight\" data-bs-toggle=\"collapse\" data-bs-target=\"#navbarSupportedContent\">\\n                    <span class=\"material-icons\">close</span>\\n                </a>\\n            </div>\\n        </div>\\n    </nav>\\n</header>\\n\\n    <div data-controller=\"auth\" data-auth-facebook-app-id-value=\"714371405246696\" data-auth-google-signin-client-id-value=\"691164352612-hm1kmm8qt46ejnco4grppg1amdur7i1u.apps.googleusercontent.com\">\\n        <div class=\"modal fade\" id=\"auth-modal\" tabindex=\"-1\" aria-hidden=\"true\">\\n    <div class=\"modal-dialog modal-xl w-100 mx-0 mx-sm-auto mt-5 mt-sm-4 mt-lg-5\">\\n        <div class=\"modal-content rounded-5\">\\n            <div class=\"modal-header border-0\">\\n                <button id=\"close-auth-modal-button\" type=\"button\" class=\"btn d-flex align-items-center ms-0 ms-sm-auto\" aria-label=\"Bez\\xc3\\xa1r\\xc3\\xa1s\">\\n                    <span class=\"material-icons icon text-gray\">close</span>\\n                    <span class=\"d-sm-none ms-2 text-bright fw-bold fs-7\">Bez\\xc3\\xa1r\\xc3\\xa1s</span>\\n                </button>\\n            </div>\\n            <div class=\"modal-body p-0\">\\n                <ul class=\"nav justify-content-around\" role=\"tablist\">\\n                    <li class=\"nav-item\">\\n                        <a href=\"#belepes\" class=\"nav-link active\" data-bs-toggle=\"tab\">Bel\\xc3\\xa9p\\xc3\\xa9s</a>\\n                    </li>\\n                    <li class=\"nav-item\">\\n                        <a href=\"#regisztracio\" class=\"nav-link\" data-bs-toggle=\"tab\">Regisztr\\xc3\\xa1ci\\xc3\\xb3</a>\\n                    </li>\\n                </ul>\\n                <div class=\"tab-content\">\\n                    <div class=\"tab-pane fade show active\" id=\"belepes\">\\n                        <div class=\"row\">\\n                            <div class=\"col-12 col-lg-6\">\\n                                <form class=\"border-end border-top rounded-top-right-7 border-bottom-left-5 border-ash p-4 h-100\" data-auth-target=\"authModalLoginForm\" method=\"post\" action=\"/user/login\" data-action=\"submit->auth#onAuthModalLoginFormSubmit\">\\n                                    <div data-auth-target=\"loginErrorContainer\" class=\"fs-8 mb-4 d-none\" data-network-error=\"A m\\xc5\\xb1veletet h\\xc3\\xa1l\\xc3\\xb3zati hiba miatt nem siker\\xc3\\xbclt elv\\xc3\\xa9gezni. K\\xc3\\xa9rlek, pr\\xc3\\xb3b\\xc3\\xa1ld meg k\\xc3\\xa9s\\xc5\\x91bb!\" data-google-cookie-error=\"A Google-fi\\xc3\\xb3kkal t\\xc3\\xb6rt\\xc3\\xa9n\\xc5\\x91 bel\\xc3\\xa9p\\xc3\\xa9shez enged\\xc3\\xa9lyezd a harmadik f\\xc3\\xa9lt\\xc5\\x91l sz\\xc3\\xa1rmaz\\xc3\\xb3 cookie-kat (s\\xc3\\xbctiket) a b\\xc3\\xb6ng\\xc3\\xa9sz\\xc5\\x91 be\\xc3\\xa1ll\\xc3\\xadt\\xc3\\xa1saidban.\" data-facebook-error=\"A Facebook-fi\\xc3\\xb3kkal t\\xc3\\xb6rt\\xc3\\xa9n\\xc5\\x91 bel\\xc3\\xa9p\\xc3\\xa9s h\\xc3\\xa1l\\xc3\\xb3zati hiba vagy a b\\xc3\\xb6ng\\xc3\\xa9sz\\xc5\\x91 be\\xc3\\xa1ll\\xc3\\xadt\\xc3\\xa1sok (harmadik f\\xc3\\xa9lt\\xc5\\x91l sz\\xc3\\xa1rmaz\\xc3\\xb3 cookie-k (s\\xc3\\xbctik) tilt\\xc3\\xa1sa vagy bekapcsolt k\\xc3\\xb6vet\\xc3\\xa9s elleni v\\xc3\\xa9delem) miatt nem lehets\\xc3\\xa9ges.\">\\n                                        <div class=\"overflow-hidden border border-firebrick border-1 rounded-0 ps-0 mt-3 d-flex align-items-stretch bg-white\">\\n    <div class=\"alert bg-firebrick px-2 py-3 m-0 me-3 text-white d-flex justify-content-center align-items-center rounded-0 rounded-end\">\\n                    <span class=\"material-icons\">error</span>\\n            </div>\\n    <div class=\"fw-bold py-2 mx-0 my-auto\">\\n        <span class=\"me-1 alert-text\">A m\\xc5\\xb1veletet h\\xc3\\xa1l\\xc3\\xb3zati hiba miatt nem siker\\xc3\\xbclt elv\\xc3\\xa9gezni. K\\xc3\\xa9rlek, pr\\xc3\\xb3b\\xc3\\xa1ld meg k\\xc3\\xa9s\\xc5\\x91bb!</span>\\n            </div>\\n</div>\\n                                    </div>\\n                                    <div class=\"mb-3\">\\n                                        <input type=\"text\" name=\"username\" autocomplete=\"username\" class=\"form-control bg-bright\" placeholder=\"Email c\\xc3\\xadm vagy felhaszn\\xc3\\xa1l\\xc3\\xb3n\\xc3\\xa9v\" />\\n                                    </div>\\n                                    <div>\\n                                        <input type=\"password\" name=\"password\" class=\"form-control bg-bright\" autocomplete=\"current-password\" placeholder=\"Jelsz\\xc3\\xb3\">\\n                                    </div>\\n                                    <div class=\"d-flex justify-content-end mb-3\">\\n                                        <a data-auth-target=\"forgottenPasswordOpenButton\" href=\"#elfelejtett-jelszo\" class=\"btn btn-link fw-500 fs-7 text-decoration-none text-windows\" role=\"button\">Elfelejtett jelsz\\xc3\\xb3</a>\\n                                    </div>\\n                                    <div class=\"d-grid gap-2\">\\n                                        <button data-auth-target=\"loginSubmitButton\" type=\"submit\" data-testid=\"loginSubmit\" class=\"btn btn-tomato mb-3\">\\n                                            <span data-state=\"normal\">Bel\\xc3\\xa9p\\xc3\\xa9s</span>\\n                                            <span data-state=\"loading\" class=\"d-none\">\\n                                                <span class=\"spinner-border spinner-border-sm me-2\" role=\"status\" aria-hidden=\"true\"></span>\\n                                                Bet\\xc3\\xb6lt\\xc3\\xa9s...\\n                                            </span>\\n                                        </button>\\n                                        <button type=\"button\" class=\"btn btn-outline-ash js-facebook-auth mb-1\" data-is-registration=\"false\">\\n                                            <img class=\"me-2\" src=\"https://ingatlan.com/images/icons/social-icon-facebook.svg\" alt=\"\">\\n                                            <span class=\"text-dark\">Bel\\xc3\\xa9p\\xc3\\xa9s/regisztr\\xc3\\xa1ci\\xc3\\xb3 Facebook fi\\xc3\\xb3kkal</span>\\n                                        </button>\\n                                        <button type=\"button\" class=\"btn btn-outline-ash text-dark js-google-auth\" data-is-registration=\"false\">\\n                                            <img class=\"me-2\" src=\"https://ingatlan.com/images/icons/social-icon-google.svg\" alt=\"\">\\n                                            <span class=\"text-dark\">Bel\\xc3\\xa9p\\xc3\\xa9s/regisztr\\xc3\\xa1ci\\xc3\\xb3 Google fi\\xc3\\xb3kkal</span>\\n                                        </button>\\n                                    </div>\\n                                </form>\\n                            </div>\\n                            <div class=\"col-12 col-lg-6\">\\n                                <div class=\"d-flex flex-column h-100 bg-tomato text-white p-4 rounded-top-left-7 rounded-bottom-right-5 font-family-secondary\">\\n                                    <span class=\"fs-4 mx-auto mx-lg-0\">Nincs m\\xc3\\xa9g fi\\xc3\\xb3kod?</span>\\n                                    <span class=\"fs-1 mx-auto mx-lg-0\">Regisztr\\xc3\\xa1lj!</span>\\n                                    <br/>\\n                                    <ul class=\"list-unstyled\">\\n                                        <li class=\"mb-3 fs-5 d-flex\"><span class=\"material-icons me-2\">check</span> elmenthetsz \\xc3\\xa9s elrejthetsz hirdet\\xc3\\xa9seket</li>\\n                                        <li class=\"mb-3 fs-5 d-flex\"><span class=\"material-icons me-2\">check</span> \\xc3\\xa9rtes\\xc3\\xadt\\xc3\\xa9st k\\xc3\\xa9rhetsz az \\xc3\\xbaj ingatlanokr\\xc3\\xb3l</li>\\n                                        <li class=\"mb-3 fs-5 d-flex\"><span class=\"material-icons me-2\">check</span> feladhatsz hirdet\\xc3\\xa9st</li>\\n                                        <li class=\"mb-3 fs-5 d-flex\"><span class=\"material-icons me-2\">check</span> \\xc3\\xbczenetet k\\xc3\\xbcldhetsz a hirdet\\xc5\\x91knek</li>\\n                                        <li class=\"mb-3 fs-5 d-flex\"><span class=\"material-icons me-2\">check</span> megn\\xc3\\xa9zheted, melyik ingatlant tudod megvenni</li>\\n                                    </ul>\\n                                    <a href=\"#regisztracio\" type=\"button\" class=\"btn btn-outline-ash bg-bright text-tomato d-inline-flex me-auto\" data-registration-button=\"true\" data-change-tab=\"true\">Regisztr\\xc3\\xa1lj most!</a>\\n                                </div>\\n                            </div>\\n                        </div>\\n                    </div>\\n                    <div class=\"tab-pane fade\" id=\"regisztracio\">\\n                        <div class=\"row\">\\n                            <div class=\"col-12 col-lg-6\">\\n                                <form class=\"border-end border-top rounded-top-right-7 border-bottom-left-5 border-ash p-4 h-100\" data-auth-target=\"authModalRegistrationForm\" action=\"/user/register\" method=\"post\" data-captcha-error-text=\"\\xc3\\x89rv\\xc3\\xa9nytelen ellen\\xc5\\x91rz\\xc3\\xa9s\" data-action=\"submit->auth#onAuthModalRegistrationFormSubmit\">\\n                                    <div data-auth-target=\"registrationErrorContainer\" class=\"fs-8 mb-4 d-none\" data-network-error=\"A m\\xc5\\xb1veletet h\\xc3\\xa1l\\xc3\\xb3zati hiba miatt nem siker\\xc3\\xbclt elv\\xc3\\xa9gezni. K\\xc3\\xa9rlek, pr\\xc3\\xb3b\\xc3\\xa1ld meg k\\xc3\\xa9s\\xc5\\x91bb!\" data-google-cookie-error=\"A Google-fi\\xc3\\xb3kkal t\\xc3\\xb6rt\\xc3\\xa9n\\xc5\\x91 bel\\xc3\\xa9p\\xc3\\xa9shez enged\\xc3\\xa9lyezd a harmadik f\\xc3\\xa9lt\\xc5\\x91l sz\\xc3\\xa1rmaz\\xc3\\xb3 cookie-kat (s\\xc3\\xbctiket) a b\\xc3\\xb6ng\\xc3\\xa9sz\\xc5\\x91 be\\xc3\\xa1ll\\xc3\\xadt\\xc3\\xa1saidban.\" data-facebook-error=\"A Facebook-fi\\xc3\\xb3kkal t\\xc3\\xb6rt\\xc3\\xa9n\\xc5\\x91 bel\\xc3\\xa9p\\xc3\\xa9s h\\xc3\\xa1l\\xc3\\xb3zati hiba vagy a b\\xc3\\xb6ng\\xc3\\xa9sz\\xc5\\x91 be\\xc3\\xa1ll\\xc3\\xadt\\xc3\\xa1sok (harmadik f\\xc3\\xa9lt\\xc5\\x91l sz\\xc3\\xa1rmaz\\xc3\\xb3 cookie-k (s\\xc3\\xbctik) tilt\\xc3\\xa1sa vagy bekapcsolt k\\xc3\\xb6vet\\xc3\\xa9s elleni v\\xc3\\xa9delem) miatt nem lehets\\xc3\\xa9ges.\">\\n                                        <div class=\"overflow-hidden border border-firebrick border-1 rounded-0 ps-0 mt-3 d-flex align-items-stretch bg-white\">\\n    <div class=\"alert bg-firebrick px-2 py-3 m-0 me-3 text-white d-flex justify-content-center align-items-center rounded-0 rounded-end\">\\n                    <span class=\"material-icons\">error</span>\\n            </div>\\n    <div class=\"fw-bold py-2 mx-0 my-auto\">\\n        <span class=\"me-1 alert-text\">A m\\xc5\\xb1veletet h\\xc3\\xa1l\\xc3\\xb3zati hiba miatt nem siker\\xc3\\xbclt elv\\xc3\\xa9gezni. K\\xc3\\xa9rlek, pr\\xc3\\xb3b\\xc3\\xa1ld meg k\\xc3\\xa9s\\xc5\\x91bb!</span>\\n            </div>\\n</div>\\n                                    </div>\\n                                    <input type=\"hidden\" name=\"register[_token]\" value=\"ceb91bc500198de488cd7fced0.uc34g3Uo6e65_QK7TT1ZpJtKqcgDYMUJEYEhLVevbNY.1Z6y7zJG0KHgnEyLEkVo4-Ef54FkMfc_Zu9-SxnnIqCAqNXbAXKP3svMUw\"/>\\n                                    <input type=\"hidden\" name=\"register[accept_tos]\" value=\"1\" />\\n                                    <input type=\"hidden\" name=\"register[accept_privacy_policy]\" value=\"1\" />\\n\\n                                    <div class=\"mb-3\">\\n                                        <input type=\"email\" name=\"register[email]\" data-auth-target=\"registrationEmailInput\" data-action=\"blur->auth#onRegistrationEmailInputBlur\" data-testid=\"registerEmail\" autocomplete=\"on\" class=\"form-control bg-bright\" placeholder=\"Email c\\xc3\\xadm\" required />\\n                                    </div>\\n                                    <div class=\"mb-3\">\\n                                        <input type=\"password\" name=\"register[password][first]\" data-auth-target=\"registrationPasswordFirstInput\" data-testid=\"registerPasswordFirst\" class=\"form-control bg-bright\" placeholder=\"Jelsz\\xc3\\xb3\" required>\\n                                    </div>\\n                                    <div class=\"mb-3\">\\n                                        <input type=\"password\" name=\"register[password][second]\" data-testid=\"registerPasswordSecond\" class=\"form-control bg-bright\" placeholder=\"Jelsz\\xc3\\xb3 m\\xc3\\xa9gegyszer\" required>\\n                                    </div>\\n                                    <div class=\"form-check mb-3\">\\n                                        <input name=\"register[newsletter]\" class=\"form-check-input\" type=\"checkbox\" value=\"1\" id=\"edm-checkbox\">\\n                                        <label class=\"form-check-label fs-7\" for=\"edm-checkbox\">\\n                                            Feliratkozom az ingatlan.com h\\xc3\\xadrlev\\xc3\\xa9lre. <a href=\"https://info.ingatlan.com/tajekoztatas-hirlevel-feliratkozasrol\" class=\"text-windows\" target=\"_blank\">B\\xc5\\x91vebben</a>\\n                                        </label>\\n                                    </div>\\n                                    <div class=\"mb-3 fs-7\">\\n                                                                                                                        A regisztr\\xc3\\xa1ci\\xc3\\xb3 gombra kattintva elfogadod az ingatlan.com <a href=\"https://info.ingatlan.com/adatvedelem\" class=\"text-windows\" target=\"_blank\" rel=\"noreferrer noopener\">Adatv\\xc3\\xa9delmi Szab\\xc3\\xa1lyzat\\xc3\\xa1t</a> \\xc3\\xa9s az <a href=\"https://info.ingatlan.com/aszf\" class=\"text-windows\" target=\"_blank\" rel=\"noreferrer noopener\">\\xc3\\x81ltal\\xc3\\xa1nos Szerz\\xc5\\x91d\\xc3\\xa9si Felt\\xc3\\xa9teleit</a>\\n                                    </div>\\n                                    <div class=\"d-flex justify-content-center mb-3\">\\n                                        <div class=\"g-recaptcha d-flex\" data-sitekey=\"6Ld1m5QeAAAAAIxjDx38xM-0rjTVc_g0WmZUHv-k\" data-error-message=\"A CAPTCHA \\xc3\\xa9rt\\xc3\\xa9ke nem helyes, k\\xc3\\xa9rj\\xc3\\xbck pr\\xc3\\xb3b\\xc3\\xa1lja meg \\xc3\\xbajra.\"></div>\\n                                    </div>\\n                                    <div class=\"d-grid gap-2\">\\n                                        <button type=\"submit\" data-auth-target=\"registrationSubmitButton\" data-testid=\"submitRegistration\" class=\"btn btn-tomato mb-3\">\\n                                            <span data-state=\"normal\">Regisztr\\xc3\\xa1ci\\xc3\\xb3</span>\\n                                            <span data-state=\"loading\" class=\"d-none\">\\n                                                <span class=\"spinner-border spinner-border-sm me-2\" role=\"status\" aria-hidden=\"true\"></span>\\n                                                Bet\\xc3\\xb6lt\\xc3\\xa9s...\\n                                            </span>\\n                                        </button>\\n                                        <button type=\"button\" class=\"btn btn-outline-ash d-flex align-items-center justify-content-center mb-1 js-facebook-auth\" data-is-registration=\"true\">\\n                                            <img class=\"me-2\" src=\"https://ingatlan.com/images/icons/social-icon-facebook.svg\" alt=\"\">\\n                                            <span class=\"text-dark\">Bel\\xc3\\xa9p\\xc3\\xa9s/regisztr\\xc3\\xa1ci\\xc3\\xb3 Facebook fi\\xc3\\xb3kkal</span>\\n                                        </button>\\n                                        <button type=\"button\" class=\"btn btn-outline-ash d-flex align-items-center justify-content-center mb-3 text-dark fw-bold js-google-auth\" data-is-registration=\"true\">\\n                                            <img class=\"me-2\" src=\"https://ingatlan.com/images/icons/social-icon-google.svg\" alt=\"\">\\n                                            <span class=\"text-dark\">Bel\\xc3\\xa9p\\xc3\\xa9s/regisztr\\xc3\\xa1ci\\xc3\\xb3 Google fi\\xc3\\xb3kkal</span>\\n                                        </button>\\n                                        <a href=\"https://admin.ingatlan.com/kapcsolatfelvetel\" class=\"btn btn-outline-ash d-flex align-items-center justify-content-center\" target=\"_blank\">\\n                                            <span class=\"material-icons text-dark fs-4 me-2\">business_center</span>\\n                                            <span class=\"text-dark\">Regisztr\\xc3\\xa1ci\\xc3\\xb3 ingatlank\\xc3\\xb6zvet\\xc3\\xadt\\xc5\\x91knek</span>\\n                                        </a>\\n                                    </div>\\n                                </form>\\n                            </div>\\n                            <div class=\"col-12 col-lg-6\">\\n                                <div class=\"h-100 bg-tomato text-white p-4 rounded-top-left-7 rounded-bottom-right-5 font-family-secondary\">\\n                                    <span class=\"fs-1\">Mi\\xc3\\xa9rt \\xc3\\xa9ri meg regisztr\\xc3\\xa1lni?</span>\\n                                    <br/><br/>\\n                                    <ul class=\"list-unstyled\">\\n                                        <li class=\"mb-3 fs-5 d-flex\"><span class=\"material-icons me-2\">check</span> elmenthetsz \\xc3\\xa9s elrejthetsz hirdet\\xc3\\xa9seket</li>\\n                                        <li class=\"mb-3 fs-5 d-flex\"><span class=\"material-icons me-2\">check</span> \\xc3\\xa9rtes\\xc3\\xadt\\xc3\\xa9st k\\xc3\\xa9rhetsz az \\xc3\\xbaj ingatlanokr\\xc3\\xb3l</li>\\n                                        <li class=\"mb-3 fs-5 d-flex\"><span class=\"material-icons me-2\">check</span> feladhatsz hirdet\\xc3\\xa9st</li>\\n                                        <li class=\"mb-3 fs-5 d-flex\"><span class=\"material-icons me-2\">check</span> \\xc3\\xbczenetet k\\xc3\\xbcldhetsz a hirdet\\xc5\\x91knek</li>\\n                                        <li class=\"mb-3 fs-5 d-flex\"><span class=\"material-icons me-2\">check</span> megn\\xc3\\xa9zheted, melyik ingatlant tudod megvenni</li>\\n                                    </ul>\\n                                </div>\\n                            </div>\\n                        </div>\\n                    </div>\\n                </div>\\n            </div>\\n        </div>\\n    </div>\\n</div>\\n\\n<div class=\"modal fade rounded-5\" data-auth-target=\"forgottenPasswordModal\" tabindex=\"-1\" aria-hidden=\"true\">\\n    <div id=\"forgotten-password-modal-dialog\" class=\"modal-dialog mw-100 w-25\">\\n        <div class=\"modal-content\">\\n            <div class=\"modal-header border-0\">\\n                <button id=\"close-forgotten-password-modal-button\" type=\"button\" class=\"btn-close\" aria-label=\"Bez\\xc3\\xa1r\\xc3\\xa1s\" data-action=\"click->auth#onCloseForgottenPasswordModalButtonClick\"></button>\\n            </div>\\n            <div class=\"modal-body d-flex flex-column text-center p-4 pt-0\" id=\"elfelejtett-jelszo\">\\n                <div data-auth-target=\"forgottenPasswordErrorContainer\" class=\"fs-8 mb-4 d-none\">\\n                    <div class=\"overflow-hidden border border-firebrick border-1 rounded-0 ps-0 mt-3 d-flex align-items-stretch bg-white\">\\n    <div class=\"alert bg-firebrick px-2 py-3 m-0 me-3 text-white d-flex justify-content-center align-items-center rounded-0 rounded-end\">\\n                    <span class=\"material-icons\">error</span>\\n            </div>\\n    <div class=\"fw-bold py-2 mx-0 my-auto\">\\n        <span class=\"me-1 alert-text\"></span>\\n            </div>\\n</div>\\n                </div>\\n                <h1 class=\"fw-bold mb-1 mb-3 fs-5 font-family-secondary\">Elfelejtett jelsz\\xc3\\xb3</h1>\\n                <p class=\"my-4\">Ingatlank\\xc3\\xb6zvet\\xc3\\xadt\\xc5\\x91k\\xc3\\xa9nt a felhaszn\\xc3\\xa1l\\xc3\\xb3nevedet add meg, egy\\xc3\\xa9b esetben az e-mail c\\xc3\\xadmedet.</p>\\n                <form id=\"forgotten-password-form\" action=\"/user/forgotten-password\" method=\"post\" data-action=\"submit->auth#onForgottenPasswordFormSubmit\">\\n                    <input type=\"hidden\" name=\"forgotten_password[_token]\" value=\"69d150cf046300b2e3537b9aad1fe.3ExSEo92t_rwmNfKRyMpii0hp14F2XX1vhQT-ZRTx9s.jyQAe8g9z4KV1IeQJHpfz2J2n2pnrgyQjUUgyNcEi6-EAQJoyiDBi4Oong\"/>\\n                    <input type=\"text\" id=\"forgotten_password[email]\" name=\"forgotten_password[email]\" class=\"form-control bg-bright\" placeholder=\"Email c\\xc3\\xadm vagy felhaszn\\xc3\\xa1l\\xc3\\xb3n\\xc3\\xa9v\" data-action=\"keydown->auth#onForgottenPasswordInputFieldKeydown\" />\\n                    <button data-auth-target=\"forgottenPasswordSubmitButton\" type=\"submit\" class=\"btn btn-tomato mt-3 w-100\">\\n                        <span data-state=\"normal\">\\xc3\\x9aj jelsz\\xc3\\xb3 ig\\xc3\\xa9nyl\\xc3\\xa9se</span>\\n                        <span data-state=\"loading\" class=\"d-none\">\\n                            <span class=\"spinner-border spinner-border-sm me-2\" role=\"status\" aria-hidden=\"true\"></span>\\n                            Bet\\xc3\\xb6lt\\xc3\\xa9s...\\n                        </span>\\n                    </button>\\n                </form>\\n                <p class=\"my-4 fs-8\">\\n                    <span class=\"d-block\">\\xc3\\x9cgyf\\xc3\\xa9lszolg\\xc3\\xa1lat email: <a href=\"mailto:segitunk@ingatlan.com\" class=\"text-decoration-none text-windows\">segitunk@ingatlan.com</a></span>\\n                    <span class=\"d-block mt-1\">\\xc3\\x9cgyf\\xc3\\xa9lszolg\\xc3\\xa1lat telefon: <a href=\"tel:+36 1 237 2065\" class=\"text-decoration-none text-windows\">+36 1 237 2065</a></span>\\n                </p>\\n                <a id=\"forgotten-password-login-button\" href=\"#belepes\" role=\"button\" class=\"btn btn-outline-ash w-100 text-onyx\" data-action=\"click->auth#onForgottenPasswordLoginButtonClick\">Bel\\xc3\\xa9p\\xc3\\xa9s</a>\\n                <a id=\"forgotten-password-register-button\" href=\"#regisztracio\" role=\"button\" class=\"btn btn-outline-ash w-100 mt-3 text-onyx\" data-action=\"click->auth#onForgottenPasswordRegisterButtonClick\">Regisztr\\xc3\\xa1ci\\xc3\\xb3</a>\\n            </div>\\n        </div>\\n    </div>\\n</div>\\n\\n<div class=\"modal fade rounded-5\" data-auth-target=\"forgottenPasswordSuccessModal\" tabindex=\"-1\" aria-hidden=\"true\">\\n    <div class=\"modal-dialog\">\\n        <div class=\"modal-content border-0\">\\n            <div class=\"row\">\\n                <div class=\"d-none d-sm-flex col-sm-2 p-0 align-items-center justify-content-center bg-forest-light rounded-start\">\\n                    <span class=\"material-icons fs-2 text-bright\">done</span>\\n                </div>\\n                <div class=\"col-12 col-sm-10\">\\n                    <div class=\"modal-header border-0\">\\n                        <button type=\"button\" class=\"btn-close shadow-none\" data-bs-dismiss=\"modal\" aria-label=\"Bez\\xc3\\xa1r\\xc3\\xa1s\"></button>\\n                    </div>\\n                    <div class=\"modal-body d-flex flex-column pt-0 text-tundora\">\\n                        <p class=\"fw-bold fs-5 lh-sm\">Elk\\xc3\\xbcldt\\xc3\\xbck az \\xc3\\xbaj jelsz\\xc3\\xb3 megad\\xc3\\xa1s\\xc3\\xa1hoz sz\\xc3\\xbcks\\xc3\\xa9ges inform\\xc3\\xa1ci\\xc3\\xb3kat.</p>\\n                        <p>Amennyiben n\\xc3\\xa9h\\xc3\\xa1ny percen bel\\xc3\\xbcl nem \\xc3\\xa9rkezik meg az email, ellen\\xc5\\x91rizd a lev\\xc3\\xa9lszem\\xc3\\xa9t (spam) mapp\\xc3\\xa1t.</p>\\n                    </div>\\n                </div>\\n            </div>\\n        </div>\\n    </div>\\n</div>\\n<div class=\"modal modal--stacked fade rounded-5\" data-auth-target=\"notRecommendedEmailsAlertModal\" tabindex=\"-1\" aria-hidden=\"true\">\\n    <div id=\"not-recommended-emails-alert-modal-dialog\" class=\"modal-dialog mw-100 w-25\">\\n        <div class=\"modal-content\">\\n            <div class=\"modal-header border-0\">\\n                <button id=\"close-not-recommended-emails-alert-modal-button\" type=\"button\" class=\"btn-close\" aria-label=\"Bez\\xc3\\xa1r\\xc3\\xa1s\" data-action=\"click->auth#onCloseNotRecommendedEmailsAlertModalButtonClick\"></button>\\n            </div>\\n            <div class=\"modal-body d-flex flex-column text-center p-4 pt-0\">\\n                <span class=\"mb-3 text-cheese material-icons icon-warning\">warning</span>\\n                <p class=\"mb-3\"><strong>Freemail-es, yahoo-s vagy citromail-es email c\\xc3\\xadm eset\\xc3\\xa9n</strong> nem tudjuk garant\\xc3\\xa1lni, hogy rendszer\\xc3\\xbczeneteinket megkapod. Javasoljuk, hogy m\\xc3\\xa1sik email c\\xc3\\xadmmel regisztr\\xc3\\xa1lj.</p>\\n\\n                <div class=\"d-flex flex-column flex-md-row\">\\n                    <button type=\"button\" class=\"btn btn-tomato w-100 mb-3 mb-md-0 me-md-3\" data-action=\"click->auth#onNotRecommendedEmailsAlertEditButtonClick\">M\\xc3\\xb3dos\\xc3\\xadtom</button>\\n                    <button type=\"button\" class=\"btn btn-outline-ash w-100 text-tomato\" data-action=\"click->auth#onNotRecommendedEmailsAlertCancelButtonClick\">M\\xc3\\xa9gsem</button>\\n                </div>\\n            </div>\\n        </div>\\n    </div>\\n</div>\\n\\n<div data-auth-target=\"notRecommendedEmailsAlertModalBackdrop\" class=\"modal-backdrop modal-backdrop--stacked d-none\"></div>\\n<div class=\"modal fade\" id=\"data-protection-info-modal\" tabindex=\"-1\" aria-labelledby=\"data-protection-info-modal-label\" aria-hidden=\"true\">\\n    <div class=\"modal-dialog mw-100 w-75\">\\n        <div class=\"modal-content\">\\n            <div class=\"modal-header\">\\n                <h5 class=\"modal-title\" id=\"data-protection-info-modal-label\">Adatv\\xc3\\xa9delmi t\\xc3\\xa1j\\xc3\\xa9koztat\\xc3\\xb3</h5>\\n                <button type=\"button\" class=\"btn-close\" data-bs-target=\"#auth-modal\" data-bs-toggle=\"modal\" data-bs-dismiss=\"modal\" aria-label=\"Bez\\xc3\\xa1r\\xc3\\xa1s\"></button>\\n            </div>\\n            <div class=\"modal-body d-flex flex-column\">\\n                <span class=\"fw-bold mb-1\">Az adatkezel\\xc3\\xa9s c\\xc3\\xa9lja</span>\\n                <p>Adataidat a szolg\\xc3\\xa1ltat\\xc3\\xa1saink \\xc3\\xa1ltalad t\\xc3\\xb6rt\\xc3\\xa9n\\xc5\\x91 ig\\xc3\\xa9nybe v\\xc3\\xa9tele c\\xc3\\xa9lj\\xc3\\xa1b\\xc3\\xb3l kezelj\\xc3\\xbck. Az adatkezel\\xc3\\xa9s jogalapja a k\\xc3\\xb6zt\\xc3\\xbcnk l\\xc3\\xa9trej\\xc3\\xb6v\\xc5\\x91 szerz\\xc5\\x91d\\xc3\\xa9s teljes\\xc3\\xadt\\xc3\\xa9se. Az adataid t\\xc3\\xb6rl\\xc3\\xa9si hat\\xc3\\xa1rideje: regisztr\\xc3\\xa1ci\\xc3\\xb3d t\\xc3\\xb6rl\\xc3\\xa9s\\xc3\\xa9t k\\xc3\\xb6vet\\xc5\\x91 5. \\xc3\\xa9v.</p>\\n                <span class=\"fw-bold my-1\">Az adatkezel\\xc5\\x91 \\xc3\\xa9s el\\xc3\\xa9rhet\\xc5\\x91s\\xc3\\xa9gei</span>\\n                <p>ingatlan.com Zrt - 1024 Budapest, F\\xc3\\xa9ny u. 16. Adatv\\xc3\\xa9delmi tisztvisel\\xc5\\x91 el\\xc3\\xa9rhet\\xc5\\x91s\\xc3\\xa9ge Balogh L\\xc3\\xa1szl\\xc3\\xb3 +36 1 237 2065 (munkanapokon) 10.00-17.00 <a href=\"mailto:segitunk@ingatlan.com\" class=\"text-tomato\">segitunk@ingatlan.com</a></p>\\n                <p>Az EU \\xc3\\x81ltal\\xc3\\xa1nos Adatv\\xc3\\xa9delmi Rendelete alapj\\xc3\\xa1n hozz\\xc3\\xa1f\\xc3\\xa9r\\xc3\\xa9st k\\xc3\\xa9rhetsz szem\\xc3\\xa9lyes adataidhoz, k\\xc3\\xa9rheted azok helyesb\\xc3\\xadt\\xc3\\xa9s\\xc3\\xa9t, t\\xc3\\xb6rl\\xc3\\xa9s\\xc3\\xa9t, vagy az adatkezel\\xc3\\xa9s korl\\xc3\\xa1toz\\xc3\\xa1s\\xc3\\xa1t, illetve automatiz\\xc3\\xa1lt adatkezel\\xc3\\xa9s eset\\xc3\\xa9n k\\xc3\\xa9rheted, hogy az \\xc3\\xa1ltalad rendelkez\\xc3\\xa9sre bocs\\xc3\\xa1tott adatokat az ingatlan.com Zrt. tagolt, sz\\xc3\\xa9les k\\xc3\\xb6rben haszn\\xc3\\xa1lt, g\\xc3\\xa9ppel olvashat\\xc3\\xb3 form\\xc3\\xa1tumban sz\\xc3\\xa1modra \\xc3\\xa1tadja. Az adatokhoz bizonyos esetben tov\\xc3\\xa1bbi c\\xc3\\xa9gek is hozz\\xc3\\xa1f\\xc3\\xa9rhetnek, err\\xc5\\x91l pontos t\\xc3\\xa1j\\xc3\\xa9koztat\\xc3\\xa1st Adatv\\xc3\\xa9delmi Szab\\xc3\\xa1lyzatunkban tal\\xc3\\xa1lsz. Vizsg\\xc3\\xa1latot kezdem\\xc3\\xa9nyezhetsz a Nemzeti Adatv\\xc3\\xa9delmi \\xc3\\xa9s Inform\\xc3\\xa1ci\\xc3\\xb3szabads\\xc3\\xa1g Hat\\xc3\\xb3s\\xc3\\xa1gn\\xc3\\xa1l arra hivatkoz\\xc3\\xa1ssal, hogy szem\\xc3\\xa9lyes adatok kezel\\xc3\\xa9s\\xc3\\xa9vel kapcsolatban jogs\\xc3\\xa9relem k\\xc3\\xb6vetkezett be, vagy annak k\\xc3\\xb6zvetlen vesz\\xc3\\xa9lye fenn\\xc3\\xa1ll. A NAIH el\\xc3\\xa9rhet\\xc5\\x91s\\xc3\\xa9ge: <a href=\"https://naih.hu/\" class=\"text-tomato\" target=\"_blank\">https://naih.hu/</a></p>\\n                <div class=\"modal-footer\">\\n                    <button type=\"button\" class=\"btn btn-tomato\" data-bs-target=\"#auth-modal\" data-bs-toggle=\"modal\" data-bs-dismiss=\"modal\">Rendben </button>\\n                </div>\\n            </div>\\n        </div>\\n    </div>\\n</div>\\n    </div>\\n<div id=\"registration-success-modal\" class=\"modal fade rounded-5\" tabindex=\"-1\" aria-hidden=\"true\">\\n    <div class=\"modal-dialog modal-lg mt-5 mt-sm-4 mt-lg-5\">\\n        <div class=\"modal-content font-family-secondary\">\\n            <div class=\"modal-header border-0\">\\n                <h5 class=\"modal-title fw-bold\" id=\"registration-success-modal-label\">Majdnem k\\xc3\\xa9sz...</h5>\\n                <button type=\"button\" class=\"btn-close\" data-bs-dismiss=\"modal\" aria-label=\"Bez\\xc3\\xa1r\\xc3\\xa1s\"></button>\\n            </div>\\n            <div class=\"modal-body d-flex flex-column\">\\n                <p>A regisztr\\xc3\\xa1ci\\xc3\\xb3 aktiv\\xc3\\xa1l\\xc3\\xa1s\\xc3\\xa1hoz kattints a linkre, amit emailben k\\xc3\\xbcldt\\xc3\\xbcnk neked. Ezt 3 napon bel\\xc3\\xbcl megteheted.</p>\\n                <div class=\"modal-footer pb-0\">\\n                    <button type=\"button\" class=\"btn btn-tomato\" data-bs-dismiss=\"modal\">Rendben </button>\\n                </div>\\n            </div>\\n        </div>\\n    </div>\\n</div>\\n                \\n                \\n    <div id=\"listing\" class=\"d-none\" data-listing=\"{&quot;strippedPhotos&quot;:[],&quot;photoCount&quot;:0,&quot;photoUrl&quot;:&quot;&quot;,&quot;id&quot;:33441333,&quot;clusterId&quot;:33441333,&quot;type&quot;:&quot;rent&quot;,&quot;rank&quot;:0,&quot;hasRank&quot;:0,&quot;rankSum&quot;:0,&quot;property&quot;:{&quot;areaSize&quot;:30,&quot;atticType&quot;:null,&quot;availableFrom&quot;:&quot;2023-03-08T00:00:00+00:00&quot;,&quot;averageGasConsumption&quot;:null,&quot;averageElectricConsumption&quot;:null,&quot;balconySize&quot;:2,&quot;bathroomToiletSeparation&quot;:null,&quot;buildingFloorCount&quot;:null,&quot;comfortLevel&quot;:&quot;full&quot;,&quot;commonCharges&quot;:null,&quot;condition&quot;:&quot;renovated&quot;,&quot;electricityAvailability&quot;:null,&quot;energyEfficiencyRating&quot;:null,&quot;floor&quot;:null,&quot;furnishment&quot;:&quot;furnished&quot;,&quot;gardenSize&quot;:null,&quot;gasAvailability&quot;:null,&quot;hasAirConditioner&quot;:null,&quot;hasBarrierFreeAccess&quot;:null,&quot;hasBasement&quot;:null,&quot;hasElevator&quot;:null,&quot;hasEquipments&quot;:true,&quot;hasGardenAccess&quot;:null,&quot;innerHeight&quot;:null,&quot;insulation&quot;:null,&quot;insulationThickness&quot;:null,&quot;isPetsAllowed&quot;:false,&quot;isSmokingAllowed&quot;:false,&quot;isGreenHome&quot;:null,&quot;locationId&quot;:80853,&quot;lotCoverabilityPercentage&quot;:null,&quot;lotSize&quot;:null,&quot;orientation&quot;:null,&quot;parking&quot;:null,&quot;parkingPrice&quot;:null,&quot;parkingSpotCount&quot;:null,&quot;participatedInThePanelProgram&quot;:null,&quot;roomCount&quot;:1,&quot;sewerAvailability&quot;:null,&quot;smallRoomCount&quot;:null,&quot;solarPanel&quot;:null,&quot;solarPanelPowerOutput&quot;:null,&quot;streetNumber&quot;:null,&quot;streetNumberCoordinates&quot;:null,&quot;subtype&quot;:&quot;blockOfFlats&quot;,&quot;type&quot;:&quot;flat&quot;,&quot;utilityCosts&quot;:null,&quot;view&quot;:null,&quot;waterAvailability&quot;:null,&quot;yearOfConstruction&quot;:null,&quot;heatingTypes&quot;:null,&quot;minimumRentableArea&quot;:null,&quot;minimumRentalPeriodMonth&quot;:null,&quot;officeCategory&quot;:null,&quot;projectId&quot;:null,&quot;lotRatio&quot;:null,&quot;grossFloorArea&quot;:null,&quot;operationalCost&quot;:null,&quot;isUnincorporatedArea&quot;:false,&quot;withoutGasConnection&quot;:false,&quot;energyEfficient&quot;:false},&quot;description&quot;:&quot;P\\\\u00e1szt\\\\u00f3n a K\\\\u00f6lcsey \\\\u00faton, 30 m2  erk\\\\u00e9lyes, M\\\\u00e1tr\\\\u00e1ra n\\\\u00e9z\\\\u0151 panor\\\\u00e1m\\\\u00e1s egyszob\\\\u00e1s lak\\\\u00e1s kiad\\\\u00f3. \\\\nB\\\\u00e9rleti d\\\\u00edj:90.000.- +rezsi \\\\/ h\\\\u00f3. 2 havi kauci\\\\u00f3 sz\\\\u00fcks\\\\u00e9ges. \\\\nA lak\\\\u00e1s ig\\\\u00e9nyesen, frissen fel\\\\u00faj\\\\u00edtott, ablakai vadonat\\\\u00fajak. \\\\nKis\\\\u00e1llat  \\\\u00e9s gyerek nem hozhat\\\\u00f3, doh\\\\u00e1nyz\\\\u00e1s nem megengedett.&quot;,&quot;referenceId&quot;:null,&quot;minimumRentalPeriodMonth&quot;:null,&quot;isBankClaimOffer&quot;:false,&quot;isRentalRightOffer&quot;:false,&quot;isOutdated&quot;:false,&quot;isActive&quot;:true,&quot;isDeleted&quot;:false,&quot;updatedAt&quot;:&quot;2023-03-08T17:33:45+00:00&quot;,&quot;tenderDocument&quot;:null,&quot;prices&quot;:[{&quot;amount&quot;:&quot;9000000&quot;,&quot;currency&quot;:&quot;HUF&quot;,&quot;interval&quot;:{&quot;y&quot;:0,&quot;m&quot;:1,&quot;d&quot;:0}}],&quot;areaPrices&quot;:[],&quot;photos&quot;:[],&quot;links&quot;:[],&quot;labels&quot;:[],&quot;sellerId&quot;:212356733,&quot;seller&quot;:{&quot;id&quot;:212356733,&quot;realtorsProhibited&quot;:true},&quot;contactPhoneNumbers&quot;:{&quot;listingId&quot;:33441333,&quot;protected&quot;:false,&quot;chunkedNumber&quot;:&quot;+36 30 234 &quot;,&quot;numbers&quot;:[&quot;+36 30 234 7128&quot;]}}\" data-original-listing-save-state=\"false\" data-user=\"null\" data-location-hierarchy=\"{&quot;rootId&quot;:80853,&quot;locations&quot;:[{&quot;id&quot;:80853,&quot;type&quot;:&quot;street&quot;,&quot;name&quot;:&quot;K\\\\u00f6lcsey&quot;,&quot;namePostfix&quot;:&quot;utca&quot;,&quot;slug&quot;:&quot;paszto-kolcsey-utca-80853&quot;,&quot;coordinates&quot;:{&quot;lat&quot;:47.921219999999998,&quot;lon&quot;:19.698229999999999},&quot;bounds&quot;:{&quot;south&quot;:47.919600000000003,&quot;west&quot;:19.696175,&quot;north&quot;:47.921405999999998,&quot;east&quot;:19.699017999999999},&quot;urlPart&quot;:&quot;u:K\\\\u00f6lcsey_utca|80853&quot;,&quot;parentId&quot;:2365,&quot;isOfficeBuilding&quot;:false,&quot;oldName&quot;:null,&quot;usableInAd&quot;:true,&quot;polygon&quot;:&quot;{\\\\&quot;type\\\\&quot;:\\\\&quot;Feature\\\\&quot;,\\\\&quot;geometry\\\\&quot;:{\\\\&quot;type\\\\&quot;:\\\\&quot;MultiLineString\\\\&quot;,\\\\&quot;coordinates\\\\&quot;:[[[19.697303900000001,47.920815099956499],[19.6970499,47.920719599956499],[19.696797400000001,47.920622599956502],[19.6967146,47.920577199956597],[19.696600199999999,47.920492599956603],[19.6964124,47.920296499956599],[19.696245300000001,47.920127999956698],[19.696117900000001,47.919999599956697]],[[19.697178900000001,47.920352299956598],[19.698289899999999,47.919880799956701]],[[19.697303900000001,47.920815099956499],[19.697478,47.920880599956497],[19.697604500000001,47.920916899956502],[19.697952300000001,47.921016799956497],[19.698503599999999,47.921175799956401],[19.6990579,47.921375999956403],[19.6991072,47.921396599956402],[19.699144199999999,47.921427599956402]]]}}&quot;,&quot;inflectionFrom&quot;:&quot;&quot;,&quot;inflectionAt&quot;:&quot;&quot;,&quot;zipCode&quot;:&quot;3060&quot;},{&quot;id&quot;:2365,&quot;type&quot;:&quot;city&quot;,&quot;name&quot;:&quot;P\\\\u00e1szt\\\\u00f3&quot;,&quot;namePostfix&quot;:&quot;&quot;,&quot;slug&quot;:&quot;paszto&quot;,&quot;coordinates&quot;:{&quot;lat&quot;:47.921090999999997,&quot;lon&quot;:19.699835},&quot;bounds&quot;:{&quot;south&quot;:47.902718,&quot;west&quot;:19.683959999999999,&quot;north&quot;:47.935009999999998,&quot;east&quot;:19.749018},&quot;urlPart&quot;:&quot;paszto&quot;,&quot;parentId&quot;:144813,&quot;isOfficeBuilding&quot;:false,&quot;oldName&quot;:null,&quot;usableInAd&quot;:true,&quot;polygon&quot;:&quot;{\\\\&quot;type\\\\&quot;:\\\\&quot;MultiPolygon\\\\&quot;,\\\\&quot;coordinates\\\\&quot;:[[[[19.630219060722,47.921266639943],[19.630802426668,47.923165937287],[19.632533120894,47.92544373794],[19.632545876971,47.926583774446],[19.631991257115,47.928110886777],[19.63200392336,47.929250864495],[19.630345813009,47.932685753931],[19.630375457413,47.935350061751],[19.630950558858,47.936493490876],[19.632093126068,47.937249865066],[19.634365414579,47.937616372768],[19.637767514223,47.937599160806],[19.639459760555,47.937212552149],[19.646228656053,47.93489145525],[19.655273612985,47.933320185574],[19.657528294517,47.932168259953],[19.659193411728,47.929495060478],[19.659760518167,47.929107969885],[19.667103347299,47.927928863614],[19.669370964571,47.927916764829],[19.670495745138,47.927148576507],[19.672191854226,47.927139487234],[19.677842616689,47.925584656216],[19.677847287929,47.925968763418],[19.678994795872,47.927102648573],[19.683520777768,47.927077969063],[19.683525449008,47.927462185561],[19.682400758272,47.928224289773],[19.685226139504,47.927830749011],[19.686392422237,47.930488746263],[19.688130392817,47.933143657752],[19.691002666107,47.936554335835],[19.693294088734,47.938443864182],[19.700599458119,47.934214371287],[19.701185339347,47.935357344052],[19.703463107581,47.936868850775],[19.704044227739,47.93762148821],[19.703477390794,47.938008876165],[19.704620946151,47.938764566202],[19.70520215614,47.939523374526],[19.706336279186,47.939516935324],[19.706893863483,47.939129679029],[19.706326667212,47.938754877167],[19.70632181631,47.938370744565],[19.707455939356,47.9383643654],[19.710824711503,47.936442876963],[19.714183242856,47.932997042301],[19.716451129622,47.932984041897],[19.719295914464,47.934107782418],[19.722698463266,47.934850168428],[19.726115115617,47.935976576657],[19.726120056351,47.936354588366],[19.731238387346,47.937848854057],[19.740286308719,47.936655081931],[19.744797019255,47.934719687411],[19.760597217293,47.930435056781],[19.764005245818,47.931560357412],[19.768540839687,47.931532369647],[19.775324467555,47.930727880467],[19.77702452923,47.930333094763],[19.778143919906,47.929948056923],[19.779833471292,47.928797260024],[19.782081145965,47.928020838361],[19.786054124972,47.927995737939],[19.787734244048,47.926844837404],[19.789419573352,47.926071937942],[19.793943758618,47.925280847733],[19.795066652723,47.924511476519],[19.796757192256,47.924116342375],[19.798442341897,47.923349542367],[19.80014752397,47.923338586279],[19.80295520839,47.921795982025],[19.805224442629,47.922543360718],[19.805229832521,47.92292129003],[19.806369165796,47.923298072812],[19.808074347868,47.92328687592],[19.809202452202,47.92289534435],[19.810273064358,47.919087087743],[19.809710629158,47.918710153882],[19.810251145465,47.917178067977],[19.810806214479,47.916419473598],[19.810769653047,47.914500541405],[19.811882935178,47.91333458917],[19.809551088364,47.908812745996],[19.81182427519,47.90840785744],[19.81183011424,47.908031989886],[19.812934413218,47.90801627348],[19.814077788912,47.907249174619],[19.813501160331,47.907260374983],[19.809498896246,47.904624489285],[19.81173668945,47.902701265468],[19.813442769838,47.901921742077],[19.815703829408,47.901906144263],[19.820720111786,47.899215541303],[19.821283624964,47.897703054621],[19.82240364446,47.896921046807],[19.830322383521,47.896480891188],[19.83033406162,47.896104756335],[19.83260158906,47.896092891028],[19.834842795862,47.896457461891],[19.831759687975,47.898564851616],[19.83377532781,47.899896636733],[19.834330486656,47.899888867634],[19.834901994839,47.899120865378],[19.835462274082,47.899496135156],[19.837175810486,47.899493244306],[19.837187578417,47.900253170869],[19.83774848648,47.900625240529],[19.837742647431,47.900249256234],[19.838309394544,47.900236187373],[19.838404436301,47.900941178449],[19.839451422764,47.901369853619],[19.841187866208,47.901318964437],[19.852314578981,47.893340367423],[19.855144182294,47.890988870346],[19.853444659608,47.890244288664],[19.852287809185,47.890632091704],[19.850610924044,47.89064383779],[19.849477429819,47.890271636162],[19.848899094439,47.889119775949],[19.847748083065,47.887995359297],[19.847748083065,47.887611391863],[19.847169657854,47.887227361343],[19.847716821693,47.886089288999],[19.848262727892,47.885691451756],[19.848241168325,47.883049949428],[19.847647741248,47.881909556177],[19.844772054361,47.878496058355],[19.843608017415,47.8766055452],[19.8413060845,47.875844187021],[19.838504867949,47.875485074659],[19.836204282507,47.874358253085],[19.831694380454,47.874395069042],[19.831147575941,47.874016243037],[19.830562323533,47.874780881833],[19.829466828044,47.875172777439],[19.828873490799,47.875178863125],[19.826618539773,47.876311692154],[19.825561312515,47.87556575465],[19.823284981585,47.87824077653],[19.820459690185,47.880207745631],[19.819354043733,47.880559053261],[19.819925821412,47.881691162192],[19.816513031816,47.883657638827],[19.816012041382,47.884386953085],[19.813778919417,47.8855560876],[19.810354811049,47.885960191028],[19.806945794377,47.88596838391],[19.803561211881,47.886763147473],[19.80245619425,47.886390978197],[19.800213280648,47.887533441428],[19.799076911814,47.888713287629],[19.797366789008,47.889852085401],[19.797987165543,47.890567759248],[19.797439642377,47.890982846752],[19.796889783592,47.892105271036],[19.789570759814,47.896717773433],[19.789583066734,47.897127391051],[19.788410046636,47.897119139706],[19.788507783339,47.897496050159],[19.786210611494,47.899060638873],[19.784524473706,47.899814368542],[19.784512256618,47.900576157359],[19.783962308001,47.900977553945],[19.783986832008,47.901354376086],[19.7806144666,47.902894337819],[19.7806144666,47.903279336149],[19.778903894636,47.903680771998],[19.777249826704,47.904821649412],[19.776675174416,47.904831886784],[19.776092167797,47.904456053481],[19.77496154818,47.904466893127],[19.774393363763,47.904088347244],[19.771607508404,47.903736175441],[19.768154384452,47.9029913555],[19.76753301977,47.900887157176],[19.767482534451,47.896455594774],[19.765828825844,47.895713741834],[19.763442361461,47.893473663311],[19.761771854358,47.893121539764],[19.759522383055,47.8912637864],[19.759411081792,47.888204148677],[19.758869936664,47.886667846369],[19.75773707126,47.886674774078],[19.756037009584,47.886301037891],[19.751464584788,47.88328635091],[19.750296056267,47.880628940964],[19.750285815472,47.879866858672],[19.749703797,47.878346094745],[19.746264956261,47.875324377096],[19.745693178582,47.874565591058],[19.746234593204,47.873037983019],[19.740019778574,47.873837343647],[19.738911257513,47.874984181061],[19.737783692169,47.875375050809],[19.736650916595,47.875381739013],[19.733277742704,47.877304049554],[19.732715936325,47.877307483909],[19.731593132051,47.878076171202],[19.729903580665,47.878464185852],[19.729332521639,47.878467439379],[19.729327670736,47.878089546911],[19.72762814805,47.877715387271],[19.716895975351,47.879680086854],[19.713526125226,47.881223765846],[19.710127618843,47.881243165469],[19.705072708907,47.884320685073],[19.70451099236,47.884323757501],[19.702816410408,47.885095593804],[19.700564513654,47.885486146302],[19.697746318945,47.886264170152],[19.697161156369,47.885127341742],[19.695457052275,47.884374663387],[19.695447619964,47.883612575954],[19.6925873841,47.880964039139],[19.692002221523,47.879820949017],[19.688585389509,47.878321753483],[19.684569830357,47.873770881372],[19.674956060187,47.87382324377],[19.673827955853,47.874213579977],[19.660820350539,47.874660974683],[19.660824842115,47.875045158623],[19.659709853184,47.876569152582],[19.660294297108,47.877712434954],[19.660391854148,47.886083264836],[19.657015266658,47.888009575796],[19.654775676823,47.890301573825],[19.6536470335,47.890691665415],[19.651965207626,47.891840539155],[19.649725348296,47.894138692031],[19.648095624708,47.899853936788],[19.646988540951,47.902146193503],[19.646426465078,47.902149084204],[19.645863940047,47.902914090657],[19.645868251961,47.903292042912],[19.647559240651,47.902905358458],[19.648696867127,47.903277469279],[19.648727320015,47.905941786509],[19.646513332166,47.909763956693],[19.643138990464,47.912061554877],[19.642009718321,47.912451482533],[19.637510685883,47.914760882638],[19.635822751464,47.916287561329],[19.63133153437,47.919358784253],[19.630219060722,47.921266639943]]]]}&quot;,&quot;inflectionFrom&quot;:&quot;p\\\\u00e1szt\\\\u00f3i&quot;,&quot;inflectionAt&quot;:&quot;P\\\\u00e1szt\\\\u00f3n&quot;,&quot;zipCode&quot;:&quot;3060&quot;},{&quot;id&quot;:144813,&quot;type&quot;:&quot;microRegion&quot;,&quot;name&quot;:&quot;P\\\\u00e1szt\\\\u00f3i&quot;,&quot;namePostfix&quot;:&quot;j\\\\u00e1r\\\\u00e1s&quot;,&quot;slug&quot;:&quot;paszt\\\\u00f3i-jaras&quot;,&quot;coordinates&quot;:{&quot;lat&quot;:47.843502000000001,&quot;lon&quot;:19.635363999999999},&quot;bounds&quot;:{&quot;south&quot;:47.687812999999998,&quot;west&quot;:19.415585,&quot;north&quot;:47.999189999999999,&quot;east&quot;:19.855145},&quot;urlPart&quot;:&quot;paszt\\\\u00f3i-jaras&quot;,&quot;parentId&quot;:21,&quot;isOfficeBuilding&quot;:false,&quot;oldName&quot;:null,&quot;usableInAd&quot;:true,&quot;polygon&quot;:&quot;{\\\\&quot;type\\\\&quot;:\\\\&quot;MultiPolygon\\\\&quot;,\\\\&quot;coordinates\\\\&quot;:[[[[19.41558405089828,47.77135953644272],[19.4161099246656,47.77851226795187],[19.42084287840304,47.780407383721325],[19.426852877148388,47.79658869187283],[19.44641288397633,47.80252564038915],[19.42502327840922,47.81665963896767],[19.427291614333146,47.81741438653635],[19.426168360901883,47.818558189424714],[19.425607273175427,47.818560059348684],[19.425609968121275,47.81894417649645],[19.42503962774739,47.81894604640653],[19.425047892248003,47.82008613613269],[19.426190369626347,47.82160673956629],[19.42619584934958,47.822368954683434],[19.42676897450085,47.82274508203615],[19.426774454224084,47.82350715981061],[19.42791154171072,47.82426566790106],[19.427919896042862,47.82540576143004],[19.427354945560676,47.82616979041602],[19.42681299194977,47.8288359632399],[19.423992641283753,47.830747456343516],[19.422883671065502,47.832653391403205],[19.42175736336228,47.833419243393486],[19.42176275325398,47.834181345358644],[19.420639050665073,47.8353313515935],[19.422362019380017,47.83950838963703],[19.424625953559055,47.839500973254964],[19.426903631961938,47.841402064790834],[19.427470558737745,47.84215615116511],[19.42690911168517,47.842157959946306],[19.427473343515125,47.8425403348751],[19.4280439533836,47.84253846581498],[19.429175022157835,47.843674841945166],[19.428619144660026,47.84443884314157],[19.42975677113583,47.84519728648179],[19.429762250859067,47.84595933602966],[19.430326482689015,47.84633559386526],[19.42977051535968,47.84709955587233],[19.431466983773735,47.84747803603803],[19.43486602914579,47.84784475765457],[19.442236885715047,47.85124646990088],[19.442807585415046,47.851244540872315],[19.443945571216968,47.85200288469696],[19.445077717969543,47.85199896641476],[19.447327189272507,47.85122904835903],[19.449591572609187,47.85122127195957],[19.4495944472181,47.85159917951186],[19.451297383502204,47.851593271901834],[19.454690679656437,47.852343593272316],[19.45808738940875,47.85233153709767],[19.458090353849187,47.8527157660051],[19.458654855173727,47.85309179398676],[19.459222590433292,47.85271178749633],[19.459784037485868,47.85270973796139],[19.459787091757832,47.85308763466683],[19.46205156492604,47.85307967770605],[19.462048510654075,47.85270166038172],[19.46543605759049,47.85268948372938],[19.466015830274863,47.853827566404384],[19.468280393274597,47.85381936844053],[19.466598657231195,47.85648984688892],[19.466037030515565,47.8564919565505],[19.466043139059497,47.85725408124832],[19.4671845384595,47.85839007470446],[19.46719379110693,47.85953634986998],[19.467758382263,47.85991226811869],[19.468902925766493,47.86143248819111],[19.468909034310425,47.86219454026626],[19.46835046186676,47.86257453753049],[19.46891217841392,47.86257254865436],[19.468353516138727,47.86295875080619],[19.467791889423093,47.86410094732301],[19.46836573322659,47.86447689273968],[19.468368877330086,47.864860971382804],[19.470633709824405,47.86599288093651],[19.470655269391223,47.8686572485514],[19.471232257298215,47.86941726606447],[19.471806280764767,47.870939436987726],[19.471821641956126,47.87284166597169],[19.472395755254208,47.87322375442005],[19.47295432769787,47.87283756849317],[19.475219609349832,47.87282925302105],[19.47466103690617,47.87321543900992],[19.475787524272455,47.873589269608296],[19.476367835945997,47.87472725505161],[19.475244492683203,47.87587774823368],[19.474682776136046,47.87587973659927],[19.474133456339807,47.87854624696351],[19.473019186061386,47.88083059055724],[19.473596353631432,47.881590670525746],[19.471330622821824,47.88159898459183],[19.46963909514183,47.881989262221644],[19.466240409095892,47.88200155248518],[19.466805269746544,47.882377548795034],[19.466817486834408,47.88390174879004],[19.46625568045572,47.8839037368477],[19.467968677871006,47.88618404899434],[19.46853973689712,47.88618194054116],[19.46854279116909,47.8865599547049],[19.467986913671275,47.88846426075458],[19.465186325941502,47.89190089452898],[19.465189380213474,47.89228507109873],[19.465751366255212,47.892283083362756],[19.463512495072603,47.89457127835907],[19.46351545951304,47.89495543511777],[19.461817194468413,47.89572367985459],[19.461820158908854,47.89610168460572],[19.461261137307545,47.896481674172115],[19.46126715601995,47.89724375294174],[19.46070822425017,47.897629877403844],[19.46071424296257,47.898392059728074],[19.46014309410493,47.898394047229544],[19.45958694711253,47.899158145549976],[19.460154951866677,47.89991205447639],[19.460160970579082,47.90067426342845],[19.458477527736644,47.9022044892868],[19.457909343319436,47.90259063697441],[19.457347267446163,47.902592684537126],[19.45678195763787,47.903350578292034],[19.45791823664075,47.90373075554111],[19.45907841083019,47.90715318860956],[19.460211815224167,47.90714915406197],[19.46079518116967,47.90867136052432],[19.461925351628622,47.9094232642588],[19.46192831606906,47.90980737103235],[19.465307508673334,47.90713084805099],[19.468142591710016,47.90788277416612],[19.471545859163896,47.90824834589379],[19.472685461933338,47.90900633748621],[19.472682407661367,47.90862836673965],[19.473247537806607,47.9090042901772],[19.473818956158834,47.909002182653126],[19.473250681910102,47.90938225817836],[19.473821920599274,47.90938015066967],[19.474387230407572,47.909762270698266],[19.474390374511067,47.91014029337741],[19.474961613200236,47.9101381858996],[19.47439342878303,47.910524394829245],[19.47496475730373,47.91052228736707],[19.4749678115757,47.910900244281954],[19.475529977280498,47.91089813683509],[19.475533121383997,47.91128235308687],[19.476095287088793,47.91128024565556],[19.47609834136076,47.91165813682292],[19.476669759712987,47.91165608961881],[19.47723506952129,47.91203819284279],[19.477238033961726,47.91241613868642],[19.477806308210457,47.91203608544227],[19.477809452313952,47.912413971090274],[19.479505112244254,47.91240776935637],[19.47950825634775,47.91278565229021],[19.480070332221022,47.91278354492013],[19.480067277949058,47.9124056619709],[19.480638696301284,47.91240349437432],[19.480635552197793,47.91202554843835],[19.48120077217456,47.91240138698867],[19.481197628071065,47.912023441037306],[19.482902540648798,47.912017058622205],[19.483461472418576,47.911630740408185],[19.484032890770806,47.911628693202985],[19.48402965683578,47.9112506813959],[19.484594966644078,47.911626585785775],[19.485157132348878,47.911624357944646],[19.485725316766086,47.91124423867312],[19.48685881099159,47.911239963594944],[19.48855123698687,47.91084948489499],[19.490240339215596,47.91008086247013],[19.490814991502848,47.91046285689847],[19.49137715720765,47.91046068922051],[19.49306572044721,47.90855195332831],[19.493627886152012,47.90854978557032],[19.49363435402206,47.909305665236246],[19.494774226286076,47.9100634607022],[19.49592406984975,47.91196744434964],[19.494800277429317,47.913111992565106],[19.494245028752204,47.91501634571582],[19.496528456372907,47.916909791743585],[19.498256365821913,47.91956744716713],[19.498821945124792,47.91994949197219],[19.49940378393432,47.922227374056455],[19.500547429122527,47.92336928739923],[19.502262582494495,47.92450268776699],[19.503406946334938,47.92678458296207],[19.503423475336167,47.928686747503995],[19.503998397118,47.92906246503212],[19.504570623953988,47.930206454526434],[19.50458382918866,47.93172449180217],[19.50403477888701,47.933250970850615],[19.50406136901942,47.936299340210454],[19.50520860746877,47.937819064253134],[19.51033412498537,47.94084116744817],[19.510896650016285,47.9408388806871],[19.510900063614365,47.94122305512801],[19.51147507522773,47.94159868157503],[19.51147830916275,47.94197665218016],[19.51260335922458,47.94197213893497],[19.512610096589214,47.94273427001986],[19.514322734678387,47.943489590112215],[19.514888673307382,47.943871458227434],[19.51489199707393,47.94424935204079],[19.51772285802878,47.94423797916221],[19.51772627162686,47.944615870296055],[19.518297959473674,47.944613583701965],[19.518857070906506,47.944233345766506],[19.51886048450459,47.94461123693423],[19.51942875875332,47.94423105915549],[19.51943908937909,47.945371042549326],[19.520005028008086,47.94575295693745],[19.520011855204242,47.946515092451136],[19.520587046480667,47.94689068044408],[19.520015268802325,47.94689296693743],[19.520590460078743,47.94727487008021],[19.520600790704513,47.94841484651257],[19.5211632259039,47.948412560086524],[19.521187390585045,47.95107683965993],[19.521762581861463,47.95145245466836],[19.52232519672391,47.95145016837671],[19.522332023920068,47.95221228004534],[19.52347333348854,47.95296974786204],[19.52403594835099,47.95296746163753],[19.525756042457022,47.95448459002409],[19.526898519835363,47.95638218618539],[19.530316070502263,47.9578922359785],[19.533151153538945,47.95825835669802],[19.539418429781662,47.961658475171184],[19.545105753676953,47.96315856598731],[19.547955838578883,47.96504856546131],[19.548525729795124,47.96580819090848],[19.54796302510115,47.96581053671368],[19.54852941288779,47.966192360202335],[19.54797039128648,47.966572677169346],[19.547977667640282,47.96733474623204],[19.546842915773382,47.967339678291964],[19.546850192127188,47.968101736037795],[19.546278234785788,47.96810426217738],[19.546281828046922,47.96848215923681],[19.545722716614083,47.96886877459877],[19.545159922088583,47.968871180410254],[19.545163515349724,47.96924907185817],[19.544591558008324,47.96925153779678],[19.544598834362127,47.97001368762104],[19.54803578863917,47.97342536107096],[19.548609452779605,47.97456295643731],[19.549748067402227,47.974942249553756],[19.550882819269127,47.974937258081646],[19.550879136176462,47.974553153835295],[19.552003018428422,47.97340816103327],[19.55199574207462,47.97264606130519],[19.55255485350746,47.97226578906069],[19.55312681084886,47.972263263124674],[19.55480603160946,47.97034748549374],[19.555368736303436,47.97034507975103],[19.55593719021523,47.96996454998626],[19.556503578001863,47.97034008783453],[19.557068169157933,47.969581671783764],[19.557630963683433,47.96957914571646],[19.55875825953347,47.96881217785121],[19.56102776326727,47.96880219372141],[19.561586695037054,47.9684154575694],[19.56215865237845,47.96841299159087],[19.5627102179629,47.96727044896882],[19.564979542033644,47.96726034424664],[19.564975769109452,47.96687618289634],[19.565542336559144,47.967257878212955],[19.565538563634952,47.9668736566967],[19.566661996729273,47.96572855376604],[19.56665813397355,47.96535063655897],[19.566095429279574,47.965353162833104],[19.566091656355383,47.9649689872975],[19.566654361049356,47.96496646100458],[19.566650677956687,47.96458853822157],[19.567785250160536,47.96458348559838],[19.56778147723634,47.96419936448889],[19.568916049440183,47.9641942516769],[19.570621051849443,47.96494865665095],[19.571192919359312,47.96494619050689],[19.571196782115035,47.965330245913236],[19.571759486809004,47.9653277797874],[19.572905557448486,47.966462666428804],[19.572358034282818,47.967989382847925],[19.572936189999673,47.96951106214141],[19.575779896863086,47.97063827881894],[19.575787532543,47.97140034803574],[19.57523246352894,47.97216499208925],[19.57580666665855,47.973302434801646],[19.577525053965545,47.974434740661465],[19.579207328998113,47.97290893646411],[19.580901012634794,47.97251705893607],[19.582035854333217,47.97251188680639],[19.582039717088943,47.97289594609647],[19.584324941340217,47.974403588750405],[19.584328893927463,47.97478769410934],[19.585471550968865,47.97554447012901],[19.586610255423015,47.975917140957215],[19.587735934305545,47.975911969168095],[19.591704691230785,47.97513138389421],[19.593394422280213,47.974361250987876],[19.59509205850414,47.97435325251463],[19.59508819574842,47.973975338276496],[19.597361741901,47.97434254778911],[19.59736973690703,47.975104682617555],[19.595171649238313,47.98196795975066],[19.59406043323186,47.984259584663654],[19.59578367144139,47.98577579409884],[19.5952114446054,47.98577837949943],[19.59521548702418,47.98615638772131],[19.592961074987155,47.9876911796854],[19.593537164578862,47.988066468366775],[19.59354515958489,47.98882858097586],[19.595251239972487,47.98958268621721],[19.595815471802446,47.9888178792516],[19.598060541360518,47.987282940420904],[19.60088691073894,47.985751563477784],[19.60088286832016,47.98536735930603],[19.602588948707762,47.98612139487034],[19.6003388485841,47.98803436271321],[19.611697326699563,47.98950398755646],[19.611149713702364,47.9917930535136],[19.612844834643496,47.99063858337913],[19.61398003566804,47.99063299222518],[19.614526480855368,47.98910604344575],[19.61564928512899,47.98796059178187],[19.61790297851379,47.98642526670574],[19.6190380897068,47.98641967509533],[19.620723688505926,47.98527127775315],[19.624725323770562,47.98829998529106],[19.624166571663842,47.98868074066716],[19.624174925995984,47.98944278408418],[19.62473799001607,47.989439958381844],[19.625305096454937,47.989815174226045],[19.62758385283616,47.99056595845056],[19.629273583885592,47.989795394449146],[19.630412917160434,47.9901738542148],[19.630417139242272,47.99055177012477],[19.632154391170232,47.993207384003156],[19.633852566383332,47.99319884739711],[19.63670759201932,47.99509273700156],[19.63784288287539,47.995087086215456],[19.640109062842637,47.994691349304524],[19.642942618743337,47.99467686153684],[19.645204486797223,47.99390317276447],[19.64577186273067,47.994284487958105],[19.64634417939818,47.994281482173804],[19.650343568874614,47.99692518215838],[19.6503523723644,47.99768728416893],[19.65092855178763,47.9988243449283],[19.65320362507619,47.99919047604429],[19.65603304872658,47.99879777612693],[19.656600963649204,47.99841679484136],[19.658853579055663,47.99764286158897],[19.66112425059933,47.99763083923329],[19.662250648134087,47.99686284534665],[19.662800237424914,47.99571365844104],[19.663368062516003,47.9953326543812],[19.66505734440779,47.99456156040256],[19.6656296610753,47.9945585546344],[19.666751207707527,47.994174536254604],[19.66791802943007,47.99683278899778],[19.66905781186256,47.99720458480195],[19.669062393270508,47.99758876096632],[19.67018861114221,47.99682058611514],[19.67295874598385,47.991477069254316],[19.676355276073107,47.99069653896071],[19.67748122445022,47.989928381739475],[19.679174728423842,47.98953507023513],[19.680296185224535,47.988388846500165],[19.68029151398506,47.98801097487434],[19.680849816934142,47.987623661102084],[19.681980436550734,47.98723959111348],[19.68536268342697,47.98531883754291],[19.686493033548977,47.9849284371124],[19.687060678977012,47.985309578118255],[19.691563484338662,47.98223613899688],[19.691558723267658,47.98185828245575],[19.690433044385127,47.98262036647546],[19.689851654733243,47.98186766275982],[19.69041444925875,47.981102440813984],[19.6887025298218,47.979965590850696],[19.687563016883896,47.97959385123577],[19.68812114016992,47.97920665470155],[19.68810721628301,47.97806663599256],[19.688679353287466,47.97806344885993],[19.69039109306136,47.979194146984376],[19.691540038309746,47.98033408066448],[19.69324252543621,47.98070256784807],[19.69493575991525,47.980315139101435],[19.695503046017173,47.979927887844475],[19.699480247106077,47.98066775169439],[19.700615268467565,47.98066137775006],[19.705689312518384,47.97835257511058],[19.717470447975032,47.96876797099676],[19.718047795208133,47.969904646515126],[19.719759355318963,47.97027278713015],[19.721471544250498,47.97140918895901],[19.721466693347963,47.971025058468605],[19.72485127584394,47.96948105000695],[19.72937105936446,47.96869874358811],[19.729938075971795,47.968311284910186],[19.731072738007168,47.96830454856472],[19.73793173452753,47.97283069350589],[19.740774273581074,47.973575891226226],[19.741342008840636,47.973956634937956],[19.74134703940623,47.97433466959081],[19.741929237541864,47.975093256391354],[19.74306407924029,47.975086460792454],[19.743069019974357,47.97546448717369],[19.74420395150431,47.97545769162365],[19.744771866426934,47.97583836132262],[19.745343823768334,47.97583499364091],[19.74591173869095,47.97620958674791],[19.746489894407812,47.977352352555506],[19.748196783279166,47.97734206939969],[19.749848515592078,47.9739055765934],[19.749275659935396,47.97314697234436],[19.749255268178445,47.97162275393124],[19.748678190439925,47.97124824783313],[19.748642527323145,47.96858404601784],[19.749214484664545,47.968580677863],[19.750324622692663,47.96742767337937],[19.75031959212707,47.96704964830955],[19.749751677204447,47.96666897396753],[19.750860827085752,47.96475996621529],[19.751403050191247,47.96323249266649],[19.75083531493168,47.962857865572914],[19.751964856569934,47.962473069950974],[19.751959646341284,47.962088993300874],[19.751387778831415,47.962092482185405],[19.753641562047743,47.96093867116158],[19.75534898990827,47.9616903566144],[19.7656548221738,47.96923626100445],[19.765649791608208,47.96885824917219],[19.766216448889434,47.96847674612003],[19.767356321153454,47.96884778388879],[19.767898184932832,47.96732007034365],[19.769574531084533,47.96578539448826],[19.76955881056706,47.96464538019832],[19.770656731507305,47.961974160745555],[19.771780793422327,47.961204974549304],[19.772336940414725,47.96006149045751],[19.773451659850785,47.95929233593883],[19.775725834824065,47.959656040496],[19.77684459667891,47.958508972835695],[19.778541693913667,47.95849826482586],[19.780258643916202,47.959249685005126],[19.783090223523274,47.95923175836804],[19.78706167539437,47.95958457509874],[19.788753472568953,47.9591957847621],[19.790995487855056,47.957279161445165],[19.79381062829243,47.956114835215004],[19.79604707402377,47.95382015620333],[19.79603611457731,47.953058068247664],[19.79546801999163,47.95267759161443],[19.796025244962372,47.95229608938182],[19.796587859824815,47.95229235917735],[19.797154157779925,47.95191079393566],[19.799422853029967,47.95189617383015],[19.800551676015992,47.95150467835533],[19.801114290878434,47.95150094809372],[19.80167133618612,47.951119377008446],[19.802778240279213,47.949209975116496],[19.803344448402797,47.9488220694098],[19.80332252950986,47.947297975520925],[19.802166487570723,47.94578737542653],[19.802160918015964,47.945403174733556],[19.802717963323644,47.94502155862623],[19.802712483600413,47.94463747258791],[19.804412814770195,47.94424844943146],[19.80496977024635,47.94386056666095],[19.807238196001805,47.94384576375478],[19.807205048167823,47.9415657647238],[19.80830602338004,47.93927206450863],[19.808862978856194,47.93889046331766],[19.808835220913917,47.93698217438351],[19.809401429037496,47.93660043592516],[19.809390379759503,47.93583833477929],[19.810492971939233,47.93430687652588],[19.80993053673984,47.934310547842934],[19.8115881081021,47.931635171941785],[19.812154136562626,47.93125345419625],[19.81271648193048,47.93124978266216],[19.813276940836243,47.930483991254995],[19.814978619478953,47.93085066729481],[19.815535485123576,47.93046906413855],[19.815524256182524,47.92970699300527],[19.81609028464305,47.929325261027266],[19.81665254017938,47.929321468973626],[19.816641490901386,47.928559380929784],[19.817207339698854,47.92817144063665],[19.817775254621473,47.92855185690211],[19.818903448786802,47.92816024479911],[19.82003721250689,47.92815266052069],[19.820605217261036,47.92853307692429],[19.822282461728015,47.92661965036508],[19.8205535641322,47.92548394874757],[19.81942447165159,47.92548647697095],[19.81829654698085,47.9247378766695],[19.817702670746513,47.92357865651373],[19.816562528987912,47.92322457058671],[19.816575374896477,47.9228456803089],[19.81598697838538,47.92285127880318],[19.814872618275423,47.92361573847673],[19.81316671755088,47.92324774697534],[19.811468272843197,47.92325569316334],[19.81033118535656,47.92251825763809],[19.809760575488085,47.92289383937964],[19.809202452202065,47.92289534434988],[19.810273064357673,47.91908708774279],[19.80971062915829,47.918710153882145],[19.810251145464743,47.917178067976536],[19.810806214478802,47.91641947359773],[19.81076965304674,47.91450054140498],[19.81188293517835,47.91333458916972],[19.809551088363833,47.90881274599575],[19.811824275190293,47.908407857439535],[19.81183011423964,47.90803198988587],[19.812934413218407,47.90801627348045],[19.814077788912034,47.90724917461943],[19.81350116033116,47.90726037498289],[19.809498896245824,47.90462448928511],[19.811736689450093,47.90270126546762],[19.81344276983769,47.90192174207745],[19.815703829407823,47.90190614426313],[19.820720111785874,47.89921554130329],[19.821283624963602,47.89770305462122],[19.82240364445984,47.89692104680701],[19.830322383520883,47.89648089118808],[19.830334061619578,47.896104756334736],[19.832601589059752,47.8960928910275],[19.8348427958621,47.89645746189111],[19.831759687975477,47.89856485161617],[19.83377532780998,47.89989663673325],[19.834330486655567,47.899888867634374],[19.834901994839324,47.899120865378116],[19.83546227408203,47.89949613515616],[19.83717581048649,47.89949324430644],[19.83718757841671,47.90025317086878],[19.837748486480116,47.90062524052916],[19.83774264743077,47.90024925623367],[19.83830939454352,47.90023618737275],[19.838404436300582,47.90094117844893],[19.839451422764217,47.901369853618576],[19.841187866208426,47.9013189644367],[19.852314578980582,47.89334036742254],[19.855144182294033,47.89098887034576],[19.853444659608005,47.89024428866397],[19.852287809185118,47.89063209170414],[19.850610924044254,47.890643837790066],[19.84947742981875,47.890271636162105],[19.848899094438835,47.88911977594929],[19.84774808306529,47.887995359296674],[19.84774808306529,47.887611391863345],[19.847169657853847,47.887227361343164],[19.847716821693403,47.886089288999266],[19.848262727891562,47.885691451756266],[19.848241168324748,47.88304994942787],[19.847647741248057,47.88190955617711],[19.844772054360533,47.878496058355125],[19.84360801741537,47.87660554519966],[19.841306084499813,47.87584418702096],[19.83850486794934,47.875485074658776],[19.836204282506714,47.87435825308484],[19.831694380454323,47.87439506904246],[19.831147575940875,47.87401624303702],[19.83056232353327,47.87478088183331],[19.82946682804429,47.87517277743859],[19.82887349079913,47.87517886312497],[19.826618539772934,47.876311692153905],[19.825561312515052,47.875565754649536],[19.823284981585093,47.87824077652971],[19.820459690185007,47.88020774563062],[19.819354043733313,47.880559053261216],[19.81992582141165,47.88169116219166],[19.81651303181576,47.88365763882679],[19.816012041381803,47.88438695308507],[19.81377891941701,47.885556087600264],[19.810354811048533,47.88596019102833],[19.806945794376826,47.885968383909585],[19.80356121188085,47.886763147473104],[19.802456194249853,47.88639097819659],[19.800213280648467,47.88753344142808],[19.799076911814055,47.888713287629194],[19.797366789007675,47.8898520854006],[19.79798716554289,47.89056775924789],[19.797439642377217,47.89098284675242],[19.79688978359181,47.892105271036364],[19.789570759814442,47.89671777343321],[19.789583066733837,47.89712739105112],[19.788410046635832,47.8971191397063],[19.788507783338744,47.89749605015936],[19.786210611494198,47.89906063887251],[19.784524473705904,47.89981436854184],[19.78451225661804,47.90057615735867],[19.7839623080011,47.90097755394535],[19.783986832008356,47.90135437608572],[19.780614466600245,47.90289433781865],[19.780614466600245,47.90327933614935],[19.778903894636223,47.903680771997564],[19.777249826703574,47.9048216494121],[19.776675174416326,47.904831886783654],[19.776092167796925,47.904456053481006],[19.774961548180336,47.90446689312737],[19.774393363763128,47.904088347243544],[19.771607508404017,47.90373617544051],[19.768154384451865,47.902991355499864],[19.76753301976984,47.90088715717613],[19.76748253445087,47.89645559477444],[19.765828825844338,47.89571374183394],[19.76344236146054,47.89347366331082],[19.761771854358194,47.89312153976387],[19.759522383055234,47.89126378639999],[19.75941108179153,47.88820414867671],[19.76403453089583,47.8892885628413],[19.765719321211204,47.888897075200475],[19.76565338486935,47.886595557171624],[19.766743759961212,47.88434207157732],[19.762757396056404,47.88013948407046],[19.763864569644078,47.87711955807438],[19.763244372771922,47.87562986472438],[19.763222184384407,47.87215238116758],[19.764266745396778,47.86948258896521],[19.76260638925714,47.86689648644187],[19.76025558799013,47.864544994134555],[19.75745032902088,47.86309037709939],[19.750594027446365,47.86009386754041],[19.748828209092373,47.85777985878488],[19.74594506618799,47.855891543400936],[19.743737725871853,47.854780751703665],[19.742027153907834,47.85327185002377],[19.73634225546381,47.85024975539381],[19.731708296070686,47.845698950263746],[19.729991076573558,47.8426761731614],[19.727749061287454,47.84117144131943],[19.725458986133646,47.84117144131943],[19.724909396842822,47.84078977983213],[19.726115834269397,47.84001668061344],[19.721923576501467,47.83456986953351],[19.722241580112048,47.83050574946844],[19.719330948759968,47.829239544060265],[19.71930651458424,47.827468155527974],[19.71850036644827,47.826631652184396],[19.716423641174444,47.82561468237727],[19.71566519358006,47.823521273373416],[19.720697196475587,47.81802278519761],[19.716870463196763,47.81838519100604],[19.709962957651054,47.815770238844536],[19.708757688034353,47.815583477360775],[19.70741326938014,47.81629957370219],[19.704202870217756,47.81584039487434],[19.696530539039145,47.81897668879419],[19.690619714301167,47.81998835998886],[19.6865054302999,47.82026063683742],[19.684100909778895,47.811308289542616],[19.66676019086037,47.81032076209014],[19.66780726715554,47.802773873428684],[19.665725870642234,47.800424059428714],[19.66386707665633,47.8001645916437],[19.662442258784193,47.80025335390855],[19.661837512934923,47.80152943801406],[19.662698458303222,47.80303785354386],[19.6577205339878,47.80286184683668],[19.65868128218417,47.80514958583695],[19.656978256068534,47.80509087916199],[19.65662899108607,47.807055736815734],[19.652742789335438,47.80831687248145],[19.653790763945892,47.81063357063698],[19.65610886653656,47.81127185108459],[19.653293276941547,47.81341335136097],[19.648783734215268,47.81190994270384],[19.632544080340484,47.80583698598518],[19.635672014159788,47.80169995832206],[19.63617974195837,47.7975096790091],[19.63955686843749,47.79369147682834],[19.64120186338577,47.791380480647874],[19.641196383662535,47.78834277021343],[19.642238609055173,47.78453415559007],[19.642812542690198,47.78413366778151],[19.64282359196819,47.783013975622026],[19.643397435771686,47.7830287641662],[19.642781550812895,47.782634059497845],[19.645600643837515,47.78032365817562],[19.642764752317078,47.778069838961784],[19.64106513979953,47.773194842005026],[19.639275066932864,47.7712016557223],[19.638717482636007,47.76933506476377],[19.6426086251207,47.76814749018782],[19.640358794491625,47.76550054253568],[19.639200147438164,47.76320544210064],[19.63464577877921,47.759456038926515],[19.631253380940258,47.75531386918891],[19.629499240684957,47.754137993082004],[19.626129031233525,47.75603979484456],[19.625566326539552,47.75758026974911],[19.622772655837473,47.75949287605884],[19.617702923700016,47.76143506182274],[19.613222396557415,47.76259646175405],[19.612076954738633,47.76222267653315],[19.6114745445091,47.759925076333566],[19.610953431812785,47.759564436642975],[19.60868006532326,47.758813860858744],[19.607517465682555,47.75766034807408],[19.601832028249362,47.755397393430094],[19.599547073492676,47.75161904054421],[19.598964785525506,47.75123666029437],[19.59785168305696,47.75123056006544],[19.592793090029023,47.74898188241104],[19.59219382390299,47.748986352078894],[19.591055748269536,47.748611079845105],[19.587657691044296,47.74673177871877],[19.58535189537302,47.74594193615703],[19.5774284850725,47.73952894460259],[19.57113255257222,47.734987947343434],[19.570030858707778,47.735385490726905],[19.570038494387692,47.735771974902974],[19.567222994624203,47.7376818787387],[19.561074295998992,47.739607540411114],[19.558203729508584,47.74114844133898],[19.554882029082496,47.74192428131582],[19.55314226187174,47.742705365244284],[19.54866227371831,47.743848638345526],[19.54133786004924,47.74649837895238],[19.53796765059781,47.743889473378104],[19.53737781678226,47.743137040475276],[19.536818076528725,47.74314066493729],[19.535678024601648,47.742383750976416],[19.531135334041384,47.73747665186606],[19.528831335000675,47.73291263702165],[19.527111510389226,47.73063235267364],[19.526527335959962,47.73023664610563],[19.52484021002486,47.7306262500299],[19.524286218989143,47.729499967692625],[19.522574838541367,47.729114343325115],[19.522568191008265,47.72873989461891],[19.521446554544514,47.72874104268264],[19.52143945785377,47.728360246683934],[19.520318450210716,47.72836568491995],[19.519746942026956,47.72721935263735],[19.519134560497772,47.724173180265865],[19.518591079750884,47.72344058579728],[19.516290134982135,47.722666283339635],[19.51406689448547,47.72229958398987],[19.508977848569405,47.72193687059077],[19.506699182019705,47.72155088806374],[19.503301214625996,47.72004808526188],[19.499363449578055,47.71892598599187],[19.493703075141294,47.71665463854142],[19.493671274780237,47.71550146059592],[19.49141695257474,47.71286537403118],[19.489675388733417,47.70714154756754],[19.496993424363964,47.70710316214588],[19.49807032472657,47.70676585281548],[19.500966762697153,47.7067158607272],[19.504344967154616,47.70634203686888],[19.505445044051548,47.70595545520463],[19.50769298821853,47.704418953654105],[19.508891879796714,47.703985990204664],[19.509915689726025,47.70060419341844],[19.511588622279643,47.69868446561746],[19.510989984974305,47.69751595624587],[19.509263422998227,47.696045170380714],[19.507000836292114,47.69641997500951],[19.504250284723668,47.69638877666281],[19.49983102268344,47.69535208610008],[19.49688041630122,47.694180841608194],[19.495204788801757,47.69384405330844],[19.491843921829282,47.692726892199964],[19.486174025250506,47.69005155806962],[19.484984835477384,47.689649677697126],[19.48278072909627,47.689309957567005],[19.47768009491304,47.68781348158774],[19.477135985345445,47.6893276753145],[19.47485004244195,47.692002562842646],[19.473768111513756,47.69387216947054],[19.471533372581455,47.696562664884425],[19.46820385681239,47.70229484718634],[19.46711105626926,47.70496175488657],[19.466576019686038,47.707238689760324],[19.46545869513565,47.709515464724284],[19.466009452236342,47.71183457194888],[19.46266367696064,47.71372909480057],[19.46150763502151,47.71373797974739],[19.46037953068771,47.714133751215996],[19.458171741213928,47.71411749249007],[19.45419507911419,47.71496608241178],[19.45362716419157,47.714899658385804],[19.452512175260917,47.71529548147145],[19.450275370203464,47.71834863967017],[19.44858977140434,47.72179273935701],[19.445240941856667,47.72599818582456],[19.443571872058776,47.72903978008916],[19.44076436730132,47.73018009045502],[19.439059095397475,47.732098779106515],[19.437370172831802,47.73249338396473],[19.436287972409023,47.73477515767744],[19.43391327595545,47.73865894571732],[19.43281032444961,47.74283838393801],[19.433541014101714,47.745045888871495],[19.434688522045644,47.747345052154195],[19.434714393525827,47.74963354385217],[19.436431613022954,47.75152463860505],[19.44092759118844,47.75340944387574],[19.44269565533065,47.75487945642175],[19.444383050760337,47.75566366757443],[19.447145190595947,47.762756059375086],[19.444277858040564,47.768846187507556],[19.43359760796461,47.7693226874168],[19.428639895743082,47.77078717881599],[19.424094150910857,47.7729359627337],[19.417896853428772,47.77137245667931],[19.41558405089828,47.77135953644272]]]]}&quot;,&quot;inflectionFrom&quot;:&quot;p\\\\u00e1szt\\\\u00f3i j\\\\u00e1r\\\\u00e1si&quot;,&quot;inflectionAt&quot;:&quot;P\\\\u00e1szt\\\\u00f3i j\\\\u00e1r\\\\u00e1sban&quot;,&quot;zipCode&quot;:&quot;&quot;},{&quot;id&quot;:21,&quot;type&quot;:&quot;county&quot;,&quot;name&quot;:&quot;N\\\\u00f3gr\\\\u00e1d&quot;,&quot;namePostfix&quot;:&quot;megye&quot;,&quot;slug&quot;:&quot;nograd-megye&quot;,&quot;coordinates&quot;:{&quot;lat&quot;:47.958407000000001,&quot;lon&quot;:19.530543000000002},&quot;bounds&quot;:{&quot;south&quot;:47.749139999999997,&quot;west&quot;:18.919771000000001,&quot;north&quot;:48.237267000000003,&quot;east&quot;:20.037735000000001},&quot;urlPart&quot;:&quot;nograd-megye&quot;,&quot;parentId&quot;:5,&quot;isOfficeBuilding&quot;:false,&quot;oldName&quot;:null,&quot;usableInAd&quot;:true,&quot;polygon&quot;:&quot;{\\\\&quot;type\\\\&quot;:\\\\&quot;Polygon\\\\&quot;,\\\\&quot;coordinates\\\\&quot;:[[[18.928060980021,48.057121958488],[18.968349971356,48.058377970968],[18.981609913434,48.053600949423],[18.991292943713,48.057819947121],[18.990560996419,48.061911981546],[18.99590597236,48.068022950224],[19.0089039657,48.070042970897],[19.007757984892,48.073692985766],[19.012737975333,48.073346951359],[19.008888963835,48.076188986357],[19.011581933394,48.074959938025],[19.014863928284,48.07817897765],[19.018201978049,48.077862982545],[19.016295932679,48.07729496671],[19.014779935805,48.075692977026],[19.020972921374,48.074106963507],[19.020509929677,48.070944994281],[19.023812945145,48.072989990271],[19.032483933425,48.068324958891],[19.033307958035,48.064457961472],[19.046235972615,48.066485986196],[19.058524925701,48.057352941236],[19.065466926554,48.064648988937],[19.078464919895,48.067426971652],[19.084361910577,48.072780986513],[19.107401990816,48.065595951201],[19.11896196105,48.066457951469],[19.127444931941,48.073628941065],[19.13528893117,48.074145978201],[19.150228992323,48.066959992886],[19.181171911442,48.06126994343],[19.2128229725,48.064361967201],[19.2413679288,48.053652949705],[19.248272919063,48.058165965848],[19.248998937475,48.063621982845],[19.255781936522,48.071555938518],[19.276735949008,48.073947963316],[19.283856984097,48.08207597101],[19.303111923055,48.088710977245],[19.355847970966,48.090760967432],[19.369606927184,48.085912960391],[19.373552956733,48.08726098168],[19.371645923216,48.089677958269],[19.386596943816,48.091913975999],[19.39193096031,48.087821986716],[19.389810936239,48.086332960664],[19.394967984622,48.086627960947],[19.400017953824,48.082303961157],[19.409116989336,48.088952979228],[19.425213990744,48.088781963811],[19.435490987089,48.099664971378],[19.454052965636,48.101435988621],[19.456993960045,48.09782297913],[19.451641977245,48.096671962945],[19.451795948485,48.091729949981],[19.460912950303,48.086691989467],[19.461303986947,48.083197968049],[19.467353960722,48.083932990069],[19.468312912288,48.092036979654],[19.487215981149,48.09954096609],[19.484641948533,48.105192951602],[19.494419930738,48.109905983695],[19.490919914728,48.112422958791],[19.494709996743,48.11470896638],[19.491964924898,48.117917961989],[19.497076967685,48.124772967456],[19.494051980798,48.127124982054],[19.496507974784,48.13519596528],[19.492376982119,48.139663943872],[19.50815094935,48.147584972413],[19.512821919333,48.154662968468],[19.509769982987,48.168858988805],[19.504517982678,48.173442952078],[19.509640984912,48.174978935936],[19.507395915354,48.178179972516],[19.511776909163,48.177548970135],[19.51307093233,48.182311965602],[19.522875953825,48.183804978964],[19.528966980609,48.190357982865],[19.526043952506,48.203129967091],[19.54130498171,48.209320953555],[19.547022938156,48.205693979995],[19.567092918571,48.215361966716],[19.577501967263,48.216014949911],[19.602325921993,48.231634980608],[19.608216983794,48.238986946568],[19.630826321854,48.250072492613],[19.644523923138,48.239171940744],[19.65438994024,48.238135976706],[19.66021093345,48.24151996846],[19.669856953139,48.239211966886],[19.675821946289,48.224397942045],[19.674661951763,48.219738991689],[19.679859963323,48.216726942904],[19.679858975176,48.213025967727],[19.691296954194,48.20704795884],[19.691218980427,48.20389398763],[19.721124974214,48.201472983463],[19.734886984704,48.215165992319],[19.746179975635,48.216511939422],[19.760708967714,48.213791935731],[19.766746993896,48.205684939779],[19.781321979718,48.201010994298],[19.787162915527,48.192529974784],[19.798732946892,48.194819961461],[19.805282922954,48.183732985657],[19.788707927984,48.17333697708],[19.789587917636,48.1682739446],[19.782414959924,48.165038976019],[19.79481198034,48.153528986937],[19.806470944918,48.15414494302],[19.80658395298,48.16206098051],[19.821330966179,48.169080962356],[19.829896941402,48.166941948095],[19.827358392241,48.163667589251],[19.845281938116,48.162741966341],[19.843942909353,48.167959941163],[19.855172928383,48.178430957634],[19.858430938256,48.175067954494],[19.856113913643,48.171225938239],[19.860130910099,48.169408978193],[19.879155970175,48.170446992201],[19.88239996633,48.164140939929],[19.898744992587,48.166311945795],[19.905909955293,48.151303980261],[19.914535937977,48.146862967821],[19.910272982797,48.139714957993],[19.902103973097,48.136574947372],[19.897957978567,48.129470953103],[19.900432927006,48.124126976563],[19.908307918113,48.129544941246],[19.937382970262,48.131117973486],[19.937113924834,48.137237987049],[19.946688977616,48.143124936217],[19.951556948141,48.151547964989],[19.963564908206,48.152020948046],[19.974393919293,48.166004940443],[19.988705968232,48.162167937528],[19.991440978946,48.168398982258],[20.029037988869,48.177684947192],[20.043028979924,48.173129938803],[20.044387951286,48.167242956448],[20.051906850214,48.167719689192],[20.061985768039,48.167279264263],[20.064598877369,48.155459353475],[20.072515640136,48.153103782349],[20.076541350251,48.155354659726],[20.080454411628,48.151893652984],[20.087881053577,48.153345780825],[20.092260610081,48.144551537814],[20.097920715023,48.143360747805],[20.092231594498,48.143044493887],[20.084748089192,48.137385461256],[20.079044685453,48.137059458763],[20.07827105633,48.126784044051],[20.071324563901,48.121136292047],[20.047494864528,48.123226965125],[20.049609319044,48.115240344367],[20.041553946228,48.106571059736],[20.03241466619,48.107764682426],[20.01868553404,48.102555043767],[20.0056029194,48.102276392075],[19.985551534111,48.093315480223],[19.978728829528,48.092980137904],[19.976519153593,48.095666475074],[19.968458390885,48.090014162181],[19.974624516827,48.085018760647],[19.972778209423,48.078172975862],[19.986934939649,48.075784748716],[19.986268659203,48.070077246514],[20.018333035122,48.053444047559],[20.008094127346,48.052008670546],[20.01364032591,48.044338537257],[20.010713884209,48.041332939734],[20.015664409908,48.031361453209],[20.013310374706,48.024215456996],[20.016015291858,48.017640455268],[20.026712609924,48.015330482614],[20.032297885203,48.009540554508],[20.005451553274,48.004470265466],[19.996532719807,48.007247467846],[19.990661959931,47.999227443662],[19.980515039639,47.998197089145],[19.975810921823,47.989025480282],[19.986398645424,47.980200046407],[19.978374983138,47.97766325168],[19.975967767671,47.973515450685],[19.964089883658,47.971672371124],[19.969445639382,47.956039394344],[19.968319152016,47.950269285222],[19.940947485309,47.944041270089],[19.933219728077,47.925460652969],[19.92529299401,47.923194952953],[19.921830437748,47.918306787661],[19.922465816148,47.923235466501],[19.92022371103,47.923636747564],[19.914424367219,47.916065158048],[19.910507892243,47.919137839049],[19.895177333436,47.916968191311],[19.880681489191,47.930396775905],[19.863653383991,47.927477775674],[19.83591116223,47.928809960522],[19.809202452202,47.92289534435],[19.811882935178,47.91333458917],[19.809551088364,47.908812745996],[19.814077788912,47.907249174619],[19.809498896246,47.904624489285],[19.81173668945,47.902701265468],[19.83033406162,47.896104756335],[19.841187866208,47.901318964437],[19.855144182294,47.890988870346],[19.849477429819,47.890271636162],[19.843608017415,47.8766055452],[19.836204282507,47.874358253085],[19.825561312515,47.87556575465],[19.813778919417,47.8855560876],[19.800213280648,47.887533441428],[19.777249826704,47.904821649412],[19.768154384452,47.9029913555],[19.767482534451,47.896455594774],[19.759522383055,47.8912637864],[19.759411081792,47.888204148677],[19.765719321211,47.8888970752],[19.766743759961,47.884342071577],[19.762757396056,47.88013948407],[19.764266745397,47.869482588965],[19.724909396843,47.840789779832],[19.722241580112,47.830505749468],[19.71566519358,47.823521273373],[19.720697196476,47.818022785198],[19.704202870218,47.815840394874],[19.6865054303,47.820260636837],[19.684100909779,47.811308289543],[19.66676019086,47.81032076209],[19.667807267156,47.802773873429],[19.663867076656,47.800164591644],[19.652742789335,47.808316872481],[19.656108866537,47.811271851085],[19.653293276942,47.813413351361],[19.63254408034,47.805836985985],[19.645600643838,47.780323658176],[19.639275066933,47.771201655722],[19.642608625121,47.768147490188],[19.639200147438,47.763205442101],[19.629499240685,47.754137993082],[19.622772655837,47.759492876059],[19.612076954739,47.762222676533],[19.571132552572,47.734987947343],[19.567222994624,47.737681878739],[19.541337860049,47.746498378952],[19.527111510389,47.730632352674],[19.520318450211,47.72836568492],[19.518591079751,47.723440585797],[19.493703075141,47.716654638541],[19.489675388733,47.707141547568],[19.505445044052,47.705955455205],[19.510989984974,47.697515956246],[19.477680094913,47.687813481588],[19.468203856812,47.702294847186],[19.466009452236,47.711834571949],[19.452512175261,47.715295481471],[19.433913275955,47.738658945717],[19.434714393526,47.749633543852],[19.44438305076,47.755663667574],[19.447145190596,47.762756059375],[19.444277858041,47.768846187508],[19.424094150911,47.772935962734],[19.415584050898,47.771359536443],[19.416109924666,47.778512267952],[19.420842878403,47.780407383721],[19.426852877148,47.796588691873],[19.446412883976,47.802525640389],[19.425023278409,47.816659638968],[19.412034358053,47.815933775238],[19.393968788532,47.822091139818],[19.355508048463,47.818750067401],[19.32452731027,47.832568845475],[19.275851647443,47.825043284004],[19.260161942185,47.827587689368],[19.231202143887,47.825122775942],[19.22048012215,47.835423249686],[19.208601519485,47.838881490574],[19.208077622012,47.841912146004],[19.180384627927,47.849178449802],[19.17811844796,47.846897473582],[19.168456258596,47.84882078036],[19.163802446435,47.84454356686],[19.142853823841,47.849150477765],[19.108922389434,47.850566241754],[19.100877976065,47.847204153646],[19.098789393029,47.841853782355],[19.086498283986,47.83820658731],[19.074630371273,47.845063142899],[19.073502716097,47.853818765649],[19.065026213076,47.85877124505],[19.048049850836,47.861437068734],[19.04352854018,47.874003047044],[19.045793821832,47.878185586808],[19.028245142925,47.889987980463],[19.013532714865,47.891886859803],[19.00333917201,47.89797438159],[18.986901619278,47.915099492865],[18.967639314135,47.921562946959],[18.961400334824,47.926502993342],[18.957994552087,47.934499650411],[18.943239633714,47.944001434755],[18.948906835347,47.948943850575],[18.94095369081,47.954281843558],[18.994200161467,47.979443639289],[18.989099257789,47.987802467914],[19.00496961425,47.991647746685],[19.002131926099,48.004220052672],[19.007216031281,48.01027915251],[19.000406082776,48.009900479624],[19.005496476165,48.017099175502],[18.990282159355,48.029317266471],[18.975441451872,48.024444364356],[18.968120182307,48.028429953174],[18.95879171707,48.026836175175],[18.928060980021,48.057121958488]]]}&quot;,&quot;inflectionFrom&quot;:&quot;N\\\\u00f3gr\\\\u00e1d megyei&quot;,&quot;inflectionAt&quot;:&quot;N\\\\u00f3gr\\\\u00e1d megy\\\\u00e9ben&quot;,&quot;zipCode&quot;:&quot;&quot;},{&quot;id&quot;:5,&quot;type&quot;:&quot;region&quot;,&quot;name&quot;:&quot;\\\\u00c9szak-Magyarorsz\\\\u00e1g&quot;,&quot;namePostfix&quot;:&quot;&quot;,&quot;slug&quot;:&quot;eszak-magyarorszag&quot;,&quot;coordinates&quot;:{&quot;lat&quot;:47.920000000000002,&quot;lon&quot;:20.399999999999999},&quot;bounds&quot;:{&quot;south&quot;:47.383471999999998,&quot;west&quot;:18.89649,&quot;north&quot;:48.611122000000002,&quot;east&quot;:22.141110000000001},&quot;urlPart&quot;:&quot;eszak-magyarorszag&quot;,&quot;parentId&quot;:1,&quot;isOfficeBuilding&quot;:false,&quot;oldName&quot;:null,&quot;usableInAd&quot;:true,&quot;polygon&quot;:&quot;&quot;,&quot;inflectionFrom&quot;:&quot;&quot;,&quot;inflectionAt&quot;:&quot;&quot;,&quot;zipCode&quot;:&quot;&quot;},{&quot;id&quot;:1,&quot;type&quot;:&quot;country&quot;,&quot;name&quot;:&quot;Magyarorsz\\\\u00e1g&quot;,&quot;namePostfix&quot;:&quot;&quot;,&quot;slug&quot;:&quot;magyarorszag&quot;,&quot;coordinates&quot;:{&quot;lat&quot;:47.409959999999998,&quot;lon&quot;:19.061834000000001},&quot;bounds&quot;:{&quot;south&quot;:45.783645999999997,&quot;west&quot;:16.163329999999998,&quot;north&quot;:48.559704000000004,&quot;east&quot;:22.817394},&quot;urlPart&quot;:&quot;magyarorszag&quot;,&quot;parentId&quot;:null,&quot;isOfficeBuilding&quot;:false,&quot;oldName&quot;:null,&quot;usableInAd&quot;:true,&quot;polygon&quot;:&quot;&quot;,&quot;inflectionFrom&quot;:&quot;&quot;,&quot;inflectionAt&quot;:&quot;&quot;,&quot;zipCode&quot;:&quot;&quot;}]}\" data-residential-park=\"null\" data-seller=\"{&quot;id&quot;:212356733,&quot;realtorsProhibited&quot;:true}\"></div>\\n    <div id=\"gemius\" data-id=\"p8aV9ruM7SYKv8UaLsW54sSsLVT_KA_aODPH.dcWIrv._7\"></div>\\n    <section id=\"hero\" class=\"container-xl\">\\n        <div class=\"row justify-content-center pe-xl-3\">\\n            \\n        </div>\\n        <div class=\"row justify-content-center\"\\n             data-controller=\"details-page--share\"\\n             data-details-page--share-is-user-logged-in-value=\"false\"\\n             data-details-page--share-is-desktop-value=\"true\"\\n             data-details-page--share-is-mobile-value=\"false\"\\n             data-details-page--share-copy-success-value=\"A link m\\xc3\\xa1sol\\xc3\\xa1sa sikeres!\"\\n             data-details-page--share-copy-fail-value=\"Nem siker\\xc3\\xbclt a linket m\\xc3\\xa1solni!\"\\n             data-details-page--share-facebook-app-id-value=\"714371405246696\"\\n        >\\n\\n            <div class=\"col-xl-8 col-12\">\\n                \\n                                                    \\n                                                    \\n                                                    \\n                <div data-controller=\"slideshow\" data-slideshow-photos-value=\"&#x5B;&#x5D;\" data-slideshow-title-value=\"P&#x00E1;szt&#x00F3;,&#x20;K&#x00F6;lcsey&#x20;utca&#x20;\" data-slideshow-digest-value=\"&#x5B;&quot;90&#x20;ezer&#x20;Ft&quot;,&quot;1&#x20;szoba&quot;,&quot;30&#x20;m&lt;sup&gt;2&lt;&#x5C;&#x2F;sup&gt;&quot;&#x5D;\" data-slideshow-listing-id-value=\"33441333\" data-slideshow-device-value=\"&#x7B;&quot;isMobile&quot;&#x3A;false,&quot;isDesktop&quot;&#x3A;true,&quot;isMobileOrTablet&quot;&#x3A;false&#x7D;\" data-slideshow-is-listing-saved-value=\"false\" data-slideshow-has-content-in-zones-value=\"&#x7B;&quot;7263427&quot;&#x3A;false&#x7D;\" data-slideshow-adverticum-zone-ids-value=\"&#x5B;&quot;7263427&quot;&#x5D;\" data-slideshow-adverticum-custom-target-value=\"dXNlcmRiX2lkPTQ2JmFkX2RheW9mbW9udGg9OSZhZF93ZWVrb2Z5ZWFyPTEwJmFkX3Bhcm9zaGV0PVkmYWRfYXI9OTAwMDAmYWRfZXJ0ZWtlc2l0ZXNfdGlwdXNhPTImYWRfaW5nYXRsYW5fdGlwdXM9MTAyNSZhZF9pbmdhdGxhbl9hbGxhcG90YT0zMiZhZF9lbGhlbHllemtlZGVzPTQxOTQ5NDQmYWRfbWVneWU9MTAyNA&#x3D;&#x3D;\">\\n                </div>\\n\\n                <div class=\"row card border-ash bg-white rounded-5 p-4 mt-3 me-xl-1\">\\n    <div class=\"d-flex flex-column flex-md-row align-items-md-start p-0\">\\n        <div class=\"d-flex flex-column flex-grow-1\">\\n            <span class=\"card-title px-0 fw-bold fs-4 mb-0 font-family-secondary\">P\\xc3\\xa1szt\\xc3\\xb3, K\\xc3\\xb6lcsey utca </span>\\n<span class=\"card-title px-0 text-nickel fw-bold\">Kiad\\xc3\\xb3 panel lak\\xc3\\xa1s</span>\\n        </div>\\n        <div class=\"d-flex align-items-center justify-content-between ms-md-2 mb-3\">\\n            <button id=\"scroll-to-map-button\" type=\"button\" class=\"btn btn-outline-ash d-flex flex-shrink-0 align-items-center justify-content-center\" onclick=\"window.icomEvents.detailsPageHeroToMapButtonClickEvent()\">\\n                <span class=\"material-icons pe-2 text-tomato\">place</span>\\n                <span class=\"fw-bold text-onyx fs-7\">T\\xc3\\xa9rk\\xc3\\xa9pen</span>\\n            </button>\\n            <button type=\"button\" class=\"btn btn-outline-ash d-flex d-xl-none ms-4\" data-bs-toggle=\"dropdown\" data-details-page--share-target=\"shareToggleButton\" data-discriminator=\"mobile_shortcut\">\\n                <span class=\"material-icons text-nickel\">share</span>\\n            </button>\\n            <ul class=\"social-share-dropdown dropdown-menu w-auto shadow border-0\">\\n    <li>\\n        <a class=\"dropdown-item text-slate d-flex align-items-center py-3 pe-5 cursor-pointer\" data-bs-toggle=\"modal\" data-bs-target=\"#share-email-modal\" data-action=\"click->details-page--share#onEmailShareClick\">\\n            <span class=\"material-icons text-battleship pe-3\">email</span>\\n            <small>Megosztom emailben</small>\\n        </a>\\n    </li>\\n    <li>\\n        <a class=\"dropdown-item text-slate d-flex align-items-center py-3 pe-5 cursor-pointer\" data-action=\"click->details-page--share#onMessengerShareClick\">\\n            <img src=\"https://ingatlan.com/images/icons/social-icon-messenger-grey.svg\" class=\"me-3\" alt=\"Messenger\">\\n            <small>Elk\\xc3\\xbcld\\xc3\\xb6m Messengeren</small>\\n        </a>\\n    </li>\\n    <li>\\n        <a class=\"dropdown-item text-slate d-flex align-items-center py-3 pe-5 cursor-pointer\" data-action=\"click->details-page--share#onFacebookShareClick\">\\n            <img src=\"https://ingatlan.com/images/icons/social-icon-facebook-grey.svg\" class=\"me-3\" alt=\"Facebook\">\\n            <small>Megoszt\\xc3\\xa1s Facebookon</small>\\n        </a>\\n    </li>\\n    <li>\\n        <a class=\"dropdown-item text-slate d-flex align-items-center py-3 pe-5 cursor-pointer\" data-action=\"click->details-page--share#onCopyToClipboardButtonClick\">\\n            <span class=\"material-icons text-battleship pe-3\">content_copy</span>\\n            <small>Link m\\xc3\\xa1sol\\xc3\\xa1sa</small>\\n        </a>\\n    </li>\\n</ul>\\n                            <button type=\"button\" class=\"save-listing-button btn btn-outline-ash d-flex d-xl-none align-items-center justify-content-center align-self-end align-self-md-center ms-4\" data-is-saved=\"\" data-listing-id=\"33441333\" data-discriminator=\"mobile_shortcut\">\\n                    <span class=\"save-listing-button-icon material-icons text-cheese\">star_outline</span>\\n                </button>\\n                    </div>\\n    </div>\\n\\n    <div data-controller=\"gallery\" data-gallery-listing-data-value=\"&#x7B;&quot;id&quot;&#x3A;33441333,&quot;clusterId&quot;&#x3A;33441333,&quot;type&quot;&#x3A;&quot;rent&quot;,&quot;rank&quot;&#x3A;0,&quot;hasRank&quot;&#x3A;0,&quot;rankSum&quot;&#x3A;0,&quot;property&quot;&#x3A;&#x7B;&quot;areaSize&quot;&#x3A;30,&quot;atticType&quot;&#x3A;null,&quot;availableFrom&quot;&#x3A;&#x7B;&quot;date&quot;&#x3A;&quot;2023-03-08&#x20;00&#x3A;00&#x3A;00.000000&quot;,&quot;timezone_type&quot;&#x3A;2,&quot;timezone&quot;&#x3A;&quot;Z&quot;&#x7D;,&quot;averageGasConsumption&quot;&#x3A;null,&quot;averageElectricConsumption&quot;&#x3A;null,&quot;balconySize&quot;&#x3A;2,&quot;bathroomToiletSeparation&quot;&#x3A;null,&quot;buildingFloorCount&quot;&#x3A;null,&quot;comfortLevel&quot;&#x3A;&quot;full&quot;,&quot;commonCharges&quot;&#x3A;null,&quot;condition&quot;&#x3A;&quot;renovated&quot;,&quot;electricityAvailability&quot;&#x3A;null,&quot;energyEfficiencyRating&quot;&#x3A;null,&quot;floor&quot;&#x3A;null,&quot;furnishment&quot;&#x3A;&quot;furnished&quot;,&quot;gardenSize&quot;&#x3A;null,&quot;gasAvailability&quot;&#x3A;null,&quot;hasAirConditioner&quot;&#x3A;null,&quot;hasBarrierFreeAccess&quot;&#x3A;null,&quot;hasBasement&quot;&#x3A;null,&quot;hasElevator&quot;&#x3A;null,&quot;hasEquipments&quot;&#x3A;true,&quot;hasGardenAccess&quot;&#x3A;null,&quot;innerHeight&quot;&#x3A;null,&quot;insulation&quot;&#x3A;null,&quot;insulationThickness&quot;&#x3A;null,&quot;isPetsAllowed&quot;&#x3A;false,&quot;isSmokingAllowed&quot;&#x3A;false,&quot;isGreenHome&quot;&#x3A;null,&quot;locationId&quot;&#x3A;80853,&quot;lotCoverabilityPercentage&quot;&#x3A;null,&quot;lotSize&quot;&#x3A;null,&quot;orientation&quot;&#x3A;null,&quot;parking&quot;&#x3A;null,&quot;parkingPrice&quot;&#x3A;null,&quot;parkingSpotCount&quot;&#x3A;null,&quot;participatedInThePanelProgram&quot;&#x3A;null,&quot;roomCount&quot;&#x3A;1,&quot;sewerAvailability&quot;&#x3A;null,&quot;smallRoomCount&quot;&#x3A;null,&quot;solarPanel&quot;&#x3A;null,&quot;solarPanelPowerOutput&quot;&#x3A;null,&quot;streetNumber&quot;&#x3A;null,&quot;streetNumberCoordinates&quot;&#x3A;null,&quot;subtype&quot;&#x3A;&quot;blockOfFlats&quot;,&quot;type&quot;&#x3A;&quot;flat&quot;,&quot;utilityCosts&quot;&#x3A;null,&quot;view&quot;&#x3A;null,&quot;waterAvailability&quot;&#x3A;null,&quot;yearOfConstruction&quot;&#x3A;null,&quot;heatingTypes&quot;&#x3A;null,&quot;minimumRentableArea&quot;&#x3A;null,&quot;minimumRentalPeriodMonth&quot;&#x3A;null,&quot;officeCategory&quot;&#x3A;null,&quot;projectId&quot;&#x3A;null,&quot;lotRatio&quot;&#x3A;null,&quot;grossFloorArea&quot;&#x3A;null,&quot;operationalCost&quot;&#x3A;null,&quot;isUnincorporatedArea&quot;&#x3A;false,&quot;withoutGasConnection&quot;&#x3A;false,&quot;energyEfficient&quot;&#x3A;false&#x7D;,&quot;description&quot;&#x3A;&quot;P&#x5C;u00e1szt&#x5C;u00f3n&#x20;a&#x20;K&#x5C;u00f6lcsey&#x20;&#x5C;u00faton,&#x20;30&#x20;m2&#x20;&#x20;erk&#x5C;u00e9lyes,&#x20;M&#x5C;u00e1tr&#x5C;u00e1ra&#x20;n&#x5C;u00e9z&#x5C;u0151&#x20;panor&#x5C;u00e1m&#x5C;u00e1s&#x20;egyszob&#x5C;u00e1s&#x20;lak&#x5C;u00e1s&#x20;kiad&#x5C;u00f3.&#x20;&#x5C;nB&#x5C;u00e9rleti&#x20;d&#x5C;u00edj&#x3A;90.000.-&#x20;&#x2B;rezsi&#x20;&#x5C;&#x2F;&#x20;h&#x5C;u00f3.&#x20;2&#x20;havi&#x20;kauci&#x5C;u00f3&#x20;sz&#x5C;u00fcks&#x5C;u00e9ges.&#x20;&#x5C;nA&#x20;lak&#x5C;u00e1s&#x20;ig&#x5C;u00e9nyesen,&#x20;frissen&#x20;fel&#x5C;u00faj&#x5C;u00edtott,&#x20;ablakai&#x20;vadonat&#x5C;u00fajak.&#x20;&#x5C;nKis&#x5C;u00e1llat&#x20;&#x20;&#x5C;u00e9s&#x20;gyerek&#x20;nem&#x20;hozhat&#x5C;u00f3,&#x20;doh&#x5C;u00e1nyz&#x5C;u00e1s&#x20;nem&#x20;megengedett.&quot;,&quot;referenceId&quot;&#x3A;null,&quot;minimumRentalPeriodMonth&quot;&#x3A;null,&quot;isBankClaimOffer&quot;&#x3A;false,&quot;isRentalRightOffer&quot;&#x3A;false,&quot;isOutdated&quot;&#x3A;false,&quot;isActive&quot;&#x3A;true,&quot;isDeleted&quot;&#x3A;false,&quot;updatedAt&quot;&#x3A;&#x7B;&quot;date&quot;&#x3A;&quot;2023-03-08&#x20;17&#x3A;33&#x3A;45.000000&quot;,&quot;timezone_type&quot;&#x3A;2,&quot;timezone&quot;&#x3A;&quot;Z&quot;&#x7D;,&quot;tenderDocument&quot;&#x3A;null,&quot;prices&quot;&#x3A;&#x5B;&#x7B;&quot;amount&quot;&#x3A;&quot;9000000&quot;,&quot;currency&quot;&#x3A;&quot;HUF&quot;,&quot;interval&quot;&#x3A;&#x7B;&quot;y&quot;&#x3A;0,&quot;m&quot;&#x3A;1,&quot;d&quot;&#x3A;0&#x7D;&#x7D;&#x5D;,&quot;areaPrices&quot;&#x3A;&#x5B;&#x5D;,&quot;photos&quot;&#x3A;&#x5B;&#x5D;,&quot;links&quot;&#x3A;&#x5B;&#x5D;,&quot;labels&quot;&#x3A;&#x5B;&#x5D;,&quot;sellerId&quot;&#x3A;212356733,&quot;seller&quot;&#x3A;&#x7B;&quot;id&quot;&#x3A;212356733,&quot;realtorsProhibited&quot;&#x3A;true&#x7D;,&quot;contactPhoneNumbers&quot;&#x3A;&#x7B;&#x7D;&#x7D;\" data-gallery-address-value=\"P&#x00E1;szt&#x00F3;,&#x20;K&#x00F6;lcsey&#x20;utca&#x20;\">\\n</div>\\n    <div id=\"gallery-loading-animation\" class=\"d-flex p-0\">\\n    <div id=\"gallery-loading-animation-main-image\" class=\"d-flex overflow-hidden\">\\n                    <div class=\"loading-animation m-0 rounded-5 border border-color-light\"></div>\\n            </div>\\n    </div>\\n    <div class=\"row justify-content-center border border-ash rounded-5 mt-3 py-2 px-0 px-md-2 mx-auto\">\\n        <div class=\"listing-property justify-content-around col-12 col-sm col-print d-flex flex-column text-center print-border-end border-sm-end border-1 border-ash fs-7 font-family-secondary\">\\n            <span class=\"text-nickel\">\\xc3\\x81r havonta</span>\\n        <span class=\"fw-bold fs-5 text-nowrap\">\\n                                    <span>90 ezer Ft</span>\\n                        </span>\\n</div>\\n\\n    <div class=\"listing-property justify-content-around col col-print d-flex flex-column text-center border-end border-1 border-ash fs-7 font-family-secondary\">\\n        <span class=\"text-nickel\">Alapter\\xc3\\xbclet</span>\\n        <span class=\"fw-bold fs-5\">30 m<sup>2</sup></span>\\n    </div>\\n\\n\\n\\n    <div class=\"listing-property justify-content-around col col-print d-flex flex-column text-center fs-7 font-family-secondary\">\\n        <span class=\"text-nickel\">Szob\\xc3\\xa1k</span>\\n        <span class=\"fw-bold fs-5\">\\n            1\\n        </span>\\n    </div>\\n                                    </div>\\n</div>\\n            </div>\\n\\n            <div class=\"col-xl-4 col-md-10 col-12 d-flex flex-column\">\\n                <div id=\"hero-contact\" class=\"row card border-ash bg-white rounded-5 p-4 mt-3 me-md-1 font-family-secondary\">\\n    <div class=\"border-bottom border-ash flex-column flex-md-row text-center text-md-left border-1 mb-3 p-0 pb-3 text-center text-nickel fs-8 font-family-secondary\">\\n                <span>Azonos\\xc3\\xadt\\xc3\\xb3: <strong>33441333</strong></span>\\n    </div>\\n    <div class=\"d-flex flex-fill flex-column justify-content-around px-0\">\\n        <h5 class=\"card-title px-0 mb-4 fw-bold fs-5 text-center text-xl-start\">L\\xc3\\xa9pj kapcsolatba a hirdet\\xc5\\x91vel</h5>\\n                \\n    <div class=\"d-grid gap-3 contact-phone-number-container\">\\n        <div class=\"border border-ash rounded-3 d-flex position-relative rounded-5\">\\n            <span class=\"w-50 d-flex align-items-center justify-content-center p-2 d-flex align-items-center justify-content-center chunked-phone-number\">\\n                <span class=\"material-icons pe-2\">phone</span>\\n                <span class=\"fw-bold text-dark\" data-testid=\"chunked-phone-number\">+36 30 234 </span>\\n            </span>\\n            <button type=\"button\" data-phone-number-reveal-button=\"true\" class=\"btn btn-tomato w-50\" data-testid=\"phone-number-reveal-button\" data-seller-type=\"PrivateIndividual\" data-discriminator=\"primary\">\\n                Felfed\\xc3\\xa9s\\n            </button>\\n            <div class=\"revealed-phone-numbers w-100 d-none\">\\n                <div class=\"btn-group w-100 position-relative d-flex\">\\n                    <button type=\"button\" class=\"btn w-100 fw-bold shadow-none\" style=\"position: initial;\">\\n                        <span>&nbsp;</span>\\n                        <span class=\"position-absolute w-100 h-100 start-0 top-0 d-flex justify-content-center align-items-center\">\\n                            <span data-number=\"{&quot;ct&quot;:&quot;Pw6ni\\\\/GY0QMQUJnmKXdNqoJPD7xjQ4eUQtNXQar5w7A=&quot;,&quot;iv&quot;:&quot;172fda6a0ecd14de30a7c899dd5f0457&quot;,&quot;s&quot;:&quot;58cd8169e914a08c&quot;}\" class=\"d-flex justify-content-center align-items-center\">\\n            <span class=\"material-icons pe-1\">phone</span>\\n        <a class=\"phone-number fw-bold text-decoration-none text-dark\" href=\"tel:%number%\" data-testid=\"contact-phone-number\" onclick=\"window.icomEvents.detailsPageContactPhoneNumberEvent({ action: \\'select\\', discriminator: \\'primary\\' })\">%number%</a>\\n</span>\\n                        </span>\\n                    </button>\\n                                    </div>\\n                            </div>\\n        </div>\\n    </div>\\n\\n    <div class=\"d-grid mt-3\" data-controller=\"chatwidget\">\\n        <button type=\"button\" class=\"send-message-button btn btn-outline-ash d-flex align-items-center justify-content-center\" data-action=\"click->chatwidget#mount\" onclick=\"window.icomEvents.openChatWithContactButtonEvent(\\'fent\\');window.icomEvents.yuspEvent({event: \\'LETTER_SEND\\', listingId: 33441333 })\" data-discriminator=\"primary\">\\n            <span class=\"material-icons pe-2 text-tomato fs-5\">question_answer</span>\\n            <span class=\"fw-bold text-dark\">\\xc3\\x9czenet k\\xc3\\xbcld\\xc3\\xa9se</span>\\n        </button>\\n    </div>\\n        \\n<div class=\"d-flex align-items-center  justify-content-center my-4\">\\n    <div class=\"col-print print-flex-0 justify-content-end d-flex me-3\">\\n                    <img src=\"https://ingatlan.com/images/profile-pic-placeholder.svg\" alt=\"ingatlan.com\" class=\"avatar shadow-sm rounded-3\" />\\n            </div>\\n    <div class=\"col-print print-flex-1 \">\\n                    <span class=\"d-flex align-items-center text-start h-100 my-auto font-family-secondary\">Mag\\xc3\\xa1nszem\\xc3\\xa9ly</span>\\n            </div>\\n</div>\\n            </div>\\n    <div class=\"row mx-auto my-3 px-0\">\\n                    <button type=\"button\" class=\"save-listing-button btn btn-outline-ash mb-3 d-flex align-items-center justify-content-center\" data-is-saved=\"\" data-listing-id=\"33441333\" data-discriminator=\"primary\">\\n                <span class=\"save-listing-button-icon material-icons pe-2 text-cheese fs-5\">star_outline</span>\\n                <span class=\"save-listing-button-saved-text fw-bold text-dark d-none\" data-testid=\"save-advert-text\">Elmentve</span>\\n                <span class=\"save-listing-button-not-saved-text fw-bold text-dark \" data-testid=\"save-advert-button\" onclick=\"window.icomEvents.yuspEvent({event: \\'ADD_TO_FAVORITES\\', listingId: 33441333 })\">Hirdet\\xc3\\xa9s ment\\xc3\\xa9se</span>\\n            </button>\\n            </div>\\n    <div class=\"row d-flex box-sizing-content align-items-start\">\\n    <a role=\"button\" class=\"col position-relative d-flex justify-content-center flex-column text-center text-decoration-none pe-1\" data-onboarding=\"detailsPageShare\" data-bs-toggle=\"dropdown\" data-details-page--share-target=\"shareToggleButton\" data-discriminator=\"primary\" aria-expanded=\"false\">\\n    <span class=\"material-icons mb-3 text-nickel\">share</span>\\n    <span class=\"text-onyx fs-8\">Megoszt\\xc3\\xa1s</span>\\n</a>\\n<ul class=\"social-share-dropdown dropdown-menu w-auto shadow border-0\">\\n    <li>\\n        <a class=\"dropdown-item text-slate d-flex align-items-center py-3 pe-5 cursor-pointer\" data-bs-toggle=\"modal\" data-bs-target=\"#share-email-modal\" data-action=\"click->details-page--share#onEmailShareClick\">\\n            <span class=\"material-icons text-battleship pe-3\">email</span>\\n            <small>Megosztom emailben</small>\\n        </a>\\n    </li>\\n    <li>\\n        <a class=\"dropdown-item text-slate d-flex align-items-center py-3 pe-5 cursor-pointer\" data-action=\"click->details-page--share#onMessengerShareClick\">\\n            <img src=\"https://ingatlan.com/images/icons/social-icon-messenger-grey.svg\" class=\"me-3\" alt=\"Messenger\">\\n            <small>Elk\\xc3\\xbcld\\xc3\\xb6m Messengeren</small>\\n        </a>\\n    </li>\\n    <li>\\n        <a class=\"dropdown-item text-slate d-flex align-items-center py-3 pe-5 cursor-pointer\" data-action=\"click->details-page--share#onFacebookShareClick\">\\n            <img src=\"https://ingatlan.com/images/icons/social-icon-facebook-grey.svg\" class=\"me-3\" alt=\"Facebook\">\\n            <small>Megoszt\\xc3\\xa1s Facebookon</small>\\n        </a>\\n    </li>\\n    <li>\\n        <a class=\"dropdown-item text-slate d-flex align-items-center py-3 pe-5 cursor-pointer\" data-action=\"click->details-page--share#onCopyToClipboardButtonClick\">\\n            <span class=\"material-icons text-battleship pe-3\">content_copy</span>\\n            <small>Link m\\xc3\\xa1sol\\xc3\\xa1sa</small>\\n        </a>\\n    </li>\\n</ul>\\n\\n<div id=\"onboarding-bubble\" class=\"position-absolute d-flex flex-column justify-content-start p-3 pb-1 font-family-base bg-onyx text-bright text-start shadow-sm rounded-2 z-index-300 invisible\">\\n    <p class=\"onboarding-bubble-message\">Ha tetszik egy hirdet\\xc3\\xa9s, megoszthatod m\\xc3\\xa1sokkal.</p>\\n    <div class=\"onboarding-bubble-actions align-self-end\">\\n        <button class=\"onboarding-bubble-close btn pe-0 text-tomato text-uppercase fw-bold fs-7 shadow-none\">Bez\\xc3\\xa1r\\xc3\\xa1s</button>\\n    </div>\\n</div>\\n    <a href=\"/33441333/nyomtatas\" class=\"col d-flex justify-content-center flex-column text-center text-decoration-none px-1\" target=\"_blank\" onclick=\"window.icomEvents.detailsPagePrintButtonClickEvent();window.icomEvents.yuspEvent({event: \\'PRINT_CLICK\\', listingId: 33441333 })\">\\n    <span class=\"material-icons mb-3 text-nickel\">print</span>\\n    <span class=\"text-onyx fs-8\">Nyomtat\\xc3\\xa1s</span>\\n</a>\\n            <a id=\"hide-listing-button\" role=\"button\" class=\"col d-flex justify-content-center flex-column text-center text-decoration-none px-1\" data-is-hidden=\"\" data-listing-id=\"33441333\" data-cluster-id=\"33441333\" data-listing-hidden-text=\"Elrejtett\\xc3\\xbck a hirdet\\xc3\\xa9st\" data-bs-container=\"body\" data-bs-toggle=\"popover\" data-bs-trigger=\"hover\" data-bs-placement=\"bottom\" data-bs-content=\"Ha elrejted ezt az ingatlant, t\\xc3\\xb6bbet nem fog megjelenni a keres\\xc3\\xa9si tal\\xc3\\xa1latok k\\xc3\\xb6z\\xc3\\xb6tt.\">\\n    <span id=\"hide-listing-button-icon\" class=\"material-icons mb-3 text-nickel\">visibility_off</span>\\n    <span id=\"hide-listing-button-show-text\" class=\"text-onyx fs-8 d-none\"data-testid=\"show-text\">Megjelen\\xc3\\xadt\\xc3\\xa9s</span>\\n    <span id=\"hide-listing-button-hide-text\" class=\"text-onyx fs-8 \" data-testid=\"hide-text\">Elrejt\\xc3\\xa9s</span>\\n</a>\\n        <a class=\"col d-flex justify-content-center flex-column text-center text-decoration-none ps-1\" role=\"button\" href=\"javascript:;\" id=\"listing-review-open-button\" onclick=\"window.icomEvents.detailsPageReviewRequestModalEvent({ action: \\'open\\' });\" data-bs-container=\"body\" data-bs-toggle=\"popover\" data-bs-trigger=\"hover\" data-bs-placement=\"bottom\" data-bs-content=\"Hib\\xc3\\xa1t tal\\xc3\\xa1lt\\xc3\\xa1l a hirdet\\xc3\\xa9sben? Jelezd nek\\xc3\\xbcnk!\">\\n    <span class=\"material-icons mb-3 text-danger\">warning</span>\\n    <span class=\"text-onyx fs-8\">Hiba jelz\\xc3\\xa9se</span>\\n</a>\\n</div>\\n\\n<div class=\"modal fade\" data-details-page--share-target=\"shareEmailModal\" id=\"share-email-modal\" tabindex=\"-1\" aria-labelledby=\"share-email-modal-label\" aria-hidden=\"true\">\\n    <div class=\"modal-dialog\">\\n        <div class=\"modal-content\">\\n            <form data-details-page--share-target=\"shareEmailForm\" method=\"post\" action=\"/share/email\" data-action=\"submit->details-page--share#onShareEmailFormSubmit\">\\n                <input type=\"hidden\" name=\"share_mail[_token]\" value=\"72361731456e9c58de1f1b7bf76dbc.3ejmjaBeIUAKyfuYfEBj1gg-n6KL2wwTJ6v7-iqp7Oo.8IPfuultVjhkhZruOHUGl0JLpunysFx7ZJLCsHzjhrC23a7q1TlQB32jjA\"/>\\n                <input name=\"share_mail[listingId]\" type=\"hidden\" value=\"33441333\" />\\n                <div class=\"modal-header border-0\">\\n                    <button type=\"button\" class=\"btn-close\" data-bs-dismiss=\"modal\" aria-label=\"Bez\\xc3\\xa1r\\xc3\\xa1s\"></button>\\n                </div>\\n                <div class=\"modal-body text-center\">\\n                    <div data-details-page--share-target=\"shareEmailErrorContainer\" class=\"fs-8 mb-4 d-none\" data-default-error=\"V\\xc3\\xa1ratlan hiba t\\xc3\\xb6rt\\xc3\\xa9nt. Pr\\xc3\\xb3b\\xc3\\xa1ld \\xc3\\xbajra k\\xc3\\xa9s\\xc5\\x91bb.\">\\n                        <div class=\"overflow-hidden border border-firebrick border-1 rounded-0 ps-0 mt-3 d-flex align-items-stretch bg-white\">\\n    <div class=\"alert bg-firebrick px-2 py-3 m-0 me-3 text-white d-flex justify-content-center align-items-center rounded-0 rounded-end\">\\n                    <span class=\"material-icons\">error</span>\\n            </div>\\n    <div class=\"fw-bold py-2 mx-0 my-auto\">\\n        <span class=\"me-1 alert-text\"></span>\\n            </div>\\n</div>\\n                    </div>\\n                    <h1 class=\"fw-bold mb-1 mb-4 fs-5 font-family-secondary\">Hirdet\\xc3\\xa9s elk\\xc3\\xbcld\\xc3\\xa9se emailben</h1>\\n                    <div class=\"mb-3\">\\n                        <input type=\"email\" class=\"form-control bg-bright\" name=\"share_mail[to]\" placeholder=\"C\\xc3\\xadmzett email c\\xc3\\xadme\" />\\n                    </div>\\n                    <div class=\"mb-3\">\\n                        <textarea class=\"form-control bg-bright\" name=\"share_mail[message]\" placeholder=\"\\xc3\\x9czenet\"></textarea>\\n                    </div>\\n                    <div class=\"d-flex justify-content-center mb-3\">\\n                        <div class=\"g-recaptcha d-flex\" data-sitekey=\"6Ld1m5QeAAAAAIxjDx38xM-0rjTVc_g0WmZUHv-k\" data-error-message=\"A CAPTCHA \\xc3\\xa9rt\\xc3\\xa9ke nem helyes, k\\xc3\\xa9rj\\xc3\\xbck pr\\xc3\\xb3b\\xc3\\xa1lja meg \\xc3\\xbajra.\"></div>\\n                    </div>\\n                </div>\\n                <div class=\"modal-footer\">\\n                    <button type=\"button\" data-details-page--share-target=\"shareEmailModalCloseButton\" class=\"btn btn-outline-ash text-onyx\" data-bs-dismiss=\"modal\">M\\xc3\\xa9gsem</button>\\n                    <input type=\"submit\" class=\"btn btn-tomato\" value=\"K\\xc3\\xbcld\\xc3\\xa9s\" onclick=\"window.icomEvents.yuspEvent({event: \\'SHARE\\', listingId: 33441333 })\" />\\n                </div>\\n            </form>\\n        </div>\\n    </div>\\n</div>\\n<div class=\"modal\" id=\"error-report-modal-33441333\" tabindex=\"-1\" aria-labelledby=\"error-report-modal-label\" aria-hidden=\"true\" data-success-message=\"K\\xc3\\xb6sz\\xc3\\xb6nj\\xc3\\xbck visszajelz\\xc3\\xa9sedet!\" data-error-message=\"V\\xc3\\xa1ratlan hiba t\\xc3\\xb6rt\\xc3\\xa9nt. Pr\\xc3\\xb3b\\xc3\\xa1ld \\xc3\\xbajra k\\xc3\\xa9s\\xc5\\x91bb.\" data-captcha-error-message=\"A CAPTCHA \\xc3\\xa9rt\\xc3\\xa9ke nem helyes, k\\xc3\\xa9rj\\xc3\\xbck pr\\xc3\\xb3b\\xc3\\xa1lja meg \\xc3\\xbajra.\" data-testid=\"error-report-modal\">\\n    <div class=\"modal-dialog\">\\n        <form action=\"/listing-review/create/33441333\" method=\"post\" id=\"listing-review-form-33441333\">\\n            <input name=\"listingReview[listingId]\" type=\"hidden\" id=\"listing-id-33441333\" value=\"33441333\" />\\n            <div class=\"modal-content pt-4 px-3\">\\n                <div class=\"modal-header position-relative border-0\">\\n                    <h5 class=\"modal-title fw-bold\" id=\"error-report-modal-label-33441333\">Seg\\xc3\\xadts pontos\\xc3\\xadtani a hirdet\\xc3\\xa9st!</h5>\\n                    <button type=\"button\" class=\"btn-close position-absolute top-0 end-0 listing-review-close-button\" aria-label=\"Bez\\xc3\\xa1r\\xc3\\xa1s\"></button>\\n                </div>\\n                <div class=\"modal-body\">\\n                    <div id=\"listing-review-error-container-33441333\" class=\"fs-8 mb-4 d-none\">\\n                        <div class=\"overflow-hidden border border-firebrick border-1 rounded-0 ps-0 mt-3 d-flex align-items-stretch bg-white\">\\n    <div class=\"alert bg-firebrick px-2 py-3 m-0 me-3 text-white d-flex justify-content-center align-items-center rounded-0 rounded-end\">\\n                    <span class=\"material-icons\">error</span>\\n            </div>\\n    <div class=\"fw-bold py-2 mx-0 my-auto\">\\n        <span class=\"me-1 alert-text\"></span>\\n            </div>\\n</div>\\n                    </div>\\n                    <div class=\"d-flex align-items-center mb-2\">\\n                        <input class=\"form-check-input me-3 icom-input\" type=\"checkbox\" value=\"duplication\" name=\"listingReview[types][]\" id=\"error-report-duplication-checkbox-33441333\">\\n                        <label class=\"form-check-label fs-7\" for=\"error-report-duplication-checkbox-33441333\">\\n                            Ism\\xc3\\xa9tl\\xc5\\x91d\\xc5\\x91 hirdet\\xc3\\xa9s\\n                        </label>\\n                        <div class=\"spinner-border spinner-border-sm ms-2 d-none similar-listings-loading\" role=\"status\"></div>\\n                    </div>\\n                    <div class=\"d-none similar-listings-popup-container mb-3\">\\n                        <small>Jel\\xc3\\xb6ld meg, hogy melyik hirdet\\xc3\\xa9ssel azonos!</small>\\n                        <div class=\"row similar-listings mt-2\">\\n                        </div>\\n                    </div>\\n\\n                    <div class=\"d-flex mb-2\">\\n                        <input class=\"form-check-input me-3 icom-input\" type=\"checkbox\" value=\"unavailable\" name=\"listingReview[types][]\" id=\"error-report-unavailable-checkbox-33441333\">\\n                        <label class=\"form-check-label fs-7\" for=\"error-report-unavailable-checkbox-33441333\">\\n                            Az ingatlant m\\xc3\\xa1r eladt\\xc3\\xa1k vagy kiadt\\xc3\\xa1k\\n                        </label>\\n                    </div>\\n                    <div class=\"d-flex mb-2\">\\n                        <input class=\"form-check-input me-3 icom-input\" type=\"checkbox\" value=\"ambiguous\" name=\"listingReview[types][]\" id=\"error-report-ambiguous-checkbox-33441333\">\\n                        <label class=\"form-check-label fs-7\" for=\"error-report-ambiguous-checkbox-33441333\">\\n                            Nem egy\\xc3\\xa9rtelm\\xc5\\xb1 tartalom\\n                        </label>\\n                    </div>\\n                    <div class=\"d-flex mb-2\">\\n                        <input class=\"form-check-input me-3 icom-input\" type=\"checkbox\" value=\"wrongType\" name=\"listingReview[types][]\" id=\"error-report-wrong-type-checkbox-33441333\">\\n                        <label class=\"form-check-label fs-7\" for=\"error-report-wrong-type-checkbox-33441333\">\\n                            Nem megfelel\\xc5\\x91 t\\xc3\\xadpus\\n                        </label>\\n                    </div>\\n                    <div class=\"mb-3\">\\n                        <label for=\"error-report-message-33441333\" class=\"col-form-label pb-1 fs-7\">\\n                            K\\xc3\\xa9rj\\xc3\\xbck, \\xc3\\xadrd le az \\xc3\\xa9szrev\\xc3\\xa9teledet\\n                        </label>\\n                        <textarea class=\"form-control bg-bright\" id=\"error-report-message-33441333\" name=\"listingReview[description]\" required></textarea>\\n                    </div>\\n                    <div class=\"mb-3\">\\n                        <label for=\"error-report-email-33441333\" class=\"col-form-label pb-1 fs-7\">\\n                            Add meg e-mail c\\xc3\\xadmed \\xc3\\xa9s visszajelz\\xc3\\xbcnk!\\n                        </label>\\n                        <input type=\"email\" class=\"form-control bg-bright\" id=\"error-report-email-33441333\" value=\"\" name=\"listingReview[reporterEmail]\" required />\\n                    </div>\\n                    <div class=\"text-center text-muted fs-7 lh-sm\">\\n                                                                        A K\\xc3\\xbcld\\xc3\\xa9s gomb megnyom\\xc3\\xa1s\\xc3\\xa1val az Adatv\\xc3\\xa9delmi Szab\\xc3\\xa1lyzatot tudom\\xc3\\xa1sul veszem \\xc3\\xa9s elfogadom.\\n                        <a class=\"text-tomato text-decoration-underline\" role=\"button\" id=\"listing-review-gdpr-open-button-33441333\">Mi ez?</a>\\n                    </div>\\n                    <div id=\"error-report-captcha-33441333\" class=\"g-recaptcha d-flex justify-content-center mt-4\" data-sitekey=\"6Lf4GsYjAAAAAF3F--2cyVA3XdyLIafzBDAZdhTg\" data-size=\"invisible\"></div>\\n                </div>\\n                <div class=\"modal-footer\">\\n                    <button type=\"button\" class=\"btn btn-outline-ash text-onyx listing-review-close-button\">M\\xc3\\xa9gsem</button>\\n                    <button type=\"submit\" class=\"btn btn-tomato\">K\\xc3\\xbcld\\xc3\\xa9s</button>\\n                </div>\\n            </div>\\n        </form>\\n    </div>\\n</div>\\n<div class=\"modal\" id=\"error-report-gdpr-modal\" tabindex=\"-1\" aria-hidden=\"true\">\\n    <div class=\"modal-dialog\">\\n        <div class=\"modal-content\">\\n            <div class=\"modal-header\">\\n                <button type=\"button\" class=\"btn-close listing-review-gdpr-close-button\" aria-label=\"Bez\\xc3\\xa1r\\xc3\\xa1s\"></button>\\n            </div>\\n            <div class=\"modal-body\">\\n                <p>Adataidat az \\xc3\\xa1ltalad k\\xc3\\xbcld\\xc3\\xb6tt jelent\\xc3\\xa9s kivizsg\\xc3\\xa1l\\xc3\\xa1sa c\\xc3\\xa9lj\\xc3\\xa1b\\xc3\\xb3l kezelj\\xc3\\xbck. Az adatkezel\\xc3\\xa9s jogalapja a hozz\\xc3\\xa1j\\xc3\\xa1rul\\xc3\\xa1sod megad\\xc3\\xa1sa. Az adataid t\\xc3\\xb6rl\\xc3\\xa9si hat\\xc3\\xa1rideje: a megv\\xc3\\xa1laszol\\xc3\\xa1st k\\xc3\\xb6vet\\xc5\\x91en indokolatlan k\\xc3\\xa9sedelem n\\xc3\\xa9lk\\xc3\\xbcl.</p>\\n                <p>Az adatkezel\\xc5\\x91 \\xc3\\xa9s el\\xc3\\xa9rhet\\xc5\\x91s\\xc3\\xa9gei: ingatlan.com Zrt; 1024 Budapest, F\\xc3\\xa9ny u. 16., Adatv\\xc3\\xa9delmi tisztvisel\\xc5\\x91 el\\xc3\\xa9rhet\\xc5\\x91s\\xc3\\xa9ge: Balogh L\\xc3\\xa1szl\\xc3\\xb3; +36 1 237 2060 (munkanapokon 10.00-17.00), <a href=\"mailto:segitunk@ingatlan.com\" class=\"text-tomato\">segitunk@ingatlan.com</a></p>\\n                <p>Az EU \\xc3\\x81ltal\\xc3\\xa1nos Adatv\\xc3\\xa9delmi Rendelete alapj\\xc3\\xa1n hozz\\xc3\\xa1f\\xc3\\xa9r\\xc3\\xa9st k\\xc3\\xa9rhetsz szem\\xc3\\xa9lyes adataidhoz, k\\xc3\\xa9rheted azok helyesb\\xc3\\xadt\\xc3\\xa9s\\xc3\\xa9t, t\\xc3\\xb6rl\\xc3\\xa9s\\xc3\\xa9t, vagy az adatkezel\\xc3\\xa9s korl\\xc3\\xa1toz\\xc3\\xa1s\\xc3\\xa1t, illetve automatiz\\xc3\\xa1lt adatkezel\\xc3\\xa9s eset\\xc3\\xa9n k\\xc3\\xa9rheted, hogy az \\xc3\\xa1ltalad rendelkez\\xc3\\xa9sre bocs\\xc3\\xa1tott adatokat az ingatlan.com Zrt. tagolt, sz\\xc3\\xa9les k\\xc3\\xb6rben haszn\\xc3\\xa1lt, g\\xc3\\xa9ppel olvashat\\xc3\\xb3 form\\xc3\\xa1tumban sz\\xc3\\xa1modra \\xc3\\xa1tadja. Az adatokhoz bizonyos esetben tov\\xc3\\xa1bbi c\\xc3\\xa9gek is hozz\\xc3\\xa1f\\xc3\\xa9rhetnek, err\\xc5\\x91l pontos t\\xc3\\xa1j\\xc3\\xa9koztat\\xc3\\xa1st Adatv\\xc3\\xa9delmi Szab\\xc3\\xa1lyzatunkban tal\\xc3\\xa1lsz. Vizsg\\xc3\\xa1latot kezdem\\xc3\\xa9nyezhetsz a Nemzeti Adatv\\xc3\\xa9delmi \\xc3\\xa9s Inform\\xc3\\xa1ci\\xc3\\xb3szabads\\xc3\\xa1g Hat\\xc3\\xb3s\\xc3\\xa1gn\\xc3\\xa1l arra hivatkoz\\xc3\\xa1ssal, hogy szem\\xc3\\xa9lyes adatok kezel\\xc3\\xa9s\\xc3\\xa9vel kapcsolatban jogs\\xc3\\xa9relem k\\xc3\\xb6vetkezett be, vagy annak k\\xc3\\xb6zvetlen vesz\\xc3\\xa9lye fenn\\xc3\\xa1ll. A NAIH el\\xc3\\xa9rhet\\xc5\\x91s\\xc3\\xa9ge: <a href=\"https://naih.hu/\" class=\"text-tomato\" target=\"_blank\">https://naih.hu/</a></p>\\n            </div>\\n            <div class=\"modal-footer\">\\n                <button type=\"button\" class=\"btn btn-tomato w-100 listing-review-gdpr-close-button\">Rendben</button>\\n            </div>\\n        </div>\\n    </div>\\n</div>\\n</div>\\n            </div>\\n        </div>\\n    </section>\\n    <section id=\"content\" class=\"container-xl\">\\n        <div class=\"row justify-content-center\">\\n            <div class=\"col-xl-8 col-md-10 col-12\">\\n                \\n    <div class=\"row card border-ash bg-white rounded-5 p-4 mt-3 me-md-1\">\\n        <h5 class=\"card-title px-0 mb-4 fw-bold font-family-secondary\">Kiad\\xc3\\xb3 panel lak\\xc3\\xa1s</h5>\\n        <div class=\"row d-none d-md-flex d-print-flex box-sizing-content\">\\n    <table class=\"col col-print-6 table table-borderless h-100 w-50 border-end border-1\">\\n        <tbody class=\"pe-3\">\\n                <tr class=\"text-onyx\">\\n        <td class=\"ps-0\">\\n            Ingatlan \\xc3\\xa1llapota\\n                    </td>\\n        <td class=\"fw-bold ps-0\">\\n                            fel\\xc3\\xbaj\\xc3\\xadtott\\n                    </td>\\n    </tr>\\n    <tr class=\"text-onyx\">\\n        <td class=\"ps-0\">\\n            \\xc3\\x89p\\xc3\\xadt\\xc3\\xa9s \\xc3\\xa9ve\\n                    </td>\\n        <td class=\"fw-bold ps-0\">\\n                            <span class=\"text-ash\">nincs megadva</span>\\n                    </td>\\n    </tr>\\n    <tr class=\"text-onyx\">\\n        <td class=\"ps-0\">\\n            Komfort\\n                    </td>\\n        <td class=\"fw-bold ps-0\">\\n                            \\xc3\\xb6sszkomfortos\\n                    </td>\\n    </tr>\\n    <tr class=\"text-onyx\">\\n        <td class=\"ps-0\">\\n            Emelet\\n                    </td>\\n        <td class=\"fw-bold ps-0\">\\n                            <span class=\"text-ash\">nincs megadva</span>\\n                    </td>\\n    </tr>\\n    <tr class=\"text-onyx\">\\n        <td class=\"ps-0\">\\n            \\xc3\\x89p\\xc3\\xbclet szintjei\\n                    </td>\\n        <td class=\"fw-bold ps-0\">\\n                            <span class=\"text-ash\">nincs megadva</span>\\n                    </td>\\n    </tr>\\n    <tr class=\"text-onyx\">\\n        <td class=\"ps-0\">\\n            Lift\\n                    </td>\\n        <td class=\"fw-bold ps-0\">\\n                            <span class=\"text-ash\">nincs megadva</span>\\n                    </td>\\n    </tr>\\n    <tr class=\"text-onyx\">\\n        <td class=\"ps-0\">\\n            Belmagass\\xc3\\xa1g\\n                    </td>\\n        <td class=\"fw-bold ps-0\">\\n                            <span class=\"text-ash\">nincs megadva</span>\\n                    </td>\\n    </tr>\\n    <tr class=\"text-onyx\">\\n        <td class=\"ps-0\">\\n            L\\xc3\\xa9gkondicion\\xc3\\xa1l\\xc3\\xb3\\n                    </td>\\n        <td class=\"fw-bold ps-0\">\\n                            <span class=\"text-ash\">nincs megadva</span>\\n                    </td>\\n    </tr>\\n    <tr class=\"text-onyx\">\\n        <td class=\"ps-0\">\\n            B\\xc3\\xbatorozott\\n                    </td>\\n        <td class=\"fw-bold ps-0\">\\n                            igen\\n                    </td>\\n    </tr>\\n    <tr class=\"text-onyx\">\\n        <td class=\"ps-0\">\\n            K\\xc3\\xb6lt\\xc3\\xb6zhet\\xc5\\x91\\n                    </td>\\n        <td class=\"fw-bold ps-0\">\\n                            azonnal\\n                    </td>\\n    </tr>\\n    <tr class=\"text-onyx\">\\n        <td class=\"ps-0\">\\n            Min. b\\xc3\\xa9rleti id\\xc5\\x91\\n                    </td>\\n        <td class=\"fw-bold ps-0\">\\n                            <span class=\"text-ash\">nincs megadva</span>\\n                    </td>\\n    </tr>\\n    <tr class=\"text-onyx\">\\n        <td class=\"ps-0\">\\n            Akad\\xc3\\xa1lymentes\\xc3\\xadtett\\n                    </td>\\n        <td class=\"fw-bold ps-0\">\\n                            <span class=\"text-ash\">nincs megadva</span>\\n                    </td>\\n    </tr>\\n        </tbody>\\n    </table>\\n    <table class=\"col col-print-6 table table-borderless ms-3 h-100 w-50\">\\n        <tbody>\\n                <tr class=\"text-onyx\">\\n        <td class=\"ps-0\">\\n            F\\xc3\\xbcrd\\xc5\\x91 \\xc3\\xa9s wc\\n                    </td>\\n        <td class=\"fw-bold ps-0\">\\n                            <span class=\"text-ash\">nincs megadva</span>\\n                    </td>\\n    </tr>\\n    <tr class=\"text-onyx\">\\n        <td class=\"ps-0\">\\n            T\\xc3\\xa1jol\\xc3\\xa1s\\n                    </td>\\n        <td class=\"fw-bold ps-0\">\\n                            <span class=\"text-ash\">nincs megadva</span>\\n                    </td>\\n    </tr>\\n    <tr class=\"text-onyx\">\\n        <td class=\"ps-0\">\\n            Kil\\xc3\\xa1t\\xc3\\xa1s\\n                    </td>\\n        <td class=\"fw-bold ps-0\">\\n                            <span class=\"text-ash\">nincs megadva</span>\\n                    </td>\\n    </tr>\\n    <tr class=\"text-onyx\">\\n        <td class=\"ps-0\">\\n            Erk\\xc3\\xa9ly m\\xc3\\xa9rete\\n                    </td>\\n        <td class=\"fw-bold ps-0\">\\n                            2 m<sup>2</sup>\\n                    </td>\\n    </tr>\\n    <tr class=\"text-onyx\">\\n        <td class=\"ps-0\">\\n            Kertkapcsolatos\\n                    </td>\\n        <td class=\"fw-bold ps-0\">\\n                            <span class=\"text-ash\">nincs megadva</span>\\n                    </td>\\n    </tr>\\n    <tr class=\"text-onyx\">\\n        <td class=\"ps-0\">\\n            Tet\\xc5\\x91t\\xc3\\xa9r\\n                    </td>\\n        <td class=\"fw-bold ps-0\">\\n                            <span class=\"text-ash\">nincs megadva</span>\\n                    </td>\\n    </tr>\\n    <tr class=\"text-onyx\">\\n        <td class=\"ps-0\">\\n            G\\xc3\\xa9pes\\xc3\\xadtett\\n                    </td>\\n        <td class=\"fw-bold ps-0\">\\n                            igen\\n                    </td>\\n    </tr>\\n    <tr class=\"text-onyx\">\\n        <td class=\"ps-0\">\\n            Kis\\xc3\\xa1llat\\n                    </td>\\n        <td class=\"fw-bold ps-0\">\\n                            nem hozhat\\xc3\\xb3\\n                    </td>\\n    </tr>\\n    <tr class=\"text-onyx\">\\n        <td class=\"ps-0\">\\n            Doh\\xc3\\xa1nyz\\xc3\\xa1s\\n                    </td>\\n        <td class=\"fw-bold ps-0\">\\n                            nem megengedett\\n                    </td>\\n    </tr>\\n    <tr class=\"text-onyx\">\\n        <td class=\"ps-0\">\\n            Panelprogram\\n                    </td>\\n        <td class=\"fw-bold ps-0\">\\n                            <span class=\"text-ash\">nincs megadva</span>\\n                    </td>\\n    </tr>\\n    <tr class=\"text-onyx\">\\n        <td class=\"ps-0\">\\n            Parkol\\xc3\\xa1s\\n                    </td>\\n        <td class=\"fw-bold ps-0\">\\n                            <span class=\"text-ash\">nincs megadva</span>\\n                    </td>\\n    </tr>\\n        </tbody>\\n    </table>\\n</div>\\n<table class=\"d-md-none table table-borderless d-print-none\">\\n    <tbody>\\n            <tr class=\"text-onyx\">\\n        <td class=\"ps-0\">\\n            Ingatlan \\xc3\\xa1llapota\\n                    </td>\\n        <td class=\"fw-bold ps-0\">\\n                            fel\\xc3\\xbaj\\xc3\\xadtott\\n                    </td>\\n    </tr>\\n    <tr class=\"text-onyx\">\\n        <td class=\"ps-0\">\\n            \\xc3\\x89p\\xc3\\xadt\\xc3\\xa9s \\xc3\\xa9ve\\n                    </td>\\n        <td class=\"fw-bold ps-0\">\\n                            <span class=\"text-ash\">nincs megadva</span>\\n                    </td>\\n    </tr>\\n    <tr class=\"text-onyx\">\\n        <td class=\"ps-0\">\\n            Komfort\\n                    </td>\\n        <td class=\"fw-bold ps-0\">\\n                            \\xc3\\xb6sszkomfortos\\n                    </td>\\n    </tr>\\n    <tr class=\"text-onyx\">\\n        <td class=\"ps-0\">\\n            Emelet\\n                    </td>\\n        <td class=\"fw-bold ps-0\">\\n                            <span class=\"text-ash\">nincs megadva</span>\\n                    </td>\\n    </tr>\\n    <tr class=\"text-onyx\">\\n        <td class=\"ps-0\">\\n            \\xc3\\x89p\\xc3\\xbclet szintjei\\n                    </td>\\n        <td class=\"fw-bold ps-0\">\\n                            <span class=\"text-ash\">nincs megadva</span>\\n                    </td>\\n    </tr>\\n    <tr class=\"text-onyx\">\\n        <td class=\"ps-0\">\\n            Lift\\n                    </td>\\n        <td class=\"fw-bold ps-0\">\\n                            <span class=\"text-ash\">nincs megadva</span>\\n                    </td>\\n    </tr>\\n    <tr class=\"text-onyx\">\\n        <td class=\"ps-0\">\\n            Belmagass\\xc3\\xa1g\\n                    </td>\\n        <td class=\"fw-bold ps-0\">\\n                            <span class=\"text-ash\">nincs megadva</span>\\n                    </td>\\n    </tr>\\n    <tr class=\"text-onyx\">\\n        <td class=\"ps-0\">\\n            L\\xc3\\xa9gkondicion\\xc3\\xa1l\\xc3\\xb3\\n                    </td>\\n        <td class=\"fw-bold ps-0\">\\n                            <span class=\"text-ash\">nincs megadva</span>\\n                    </td>\\n    </tr>\\n    <tr class=\"text-onyx\">\\n        <td class=\"ps-0\">\\n            B\\xc3\\xbatorozott\\n                    </td>\\n        <td class=\"fw-bold ps-0\">\\n                            igen\\n                    </td>\\n    </tr>\\n    <tr class=\"text-onyx\">\\n        <td class=\"ps-0\">\\n            K\\xc3\\xb6lt\\xc3\\xb6zhet\\xc5\\x91\\n                    </td>\\n        <td class=\"fw-bold ps-0\">\\n                            azonnal\\n                    </td>\\n    </tr>\\n    <tr class=\"text-onyx\">\\n        <td class=\"ps-0\">\\n            Min. b\\xc3\\xa9rleti id\\xc5\\x91\\n                    </td>\\n        <td class=\"fw-bold ps-0\">\\n                            <span class=\"text-ash\">nincs megadva</span>\\n                    </td>\\n    </tr>\\n    <tr class=\"text-onyx\">\\n        <td class=\"ps-0\">\\n            Akad\\xc3\\xa1lymentes\\xc3\\xadtett\\n                    </td>\\n        <td class=\"fw-bold ps-0\">\\n                            <span class=\"text-ash\">nincs megadva</span>\\n                    </td>\\n    </tr>\\n    <tr class=\"text-onyx\">\\n        <td class=\"ps-0\">\\n            F\\xc3\\xbcrd\\xc5\\x91 \\xc3\\xa9s wc\\n                    </td>\\n        <td class=\"fw-bold ps-0\">\\n                            <span class=\"text-ash\">nincs megadva</span>\\n                    </td>\\n    </tr>\\n    <tr class=\"text-onyx\">\\n        <td class=\"ps-0\">\\n            T\\xc3\\xa1jol\\xc3\\xa1s\\n                    </td>\\n        <td class=\"fw-bold ps-0\">\\n                            <span class=\"text-ash\">nincs megadva</span>\\n                    </td>\\n    </tr>\\n    <tr class=\"text-onyx\">\\n        <td class=\"ps-0\">\\n            Kil\\xc3\\xa1t\\xc3\\xa1s\\n                    </td>\\n        <td class=\"fw-bold ps-0\">\\n                            <span class=\"text-ash\">nincs megadva</span>\\n                    </td>\\n    </tr>\\n    <tr class=\"text-onyx\">\\n        <td class=\"ps-0\">\\n            Erk\\xc3\\xa9ly m\\xc3\\xa9rete\\n                    </td>\\n        <td class=\"fw-bold ps-0\">\\n                            2 m<sup>2</sup>\\n                    </td>\\n    </tr>\\n    <tr class=\"text-onyx\">\\n        <td class=\"ps-0\">\\n            Kertkapcsolatos\\n                    </td>\\n        <td class=\"fw-bold ps-0\">\\n                            <span class=\"text-ash\">nincs megadva</span>\\n                    </td>\\n    </tr>\\n    <tr class=\"text-onyx\">\\n        <td class=\"ps-0\">\\n            Tet\\xc5\\x91t\\xc3\\xa9r\\n                    </td>\\n        <td class=\"fw-bold ps-0\">\\n                            <span class=\"text-ash\">nincs megadva</span>\\n                    </td>\\n    </tr>\\n    <tr class=\"text-onyx\">\\n        <td class=\"ps-0\">\\n            G\\xc3\\xa9pes\\xc3\\xadtett\\n                    </td>\\n        <td class=\"fw-bold ps-0\">\\n                            igen\\n                    </td>\\n    </tr>\\n    <tr class=\"text-onyx\">\\n        <td class=\"ps-0\">\\n            Kis\\xc3\\xa1llat\\n                    </td>\\n        <td class=\"fw-bold ps-0\">\\n                            nem hozhat\\xc3\\xb3\\n                    </td>\\n    </tr>\\n    <tr class=\"text-onyx\">\\n        <td class=\"ps-0\">\\n            Doh\\xc3\\xa1nyz\\xc3\\xa1s\\n                    </td>\\n        <td class=\"fw-bold ps-0\">\\n                            nem megengedett\\n                    </td>\\n    </tr>\\n    <tr class=\"text-onyx\">\\n        <td class=\"ps-0\">\\n            Panelprogram\\n                    </td>\\n        <td class=\"fw-bold ps-0\">\\n                            <span class=\"text-ash\">nincs megadva</span>\\n                    </td>\\n    </tr>\\n    <tr class=\"text-onyx\">\\n        <td class=\"ps-0\">\\n            Parkol\\xc3\\xa1s\\n                    </td>\\n        <td class=\"fw-bold ps-0\">\\n                            <span class=\"text-ash\">nincs megadva</span>\\n                    </td>\\n    </tr>\\n    </tbody>\\n</table>\\n    </div>\\n\\n                \\n    <div class=\"row card border-ash bg-white rounded-5 p-4 mt-3 me-md-1\">\\n        <div class=\"px-0 d-flex justify-content-between align-items-start\">\\n            <h5 class=\"mb-4 px-0 fw-bold font-family-secondary card-title\">\\n                Fenntarthat\\xc3\\xb3s\\xc3\\xa1g\\n            </h5>\\n                    </div>\\n        <div class=\"row d-none d-md-flex d-print-flex box-sizing-content\">\\n    <table class=\"col col-print-6 table table-borderless h-100 w-50 border-end border-1\">\\n        <tbody class=\"pe-3\">\\n                <tr class=\"text-onyx\">\\n        <td class=\"ps-0\">\\n            \\xc3\\x81tlag g\\xc3\\xa1zfogyaszt\\xc3\\xa1s\\n                            <span class=\"material-icons-outlined text-windows fs-7\" data-bs-container=\"body\" data-bs-toggle=\"popover\" data-bs-trigger=\"hover\" data-bs-placement=\"right\" data-bs-content=\"A hirdet\\xc5\\x91 \\xc3\\xa1ltal sz\\xc3\\xa1molt havi \\xc3\\xa1tlagfogyaszt\\xc3\\xa1s, ami vagy a havi \\xc3\\xa1tal\\xc3\\xa1ny \\xc3\\xa9rt\\xc3\\xa9ke, vagy az \\xc3\\xa9ves fogyaszt\\xc3\\xa1s \\xc3\\xb6ssz\\xc3\\xa9rt\\xc3\\xa9ke 1 h\\xc3\\xb3napra kisz\\xc3\\xa1molva.\">info</span>\\n                    </td>\\n        <td class=\"fw-bold ps-0\">\\n                            <span class=\"text-ash\">nincs megadva</span>\\n                    </td>\\n    </tr>\\n    <tr class=\"text-onyx\">\\n        <td class=\"ps-0\">\\n            \\xc3\\x81tlag \\xc3\\xa1ramfogyaszt\\xc3\\xa1s\\n                            <span class=\"material-icons-outlined text-windows fs-7\" data-bs-container=\"body\" data-bs-toggle=\"popover\" data-bs-trigger=\"hover\" data-bs-placement=\"right\" data-bs-content=\"A hirdet\\xc5\\x91 \\xc3\\xa1ltal sz\\xc3\\xa1molt havi \\xc3\\xa1tlagfogyaszt\\xc3\\xa1s, ami vagy a havi \\xc3\\xa1tal\\xc3\\xa1ny \\xc3\\xa9rt\\xc3\\xa9ke, vagy az \\xc3\\xa9ves fogyaszt\\xc3\\xa1s \\xc3\\xb6ssz\\xc3\\xa9rt\\xc3\\xa9ke 1 h\\xc3\\xb3napra kisz\\xc3\\xa1molva.\">info</span>\\n                    </td>\\n        <td class=\"fw-bold ps-0\">\\n                            <span class=\"text-ash\">nincs megadva</span>\\n                    </td>\\n    </tr>\\n    <tr class=\"text-onyx\">\\n        <td class=\"ps-0\">\\n            Rezsik\\xc3\\xb6lts\\xc3\\xa9g\\n                    </td>\\n        <td class=\"fw-bold ps-0\">\\n                            <span class=\"text-ash\">nincs megadva</span>\\n                    </td>\\n    </tr>\\n    <tr class=\"text-onyx\">\\n        <td class=\"ps-0\">\\n            K\\xc3\\xb6z\\xc3\\xb6s k\\xc3\\xb6lts\\xc3\\xa9g\\n                    </td>\\n        <td class=\"fw-bold ps-0\">\\n                            <span class=\"text-ash\">nincs megadva</span>\\n                    </td>\\n    </tr>\\n        </tbody>\\n    </table>\\n    <table class=\"col col-print-6 table table-borderless ms-3 h-100 w-50\">\\n        <tbody>\\n                <tr class=\"text-onyx\">\\n        <td class=\"ps-0\">\\n            F\\xc5\\xb1t\\xc3\\xa9s\\n                    </td>\\n        <td class=\"fw-bold ps-0\">\\n                            <span class=\"text-ash\">nincs megadva</span>\\n                    </td>\\n    </tr>\\n    <tr class=\"text-onyx\">\\n        <td class=\"ps-0\">\\n            Szigetel\\xc3\\xa9s\\n                    </td>\\n        <td class=\"fw-bold ps-0\">\\n                            <span class=\"text-ash\">nincs megadva</span>\\n                    </td>\\n    </tr>\\n    <tr class=\"text-onyx\">\\n        <td class=\"ps-0\">\\n            Energiatan\\xc3\\xbas\\xc3\\xadtv\\xc3\\xa1ny\\n                    </td>\\n        <td class=\"fw-bold ps-0\">\\n                            <span class=\"text-ash\">nincs megadva</span>\\n                    </td>\\n    </tr>\\n        </tbody>\\n    </table>\\n</div>\\n<table class=\"d-md-none table table-borderless d-print-none\">\\n    <tbody>\\n            <tr class=\"text-onyx\">\\n        <td class=\"ps-0\">\\n            \\xc3\\x81tlag g\\xc3\\xa1zfogyaszt\\xc3\\xa1s\\n                            <span class=\"material-icons-outlined text-windows fs-7\" data-bs-container=\"body\" data-bs-toggle=\"popover\" data-bs-trigger=\"hover\" data-bs-placement=\"right\" data-bs-content=\"A hirdet\\xc5\\x91 \\xc3\\xa1ltal sz\\xc3\\xa1molt havi \\xc3\\xa1tlagfogyaszt\\xc3\\xa1s, ami vagy a havi \\xc3\\xa1tal\\xc3\\xa1ny \\xc3\\xa9rt\\xc3\\xa9ke, vagy az \\xc3\\xa9ves fogyaszt\\xc3\\xa1s \\xc3\\xb6ssz\\xc3\\xa9rt\\xc3\\xa9ke 1 h\\xc3\\xb3napra kisz\\xc3\\xa1molva.\">info</span>\\n                    </td>\\n        <td class=\"fw-bold ps-0\">\\n                            <span class=\"text-ash\">nincs megadva</span>\\n                    </td>\\n    </tr>\\n    <tr class=\"text-onyx\">\\n        <td class=\"ps-0\">\\n            \\xc3\\x81tlag \\xc3\\xa1ramfogyaszt\\xc3\\xa1s\\n                            <span class=\"material-icons-outlined text-windows fs-7\" data-bs-container=\"body\" data-bs-toggle=\"popover\" data-bs-trigger=\"hover\" data-bs-placement=\"right\" data-bs-content=\"A hirdet\\xc5\\x91 \\xc3\\xa1ltal sz\\xc3\\xa1molt havi \\xc3\\xa1tlagfogyaszt\\xc3\\xa1s, ami vagy a havi \\xc3\\xa1tal\\xc3\\xa1ny \\xc3\\xa9rt\\xc3\\xa9ke, vagy az \\xc3\\xa9ves fogyaszt\\xc3\\xa1s \\xc3\\xb6ssz\\xc3\\xa9rt\\xc3\\xa9ke 1 h\\xc3\\xb3napra kisz\\xc3\\xa1molva.\">info</span>\\n                    </td>\\n        <td class=\"fw-bold ps-0\">\\n                            <span class=\"text-ash\">nincs megadva</span>\\n                    </td>\\n    </tr>\\n    <tr class=\"text-onyx\">\\n        <td class=\"ps-0\">\\n            Rezsik\\xc3\\xb6lts\\xc3\\xa9g\\n                    </td>\\n        <td class=\"fw-bold ps-0\">\\n                            <span class=\"text-ash\">nincs megadva</span>\\n                    </td>\\n    </tr>\\n    <tr class=\"text-onyx\">\\n        <td class=\"ps-0\">\\n            K\\xc3\\xb6z\\xc3\\xb6s k\\xc3\\xb6lts\\xc3\\xa9g\\n                    </td>\\n        <td class=\"fw-bold ps-0\">\\n                            <span class=\"text-ash\">nincs megadva</span>\\n                    </td>\\n    </tr>\\n    <tr class=\"text-onyx\">\\n        <td class=\"ps-0\">\\n            F\\xc5\\xb1t\\xc3\\xa9s\\n                    </td>\\n        <td class=\"fw-bold ps-0\">\\n                            <span class=\"text-ash\">nincs megadva</span>\\n                    </td>\\n    </tr>\\n    <tr class=\"text-onyx\">\\n        <td class=\"ps-0\">\\n            Szigetel\\xc3\\xa9s\\n                    </td>\\n        <td class=\"fw-bold ps-0\">\\n                            <span class=\"text-ash\">nincs megadva</span>\\n                    </td>\\n    </tr>\\n    <tr class=\"text-onyx\">\\n        <td class=\"ps-0\">\\n            Energiatan\\xc3\\xbas\\xc3\\xadtv\\xc3\\xa1ny\\n                    </td>\\n        <td class=\"fw-bold ps-0\">\\n                            <span class=\"text-ash\">nincs megadva</span>\\n                    </td>\\n    </tr>\\n    </tbody>\\n</table>\\n        <div class=\"px-0 mt-2 fs-7 fw-700 font-family-secondary\">\\n            \\xc3\\x89rdekelnek a fogyaszt\\xc3\\xa1si k\\xc3\\xb6lts\\xc3\\xa9gek? <a href=\"https://www.money.hu/rezsi-kalkulator\" class=\"text-decoration-none text-windows\" onclick=\"window.icomEvents.moneyUtilitiesCalculatorEvent()\">Haszn\\xc3\\xa1ld a money.hu kalkul\\xc3\\xa1tort!</a>\\n        </div>\\n    </div>\\n\\n                \\n                \\n                                    <div class=\"row card border-ash bg-white rounded-5 p-4 mt-3 me-md-1\">\\n    <h5 class=\"card-title px-0 mb-4 fw-bold font-family-secondary\">Le\\xc3\\xadr\\xc3\\xa1s</h5>\\n    <div class=\"lh-base px-0\">\\n    <p id=\"listing-description\" data-max-mobile-height=\"400\">\\n        P\\xc3\\xa1szt\\xc3\\xb3n a K\\xc3\\xb6lcsey \\xc3\\xbaton, 30 m2  erk\\xc3\\xa9lyes, M\\xc3\\xa1tr\\xc3\\xa1ra n\\xc3\\xa9z\\xc5\\x91 panor\\xc3\\xa1m\\xc3\\xa1s egyszob\\xc3\\xa1s lak\\xc3\\xa1s kiad\\xc3\\xb3. <br />\\nB\\xc3\\xa9rleti d\\xc3\\xadj:90.000.- +rezsi / h\\xc3\\xb3. 2 havi kauci\\xc3\\xb3 sz\\xc3\\xbcks\\xc3\\xa9ges. <br />\\nA lak\\xc3\\xa1s ig\\xc3\\xa9nyesen, frissen fel\\xc3\\xbaj\\xc3\\xadtott, ablakai vadonat\\xc3\\xbajak. <br />\\nKis\\xc3\\xa1llat  \\xc3\\xa9s gyerek nem hozhat\\xc3\\xb3, doh\\xc3\\xa1nyz\\xc3\\xa1s nem megengedett.\\n    </p>\\n    <a id=\"description-read-more-button\" role=\"button\" class=\"print-d-none d-flex d-lg-none align-items-center fs-7 text-tomato text-decoration-none font-family-secondary\">\\n        Tov\\xc3\\xa1bb olvasom\\n        <span class=\"material-icons\">expand_more</span>\\n    </a>\\n    \\n    </div>\\n</div>\\n                \\n                \\n                <div id=\"details-page-map-container\" class=\"row card border-ash bg-white rounded-5 p-4 mt-3 me-md-1\">\\n    <div class=\"d-flex align-items-start\">\\n        <div class=\"d-flex flex-column flex-grow-1 font-family-secondary\">\\n            <span class=\"card-title px-0 fw-bold fs-5\">T\\xc3\\xa9rk\\xc3\\xa9p</span>\\n            <span class=\"card-title px-0 text-nickel fw-bold pb-2\">P\\xc3\\xa1szt\\xc3\\xb3, K\\xc3\\xb6lcsey utca </span>\\n        </div>\\n        <button id=\"map-fullscreen-open-button\" type=\"button\" class=\"btn btn-outline-ash d-inline-flex\">\\n            <span class=\"material-icons pe-2 text-tomato\">zoom_out_map</span>\\n            <span class=\"fw-bold text-tomato\">Nagy\\xc3\\xadt\\xc3\\xa1s</span>\\n        </button>\\n    </div>\\n\\n    \\n            <div data-controller=\"location\" data-location-listing-data-value=\"&#x7B;&quot;id&quot;&#x3A;33441333,&quot;clusterId&quot;&#x3A;33441333,&quot;type&quot;&#x3A;&quot;rent&quot;,&quot;rank&quot;&#x3A;0,&quot;hasRank&quot;&#x3A;0,&quot;rankSum&quot;&#x3A;0,&quot;property&quot;&#x3A;&#x7B;&quot;areaSize&quot;&#x3A;30,&quot;atticType&quot;&#x3A;null,&quot;availableFrom&quot;&#x3A;&#x7B;&quot;date&quot;&#x3A;&quot;2023-03-08&#x20;00&#x3A;00&#x3A;00.000000&quot;,&quot;timezone_type&quot;&#x3A;2,&quot;timezone&quot;&#x3A;&quot;Z&quot;&#x7D;,&quot;averageGasConsumption&quot;&#x3A;null,&quot;averageElectricConsumption&quot;&#x3A;null,&quot;balconySize&quot;&#x3A;2,&quot;bathroomToiletSeparation&quot;&#x3A;null,&quot;buildingFloorCount&quot;&#x3A;null,&quot;comfortLevel&quot;&#x3A;&quot;full&quot;,&quot;commonCharges&quot;&#x3A;null,&quot;condition&quot;&#x3A;&quot;renovated&quot;,&quot;electricityAvailability&quot;&#x3A;null,&quot;energyEfficiencyRating&quot;&#x3A;null,&quot;floor&quot;&#x3A;null,&quot;furnishment&quot;&#x3A;&quot;furnished&quot;,&quot;gardenSize&quot;&#x3A;null,&quot;gasAvailability&quot;&#x3A;null,&quot;hasAirConditioner&quot;&#x3A;null,&quot;hasBarrierFreeAccess&quot;&#x3A;null,&quot;hasBasement&quot;&#x3A;null,&quot;hasElevator&quot;&#x3A;null,&quot;hasEquipments&quot;&#x3A;true,&quot;hasGardenAccess&quot;&#x3A;null,&quot;innerHeight&quot;&#x3A;null,&quot;insulation&quot;&#x3A;null,&quot;insulationThickness&quot;&#x3A;null,&quot;isPetsAllowed&quot;&#x3A;false,&quot;isSmokingAllowed&quot;&#x3A;false,&quot;isGreenHome&quot;&#x3A;null,&quot;locationId&quot;&#x3A;80853,&quot;lotCoverabilityPercentage&quot;&#x3A;null,&quot;lotSize&quot;&#x3A;null,&quot;orientation&quot;&#x3A;null,&quot;parking&quot;&#x3A;null,&quot;parkingPrice&quot;&#x3A;null,&quot;parkingSpotCount&quot;&#x3A;null,&quot;participatedInThePanelProgram&quot;&#x3A;null,&quot;roomCount&quot;&#x3A;1,&quot;sewerAvailability&quot;&#x3A;null,&quot;smallRoomCount&quot;&#x3A;null,&quot;solarPanel&quot;&#x3A;null,&quot;solarPanelPowerOutput&quot;&#x3A;null,&quot;streetNumber&quot;&#x3A;null,&quot;streetNumberCoordinates&quot;&#x3A;null,&quot;subtype&quot;&#x3A;&quot;blockOfFlats&quot;,&quot;type&quot;&#x3A;&quot;flat&quot;,&quot;utilityCosts&quot;&#x3A;null,&quot;view&quot;&#x3A;null,&quot;waterAvailability&quot;&#x3A;null,&quot;yearOfConstruction&quot;&#x3A;null,&quot;heatingTypes&quot;&#x3A;null,&quot;minimumRentableArea&quot;&#x3A;null,&quot;minimumRentalPeriodMonth&quot;&#x3A;null,&quot;officeCategory&quot;&#x3A;null,&quot;projectId&quot;&#x3A;null,&quot;lotRatio&quot;&#x3A;null,&quot;grossFloorArea&quot;&#x3A;null,&quot;operationalCost&quot;&#x3A;null,&quot;isUnincorporatedArea&quot;&#x3A;false,&quot;withoutGasConnection&quot;&#x3A;false,&quot;energyEfficient&quot;&#x3A;false&#x7D;,&quot;description&quot;&#x3A;&quot;P&#x5C;u00e1szt&#x5C;u00f3n&#x20;a&#x20;K&#x5C;u00f6lcsey&#x20;&#x5C;u00faton,&#x20;30&#x20;m2&#x20;&#x20;erk&#x5C;u00e9lyes,&#x20;M&#x5C;u00e1tr&#x5C;u00e1ra&#x20;n&#x5C;u00e9z&#x5C;u0151&#x20;panor&#x5C;u00e1m&#x5C;u00e1s&#x20;egyszob&#x5C;u00e1s&#x20;lak&#x5C;u00e1s&#x20;kiad&#x5C;u00f3.&#x20;&#x5C;nB&#x5C;u00e9rleti&#x20;d&#x5C;u00edj&#x3A;90.000.-&#x20;&#x2B;rezsi&#x20;&#x5C;&#x2F;&#x20;h&#x5C;u00f3.&#x20;2&#x20;havi&#x20;kauci&#x5C;u00f3&#x20;sz&#x5C;u00fcks&#x5C;u00e9ges.&#x20;&#x5C;nA&#x20;lak&#x5C;u00e1s&#x20;ig&#x5C;u00e9nyesen,&#x20;frissen&#x20;fel&#x5C;u00faj&#x5C;u00edtott,&#x20;ablakai&#x20;vadonat&#x5C;u00fajak.&#x20;&#x5C;nKis&#x5C;u00e1llat&#x20;&#x20;&#x5C;u00e9s&#x20;gyerek&#x20;nem&#x20;hozhat&#x5C;u00f3,&#x20;doh&#x5C;u00e1nyz&#x5C;u00e1s&#x20;nem&#x20;megengedett.&quot;,&quot;referenceId&quot;&#x3A;null,&quot;minimumRentalPeriodMonth&quot;&#x3A;null,&quot;isBankClaimOffer&quot;&#x3A;false,&quot;isRentalRightOffer&quot;&#x3A;false,&quot;isOutdated&quot;&#x3A;false,&quot;isActive&quot;&#x3A;true,&quot;isDeleted&quot;&#x3A;false,&quot;updatedAt&quot;&#x3A;&#x7B;&quot;date&quot;&#x3A;&quot;2023-03-08&#x20;17&#x3A;33&#x3A;45.000000&quot;,&quot;timezone_type&quot;&#x3A;2,&quot;timezone&quot;&#x3A;&quot;Z&quot;&#x7D;,&quot;tenderDocument&quot;&#x3A;null,&quot;prices&quot;&#x3A;&#x5B;&#x7B;&quot;amount&quot;&#x3A;&quot;9000000&quot;,&quot;currency&quot;&#x3A;&quot;HUF&quot;,&quot;interval&quot;&#x3A;&#x7B;&quot;y&quot;&#x3A;0,&quot;m&quot;&#x3A;1,&quot;d&quot;&#x3A;0&#x7D;&#x7D;&#x5D;,&quot;areaPrices&quot;&#x3A;&#x5B;&#x5D;,&quot;photos&quot;&#x3A;&#x5B;&#x5D;,&quot;links&quot;&#x3A;&#x5B;&#x5D;,&quot;labels&quot;&#x3A;&#x5B;&#x5D;,&quot;sellerId&quot;&#x3A;212356733,&quot;seller&quot;&#x3A;&#x7B;&quot;id&quot;&#x3A;212356733,&quot;realtorsProhibited&quot;&#x3A;true&#x7D;,&quot;contactPhoneNumbers&quot;&#x3A;&#x7B;&#x7D;&#x7D;\" data-location-geo-json-value=\"&#x7B;&quot;type&quot;&#x3A;&quot;Feature&quot;,&quot;geometry&quot;&#x3A;&#x7B;&quot;type&quot;&#x3A;&quot;MultiLineString&quot;,&quot;coordinates&quot;&#x3A;&#x5B;&#x5B;&#x5B;19.697303900000001,47.920815099956499&#x5D;,&#x5B;19.6970499,47.920719599956499&#x5D;,&#x5B;19.696797400000001,47.920622599956502&#x5D;,&#x5B;19.6967146,47.920577199956597&#x5D;,&#x5B;19.696600199999999,47.920492599956603&#x5D;,&#x5B;19.6964124,47.920296499956599&#x5D;,&#x5B;19.696245300000001,47.920127999956698&#x5D;,&#x5B;19.696117900000001,47.919999599956697&#x5D;&#x5D;,&#x5B;&#x5B;19.697178900000001,47.920352299956598&#x5D;,&#x5B;19.698289899999999,47.919880799956701&#x5D;&#x5D;,&#x5B;&#x5B;19.697303900000001,47.920815099956499&#x5D;,&#x5B;19.697478,47.920880599956497&#x5D;,&#x5B;19.697604500000001,47.920916899956502&#x5D;,&#x5B;19.697952300000001,47.921016799956497&#x5D;,&#x5B;19.698503599999999,47.921175799956401&#x5D;,&#x5B;19.6990579,47.921375999956403&#x5D;,&#x5B;19.6991072,47.921396599956402&#x5D;,&#x5B;19.699144199999999,47.921427599956402&#x5D;&#x5D;&#x5D;&#x7D;,&quot;properties&quot;&#x3A;null&#x7D;\" data-location-location-hierarchy-data-value=\"&#x5B;&#x7B;&quot;id&quot;&#x3A;80853,&quot;type&quot;&#x3A;&quot;street&quot;,&quot;name&quot;&#x3A;&quot;K&#x5C;u00f6lcsey&quot;,&quot;namePostfix&quot;&#x3A;&quot;utca&quot;,&quot;slug&quot;&#x3A;&quot;paszto-kolcsey-utca-80853&quot;,&quot;coordinates&quot;&#x3A;&#x7B;&quot;lat&quot;&#x3A;47.921219999999998,&quot;lon&quot;&#x3A;19.698229999999999&#x7D;,&quot;bounds&quot;&#x3A;&#x7B;&quot;south&quot;&#x3A;47.919600000000003,&quot;west&quot;&#x3A;19.696175,&quot;north&quot;&#x3A;47.921405999999998,&quot;east&quot;&#x3A;19.699017999999999&#x7D;,&quot;urlPart&quot;&#x3A;&quot;u&#x3A;K&#x5C;u00f6lcsey_utca&#x7C;80853&quot;,&quot;parentId&quot;&#x3A;2365,&quot;isOfficeBuilding&quot;&#x3A;false,&quot;oldName&quot;&#x3A;null,&quot;usableInAd&quot;&#x3A;true,&quot;polygon&quot;&#x3A;&quot;&#x7B;&#x5C;&quot;type&#x5C;&quot;&#x3A;&#x5C;&quot;Feature&#x5C;&quot;,&#x5C;&quot;geometry&#x5C;&quot;&#x3A;&#x7B;&#x5C;&quot;type&#x5C;&quot;&#x3A;&#x5C;&quot;MultiLineString&#x5C;&quot;,&#x5C;&quot;coordinates&#x5C;&quot;&#x3A;&#x5B;&#x5B;&#x5B;19.697303900000001,47.920815099956499&#x5D;,&#x5B;19.6970499,47.920719599956499&#x5D;,&#x5B;19.696797400000001,47.920622599956502&#x5D;,&#x5B;19.6967146,47.920577199956597&#x5D;,&#x5B;19.696600199999999,47.920492599956603&#x5D;,&#x5B;19.6964124,47.920296499956599&#x5D;,&#x5B;19.696245300000001,47.920127999956698&#x5D;,&#x5B;19.696117900000001,47.919999599956697&#x5D;&#x5D;,&#x5B;&#x5B;19.697178900000001,47.920352299956598&#x5D;,&#x5B;19.698289899999999,47.919880799956701&#x5D;&#x5D;,&#x5B;&#x5B;19.697303900000001,47.920815099956499&#x5D;,&#x5B;19.697478,47.920880599956497&#x5D;,&#x5B;19.697604500000001,47.920916899956502&#x5D;,&#x5B;19.697952300000001,47.921016799956497&#x5D;,&#x5B;19.698503599999999,47.921175799956401&#x5D;,&#x5B;19.6990579,47.921375999956403&#x5D;,&#x5B;19.6991072,47.921396599956402&#x5D;,&#x5B;19.699144199999999,47.921427599956402&#x5D;&#x5D;&#x5D;&#x7D;&#x7D;&quot;,&quot;inflectionFrom&quot;&#x3A;&quot;&quot;,&quot;inflectionAt&quot;&#x3A;&quot;&quot;,&quot;zipCode&quot;&#x3A;&quot;3060&quot;&#x7D;,&#x7B;&quot;id&quot;&#x3A;2365,&quot;type&quot;&#x3A;&quot;city&quot;,&quot;name&quot;&#x3A;&quot;P&#x5C;u00e1szt&#x5C;u00f3&quot;,&quot;namePostfix&quot;&#x3A;&quot;&quot;,&quot;slug&quot;&#x3A;&quot;paszto&quot;,&quot;coordinates&quot;&#x3A;&#x7B;&quot;lat&quot;&#x3A;47.921090999999997,&quot;lon&quot;&#x3A;19.699835&#x7D;,&quot;bounds&quot;&#x3A;&#x7B;&quot;south&quot;&#x3A;47.902718,&quot;west&quot;&#x3A;19.683959999999999,&quot;north&quot;&#x3A;47.935009999999998,&quot;east&quot;&#x3A;19.749018&#x7D;,&quot;urlPart&quot;&#x3A;&quot;paszto&quot;,&quot;parentId&quot;&#x3A;144813,&quot;isOfficeBuilding&quot;&#x3A;false,&quot;oldName&quot;&#x3A;null,&quot;usableInAd&quot;&#x3A;true,&quot;polygon&quot;&#x3A;&quot;&#x7B;&#x5C;&quot;type&#x5C;&quot;&#x3A;&#x5C;&quot;MultiPolygon&#x5C;&quot;,&#x5C;&quot;coordinates&#x5C;&quot;&#x3A;&#x5B;&#x5B;&#x5B;&#x5B;19.630219060722,47.921266639943&#x5D;,&#x5B;19.630802426668,47.923165937287&#x5D;,&#x5B;19.632533120894,47.92544373794&#x5D;,&#x5B;19.632545876971,47.926583774446&#x5D;,&#x5B;19.631991257115,47.928110886777&#x5D;,&#x5B;19.63200392336,47.929250864495&#x5D;,&#x5B;19.630345813009,47.932685753931&#x5D;,&#x5B;19.630375457413,47.935350061751&#x5D;,&#x5B;19.630950558858,47.936493490876&#x5D;,&#x5B;19.632093126068,47.937249865066&#x5D;,&#x5B;19.634365414579,47.937616372768&#x5D;,&#x5B;19.637767514223,47.937599160806&#x5D;,&#x5B;19.639459760555,47.937212552149&#x5D;,&#x5B;19.646228656053,47.93489145525&#x5D;,&#x5B;19.655273612985,47.933320185574&#x5D;,&#x5B;19.657528294517,47.932168259953&#x5D;,&#x5B;19.659193411728,47.929495060478&#x5D;,&#x5B;19.659760518167,47.929107969885&#x5D;,&#x5B;19.667103347299,47.927928863614&#x5D;,&#x5B;19.669370964571,47.927916764829&#x5D;,&#x5B;19.670495745138,47.927148576507&#x5D;,&#x5B;19.672191854226,47.927139487234&#x5D;,&#x5B;19.677842616689,47.925584656216&#x5D;,&#x5B;19.677847287929,47.925968763418&#x5D;,&#x5B;19.678994795872,47.927102648573&#x5D;,&#x5B;19.683520777768,47.927077969063&#x5D;,&#x5B;19.683525449008,47.927462185561&#x5D;,&#x5B;19.682400758272,47.928224289773&#x5D;,&#x5B;19.685226139504,47.927830749011&#x5D;,&#x5B;19.686392422237,47.930488746263&#x5D;,&#x5B;19.688130392817,47.933143657752&#x5D;,&#x5B;19.691002666107,47.936554335835&#x5D;,&#x5B;19.693294088734,47.938443864182&#x5D;,&#x5B;19.700599458119,47.934214371287&#x5D;,&#x5B;19.701185339347,47.935357344052&#x5D;,&#x5B;19.703463107581,47.936868850775&#x5D;,&#x5B;19.704044227739,47.93762148821&#x5D;,&#x5B;19.703477390794,47.938008876165&#x5D;,&#x5B;19.704620946151,47.938764566202&#x5D;,&#x5B;19.70520215614,47.939523374526&#x5D;,&#x5B;19.706336279186,47.939516935324&#x5D;,&#x5B;19.706893863483,47.939129679029&#x5D;,&#x5B;19.706326667212,47.938754877167&#x5D;,&#x5B;19.70632181631,47.938370744565&#x5D;,&#x5B;19.707455939356,47.9383643654&#x5D;,&#x5B;19.710824711503,47.936442876963&#x5D;,&#x5B;19.714183242856,47.932997042301&#x5D;,&#x5B;19.716451129622,47.932984041897&#x5D;,&#x5B;19.719295914464,47.934107782418&#x5D;,&#x5B;19.722698463266,47.934850168428&#x5D;,&#x5B;19.726115115617,47.935976576657&#x5D;,&#x5B;19.726120056351,47.936354588366&#x5D;,&#x5B;19.731238387346,47.937848854057&#x5D;,&#x5B;19.740286308719,47.936655081931&#x5D;,&#x5B;19.744797019255,47.934719687411&#x5D;,&#x5B;19.760597217293,47.930435056781&#x5D;,&#x5B;19.764005245818,47.931560357412&#x5D;,&#x5B;19.768540839687,47.931532369647&#x5D;,&#x5B;19.775324467555,47.930727880467&#x5D;,&#x5B;19.77702452923,47.930333094763&#x5D;,&#x5B;19.778143919906,47.929948056923&#x5D;,&#x5B;19.779833471292,47.928797260024&#x5D;,&#x5B;19.782081145965,47.928020838361&#x5D;,&#x5B;19.786054124972,47.927995737939&#x5D;,&#x5B;19.787734244048,47.926844837404&#x5D;,&#x5B;19.789419573352,47.926071937942&#x5D;,&#x5B;19.793943758618,47.925280847733&#x5D;,&#x5B;19.795066652723,47.924511476519&#x5D;,&#x5B;19.796757192256,47.924116342375&#x5D;,&#x5B;19.798442341897,47.923349542367&#x5D;,&#x5B;19.80014752397,47.923338586279&#x5D;,&#x5B;19.80295520839,47.921795982025&#x5D;,&#x5B;19.805224442629,47.922543360718&#x5D;,&#x5B;19.805229832521,47.92292129003&#x5D;,&#x5B;19.806369165796,47.923298072812&#x5D;,&#x5B;19.808074347868,47.92328687592&#x5D;,&#x5B;19.809202452202,47.92289534435&#x5D;,&#x5B;19.810273064358,47.919087087743&#x5D;,&#x5B;19.809710629158,47.918710153882&#x5D;,&#x5B;19.810251145465,47.917178067977&#x5D;,&#x5B;19.810806214479,47.916419473598&#x5D;,&#x5B;19.810769653047,47.914500541405&#x5D;,&#x5B;19.811882935178,47.91333458917&#x5D;,&#x5B;19.809551088364,47.908812745996&#x5D;,&#x5B;19.81182427519,47.90840785744&#x5D;,&#x5B;19.81183011424,47.908031989886&#x5D;,&#x5B;19.812934413218,47.90801627348&#x5D;,&#x5B;19.814077788912,47.907249174619&#x5D;,&#x5B;19.813501160331,47.907260374983&#x5D;,&#x5B;19.809498896246,47.904624489285&#x5D;,&#x5B;19.81173668945,47.902701265468&#x5D;,&#x5B;19.813442769838,47.901921742077&#x5D;,&#x5B;19.815703829408,47.901906144263&#x5D;,&#x5B;19.820720111786,47.899215541303&#x5D;,&#x5B;19.821283624964,47.897703054621&#x5D;,&#x5B;19.82240364446,47.896921046807&#x5D;,&#x5B;19.830322383521,47.896480891188&#x5D;,&#x5B;19.83033406162,47.896104756335&#x5D;,&#x5B;19.83260158906,47.896092891028&#x5D;,&#x5B;19.834842795862,47.896457461891&#x5D;,&#x5B;19.831759687975,47.898564851616&#x5D;,&#x5B;19.83377532781,47.899896636733&#x5D;,&#x5B;19.834330486656,47.899888867634&#x5D;,&#x5B;19.834901994839,47.899120865378&#x5D;,&#x5B;19.835462274082,47.899496135156&#x5D;,&#x5B;19.837175810486,47.899493244306&#x5D;,&#x5B;19.837187578417,47.900253170869&#x5D;,&#x5B;19.83774848648,47.900625240529&#x5D;,&#x5B;19.837742647431,47.900249256234&#x5D;,&#x5B;19.838309394544,47.900236187373&#x5D;,&#x5B;19.838404436301,47.900941178449&#x5D;,&#x5B;19.839451422764,47.901369853619&#x5D;,&#x5B;19.841187866208,47.901318964437&#x5D;,&#x5B;19.852314578981,47.893340367423&#x5D;,&#x5B;19.855144182294,47.890988870346&#x5D;,&#x5B;19.853444659608,47.890244288664&#x5D;,&#x5B;19.852287809185,47.890632091704&#x5D;,&#x5B;19.850610924044,47.89064383779&#x5D;,&#x5B;19.849477429819,47.890271636162&#x5D;,&#x5B;19.848899094439,47.889119775949&#x5D;,&#x5B;19.847748083065,47.887995359297&#x5D;,&#x5B;19.847748083065,47.887611391863&#x5D;,&#x5B;19.847169657854,47.887227361343&#x5D;,&#x5B;19.847716821693,47.886089288999&#x5D;,&#x5B;19.848262727892,47.885691451756&#x5D;,&#x5B;19.848241168325,47.883049949428&#x5D;,&#x5B;19.847647741248,47.881909556177&#x5D;,&#x5B;19.844772054361,47.878496058355&#x5D;,&#x5B;19.843608017415,47.8766055452&#x5D;,&#x5B;19.8413060845,47.875844187021&#x5D;,&#x5B;19.838504867949,47.875485074659&#x5D;,&#x5B;19.836204282507,47.874358253085&#x5D;,&#x5B;19.831694380454,47.874395069042&#x5D;,&#x5B;19.831147575941,47.874016243037&#x5D;,&#x5B;19.830562323533,47.874780881833&#x5D;,&#x5B;19.829466828044,47.875172777439&#x5D;,&#x5B;19.828873490799,47.875178863125&#x5D;,&#x5B;19.826618539773,47.876311692154&#x5D;,&#x5B;19.825561312515,47.87556575465&#x5D;,&#x5B;19.823284981585,47.87824077653&#x5D;,&#x5B;19.820459690185,47.880207745631&#x5D;,&#x5B;19.819354043733,47.880559053261&#x5D;,&#x5B;19.819925821412,47.881691162192&#x5D;,&#x5B;19.816513031816,47.883657638827&#x5D;,&#x5B;19.816012041382,47.884386953085&#x5D;,&#x5B;19.813778919417,47.8855560876&#x5D;,&#x5B;19.810354811049,47.885960191028&#x5D;,&#x5B;19.806945794377,47.88596838391&#x5D;,&#x5B;19.803561211881,47.886763147473&#x5D;,&#x5B;19.80245619425,47.886390978197&#x5D;,&#x5B;19.800213280648,47.887533441428&#x5D;,&#x5B;19.799076911814,47.888713287629&#x5D;,&#x5B;19.797366789008,47.889852085401&#x5D;,&#x5B;19.797987165543,47.890567759248&#x5D;,&#x5B;19.797439642377,47.890982846752&#x5D;,&#x5B;19.796889783592,47.892105271036&#x5D;,&#x5B;19.789570759814,47.896717773433&#x5D;,&#x5B;19.789583066734,47.897127391051&#x5D;,&#x5B;19.788410046636,47.897119139706&#x5D;,&#x5B;19.788507783339,47.897496050159&#x5D;,&#x5B;19.786210611494,47.899060638873&#x5D;,&#x5B;19.784524473706,47.899814368542&#x5D;,&#x5B;19.784512256618,47.900576157359&#x5D;,&#x5B;19.783962308001,47.900977553945&#x5D;,&#x5B;19.783986832008,47.901354376086&#x5D;,&#x5B;19.7806144666,47.902894337819&#x5D;,&#x5B;19.7806144666,47.903279336149&#x5D;,&#x5B;19.778903894636,47.903680771998&#x5D;,&#x5B;19.777249826704,47.904821649412&#x5D;,&#x5B;19.776675174416,47.904831886784&#x5D;,&#x5B;19.776092167797,47.904456053481&#x5D;,&#x5B;19.77496154818,47.904466893127&#x5D;,&#x5B;19.774393363763,47.904088347244&#x5D;,&#x5B;19.771607508404,47.903736175441&#x5D;,&#x5B;19.768154384452,47.9029913555&#x5D;,&#x5B;19.76753301977,47.900887157176&#x5D;,&#x5B;19.767482534451,47.896455594774&#x5D;,&#x5B;19.765828825844,47.895713741834&#x5D;,&#x5B;19.763442361461,47.893473663311&#x5D;,&#x5B;19.761771854358,47.893121539764&#x5D;,&#x5B;19.759522383055,47.8912637864&#x5D;,&#x5B;19.759411081792,47.888204148677&#x5D;,&#x5B;19.758869936664,47.886667846369&#x5D;,&#x5B;19.75773707126,47.886674774078&#x5D;,&#x5B;19.756037009584,47.886301037891&#x5D;,&#x5B;19.751464584788,47.88328635091&#x5D;,&#x5B;19.750296056267,47.880628940964&#x5D;,&#x5B;19.750285815472,47.879866858672&#x5D;,&#x5B;19.749703797,47.878346094745&#x5D;,&#x5B;19.746264956261,47.875324377096&#x5D;,&#x5B;19.745693178582,47.874565591058&#x5D;,&#x5B;19.746234593204,47.873037983019&#x5D;,&#x5B;19.740019778574,47.873837343647&#x5D;,&#x5B;19.738911257513,47.874984181061&#x5D;,&#x5B;19.737783692169,47.875375050809&#x5D;,&#x5B;19.736650916595,47.875381739013&#x5D;,&#x5B;19.733277742704,47.877304049554&#x5D;,&#x5B;19.732715936325,47.877307483909&#x5D;,&#x5B;19.731593132051,47.878076171202&#x5D;,&#x5B;19.729903580665,47.878464185852&#x5D;,&#x5B;19.729332521639,47.878467439379&#x5D;,&#x5B;19.729327670736,47.878089546911&#x5D;,&#x5B;19.72762814805,47.877715387271&#x5D;,&#x5B;19.716895975351,47.879680086854&#x5D;,&#x5B;19.713526125226,47.881223765846&#x5D;,&#x5B;19.710127618843,47.881243165469&#x5D;,&#x5B;19.705072708907,47.884320685073&#x5D;,&#x5B;19.70451099236,47.884323757501&#x5D;,&#x5B;19.702816410408,47.885095593804&#x5D;,&#x5B;19.700564513654,47.885486146302&#x5D;,&#x5B;19.697746318945,47.886264170152&#x5D;,&#x5B;19.697161156369,47.885127341742&#x5D;,&#x5B;19.695457052275,47.884374663387&#x5D;,&#x5B;19.695447619964,47.883612575954&#x5D;,&#x5B;19.6925873841,47.880964039139&#x5D;,&#x5B;19.692002221523,47.879820949017&#x5D;,&#x5B;19.688585389509,47.878321753483&#x5D;,&#x5B;19.684569830357,47.873770881372&#x5D;,&#x5B;19.674956060187,47.87382324377&#x5D;,&#x5B;19.673827955853,47.874213579977&#x5D;,&#x5B;19.660820350539,47.874660974683&#x5D;,&#x5B;19.660824842115,47.875045158623&#x5D;,&#x5B;19.659709853184,47.876569152582&#x5D;,&#x5B;19.660294297108,47.877712434954&#x5D;,&#x5B;19.660391854148,47.886083264836&#x5D;,&#x5B;19.657015266658,47.888009575796&#x5D;,&#x5B;19.654775676823,47.890301573825&#x5D;,&#x5B;19.6536470335,47.890691665415&#x5D;,&#x5B;19.651965207626,47.891840539155&#x5D;,&#x5B;19.649725348296,47.894138692031&#x5D;,&#x5B;19.648095624708,47.899853936788&#x5D;,&#x5B;19.646988540951,47.902146193503&#x5D;,&#x5B;19.646426465078,47.902149084204&#x5D;,&#x5B;19.645863940047,47.902914090657&#x5D;,&#x5B;19.645868251961,47.903292042912&#x5D;,&#x5B;19.647559240651,47.902905358458&#x5D;,&#x5B;19.648696867127,47.903277469279&#x5D;,&#x5B;19.648727320015,47.905941786509&#x5D;,&#x5B;19.646513332166,47.909763956693&#x5D;,&#x5B;19.643138990464,47.912061554877&#x5D;,&#x5B;19.642009718321,47.912451482533&#x5D;,&#x5B;19.637510685883,47.914760882638&#x5D;,&#x5B;19.635822751464,47.916287561329&#x5D;,&#x5B;19.63133153437,47.919358784253&#x5D;,&#x5B;19.630219060722,47.921266639943&#x5D;&#x5D;&#x5D;&#x5D;&#x7D;&quot;,&quot;inflectionFrom&quot;&#x3A;&quot;p&#x5C;u00e1szt&#x5C;u00f3i&quot;,&quot;inflectionAt&quot;&#x3A;&quot;P&#x5C;u00e1szt&#x5C;u00f3n&quot;,&quot;zipCode&quot;&#x3A;&quot;3060&quot;&#x7D;,&#x7B;&quot;id&quot;&#x3A;144813,&quot;type&quot;&#x3A;&quot;microRegion&quot;,&quot;name&quot;&#x3A;&quot;P&#x5C;u00e1szt&#x5C;u00f3i&quot;,&quot;namePostfix&quot;&#x3A;&quot;j&#x5C;u00e1r&#x5C;u00e1s&quot;,&quot;slug&quot;&#x3A;&quot;paszt&#x5C;u00f3i-jaras&quot;,&quot;coordinates&quot;&#x3A;&#x7B;&quot;lat&quot;&#x3A;47.843502000000001,&quot;lon&quot;&#x3A;19.635363999999999&#x7D;,&quot;bounds&quot;&#x3A;&#x7B;&quot;south&quot;&#x3A;47.687812999999998,&quot;west&quot;&#x3A;19.415585,&quot;north&quot;&#x3A;47.999189999999999,&quot;east&quot;&#x3A;19.855145&#x7D;,&quot;urlPart&quot;&#x3A;&quot;paszt&#x5C;u00f3i-jaras&quot;,&quot;parentId&quot;&#x3A;21,&quot;isOfficeBuilding&quot;&#x3A;false,&quot;oldName&quot;&#x3A;null,&quot;usableInAd&quot;&#x3A;true,&quot;polygon&quot;&#x3A;&quot;&#x7B;&#x5C;&quot;type&#x5C;&quot;&#x3A;&#x5C;&quot;MultiPolygon&#x5C;&quot;,&#x5C;&quot;coordinates&#x5C;&quot;&#x3A;&#x5B;&#x5B;&#x5B;&#x5B;19.41558405089828,47.77135953644272&#x5D;,&#x5B;19.4161099246656,47.77851226795187&#x5D;,&#x5B;19.42084287840304,47.780407383721325&#x5D;,&#x5B;19.426852877148388,47.79658869187283&#x5D;,&#x5B;19.44641288397633,47.80252564038915&#x5D;,&#x5B;19.42502327840922,47.81665963896767&#x5D;,&#x5B;19.427291614333146,47.81741438653635&#x5D;,&#x5B;19.426168360901883,47.818558189424714&#x5D;,&#x5B;19.425607273175427,47.818560059348684&#x5D;,&#x5B;19.425609968121275,47.81894417649645&#x5D;,&#x5B;19.42503962774739,47.81894604640653&#x5D;,&#x5B;19.425047892248003,47.82008613613269&#x5D;,&#x5B;19.426190369626347,47.82160673956629&#x5D;,&#x5B;19.42619584934958,47.822368954683434&#x5D;,&#x5B;19.42676897450085,47.82274508203615&#x5D;,&#x5B;19.426774454224084,47.82350715981061&#x5D;,&#x5B;19.42791154171072,47.82426566790106&#x5D;,&#x5B;19.427919896042862,47.82540576143004&#x5D;,&#x5B;19.427354945560676,47.82616979041602&#x5D;,&#x5B;19.42681299194977,47.8288359632399&#x5D;,&#x5B;19.423992641283753,47.830747456343516&#x5D;,&#x5B;19.422883671065502,47.832653391403205&#x5D;,&#x5B;19.42175736336228,47.833419243393486&#x5D;,&#x5B;19.42176275325398,47.834181345358644&#x5D;,&#x5B;19.420639050665073,47.8353313515935&#x5D;,&#x5B;19.422362019380017,47.83950838963703&#x5D;,&#x5B;19.424625953559055,47.839500973254964&#x5D;,&#x5B;19.426903631961938,47.841402064790834&#x5D;,&#x5B;19.427470558737745,47.84215615116511&#x5D;,&#x5B;19.42690911168517,47.842157959946306&#x5D;,&#x5B;19.427473343515125,47.8425403348751&#x5D;,&#x5B;19.4280439533836,47.84253846581498&#x5D;,&#x5B;19.429175022157835,47.843674841945166&#x5D;,&#x5B;19.428619144660026,47.84443884314157&#x5D;,&#x5B;19.42975677113583,47.84519728648179&#x5D;,&#x5B;19.429762250859067,47.84595933602966&#x5D;,&#x5B;19.430326482689015,47.84633559386526&#x5D;,&#x5B;19.42977051535968,47.84709955587233&#x5D;,&#x5B;19.431466983773735,47.84747803603803&#x5D;,&#x5B;19.43486602914579,47.84784475765457&#x5D;,&#x5B;19.442236885715047,47.85124646990088&#x5D;,&#x5B;19.442807585415046,47.851244540872315&#x5D;,&#x5B;19.443945571216968,47.85200288469696&#x5D;,&#x5B;19.445077717969543,47.85199896641476&#x5D;,&#x5B;19.447327189272507,47.85122904835903&#x5D;,&#x5B;19.449591572609187,47.85122127195957&#x5D;,&#x5B;19.4495944472181,47.85159917951186&#x5D;,&#x5B;19.451297383502204,47.851593271901834&#x5D;,&#x5B;19.454690679656437,47.852343593272316&#x5D;,&#x5B;19.45808738940875,47.85233153709767&#x5D;,&#x5B;19.458090353849187,47.8527157660051&#x5D;,&#x5B;19.458654855173727,47.85309179398676&#x5D;,&#x5B;19.459222590433292,47.85271178749633&#x5D;,&#x5B;19.459784037485868,47.85270973796139&#x5D;,&#x5B;19.459787091757832,47.85308763466683&#x5D;,&#x5B;19.46205156492604,47.85307967770605&#x5D;,&#x5B;19.462048510654075,47.85270166038172&#x5D;,&#x5B;19.46543605759049,47.85268948372938&#x5D;,&#x5B;19.466015830274863,47.853827566404384&#x5D;,&#x5B;19.468280393274597,47.85381936844053&#x5D;,&#x5B;19.466598657231195,47.85648984688892&#x5D;,&#x5B;19.466037030515565,47.8564919565505&#x5D;,&#x5B;19.466043139059497,47.85725408124832&#x5D;,&#x5B;19.4671845384595,47.85839007470446&#x5D;,&#x5B;19.46719379110693,47.85953634986998&#x5D;,&#x5B;19.467758382263,47.85991226811869&#x5D;,&#x5B;19.468902925766493,47.86143248819111&#x5D;,&#x5B;19.468909034310425,47.86219454026626&#x5D;,&#x5B;19.46835046186676,47.86257453753049&#x5D;,&#x5B;19.46891217841392,47.86257254865436&#x5D;,&#x5B;19.468353516138727,47.86295875080619&#x5D;,&#x5B;19.467791889423093,47.86410094732301&#x5D;,&#x5B;19.46836573322659,47.86447689273968&#x5D;,&#x5B;19.468368877330086,47.864860971382804&#x5D;,&#x5B;19.470633709824405,47.86599288093651&#x5D;,&#x5B;19.470655269391223,47.8686572485514&#x5D;,&#x5B;19.471232257298215,47.86941726606447&#x5D;,&#x5B;19.471806280764767,47.870939436987726&#x5D;,&#x5B;19.471821641956126,47.87284166597169&#x5D;,&#x5B;19.472395755254208,47.87322375442005&#x5D;,&#x5B;19.47295432769787,47.87283756849317&#x5D;,&#x5B;19.475219609349832,47.87282925302105&#x5D;,&#x5B;19.47466103690617,47.87321543900992&#x5D;,&#x5B;19.475787524272455,47.873589269608296&#x5D;,&#x5B;19.476367835945997,47.87472725505161&#x5D;,&#x5B;19.475244492683203,47.87587774823368&#x5D;,&#x5B;19.474682776136046,47.87587973659927&#x5D;,&#x5B;19.474133456339807,47.87854624696351&#x5D;,&#x5B;19.473019186061386,47.88083059055724&#x5D;,&#x5B;19.473596353631432,47.881590670525746&#x5D;,&#x5B;19.471330622821824,47.88159898459183&#x5D;,&#x5B;19.46963909514183,47.881989262221644&#x5D;,&#x5B;19.466240409095892,47.88200155248518&#x5D;,&#x5B;19.466805269746544,47.882377548795034&#x5D;,&#x5B;19.466817486834408,47.88390174879004&#x5D;,&#x5B;19.46625568045572,47.8839037368477&#x5D;,&#x5B;19.467968677871006,47.88618404899434&#x5D;,&#x5B;19.46853973689712,47.88618194054116&#x5D;,&#x5B;19.46854279116909,47.8865599547049&#x5D;,&#x5B;19.467986913671275,47.88846426075458&#x5D;,&#x5B;19.465186325941502,47.89190089452898&#x5D;,&#x5B;19.465189380213474,47.89228507109873&#x5D;,&#x5B;19.465751366255212,47.892283083362756&#x5D;,&#x5B;19.463512495072603,47.89457127835907&#x5D;,&#x5B;19.46351545951304,47.89495543511777&#x5D;,&#x5B;19.461817194468413,47.89572367985459&#x5D;,&#x5B;19.461820158908854,47.89610168460572&#x5D;,&#x5B;19.461261137307545,47.896481674172115&#x5D;,&#x5B;19.46126715601995,47.89724375294174&#x5D;,&#x5B;19.46070822425017,47.897629877403844&#x5D;,&#x5B;19.46071424296257,47.898392059728074&#x5D;,&#x5B;19.46014309410493,47.898394047229544&#x5D;,&#x5B;19.45958694711253,47.899158145549976&#x5D;,&#x5B;19.460154951866677,47.89991205447639&#x5D;,&#x5B;19.460160970579082,47.90067426342845&#x5D;,&#x5B;19.458477527736644,47.9022044892868&#x5D;,&#x5B;19.457909343319436,47.90259063697441&#x5D;,&#x5B;19.457347267446163,47.902592684537126&#x5D;,&#x5B;19.45678195763787,47.903350578292034&#x5D;,&#x5B;19.45791823664075,47.90373075554111&#x5D;,&#x5B;19.45907841083019,47.90715318860956&#x5D;,&#x5B;19.460211815224167,47.90714915406197&#x5D;,&#x5B;19.46079518116967,47.90867136052432&#x5D;,&#x5B;19.461925351628622,47.9094232642588&#x5D;,&#x5B;19.46192831606906,47.90980737103235&#x5D;,&#x5B;19.465307508673334,47.90713084805099&#x5D;,&#x5B;19.468142591710016,47.90788277416612&#x5D;,&#x5B;19.471545859163896,47.90824834589379&#x5D;,&#x5B;19.472685461933338,47.90900633748621&#x5D;,&#x5B;19.472682407661367,47.90862836673965&#x5D;,&#x5B;19.473247537806607,47.9090042901772&#x5D;,&#x5B;19.473818956158834,47.909002182653126&#x5D;,&#x5B;19.473250681910102,47.90938225817836&#x5D;,&#x5B;19.473821920599274,47.90938015066967&#x5D;,&#x5B;19.474387230407572,47.909762270698266&#x5D;,&#x5B;19.474390374511067,47.91014029337741&#x5D;,&#x5B;19.474961613200236,47.9101381858996&#x5D;,&#x5B;19.47439342878303,47.910524394829245&#x5D;,&#x5B;19.47496475730373,47.91052228736707&#x5D;,&#x5B;19.4749678115757,47.910900244281954&#x5D;,&#x5B;19.475529977280498,47.91089813683509&#x5D;,&#x5B;19.475533121383997,47.91128235308687&#x5D;,&#x5B;19.476095287088793,47.91128024565556&#x5D;,&#x5B;19.47609834136076,47.91165813682292&#x5D;,&#x5B;19.476669759712987,47.91165608961881&#x5D;,&#x5B;19.47723506952129,47.91203819284279&#x5D;,&#x5B;19.477238033961726,47.91241613868642&#x5D;,&#x5B;19.477806308210457,47.91203608544227&#x5D;,&#x5B;19.477809452313952,47.912413971090274&#x5D;,&#x5B;19.479505112244254,47.91240776935637&#x5D;,&#x5B;19.47950825634775,47.91278565229021&#x5D;,&#x5B;19.480070332221022,47.91278354492013&#x5D;,&#x5B;19.480067277949058,47.9124056619709&#x5D;,&#x5B;19.480638696301284,47.91240349437432&#x5D;,&#x5B;19.480635552197793,47.91202554843835&#x5D;,&#x5B;19.48120077217456,47.91240138698867&#x5D;,&#x5B;19.481197628071065,47.912023441037306&#x5D;,&#x5B;19.482902540648798,47.912017058622205&#x5D;,&#x5B;19.483461472418576,47.911630740408185&#x5D;,&#x5B;19.484032890770806,47.911628693202985&#x5D;,&#x5B;19.48402965683578,47.9112506813959&#x5D;,&#x5B;19.484594966644078,47.911626585785775&#x5D;,&#x5B;19.485157132348878,47.911624357944646&#x5D;,&#x5B;19.485725316766086,47.91124423867312&#x5D;,&#x5B;19.48685881099159,47.911239963594944&#x5D;,&#x5B;19.48855123698687,47.91084948489499&#x5D;,&#x5B;19.490240339215596,47.91008086247013&#x5D;,&#x5B;19.490814991502848,47.91046285689847&#x5D;,&#x5B;19.49137715720765,47.91046068922051&#x5D;,&#x5B;19.49306572044721,47.90855195332831&#x5D;,&#x5B;19.493627886152012,47.90854978557032&#x5D;,&#x5B;19.49363435402206,47.909305665236246&#x5D;,&#x5B;19.494774226286076,47.9100634607022&#x5D;,&#x5B;19.49592406984975,47.91196744434964&#x5D;,&#x5B;19.494800277429317,47.913111992565106&#x5D;,&#x5B;19.494245028752204,47.91501634571582&#x5D;,&#x5B;19.496528456372907,47.916909791743585&#x5D;,&#x5B;19.498256365821913,47.91956744716713&#x5D;,&#x5B;19.498821945124792,47.91994949197219&#x5D;,&#x5B;19.49940378393432,47.922227374056455&#x5D;,&#x5B;19.500547429122527,47.92336928739923&#x5D;,&#x5B;19.502262582494495,47.92450268776699&#x5D;,&#x5B;19.503406946334938,47.92678458296207&#x5D;,&#x5B;19.503423475336167,47.928686747503995&#x5D;,&#x5B;19.503998397118,47.92906246503212&#x5D;,&#x5B;19.504570623953988,47.930206454526434&#x5D;,&#x5B;19.50458382918866,47.93172449180217&#x5D;,&#x5B;19.50403477888701,47.933250970850615&#x5D;,&#x5B;19.50406136901942,47.936299340210454&#x5D;,&#x5B;19.50520860746877,47.937819064253134&#x5D;,&#x5B;19.51033412498537,47.94084116744817&#x5D;,&#x5B;19.510896650016285,47.9408388806871&#x5D;,&#x5B;19.510900063614365,47.94122305512801&#x5D;,&#x5B;19.51147507522773,47.94159868157503&#x5D;,&#x5B;19.51147830916275,47.94197665218016&#x5D;,&#x5B;19.51260335922458,47.94197213893497&#x5D;,&#x5B;19.512610096589214,47.94273427001986&#x5D;,&#x5B;19.514322734678387,47.943489590112215&#x5D;,&#x5B;19.514888673307382,47.943871458227434&#x5D;,&#x5B;19.51489199707393,47.94424935204079&#x5D;,&#x5B;19.51772285802878,47.94423797916221&#x5D;,&#x5B;19.51772627162686,47.944615870296055&#x5D;,&#x5B;19.518297959473674,47.944613583701965&#x5D;,&#x5B;19.518857070906506,47.944233345766506&#x5D;,&#x5B;19.51886048450459,47.94461123693423&#x5D;,&#x5B;19.51942875875332,47.94423105915549&#x5D;,&#x5B;19.51943908937909,47.945371042549326&#x5D;,&#x5B;19.520005028008086,47.94575295693745&#x5D;,&#x5B;19.520011855204242,47.946515092451136&#x5D;,&#x5B;19.520587046480667,47.94689068044408&#x5D;,&#x5B;19.520015268802325,47.94689296693743&#x5D;,&#x5B;19.520590460078743,47.94727487008021&#x5D;,&#x5B;19.520600790704513,47.94841484651257&#x5D;,&#x5B;19.5211632259039,47.948412560086524&#x5D;,&#x5B;19.521187390585045,47.95107683965993&#x5D;,&#x5B;19.521762581861463,47.95145245466836&#x5D;,&#x5B;19.52232519672391,47.95145016837671&#x5D;,&#x5B;19.522332023920068,47.95221228004534&#x5D;,&#x5B;19.52347333348854,47.95296974786204&#x5D;,&#x5B;19.52403594835099,47.95296746163753&#x5D;,&#x5B;19.525756042457022,47.95448459002409&#x5D;,&#x5B;19.526898519835363,47.95638218618539&#x5D;,&#x5B;19.530316070502263,47.9578922359785&#x5D;,&#x5B;19.533151153538945,47.95825835669802&#x5D;,&#x5B;19.539418429781662,47.961658475171184&#x5D;,&#x5B;19.545105753676953,47.96315856598731&#x5D;,&#x5B;19.547955838578883,47.96504856546131&#x5D;,&#x5B;19.548525729795124,47.96580819090848&#x5D;,&#x5B;19.54796302510115,47.96581053671368&#x5D;,&#x5B;19.54852941288779,47.966192360202335&#x5D;,&#x5B;19.54797039128648,47.966572677169346&#x5D;,&#x5B;19.547977667640282,47.96733474623204&#x5D;,&#x5B;19.546842915773382,47.967339678291964&#x5D;,&#x5B;19.546850192127188,47.968101736037795&#x5D;,&#x5B;19.546278234785788,47.96810426217738&#x5D;,&#x5B;19.546281828046922,47.96848215923681&#x5D;,&#x5B;19.545722716614083,47.96886877459877&#x5D;,&#x5B;19.545159922088583,47.968871180410254&#x5D;,&#x5B;19.545163515349724,47.96924907185817&#x5D;,&#x5B;19.544591558008324,47.96925153779678&#x5D;,&#x5B;19.544598834362127,47.97001368762104&#x5D;,&#x5B;19.54803578863917,47.97342536107096&#x5D;,&#x5B;19.548609452779605,47.97456295643731&#x5D;,&#x5B;19.549748067402227,47.974942249553756&#x5D;,&#x5B;19.550882819269127,47.974937258081646&#x5D;,&#x5B;19.550879136176462,47.974553153835295&#x5D;,&#x5B;19.552003018428422,47.97340816103327&#x5D;,&#x5B;19.55199574207462,47.97264606130519&#x5D;,&#x5B;19.55255485350746,47.97226578906069&#x5D;,&#x5B;19.55312681084886,47.972263263124674&#x5D;,&#x5B;19.55480603160946,47.97034748549374&#x5D;,&#x5B;19.555368736303436,47.97034507975103&#x5D;,&#x5B;19.55593719021523,47.96996454998626&#x5D;,&#x5B;19.556503578001863,47.97034008783453&#x5D;,&#x5B;19.557068169157933,47.969581671783764&#x5D;,&#x5B;19.557630963683433,47.96957914571646&#x5D;,&#x5B;19.55875825953347,47.96881217785121&#x5D;,&#x5B;19.56102776326727,47.96880219372141&#x5D;,&#x5B;19.561586695037054,47.9684154575694&#x5D;,&#x5B;19.56215865237845,47.96841299159087&#x5D;,&#x5B;19.5627102179629,47.96727044896882&#x5D;,&#x5B;19.564979542033644,47.96726034424664&#x5D;,&#x5B;19.564975769109452,47.96687618289634&#x5D;,&#x5B;19.565542336559144,47.967257878212955&#x5D;,&#x5B;19.565538563634952,47.9668736566967&#x5D;,&#x5B;19.566661996729273,47.96572855376604&#x5D;,&#x5B;19.56665813397355,47.96535063655897&#x5D;,&#x5B;19.566095429279574,47.965353162833104&#x5D;,&#x5B;19.566091656355383,47.9649689872975&#x5D;,&#x5B;19.566654361049356,47.96496646100458&#x5D;,&#x5B;19.566650677956687,47.96458853822157&#x5D;,&#x5B;19.567785250160536,47.96458348559838&#x5D;,&#x5B;19.56778147723634,47.96419936448889&#x5D;,&#x5B;19.568916049440183,47.9641942516769&#x5D;,&#x5B;19.570621051849443,47.96494865665095&#x5D;,&#x5B;19.571192919359312,47.96494619050689&#x5D;,&#x5B;19.571196782115035,47.965330245913236&#x5D;,&#x5B;19.571759486809004,47.9653277797874&#x5D;,&#x5B;19.572905557448486,47.966462666428804&#x5D;,&#x5B;19.572358034282818,47.967989382847925&#x5D;,&#x5B;19.572936189999673,47.96951106214141&#x5D;,&#x5B;19.575779896863086,47.97063827881894&#x5D;,&#x5B;19.575787532543,47.97140034803574&#x5D;,&#x5B;19.57523246352894,47.97216499208925&#x5D;,&#x5B;19.57580666665855,47.973302434801646&#x5D;,&#x5B;19.577525053965545,47.974434740661465&#x5D;,&#x5B;19.579207328998113,47.97290893646411&#x5D;,&#x5B;19.580901012634794,47.97251705893607&#x5D;,&#x5B;19.582035854333217,47.97251188680639&#x5D;,&#x5B;19.582039717088943,47.97289594609647&#x5D;,&#x5B;19.584324941340217,47.974403588750405&#x5D;,&#x5B;19.584328893927463,47.97478769410934&#x5D;,&#x5B;19.585471550968865,47.97554447012901&#x5D;,&#x5B;19.586610255423015,47.975917140957215&#x5D;,&#x5B;19.587735934305545,47.975911969168095&#x5D;,&#x5B;19.591704691230785,47.97513138389421&#x5D;,&#x5B;19.593394422280213,47.974361250987876&#x5D;,&#x5B;19.59509205850414,47.97435325251463&#x5D;,&#x5B;19.59508819574842,47.973975338276496&#x5D;,&#x5B;19.597361741901,47.97434254778911&#x5D;,&#x5B;19.59736973690703,47.975104682617555&#x5D;,&#x5B;19.595171649238313,47.98196795975066&#x5D;,&#x5B;19.59406043323186,47.984259584663654&#x5D;,&#x5B;19.59578367144139,47.98577579409884&#x5D;,&#x5B;19.5952114446054,47.98577837949943&#x5D;,&#x5B;19.59521548702418,47.98615638772131&#x5D;,&#x5B;19.592961074987155,47.9876911796854&#x5D;,&#x5B;19.593537164578862,47.988066468366775&#x5D;,&#x5B;19.59354515958489,47.98882858097586&#x5D;,&#x5B;19.595251239972487,47.98958268621721&#x5D;,&#x5B;19.595815471802446,47.9888178792516&#x5D;,&#x5B;19.598060541360518,47.987282940420904&#x5D;,&#x5B;19.60088691073894,47.985751563477784&#x5D;,&#x5B;19.60088286832016,47.98536735930603&#x5D;,&#x5B;19.602588948707762,47.98612139487034&#x5D;,&#x5B;19.6003388485841,47.98803436271321&#x5D;,&#x5B;19.611697326699563,47.98950398755646&#x5D;,&#x5B;19.611149713702364,47.9917930535136&#x5D;,&#x5B;19.612844834643496,47.99063858337913&#x5D;,&#x5B;19.61398003566804,47.99063299222518&#x5D;,&#x5B;19.614526480855368,47.98910604344575&#x5D;,&#x5B;19.61564928512899,47.98796059178187&#x5D;,&#x5B;19.61790297851379,47.98642526670574&#x5D;,&#x5B;19.6190380897068,47.98641967509533&#x5D;,&#x5B;19.620723688505926,47.98527127775315&#x5D;,&#x5B;19.624725323770562,47.98829998529106&#x5D;,&#x5B;19.624166571663842,47.98868074066716&#x5D;,&#x5B;19.624174925995984,47.98944278408418&#x5D;,&#x5B;19.62473799001607,47.989439958381844&#x5D;,&#x5B;19.625305096454937,47.989815174226045&#x5D;,&#x5B;19.62758385283616,47.99056595845056&#x5D;,&#x5B;19.629273583885592,47.989795394449146&#x5D;,&#x5B;19.630412917160434,47.9901738542148&#x5D;,&#x5B;19.630417139242272,47.99055177012477&#x5D;,&#x5B;19.632154391170232,47.993207384003156&#x5D;,&#x5B;19.633852566383332,47.99319884739711&#x5D;,&#x5B;19.63670759201932,47.99509273700156&#x5D;,&#x5B;19.63784288287539,47.995087086215456&#x5D;,&#x5B;19.640109062842637,47.994691349304524&#x5D;,&#x5B;19.642942618743337,47.99467686153684&#x5D;,&#x5B;19.645204486797223,47.99390317276447&#x5D;,&#x5B;19.64577186273067,47.994284487958105&#x5D;,&#x5B;19.64634417939818,47.994281482173804&#x5D;,&#x5B;19.650343568874614,47.99692518215838&#x5D;,&#x5B;19.6503523723644,47.99768728416893&#x5D;,&#x5B;19.65092855178763,47.9988243449283&#x5D;,&#x5B;19.65320362507619,47.99919047604429&#x5D;,&#x5B;19.65603304872658,47.99879777612693&#x5D;,&#x5B;19.656600963649204,47.99841679484136&#x5D;,&#x5B;19.658853579055663,47.99764286158897&#x5D;,&#x5B;19.66112425059933,47.99763083923329&#x5D;,&#x5B;19.662250648134087,47.99686284534665&#x5D;,&#x5B;19.662800237424914,47.99571365844104&#x5D;,&#x5B;19.663368062516003,47.9953326543812&#x5D;,&#x5B;19.66505734440779,47.99456156040256&#x5D;,&#x5B;19.6656296610753,47.9945585546344&#x5D;,&#x5B;19.666751207707527,47.994174536254604&#x5D;,&#x5B;19.66791802943007,47.99683278899778&#x5D;,&#x5B;19.66905781186256,47.99720458480195&#x5D;,&#x5B;19.669062393270508,47.99758876096632&#x5D;,&#x5B;19.67018861114221,47.99682058611514&#x5D;,&#x5B;19.67295874598385,47.991477069254316&#x5D;,&#x5B;19.676355276073107,47.99069653896071&#x5D;,&#x5B;19.67748122445022,47.989928381739475&#x5D;,&#x5B;19.679174728423842,47.98953507023513&#x5D;,&#x5B;19.680296185224535,47.988388846500165&#x5D;,&#x5B;19.68029151398506,47.98801097487434&#x5D;,&#x5B;19.680849816934142,47.987623661102084&#x5D;,&#x5B;19.681980436550734,47.98723959111348&#x5D;,&#x5B;19.68536268342697,47.98531883754291&#x5D;,&#x5B;19.686493033548977,47.9849284371124&#x5D;,&#x5B;19.687060678977012,47.985309578118255&#x5D;,&#x5B;19.691563484338662,47.98223613899688&#x5D;,&#x5B;19.691558723267658,47.98185828245575&#x5D;,&#x5B;19.690433044385127,47.98262036647546&#x5D;,&#x5B;19.689851654733243,47.98186766275982&#x5D;,&#x5B;19.69041444925875,47.981102440813984&#x5D;,&#x5B;19.6887025298218,47.979965590850696&#x5D;,&#x5B;19.687563016883896,47.97959385123577&#x5D;,&#x5B;19.68812114016992,47.97920665470155&#x5D;,&#x5B;19.68810721628301,47.97806663599256&#x5D;,&#x5B;19.688679353287466,47.97806344885993&#x5D;,&#x5B;19.69039109306136,47.979194146984376&#x5D;,&#x5B;19.691540038309746,47.98033408066448&#x5D;,&#x5B;19.69324252543621,47.98070256784807&#x5D;,&#x5B;19.69493575991525,47.980315139101435&#x5D;,&#x5B;19.695503046017173,47.979927887844475&#x5D;,&#x5B;19.699480247106077,47.98066775169439&#x5D;,&#x5B;19.700615268467565,47.98066137775006&#x5D;,&#x5B;19.705689312518384,47.97835257511058&#x5D;,&#x5B;19.717470447975032,47.96876797099676&#x5D;,&#x5B;19.718047795208133,47.969904646515126&#x5D;,&#x5B;19.719759355318963,47.97027278713015&#x5D;,&#x5B;19.721471544250498,47.97140918895901&#x5D;,&#x5B;19.721466693347963,47.971025058468605&#x5D;,&#x5B;19.72485127584394,47.96948105000695&#x5D;,&#x5B;19.72937105936446,47.96869874358811&#x5D;,&#x5B;19.729938075971795,47.968311284910186&#x5D;,&#x5B;19.731072738007168,47.96830454856472&#x5D;,&#x5B;19.73793173452753,47.97283069350589&#x5D;,&#x5B;19.740774273581074,47.973575891226226&#x5D;,&#x5B;19.741342008840636,47.973956634937956&#x5D;,&#x5B;19.74134703940623,47.97433466959081&#x5D;,&#x5B;19.741929237541864,47.975093256391354&#x5D;,&#x5B;19.74306407924029,47.975086460792454&#x5D;,&#x5B;19.743069019974357,47.97546448717369&#x5D;,&#x5B;19.74420395150431,47.97545769162365&#x5D;,&#x5B;19.744771866426934,47.97583836132262&#x5D;,&#x5B;19.745343823768334,47.97583499364091&#x5D;,&#x5B;19.74591173869095,47.97620958674791&#x5D;,&#x5B;19.746489894407812,47.977352352555506&#x5D;,&#x5B;19.748196783279166,47.97734206939969&#x5D;,&#x5B;19.749848515592078,47.9739055765934&#x5D;,&#x5B;19.749275659935396,47.97314697234436&#x5D;,&#x5B;19.749255268178445,47.97162275393124&#x5D;,&#x5B;19.748678190439925,47.97124824783313&#x5D;,&#x5B;19.748642527323145,47.96858404601784&#x5D;,&#x5B;19.749214484664545,47.968580677863&#x5D;,&#x5B;19.750324622692663,47.96742767337937&#x5D;,&#x5B;19.75031959212707,47.96704964830955&#x5D;,&#x5B;19.749751677204447,47.96666897396753&#x5D;,&#x5B;19.750860827085752,47.96475996621529&#x5D;,&#x5B;19.751403050191247,47.96323249266649&#x5D;,&#x5B;19.75083531493168,47.962857865572914&#x5D;,&#x5B;19.751964856569934,47.962473069950974&#x5D;,&#x5B;19.751959646341284,47.962088993300874&#x5D;,&#x5B;19.751387778831415,47.962092482185405&#x5D;,&#x5B;19.753641562047743,47.96093867116158&#x5D;,&#x5B;19.75534898990827,47.9616903566144&#x5D;,&#x5B;19.7656548221738,47.96923626100445&#x5D;,&#x5B;19.765649791608208,47.96885824917219&#x5D;,&#x5B;19.766216448889434,47.96847674612003&#x5D;,&#x5B;19.767356321153454,47.96884778388879&#x5D;,&#x5B;19.767898184932832,47.96732007034365&#x5D;,&#x5B;19.769574531084533,47.96578539448826&#x5D;,&#x5B;19.76955881056706,47.96464538019832&#x5D;,&#x5B;19.770656731507305,47.961974160745555&#x5D;,&#x5B;19.771780793422327,47.961204974549304&#x5D;,&#x5B;19.772336940414725,47.96006149045751&#x5D;,&#x5B;19.773451659850785,47.95929233593883&#x5D;,&#x5B;19.775725834824065,47.959656040496&#x5D;,&#x5B;19.77684459667891,47.958508972835695&#x5D;,&#x5B;19.778541693913667,47.95849826482586&#x5D;,&#x5B;19.780258643916202,47.959249685005126&#x5D;,&#x5B;19.783090223523274,47.95923175836804&#x5D;,&#x5B;19.78706167539437,47.95958457509874&#x5D;,&#x5B;19.788753472568953,47.9591957847621&#x5D;,&#x5B;19.790995487855056,47.957279161445165&#x5D;,&#x5B;19.79381062829243,47.956114835215004&#x5D;,&#x5B;19.79604707402377,47.95382015620333&#x5D;,&#x5B;19.79603611457731,47.953058068247664&#x5D;,&#x5B;19.79546801999163,47.95267759161443&#x5D;,&#x5B;19.796025244962372,47.95229608938182&#x5D;,&#x5B;19.796587859824815,47.95229235917735&#x5D;,&#x5B;19.797154157779925,47.95191079393566&#x5D;,&#x5B;19.799422853029967,47.95189617383015&#x5D;,&#x5B;19.800551676015992,47.95150467835533&#x5D;,&#x5B;19.801114290878434,47.95150094809372&#x5D;,&#x5B;19.80167133618612,47.951119377008446&#x5D;,&#x5B;19.802778240279213,47.949209975116496&#x5D;,&#x5B;19.803344448402797,47.9488220694098&#x5D;,&#x5B;19.80332252950986,47.947297975520925&#x5D;,&#x5B;19.802166487570723,47.94578737542653&#x5D;,&#x5B;19.802160918015964,47.945403174733556&#x5D;,&#x5B;19.802717963323644,47.94502155862623&#x5D;,&#x5B;19.802712483600413,47.94463747258791&#x5D;,&#x5B;19.804412814770195,47.94424844943146&#x5D;,&#x5B;19.80496977024635,47.94386056666095&#x5D;,&#x5B;19.807238196001805,47.94384576375478&#x5D;,&#x5B;19.807205048167823,47.9415657647238&#x5D;,&#x5B;19.80830602338004,47.93927206450863&#x5D;,&#x5B;19.808862978856194,47.93889046331766&#x5D;,&#x5B;19.808835220913917,47.93698217438351&#x5D;,&#x5B;19.809401429037496,47.93660043592516&#x5D;,&#x5B;19.809390379759503,47.93583833477929&#x5D;,&#x5B;19.810492971939233,47.93430687652588&#x5D;,&#x5B;19.80993053673984,47.934310547842934&#x5D;,&#x5B;19.8115881081021,47.931635171941785&#x5D;,&#x5B;19.812154136562626,47.93125345419625&#x5D;,&#x5B;19.81271648193048,47.93124978266216&#x5D;,&#x5B;19.813276940836243,47.930483991254995&#x5D;,&#x5B;19.814978619478953,47.93085066729481&#x5D;,&#x5B;19.815535485123576,47.93046906413855&#x5D;,&#x5B;19.815524256182524,47.92970699300527&#x5D;,&#x5B;19.81609028464305,47.929325261027266&#x5D;,&#x5B;19.81665254017938,47.929321468973626&#x5D;,&#x5B;19.816641490901386,47.928559380929784&#x5D;,&#x5B;19.817207339698854,47.92817144063665&#x5D;,&#x5B;19.817775254621473,47.92855185690211&#x5D;,&#x5B;19.818903448786802,47.92816024479911&#x5D;,&#x5B;19.82003721250689,47.92815266052069&#x5D;,&#x5B;19.820605217261036,47.92853307692429&#x5D;,&#x5B;19.822282461728015,47.92661965036508&#x5D;,&#x5B;19.8205535641322,47.92548394874757&#x5D;,&#x5B;19.81942447165159,47.92548647697095&#x5D;,&#x5B;19.81829654698085,47.9247378766695&#x5D;,&#x5B;19.817702670746513,47.92357865651373&#x5D;,&#x5B;19.816562528987912,47.92322457058671&#x5D;,&#x5B;19.816575374896477,47.9228456803089&#x5D;,&#x5B;19.81598697838538,47.92285127880318&#x5D;,&#x5B;19.814872618275423,47.92361573847673&#x5D;,&#x5B;19.81316671755088,47.92324774697534&#x5D;,&#x5B;19.811468272843197,47.92325569316334&#x5D;,&#x5B;19.81033118535656,47.92251825763809&#x5D;,&#x5B;19.809760575488085,47.92289383937964&#x5D;,&#x5B;19.809202452202065,47.92289534434988&#x5D;,&#x5B;19.810273064357673,47.91908708774279&#x5D;,&#x5B;19.80971062915829,47.918710153882145&#x5D;,&#x5B;19.810251145464743,47.917178067976536&#x5D;,&#x5B;19.810806214478802,47.91641947359773&#x5D;,&#x5B;19.81076965304674,47.91450054140498&#x5D;,&#x5B;19.81188293517835,47.91333458916972&#x5D;,&#x5B;19.809551088363833,47.90881274599575&#x5D;,&#x5B;19.811824275190293,47.908407857439535&#x5D;,&#x5B;19.81183011423964,47.90803198988587&#x5D;,&#x5B;19.812934413218407,47.90801627348045&#x5D;,&#x5B;19.814077788912034,47.90724917461943&#x5D;,&#x5B;19.81350116033116,47.90726037498289&#x5D;,&#x5B;19.809498896245824,47.90462448928511&#x5D;,&#x5B;19.811736689450093,47.90270126546762&#x5D;,&#x5B;19.81344276983769,47.90192174207745&#x5D;,&#x5B;19.815703829407823,47.90190614426313&#x5D;,&#x5B;19.820720111785874,47.89921554130329&#x5D;,&#x5B;19.821283624963602,47.89770305462122&#x5D;,&#x5B;19.82240364445984,47.89692104680701&#x5D;,&#x5B;19.830322383520883,47.89648089118808&#x5D;,&#x5B;19.830334061619578,47.896104756334736&#x5D;,&#x5B;19.832601589059752,47.8960928910275&#x5D;,&#x5B;19.8348427958621,47.89645746189111&#x5D;,&#x5B;19.831759687975477,47.89856485161617&#x5D;,&#x5B;19.83377532780998,47.89989663673325&#x5D;,&#x5B;19.834330486655567,47.899888867634374&#x5D;,&#x5B;19.834901994839324,47.899120865378116&#x5D;,&#x5B;19.83546227408203,47.89949613515616&#x5D;,&#x5B;19.83717581048649,47.89949324430644&#x5D;,&#x5B;19.83718757841671,47.90025317086878&#x5D;,&#x5B;19.837748486480116,47.90062524052916&#x5D;,&#x5B;19.83774264743077,47.90024925623367&#x5D;,&#x5B;19.83830939454352,47.90023618737275&#x5D;,&#x5B;19.838404436300582,47.90094117844893&#x5D;,&#x5B;19.839451422764217,47.901369853618576&#x5D;,&#x5B;19.841187866208426,47.9013189644367&#x5D;,&#x5B;19.852314578980582,47.89334036742254&#x5D;,&#x5B;19.855144182294033,47.89098887034576&#x5D;,&#x5B;19.853444659608005,47.89024428866397&#x5D;,&#x5B;19.852287809185118,47.89063209170414&#x5D;,&#x5B;19.850610924044254,47.890643837790066&#x5D;,&#x5B;19.84947742981875,47.890271636162105&#x5D;,&#x5B;19.848899094438835,47.88911977594929&#x5D;,&#x5B;19.84774808306529,47.887995359296674&#x5D;,&#x5B;19.84774808306529,47.887611391863345&#x5D;,&#x5B;19.847169657853847,47.887227361343164&#x5D;,&#x5B;19.847716821693403,47.886089288999266&#x5D;,&#x5B;19.848262727891562,47.885691451756266&#x5D;,&#x5B;19.848241168324748,47.88304994942787&#x5D;,&#x5B;19.847647741248057,47.88190955617711&#x5D;,&#x5B;19.844772054360533,47.878496058355125&#x5D;,&#x5B;19.84360801741537,47.87660554519966&#x5D;,&#x5B;19.841306084499813,47.87584418702096&#x5D;,&#x5B;19.83850486794934,47.875485074658776&#x5D;,&#x5B;19.836204282506714,47.87435825308484&#x5D;,&#x5B;19.831694380454323,47.87439506904246&#x5D;,&#x5B;19.831147575940875,47.87401624303702&#x5D;,&#x5B;19.83056232353327,47.87478088183331&#x5D;,&#x5B;19.82946682804429,47.87517277743859&#x5D;,&#x5B;19.82887349079913,47.87517886312497&#x5D;,&#x5B;19.826618539772934,47.876311692153905&#x5D;,&#x5B;19.825561312515052,47.875565754649536&#x5D;,&#x5B;19.823284981585093,47.87824077652971&#x5D;,&#x5B;19.820459690185007,47.88020774563062&#x5D;,&#x5B;19.819354043733313,47.880559053261216&#x5D;,&#x5B;19.81992582141165,47.88169116219166&#x5D;,&#x5B;19.81651303181576,47.88365763882679&#x5D;,&#x5B;19.816012041381803,47.88438695308507&#x5D;,&#x5B;19.81377891941701,47.885556087600264&#x5D;,&#x5B;19.810354811048533,47.88596019102833&#x5D;,&#x5B;19.806945794376826,47.885968383909585&#x5D;,&#x5B;19.80356121188085,47.886763147473104&#x5D;,&#x5B;19.802456194249853,47.88639097819659&#x5D;,&#x5B;19.800213280648467,47.88753344142808&#x5D;,&#x5B;19.799076911814055,47.888713287629194&#x5D;,&#x5B;19.797366789007675,47.8898520854006&#x5D;,&#x5B;19.79798716554289,47.89056775924789&#x5D;,&#x5B;19.797439642377217,47.89098284675242&#x5D;,&#x5B;19.79688978359181,47.892105271036364&#x5D;,&#x5B;19.789570759814442,47.89671777343321&#x5D;,&#x5B;19.789583066733837,47.89712739105112&#x5D;,&#x5B;19.788410046635832,47.8971191397063&#x5D;,&#x5B;19.788507783338744,47.89749605015936&#x5D;,&#x5B;19.786210611494198,47.89906063887251&#x5D;,&#x5B;19.784524473705904,47.89981436854184&#x5D;,&#x5B;19.78451225661804,47.90057615735867&#x5D;,&#x5B;19.7839623080011,47.90097755394535&#x5D;,&#x5B;19.783986832008356,47.90135437608572&#x5D;,&#x5B;19.780614466600245,47.90289433781865&#x5D;,&#x5B;19.780614466600245,47.90327933614935&#x5D;,&#x5B;19.778903894636223,47.903680771997564&#x5D;,&#x5B;19.777249826703574,47.9048216494121&#x5D;,&#x5B;19.776675174416326,47.904831886783654&#x5D;,&#x5B;19.776092167796925,47.904456053481006&#x5D;,&#x5B;19.774961548180336,47.90446689312737&#x5D;,&#x5B;19.774393363763128,47.904088347243544&#x5D;,&#x5B;19.771607508404017,47.90373617544051&#x5D;,&#x5B;19.768154384451865,47.902991355499864&#x5D;,&#x5B;19.76753301976984,47.90088715717613&#x5D;,&#x5B;19.76748253445087,47.89645559477444&#x5D;,&#x5B;19.765828825844338,47.89571374183394&#x5D;,&#x5B;19.76344236146054,47.89347366331082&#x5D;,&#x5B;19.761771854358194,47.89312153976387&#x5D;,&#x5B;19.759522383055234,47.89126378639999&#x5D;,&#x5B;19.75941108179153,47.88820414867671&#x5D;,&#x5B;19.76403453089583,47.8892885628413&#x5D;,&#x5B;19.765719321211204,47.888897075200475&#x5D;,&#x5B;19.76565338486935,47.886595557171624&#x5D;,&#x5B;19.766743759961212,47.88434207157732&#x5D;,&#x5B;19.762757396056404,47.88013948407046&#x5D;,&#x5B;19.763864569644078,47.87711955807438&#x5D;,&#x5B;19.763244372771922,47.87562986472438&#x5D;,&#x5B;19.763222184384407,47.87215238116758&#x5D;,&#x5B;19.764266745396778,47.86948258896521&#x5D;,&#x5B;19.76260638925714,47.86689648644187&#x5D;,&#x5B;19.76025558799013,47.864544994134555&#x5D;,&#x5B;19.75745032902088,47.86309037709939&#x5D;,&#x5B;19.750594027446365,47.86009386754041&#x5D;,&#x5B;19.748828209092373,47.85777985878488&#x5D;,&#x5B;19.74594506618799,47.855891543400936&#x5D;,&#x5B;19.743737725871853,47.854780751703665&#x5D;,&#x5B;19.742027153907834,47.85327185002377&#x5D;,&#x5B;19.73634225546381,47.85024975539381&#x5D;,&#x5B;19.731708296070686,47.845698950263746&#x5D;,&#x5B;19.729991076573558,47.8426761731614&#x5D;,&#x5B;19.727749061287454,47.84117144131943&#x5D;,&#x5B;19.725458986133646,47.84117144131943&#x5D;,&#x5B;19.724909396842822,47.84078977983213&#x5D;,&#x5B;19.726115834269397,47.84001668061344&#x5D;,&#x5B;19.721923576501467,47.83456986953351&#x5D;,&#x5B;19.722241580112048,47.83050574946844&#x5D;,&#x5B;19.719330948759968,47.829239544060265&#x5D;,&#x5B;19.71930651458424,47.827468155527974&#x5D;,&#x5B;19.71850036644827,47.826631652184396&#x5D;,&#x5B;19.716423641174444,47.82561468237727&#x5D;,&#x5B;19.71566519358006,47.823521273373416&#x5D;,&#x5B;19.720697196475587,47.81802278519761&#x5D;,&#x5B;19.716870463196763,47.81838519100604&#x5D;,&#x5B;19.709962957651054,47.815770238844536&#x5D;,&#x5B;19.708757688034353,47.815583477360775&#x5D;,&#x5B;19.70741326938014,47.81629957370219&#x5D;,&#x5B;19.704202870217756,47.81584039487434&#x5D;,&#x5B;19.696530539039145,47.81897668879419&#x5D;,&#x5B;19.690619714301167,47.81998835998886&#x5D;,&#x5B;19.6865054302999,47.82026063683742&#x5D;,&#x5B;19.684100909778895,47.811308289542616&#x5D;,&#x5B;19.66676019086037,47.81032076209014&#x5D;,&#x5B;19.66780726715554,47.802773873428684&#x5D;,&#x5B;19.665725870642234,47.800424059428714&#x5D;,&#x5B;19.66386707665633,47.8001645916437&#x5D;,&#x5B;19.662442258784193,47.80025335390855&#x5D;,&#x5B;19.661837512934923,47.80152943801406&#x5D;,&#x5B;19.662698458303222,47.80303785354386&#x5D;,&#x5B;19.6577205339878,47.80286184683668&#x5D;,&#x5B;19.65868128218417,47.80514958583695&#x5D;,&#x5B;19.656978256068534,47.80509087916199&#x5D;,&#x5B;19.65662899108607,47.807055736815734&#x5D;,&#x5B;19.652742789335438,47.80831687248145&#x5D;,&#x5B;19.653790763945892,47.81063357063698&#x5D;,&#x5B;19.65610886653656,47.81127185108459&#x5D;,&#x5B;19.653293276941547,47.81341335136097&#x5D;,&#x5B;19.648783734215268,47.81190994270384&#x5D;,&#x5B;19.632544080340484,47.80583698598518&#x5D;,&#x5B;19.635672014159788,47.80169995832206&#x5D;,&#x5B;19.63617974195837,47.7975096790091&#x5D;,&#x5B;19.63955686843749,47.79369147682834&#x5D;,&#x5B;19.64120186338577,47.791380480647874&#x5D;,&#x5B;19.641196383662535,47.78834277021343&#x5D;,&#x5B;19.642238609055173,47.78453415559007&#x5D;,&#x5B;19.642812542690198,47.78413366778151&#x5D;,&#x5B;19.64282359196819,47.783013975622026&#x5D;,&#x5B;19.643397435771686,47.7830287641662&#x5D;,&#x5B;19.642781550812895,47.782634059497845&#x5D;,&#x5B;19.645600643837515,47.78032365817562&#x5D;,&#x5B;19.642764752317078,47.778069838961784&#x5D;,&#x5B;19.64106513979953,47.773194842005026&#x5D;,&#x5B;19.639275066932864,47.7712016557223&#x5D;,&#x5B;19.638717482636007,47.76933506476377&#x5D;,&#x5B;19.6426086251207,47.76814749018782&#x5D;,&#x5B;19.640358794491625,47.76550054253568&#x5D;,&#x5B;19.639200147438164,47.76320544210064&#x5D;,&#x5B;19.63464577877921,47.759456038926515&#x5D;,&#x5B;19.631253380940258,47.75531386918891&#x5D;,&#x5B;19.629499240684957,47.754137993082004&#x5D;,&#x5B;19.626129031233525,47.75603979484456&#x5D;,&#x5B;19.625566326539552,47.75758026974911&#x5D;,&#x5B;19.622772655837473,47.75949287605884&#x5D;,&#x5B;19.617702923700016,47.76143506182274&#x5D;,&#x5B;19.613222396557415,47.76259646175405&#x5D;,&#x5B;19.612076954738633,47.76222267653315&#x5D;,&#x5B;19.6114745445091,47.759925076333566&#x5D;,&#x5B;19.610953431812785,47.759564436642975&#x5D;,&#x5B;19.60868006532326,47.758813860858744&#x5D;,&#x5B;19.607517465682555,47.75766034807408&#x5D;,&#x5B;19.601832028249362,47.755397393430094&#x5D;,&#x5B;19.599547073492676,47.75161904054421&#x5D;,&#x5B;19.598964785525506,47.75123666029437&#x5D;,&#x5B;19.59785168305696,47.75123056006544&#x5D;,&#x5B;19.592793090029023,47.74898188241104&#x5D;,&#x5B;19.59219382390299,47.748986352078894&#x5D;,&#x5B;19.591055748269536,47.748611079845105&#x5D;,&#x5B;19.587657691044296,47.74673177871877&#x5D;,&#x5B;19.58535189537302,47.74594193615703&#x5D;,&#x5B;19.5774284850725,47.73952894460259&#x5D;,&#x5B;19.57113255257222,47.734987947343434&#x5D;,&#x5B;19.570030858707778,47.735385490726905&#x5D;,&#x5B;19.570038494387692,47.735771974902974&#x5D;,&#x5B;19.567222994624203,47.7376818787387&#x5D;,&#x5B;19.561074295998992,47.739607540411114&#x5D;,&#x5B;19.558203729508584,47.74114844133898&#x5D;,&#x5B;19.554882029082496,47.74192428131582&#x5D;,&#x5B;19.55314226187174,47.742705365244284&#x5D;,&#x5B;19.54866227371831,47.743848638345526&#x5D;,&#x5B;19.54133786004924,47.74649837895238&#x5D;,&#x5B;19.53796765059781,47.743889473378104&#x5D;,&#x5B;19.53737781678226,47.743137040475276&#x5D;,&#x5B;19.536818076528725,47.74314066493729&#x5D;,&#x5B;19.535678024601648,47.742383750976416&#x5D;,&#x5B;19.531135334041384,47.73747665186606&#x5D;,&#x5B;19.528831335000675,47.73291263702165&#x5D;,&#x5B;19.527111510389226,47.73063235267364&#x5D;,&#x5B;19.526527335959962,47.73023664610563&#x5D;,&#x5B;19.52484021002486,47.7306262500299&#x5D;,&#x5B;19.524286218989143,47.729499967692625&#x5D;,&#x5B;19.522574838541367,47.729114343325115&#x5D;,&#x5B;19.522568191008265,47.72873989461891&#x5D;,&#x5B;19.521446554544514,47.72874104268264&#x5D;,&#x5B;19.52143945785377,47.728360246683934&#x5D;,&#x5B;19.520318450210716,47.72836568491995&#x5D;,&#x5B;19.519746942026956,47.72721935263735&#x5D;,&#x5B;19.519134560497772,47.724173180265865&#x5D;,&#x5B;19.518591079750884,47.72344058579728&#x5D;,&#x5B;19.516290134982135,47.722666283339635&#x5D;,&#x5B;19.51406689448547,47.72229958398987&#x5D;,&#x5B;19.508977848569405,47.72193687059077&#x5D;,&#x5B;19.506699182019705,47.72155088806374&#x5D;,&#x5B;19.503301214625996,47.72004808526188&#x5D;,&#x5B;19.499363449578055,47.71892598599187&#x5D;,&#x5B;19.493703075141294,47.71665463854142&#x5D;,&#x5B;19.493671274780237,47.71550146059592&#x5D;,&#x5B;19.49141695257474,47.71286537403118&#x5D;,&#x5B;19.489675388733417,47.70714154756754&#x5D;,&#x5B;19.496993424363964,47.70710316214588&#x5D;,&#x5B;19.49807032472657,47.70676585281548&#x5D;,&#x5B;19.500966762697153,47.7067158607272&#x5D;,&#x5B;19.504344967154616,47.70634203686888&#x5D;,&#x5B;19.505445044051548,47.70595545520463&#x5D;,&#x5B;19.50769298821853,47.704418953654105&#x5D;,&#x5B;19.508891879796714,47.703985990204664&#x5D;,&#x5B;19.509915689726025,47.70060419341844&#x5D;,&#x5B;19.511588622279643,47.69868446561746&#x5D;,&#x5B;19.510989984974305,47.69751595624587&#x5D;,&#x5B;19.509263422998227,47.696045170380714&#x5D;,&#x5B;19.507000836292114,47.69641997500951&#x5D;,&#x5B;19.504250284723668,47.69638877666281&#x5D;,&#x5B;19.49983102268344,47.69535208610008&#x5D;,&#x5B;19.49688041630122,47.694180841608194&#x5D;,&#x5B;19.495204788801757,47.69384405330844&#x5D;,&#x5B;19.491843921829282,47.692726892199964&#x5D;,&#x5B;19.486174025250506,47.69005155806962&#x5D;,&#x5B;19.484984835477384,47.689649677697126&#x5D;,&#x5B;19.48278072909627,47.689309957567005&#x5D;,&#x5B;19.47768009491304,47.68781348158774&#x5D;,&#x5B;19.477135985345445,47.6893276753145&#x5D;,&#x5B;19.47485004244195,47.692002562842646&#x5D;,&#x5B;19.473768111513756,47.69387216947054&#x5D;,&#x5B;19.471533372581455,47.696562664884425&#x5D;,&#x5B;19.46820385681239,47.70229484718634&#x5D;,&#x5B;19.46711105626926,47.70496175488657&#x5D;,&#x5B;19.466576019686038,47.707238689760324&#x5D;,&#x5B;19.46545869513565,47.709515464724284&#x5D;,&#x5B;19.466009452236342,47.71183457194888&#x5D;,&#x5B;19.46266367696064,47.71372909480057&#x5D;,&#x5B;19.46150763502151,47.71373797974739&#x5D;,&#x5B;19.46037953068771,47.714133751215996&#x5D;,&#x5B;19.458171741213928,47.71411749249007&#x5D;,&#x5B;19.45419507911419,47.71496608241178&#x5D;,&#x5B;19.45362716419157,47.714899658385804&#x5D;,&#x5B;19.452512175260917,47.71529548147145&#x5D;,&#x5B;19.450275370203464,47.71834863967017&#x5D;,&#x5B;19.44858977140434,47.72179273935701&#x5D;,&#x5B;19.445240941856667,47.72599818582456&#x5D;,&#x5B;19.443571872058776,47.72903978008916&#x5D;,&#x5B;19.44076436730132,47.73018009045502&#x5D;,&#x5B;19.439059095397475,47.732098779106515&#x5D;,&#x5B;19.437370172831802,47.73249338396473&#x5D;,&#x5B;19.436287972409023,47.73477515767744&#x5D;,&#x5B;19.43391327595545,47.73865894571732&#x5D;,&#x5B;19.43281032444961,47.74283838393801&#x5D;,&#x5B;19.433541014101714,47.745045888871495&#x5D;,&#x5B;19.434688522045644,47.747345052154195&#x5D;,&#x5B;19.434714393525827,47.74963354385217&#x5D;,&#x5B;19.436431613022954,47.75152463860505&#x5D;,&#x5B;19.44092759118844,47.75340944387574&#x5D;,&#x5B;19.44269565533065,47.75487945642175&#x5D;,&#x5B;19.444383050760337,47.75566366757443&#x5D;,&#x5B;19.447145190595947,47.762756059375086&#x5D;,&#x5B;19.444277858040564,47.768846187507556&#x5D;,&#x5B;19.43359760796461,47.7693226874168&#x5D;,&#x5B;19.428639895743082,47.77078717881599&#x5D;,&#x5B;19.424094150910857,47.7729359627337&#x5D;,&#x5B;19.417896853428772,47.77137245667931&#x5D;,&#x5B;19.41558405089828,47.77135953644272&#x5D;&#x5D;&#x5D;&#x5D;&#x7D;&quot;,&quot;inflectionFrom&quot;&#x3A;&quot;p&#x5C;u00e1szt&#x5C;u00f3i&#x20;j&#x5C;u00e1r&#x5C;u00e1si&quot;,&quot;inflectionAt&quot;&#x3A;&quot;P&#x5C;u00e1szt&#x5C;u00f3i&#x20;j&#x5C;u00e1r&#x5C;u00e1sban&quot;,&quot;zipCode&quot;&#x3A;&quot;&quot;&#x7D;,&#x7B;&quot;id&quot;&#x3A;21,&quot;type&quot;&#x3A;&quot;county&quot;,&quot;name&quot;&#x3A;&quot;N&#x5C;u00f3gr&#x5C;u00e1d&quot;,&quot;namePostfix&quot;&#x3A;&quot;megye&quot;,&quot;slug&quot;&#x3A;&quot;nograd-megye&quot;,&quot;coordinates&quot;&#x3A;&#x7B;&quot;lat&quot;&#x3A;47.958407000000001,&quot;lon&quot;&#x3A;19.530543000000002&#x7D;,&quot;bounds&quot;&#x3A;&#x7B;&quot;south&quot;&#x3A;47.749139999999997,&quot;west&quot;&#x3A;18.919771000000001,&quot;north&quot;&#x3A;48.237267000000003,&quot;east&quot;&#x3A;20.037735000000001&#x7D;,&quot;urlPart&quot;&#x3A;&quot;nograd-megye&quot;,&quot;parentId&quot;&#x3A;5,&quot;isOfficeBuilding&quot;&#x3A;false,&quot;oldName&quot;&#x3A;null,&quot;usableInAd&quot;&#x3A;true,&quot;polygon&quot;&#x3A;&quot;&#x7B;&#x5C;&quot;type&#x5C;&quot;&#x3A;&#x5C;&quot;Polygon&#x5C;&quot;,&#x5C;&quot;coordinates&#x5C;&quot;&#x3A;&#x5B;&#x5B;&#x5B;18.928060980021,48.057121958488&#x5D;,&#x5B;18.968349971356,48.058377970968&#x5D;,&#x5B;18.981609913434,48.053600949423&#x5D;,&#x5B;18.991292943713,48.057819947121&#x5D;,&#x5B;18.990560996419,48.061911981546&#x5D;,&#x5B;18.99590597236,48.068022950224&#x5D;,&#x5B;19.0089039657,48.070042970897&#x5D;,&#x5B;19.007757984892,48.073692985766&#x5D;,&#x5B;19.012737975333,48.073346951359&#x5D;,&#x5B;19.008888963835,48.076188986357&#x5D;,&#x5B;19.011581933394,48.074959938025&#x5D;,&#x5B;19.014863928284,48.07817897765&#x5D;,&#x5B;19.018201978049,48.077862982545&#x5D;,&#x5B;19.016295932679,48.07729496671&#x5D;,&#x5B;19.014779935805,48.075692977026&#x5D;,&#x5B;19.020972921374,48.074106963507&#x5D;,&#x5B;19.020509929677,48.070944994281&#x5D;,&#x5B;19.023812945145,48.072989990271&#x5D;,&#x5B;19.032483933425,48.068324958891&#x5D;,&#x5B;19.033307958035,48.064457961472&#x5D;,&#x5B;19.046235972615,48.066485986196&#x5D;,&#x5B;19.058524925701,48.057352941236&#x5D;,&#x5B;19.065466926554,48.064648988937&#x5D;,&#x5B;19.078464919895,48.067426971652&#x5D;,&#x5B;19.084361910577,48.072780986513&#x5D;,&#x5B;19.107401990816,48.065595951201&#x5D;,&#x5B;19.11896196105,48.066457951469&#x5D;,&#x5B;19.127444931941,48.073628941065&#x5D;,&#x5B;19.13528893117,48.074145978201&#x5D;,&#x5B;19.150228992323,48.066959992886&#x5D;,&#x5B;19.181171911442,48.06126994343&#x5D;,&#x5B;19.2128229725,48.064361967201&#x5D;,&#x5B;19.2413679288,48.053652949705&#x5D;,&#x5B;19.248272919063,48.058165965848&#x5D;,&#x5B;19.248998937475,48.063621982845&#x5D;,&#x5B;19.255781936522,48.071555938518&#x5D;,&#x5B;19.276735949008,48.073947963316&#x5D;,&#x5B;19.283856984097,48.08207597101&#x5D;,&#x5B;19.303111923055,48.088710977245&#x5D;,&#x5B;19.355847970966,48.090760967432&#x5D;,&#x5B;19.369606927184,48.085912960391&#x5D;,&#x5B;19.373552956733,48.08726098168&#x5D;,&#x5B;19.371645923216,48.089677958269&#x5D;,&#x5B;19.386596943816,48.091913975999&#x5D;,&#x5B;19.39193096031,48.087821986716&#x5D;,&#x5B;19.389810936239,48.086332960664&#x5D;,&#x5B;19.394967984622,48.086627960947&#x5D;,&#x5B;19.400017953824,48.082303961157&#x5D;,&#x5B;19.409116989336,48.088952979228&#x5D;,&#x5B;19.425213990744,48.088781963811&#x5D;,&#x5B;19.435490987089,48.099664971378&#x5D;,&#x5B;19.454052965636,48.101435988621&#x5D;,&#x5B;19.456993960045,48.09782297913&#x5D;,&#x5B;19.451641977245,48.096671962945&#x5D;,&#x5B;19.451795948485,48.091729949981&#x5D;,&#x5B;19.460912950303,48.086691989467&#x5D;,&#x5B;19.461303986947,48.083197968049&#x5D;,&#x5B;19.467353960722,48.083932990069&#x5D;,&#x5B;19.468312912288,48.092036979654&#x5D;,&#x5B;19.487215981149,48.09954096609&#x5D;,&#x5B;19.484641948533,48.105192951602&#x5D;,&#x5B;19.494419930738,48.109905983695&#x5D;,&#x5B;19.490919914728,48.112422958791&#x5D;,&#x5B;19.494709996743,48.11470896638&#x5D;,&#x5B;19.491964924898,48.117917961989&#x5D;,&#x5B;19.497076967685,48.124772967456&#x5D;,&#x5B;19.494051980798,48.127124982054&#x5D;,&#x5B;19.496507974784,48.13519596528&#x5D;,&#x5B;19.492376982119,48.139663943872&#x5D;,&#x5B;19.50815094935,48.147584972413&#x5D;,&#x5B;19.512821919333,48.154662968468&#x5D;,&#x5B;19.509769982987,48.168858988805&#x5D;,&#x5B;19.504517982678,48.173442952078&#x5D;,&#x5B;19.509640984912,48.174978935936&#x5D;,&#x5B;19.507395915354,48.178179972516&#x5D;,&#x5B;19.511776909163,48.177548970135&#x5D;,&#x5B;19.51307093233,48.182311965602&#x5D;,&#x5B;19.522875953825,48.183804978964&#x5D;,&#x5B;19.528966980609,48.190357982865&#x5D;,&#x5B;19.526043952506,48.203129967091&#x5D;,&#x5B;19.54130498171,48.209320953555&#x5D;,&#x5B;19.547022938156,48.205693979995&#x5D;,&#x5B;19.567092918571,48.215361966716&#x5D;,&#x5B;19.577501967263,48.216014949911&#x5D;,&#x5B;19.602325921993,48.231634980608&#x5D;,&#x5B;19.608216983794,48.238986946568&#x5D;,&#x5B;19.630826321854,48.250072492613&#x5D;,&#x5B;19.644523923138,48.239171940744&#x5D;,&#x5B;19.65438994024,48.238135976706&#x5D;,&#x5B;19.66021093345,48.24151996846&#x5D;,&#x5B;19.669856953139,48.239211966886&#x5D;,&#x5B;19.675821946289,48.224397942045&#x5D;,&#x5B;19.674661951763,48.219738991689&#x5D;,&#x5B;19.679859963323,48.216726942904&#x5D;,&#x5B;19.679858975176,48.213025967727&#x5D;,&#x5B;19.691296954194,48.20704795884&#x5D;,&#x5B;19.691218980427,48.20389398763&#x5D;,&#x5B;19.721124974214,48.201472983463&#x5D;,&#x5B;19.734886984704,48.215165992319&#x5D;,&#x5B;19.746179975635,48.216511939422&#x5D;,&#x5B;19.760708967714,48.213791935731&#x5D;,&#x5B;19.766746993896,48.205684939779&#x5D;,&#x5B;19.781321979718,48.201010994298&#x5D;,&#x5B;19.787162915527,48.192529974784&#x5D;,&#x5B;19.798732946892,48.194819961461&#x5D;,&#x5B;19.805282922954,48.183732985657&#x5D;,&#x5B;19.788707927984,48.17333697708&#x5D;,&#x5B;19.789587917636,48.1682739446&#x5D;,&#x5B;19.782414959924,48.165038976019&#x5D;,&#x5B;19.79481198034,48.153528986937&#x5D;,&#x5B;19.806470944918,48.15414494302&#x5D;,&#x5B;19.80658395298,48.16206098051&#x5D;,&#x5B;19.821330966179,48.169080962356&#x5D;,&#x5B;19.829896941402,48.166941948095&#x5D;,&#x5B;19.827358392241,48.163667589251&#x5D;,&#x5B;19.845281938116,48.162741966341&#x5D;,&#x5B;19.843942909353,48.167959941163&#x5D;,&#x5B;19.855172928383,48.178430957634&#x5D;,&#x5B;19.858430938256,48.175067954494&#x5D;,&#x5B;19.856113913643,48.171225938239&#x5D;,&#x5B;19.860130910099,48.169408978193&#x5D;,&#x5B;19.879155970175,48.170446992201&#x5D;,&#x5B;19.88239996633,48.164140939929&#x5D;,&#x5B;19.898744992587,48.166311945795&#x5D;,&#x5B;19.905909955293,48.151303980261&#x5D;,&#x5B;19.914535937977,48.146862967821&#x5D;,&#x5B;19.910272982797,48.139714957993&#x5D;,&#x5B;19.902103973097,48.136574947372&#x5D;,&#x5B;19.897957978567,48.129470953103&#x5D;,&#x5B;19.900432927006,48.124126976563&#x5D;,&#x5B;19.908307918113,48.129544941246&#x5D;,&#x5B;19.937382970262,48.131117973486&#x5D;,&#x5B;19.937113924834,48.137237987049&#x5D;,&#x5B;19.946688977616,48.143124936217&#x5D;,&#x5B;19.951556948141,48.151547964989&#x5D;,&#x5B;19.963564908206,48.152020948046&#x5D;,&#x5B;19.974393919293,48.166004940443&#x5D;,&#x5B;19.988705968232,48.162167937528&#x5D;,&#x5B;19.991440978946,48.168398982258&#x5D;,&#x5B;20.029037988869,48.177684947192&#x5D;,&#x5B;20.043028979924,48.173129938803&#x5D;,&#x5B;20.044387951286,48.167242956448&#x5D;,&#x5B;20.051906850214,48.167719689192&#x5D;,&#x5B;20.061985768039,48.167279264263&#x5D;,&#x5B;20.064598877369,48.155459353475&#x5D;,&#x5B;20.072515640136,48.153103782349&#x5D;,&#x5B;20.076541350251,48.155354659726&#x5D;,&#x5B;20.080454411628,48.151893652984&#x5D;,&#x5B;20.087881053577,48.153345780825&#x5D;,&#x5B;20.092260610081,48.144551537814&#x5D;,&#x5B;20.097920715023,48.143360747805&#x5D;,&#x5B;20.092231594498,48.143044493887&#x5D;,&#x5B;20.084748089192,48.137385461256&#x5D;,&#x5B;20.079044685453,48.137059458763&#x5D;,&#x5B;20.07827105633,48.126784044051&#x5D;,&#x5B;20.071324563901,48.121136292047&#x5D;,&#x5B;20.047494864528,48.123226965125&#x5D;,&#x5B;20.049609319044,48.115240344367&#x5D;,&#x5B;20.041553946228,48.106571059736&#x5D;,&#x5B;20.03241466619,48.107764682426&#x5D;,&#x5B;20.01868553404,48.102555043767&#x5D;,&#x5B;20.0056029194,48.102276392075&#x5D;,&#x5B;19.985551534111,48.093315480223&#x5D;,&#x5B;19.978728829528,48.092980137904&#x5D;,&#x5B;19.976519153593,48.095666475074&#x5D;,&#x5B;19.968458390885,48.090014162181&#x5D;,&#x5B;19.974624516827,48.085018760647&#x5D;,&#x5B;19.972778209423,48.078172975862&#x5D;,&#x5B;19.986934939649,48.075784748716&#x5D;,&#x5B;19.986268659203,48.070077246514&#x5D;,&#x5B;20.018333035122,48.053444047559&#x5D;,&#x5B;20.008094127346,48.052008670546&#x5D;,&#x5B;20.01364032591,48.044338537257&#x5D;,&#x5B;20.010713884209,48.041332939734&#x5D;,&#x5B;20.015664409908,48.031361453209&#x5D;,&#x5B;20.013310374706,48.024215456996&#x5D;,&#x5B;20.016015291858,48.017640455268&#x5D;,&#x5B;20.026712609924,48.015330482614&#x5D;,&#x5B;20.032297885203,48.009540554508&#x5D;,&#x5B;20.005451553274,48.004470265466&#x5D;,&#x5B;19.996532719807,48.007247467846&#x5D;,&#x5B;19.990661959931,47.999227443662&#x5D;,&#x5B;19.980515039639,47.998197089145&#x5D;,&#x5B;19.975810921823,47.989025480282&#x5D;,&#x5B;19.986398645424,47.980200046407&#x5D;,&#x5B;19.978374983138,47.97766325168&#x5D;,&#x5B;19.975967767671,47.973515450685&#x5D;,&#x5B;19.964089883658,47.971672371124&#x5D;,&#x5B;19.969445639382,47.956039394344&#x5D;,&#x5B;19.968319152016,47.950269285222&#x5D;,&#x5B;19.940947485309,47.944041270089&#x5D;,&#x5B;19.933219728077,47.925460652969&#x5D;,&#x5B;19.92529299401,47.923194952953&#x5D;,&#x5B;19.921830437748,47.918306787661&#x5D;,&#x5B;19.922465816148,47.923235466501&#x5D;,&#x5B;19.92022371103,47.923636747564&#x5D;,&#x5B;19.914424367219,47.916065158048&#x5D;,&#x5B;19.910507892243,47.919137839049&#x5D;,&#x5B;19.895177333436,47.916968191311&#x5D;,&#x5B;19.880681489191,47.930396775905&#x5D;,&#x5B;19.863653383991,47.927477775674&#x5D;,&#x5B;19.83591116223,47.928809960522&#x5D;,&#x5B;19.809202452202,47.92289534435&#x5D;,&#x5B;19.811882935178,47.91333458917&#x5D;,&#x5B;19.809551088364,47.908812745996&#x5D;,&#x5B;19.814077788912,47.907249174619&#x5D;,&#x5B;19.809498896246,47.904624489285&#x5D;,&#x5B;19.81173668945,47.902701265468&#x5D;,&#x5B;19.83033406162,47.896104756335&#x5D;,&#x5B;19.841187866208,47.901318964437&#x5D;,&#x5B;19.855144182294,47.890988870346&#x5D;,&#x5B;19.849477429819,47.890271636162&#x5D;,&#x5B;19.843608017415,47.8766055452&#x5D;,&#x5B;19.836204282507,47.874358253085&#x5D;,&#x5B;19.825561312515,47.87556575465&#x5D;,&#x5B;19.813778919417,47.8855560876&#x5D;,&#x5B;19.800213280648,47.887533441428&#x5D;,&#x5B;19.777249826704,47.904821649412&#x5D;,&#x5B;19.768154384452,47.9029913555&#x5D;,&#x5B;19.767482534451,47.896455594774&#x5D;,&#x5B;19.759522383055,47.8912637864&#x5D;,&#x5B;19.759411081792,47.888204148677&#x5D;,&#x5B;19.765719321211,47.8888970752&#x5D;,&#x5B;19.766743759961,47.884342071577&#x5D;,&#x5B;19.762757396056,47.88013948407&#x5D;,&#x5B;19.764266745397,47.869482588965&#x5D;,&#x5B;19.724909396843,47.840789779832&#x5D;,&#x5B;19.722241580112,47.830505749468&#x5D;,&#x5B;19.71566519358,47.823521273373&#x5D;,&#x5B;19.720697196476,47.818022785198&#x5D;,&#x5B;19.704202870218,47.815840394874&#x5D;,&#x5B;19.6865054303,47.820260636837&#x5D;,&#x5B;19.684100909779,47.811308289543&#x5D;,&#x5B;19.66676019086,47.81032076209&#x5D;,&#x5B;19.667807267156,47.802773873429&#x5D;,&#x5B;19.663867076656,47.800164591644&#x5D;,&#x5B;19.652742789335,47.808316872481&#x5D;,&#x5B;19.656108866537,47.811271851085&#x5D;,&#x5B;19.653293276942,47.813413351361&#x5D;,&#x5B;19.63254408034,47.805836985985&#x5D;,&#x5B;19.645600643838,47.780323658176&#x5D;,&#x5B;19.639275066933,47.771201655722&#x5D;,&#x5B;19.642608625121,47.768147490188&#x5D;,&#x5B;19.639200147438,47.763205442101&#x5D;,&#x5B;19.629499240685,47.754137993082&#x5D;,&#x5B;19.622772655837,47.759492876059&#x5D;,&#x5B;19.612076954739,47.762222676533&#x5D;,&#x5B;19.571132552572,47.734987947343&#x5D;,&#x5B;19.567222994624,47.737681878739&#x5D;,&#x5B;19.541337860049,47.746498378952&#x5D;,&#x5B;19.527111510389,47.730632352674&#x5D;,&#x5B;19.520318450211,47.72836568492&#x5D;,&#x5B;19.518591079751,47.723440585797&#x5D;,&#x5B;19.493703075141,47.716654638541&#x5D;,&#x5B;19.489675388733,47.707141547568&#x5D;,&#x5B;19.505445044052,47.705955455205&#x5D;,&#x5B;19.510989984974,47.697515956246&#x5D;,&#x5B;19.477680094913,47.687813481588&#x5D;,&#x5B;19.468203856812,47.702294847186&#x5D;,&#x5B;19.466009452236,47.711834571949&#x5D;,&#x5B;19.452512175261,47.715295481471&#x5D;,&#x5B;19.433913275955,47.738658945717&#x5D;,&#x5B;19.434714393526,47.749633543852&#x5D;,&#x5B;19.44438305076,47.755663667574&#x5D;,&#x5B;19.447145190596,47.762756059375&#x5D;,&#x5B;19.444277858041,47.768846187508&#x5D;,&#x5B;19.424094150911,47.772935962734&#x5D;,&#x5B;19.415584050898,47.771359536443&#x5D;,&#x5B;19.416109924666,47.778512267952&#x5D;,&#x5B;19.420842878403,47.780407383721&#x5D;,&#x5B;19.426852877148,47.796588691873&#x5D;,&#x5B;19.446412883976,47.802525640389&#x5D;,&#x5B;19.425023278409,47.816659638968&#x5D;,&#x5B;19.412034358053,47.815933775238&#x5D;,&#x5B;19.393968788532,47.822091139818&#x5D;,&#x5B;19.355508048463,47.818750067401&#x5D;,&#x5B;19.32452731027,47.832568845475&#x5D;,&#x5B;19.275851647443,47.825043284004&#x5D;,&#x5B;19.260161942185,47.827587689368&#x5D;,&#x5B;19.231202143887,47.825122775942&#x5D;,&#x5B;19.22048012215,47.835423249686&#x5D;,&#x5B;19.208601519485,47.838881490574&#x5D;,&#x5B;19.208077622012,47.841912146004&#x5D;,&#x5B;19.180384627927,47.849178449802&#x5D;,&#x5B;19.17811844796,47.846897473582&#x5D;,&#x5B;19.168456258596,47.84882078036&#x5D;,&#x5B;19.163802446435,47.84454356686&#x5D;,&#x5B;19.142853823841,47.849150477765&#x5D;,&#x5B;19.108922389434,47.850566241754&#x5D;,&#x5B;19.100877976065,47.847204153646&#x5D;,&#x5B;19.098789393029,47.841853782355&#x5D;,&#x5B;19.086498283986,47.83820658731&#x5D;,&#x5B;19.074630371273,47.845063142899&#x5D;,&#x5B;19.073502716097,47.853818765649&#x5D;,&#x5B;19.065026213076,47.85877124505&#x5D;,&#x5B;19.048049850836,47.861437068734&#x5D;,&#x5B;19.04352854018,47.874003047044&#x5D;,&#x5B;19.045793821832,47.878185586808&#x5D;,&#x5B;19.028245142925,47.889987980463&#x5D;,&#x5B;19.013532714865,47.891886859803&#x5D;,&#x5B;19.00333917201,47.89797438159&#x5D;,&#x5B;18.986901619278,47.915099492865&#x5D;,&#x5B;18.967639314135,47.921562946959&#x5D;,&#x5B;18.961400334824,47.926502993342&#x5D;,&#x5B;18.957994552087,47.934499650411&#x5D;,&#x5B;18.943239633714,47.944001434755&#x5D;,&#x5B;18.948906835347,47.948943850575&#x5D;,&#x5B;18.94095369081,47.954281843558&#x5D;,&#x5B;18.994200161467,47.979443639289&#x5D;,&#x5B;18.989099257789,47.987802467914&#x5D;,&#x5B;19.00496961425,47.991647746685&#x5D;,&#x5B;19.002131926099,48.004220052672&#x5D;,&#x5B;19.007216031281,48.01027915251&#x5D;,&#x5B;19.000406082776,48.009900479624&#x5D;,&#x5B;19.005496476165,48.017099175502&#x5D;,&#x5B;18.990282159355,48.029317266471&#x5D;,&#x5B;18.975441451872,48.024444364356&#x5D;,&#x5B;18.968120182307,48.028429953174&#x5D;,&#x5B;18.95879171707,48.026836175175&#x5D;,&#x5B;18.928060980021,48.057121958488&#x5D;&#x5D;&#x5D;&#x7D;&quot;,&quot;inflectionFrom&quot;&#x3A;&quot;N&#x5C;u00f3gr&#x5C;u00e1d&#x20;megyei&quot;,&quot;inflectionAt&quot;&#x3A;&quot;N&#x5C;u00f3gr&#x5C;u00e1d&#x20;megy&#x5C;u00e9ben&quot;,&quot;zipCode&quot;&#x3A;&quot;&quot;&#x7D;,&#x7B;&quot;id&quot;&#x3A;5,&quot;type&quot;&#x3A;&quot;region&quot;,&quot;name&quot;&#x3A;&quot;&#x5C;u00c9szak-Magyarorsz&#x5C;u00e1g&quot;,&quot;namePostfix&quot;&#x3A;&quot;&quot;,&quot;slug&quot;&#x3A;&quot;eszak-magyarorszag&quot;,&quot;coordinates&quot;&#x3A;&#x7B;&quot;lat&quot;&#x3A;47.920000000000002,&quot;lon&quot;&#x3A;20.399999999999999&#x7D;,&quot;bounds&quot;&#x3A;&#x7B;&quot;south&quot;&#x3A;47.383471999999998,&quot;west&quot;&#x3A;18.89649,&quot;north&quot;&#x3A;48.611122000000002,&quot;east&quot;&#x3A;22.141110000000001&#x7D;,&quot;urlPart&quot;&#x3A;&quot;eszak-magyarorszag&quot;,&quot;parentId&quot;&#x3A;1,&quot;isOfficeBuilding&quot;&#x3A;false,&quot;oldName&quot;&#x3A;null,&quot;usableInAd&quot;&#x3A;true,&quot;polygon&quot;&#x3A;&quot;&quot;,&quot;inflectionFrom&quot;&#x3A;&quot;&quot;,&quot;inflectionAt&quot;&#x3A;&quot;&quot;,&quot;zipCode&quot;&#x3A;&quot;&quot;&#x7D;,&#x7B;&quot;id&quot;&#x3A;1,&quot;type&quot;&#x3A;&quot;country&quot;,&quot;name&quot;&#x3A;&quot;Magyarorsz&#x5C;u00e1g&quot;,&quot;namePostfix&quot;&#x3A;&quot;&quot;,&quot;slug&quot;&#x3A;&quot;magyarorszag&quot;,&quot;coordinates&quot;&#x3A;&#x7B;&quot;lat&quot;&#x3A;47.409959999999998,&quot;lon&quot;&#x3A;19.061834000000001&#x7D;,&quot;bounds&quot;&#x3A;&#x7B;&quot;south&quot;&#x3A;45.783645999999997,&quot;west&quot;&#x3A;16.163329999999998,&quot;north&quot;&#x3A;48.559704000000004,&quot;east&quot;&#x3A;22.817394&#x7D;,&quot;urlPart&quot;&#x3A;&quot;magyarorszag&quot;,&quot;parentId&quot;&#x3A;null,&quot;isOfficeBuilding&quot;&#x3A;false,&quot;oldName&quot;&#x3A;null,&quot;usableInAd&quot;&#x3A;true,&quot;polygon&quot;&#x3A;&quot;&quot;,&quot;inflectionFrom&quot;&#x3A;&quot;&quot;,&quot;inflectionAt&quot;&#x3A;&quot;&quot;,&quot;zipCode&quot;&#x3A;&quot;&quot;&#x7D;&#x5D;\" data-location-id-value=\"map\" data-location-address-value=\"P&#x00E1;szt&#x00F3;,&#x20;K&#x00F6;lcsey&#x20;utca&#x20;\" data-location-bkk-routes-value=\"&#x5B;&#x5D;\" data-location-fullscreen-value=\"false\"></div>\\n    </div>\\n                <div id=\"map-fullscreen-container\" class=\"row bg-white p-0 pt-3 position-fixed top-0 start-0 min-vw-100 vh-100 z-index-1000 rounded-5 invisible\">\\n    <div class=\"col-12 d-flex flex-column\">\\n        <span class=\"card-title px-0 fw-bold fs-5 ms-3\">T\\xc3\\xa9rk\\xc3\\xa9p</span>\\n        <span class=\"card-title px-0 text-secondary fw-bold pb-2 ms-3\">P\\xc3\\xa1szt\\xc3\\xb3, K\\xc3\\xb6lcsey utca </span>\\n        <span id=\"map-fullscreen-close-button\" class=\"material-icons pe-2 text-dark position-absolute top-0 end-0 mt-4 me-3 w-auto\" role=\"button\">close</span>\\n    </div>\\n    <div class=\"col-12 px-0 min-vw-100\">\\n                    <div data-controller=\"location\" data-location-listing-data-value=\"&#x7B;&quot;id&quot;&#x3A;33441333,&quot;clusterId&quot;&#x3A;33441333,&quot;type&quot;&#x3A;&quot;rent&quot;,&quot;rank&quot;&#x3A;0,&quot;hasRank&quot;&#x3A;0,&quot;rankSum&quot;&#x3A;0,&quot;property&quot;&#x3A;&#x7B;&quot;areaSize&quot;&#x3A;30,&quot;atticType&quot;&#x3A;null,&quot;availableFrom&quot;&#x3A;&#x7B;&quot;date&quot;&#x3A;&quot;2023-03-08&#x20;00&#x3A;00&#x3A;00.000000&quot;,&quot;timezone_type&quot;&#x3A;2,&quot;timezone&quot;&#x3A;&quot;Z&quot;&#x7D;,&quot;averageGasConsumption&quot;&#x3A;null,&quot;averageElectricConsumption&quot;&#x3A;null,&quot;balconySize&quot;&#x3A;2,&quot;bathroomToiletSeparation&quot;&#x3A;null,&quot;buildingFloorCount&quot;&#x3A;null,&quot;comfortLevel&quot;&#x3A;&quot;full&quot;,&quot;commonCharges&quot;&#x3A;null,&quot;condition&quot;&#x3A;&quot;renovated&quot;,&quot;electricityAvailability&quot;&#x3A;null,&quot;energyEfficiencyRating&quot;&#x3A;null,&quot;floor&quot;&#x3A;null,&quot;furnishment&quot;&#x3A;&quot;furnished&quot;,&quot;gardenSize&quot;&#x3A;null,&quot;gasAvailability&quot;&#x3A;null,&quot;hasAirConditioner&quot;&#x3A;null,&quot;hasBarrierFreeAccess&quot;&#x3A;null,&quot;hasBasement&quot;&#x3A;null,&quot;hasElevator&quot;&#x3A;null,&quot;hasEquipments&quot;&#x3A;true,&quot;hasGardenAccess&quot;&#x3A;null,&quot;innerHeight&quot;&#x3A;null,&quot;insulation&quot;&#x3A;null,&quot;insulationThickness&quot;&#x3A;null,&quot;isPetsAllowed&quot;&#x3A;false,&quot;isSmokingAllowed&quot;&#x3A;false,&quot;isGreenHome&quot;&#x3A;null,&quot;locationId&quot;&#x3A;80853,&quot;lotCoverabilityPercentage&quot;&#x3A;null,&quot;lotSize&quot;&#x3A;null,&quot;orientation&quot;&#x3A;null,&quot;parking&quot;&#x3A;null,&quot;parkingPrice&quot;&#x3A;null,&quot;parkingSpotCount&quot;&#x3A;null,&quot;participatedInThePanelProgram&quot;&#x3A;null,&quot;roomCount&quot;&#x3A;1,&quot;sewerAvailability&quot;&#x3A;null,&quot;smallRoomCount&quot;&#x3A;null,&quot;solarPanel&quot;&#x3A;null,&quot;solarPanelPowerOutput&quot;&#x3A;null,&quot;streetNumber&quot;&#x3A;null,&quot;streetNumberCoordinates&quot;&#x3A;null,&quot;subtype&quot;&#x3A;&quot;blockOfFlats&quot;,&quot;type&quot;&#x3A;&quot;flat&quot;,&quot;utilityCosts&quot;&#x3A;null,&quot;view&quot;&#x3A;null,&quot;waterAvailability&quot;&#x3A;null,&quot;yearOfConstruction&quot;&#x3A;null,&quot;heatingTypes&quot;&#x3A;null,&quot;minimumRentableArea&quot;&#x3A;null,&quot;minimumRentalPeriodMonth&quot;&#x3A;null,&quot;officeCategory&quot;&#x3A;null,&quot;projectId&quot;&#x3A;null,&quot;lotRatio&quot;&#x3A;null,&quot;grossFloorArea&quot;&#x3A;null,&quot;operationalCost&quot;&#x3A;null,&quot;isUnincorporatedArea&quot;&#x3A;false,&quot;withoutGasConnection&quot;&#x3A;false,&quot;energyEfficient&quot;&#x3A;false&#x7D;,&quot;description&quot;&#x3A;&quot;P&#x5C;u00e1szt&#x5C;u00f3n&#x20;a&#x20;K&#x5C;u00f6lcsey&#x20;&#x5C;u00faton,&#x20;30&#x20;m2&#x20;&#x20;erk&#x5C;u00e9lyes,&#x20;M&#x5C;u00e1tr&#x5C;u00e1ra&#x20;n&#x5C;u00e9z&#x5C;u0151&#x20;panor&#x5C;u00e1m&#x5C;u00e1s&#x20;egyszob&#x5C;u00e1s&#x20;lak&#x5C;u00e1s&#x20;kiad&#x5C;u00f3.&#x20;&#x5C;nB&#x5C;u00e9rleti&#x20;d&#x5C;u00edj&#x3A;90.000.-&#x20;&#x2B;rezsi&#x20;&#x5C;&#x2F;&#x20;h&#x5C;u00f3.&#x20;2&#x20;havi&#x20;kauci&#x5C;u00f3&#x20;sz&#x5C;u00fcks&#x5C;u00e9ges.&#x20;&#x5C;nA&#x20;lak&#x5C;u00e1s&#x20;ig&#x5C;u00e9nyesen,&#x20;frissen&#x20;fel&#x5C;u00faj&#x5C;u00edtott,&#x20;ablakai&#x20;vadonat&#x5C;u00fajak.&#x20;&#x5C;nKis&#x5C;u00e1llat&#x20;&#x20;&#x5C;u00e9s&#x20;gyerek&#x20;nem&#x20;hozhat&#x5C;u00f3,&#x20;doh&#x5C;u00e1nyz&#x5C;u00e1s&#x20;nem&#x20;megengedett.&quot;,&quot;referenceId&quot;&#x3A;null,&quot;minimumRentalPeriodMonth&quot;&#x3A;null,&quot;isBankClaimOffer&quot;&#x3A;false,&quot;isRentalRightOffer&quot;&#x3A;false,&quot;isOutdated&quot;&#x3A;false,&quot;isActive&quot;&#x3A;true,&quot;isDeleted&quot;&#x3A;false,&quot;updatedAt&quot;&#x3A;&#x7B;&quot;date&quot;&#x3A;&quot;2023-03-08&#x20;17&#x3A;33&#x3A;45.000000&quot;,&quot;timezone_type&quot;&#x3A;2,&quot;timezone&quot;&#x3A;&quot;Z&quot;&#x7D;,&quot;tenderDocument&quot;&#x3A;null,&quot;prices&quot;&#x3A;&#x5B;&#x7B;&quot;amount&quot;&#x3A;&quot;9000000&quot;,&quot;currency&quot;&#x3A;&quot;HUF&quot;,&quot;interval&quot;&#x3A;&#x7B;&quot;y&quot;&#x3A;0,&quot;m&quot;&#x3A;1,&quot;d&quot;&#x3A;0&#x7D;&#x7D;&#x5D;,&quot;areaPrices&quot;&#x3A;&#x5B;&#x5D;,&quot;photos&quot;&#x3A;&#x5B;&#x5D;,&quot;links&quot;&#x3A;&#x5B;&#x5D;,&quot;labels&quot;&#x3A;&#x5B;&#x5D;,&quot;sellerId&quot;&#x3A;212356733,&quot;seller&quot;&#x3A;&#x7B;&quot;id&quot;&#x3A;212356733,&quot;realtorsProhibited&quot;&#x3A;true&#x7D;,&quot;contactPhoneNumbers&quot;&#x3A;&#x7B;&#x7D;&#x7D;\" data-location-geo-json-value=\"&#x7B;&quot;type&quot;&#x3A;&quot;Feature&quot;,&quot;geometry&quot;&#x3A;&#x7B;&quot;type&quot;&#x3A;&quot;MultiLineString&quot;,&quot;coordinates&quot;&#x3A;&#x5B;&#x5B;&#x5B;19.697303900000001,47.920815099956499&#x5D;,&#x5B;19.6970499,47.920719599956499&#x5D;,&#x5B;19.696797400000001,47.920622599956502&#x5D;,&#x5B;19.6967146,47.920577199956597&#x5D;,&#x5B;19.696600199999999,47.920492599956603&#x5D;,&#x5B;19.6964124,47.920296499956599&#x5D;,&#x5B;19.696245300000001,47.920127999956698&#x5D;,&#x5B;19.696117900000001,47.919999599956697&#x5D;&#x5D;,&#x5B;&#x5B;19.697178900000001,47.920352299956598&#x5D;,&#x5B;19.698289899999999,47.919880799956701&#x5D;&#x5D;,&#x5B;&#x5B;19.697303900000001,47.920815099956499&#x5D;,&#x5B;19.697478,47.920880599956497&#x5D;,&#x5B;19.697604500000001,47.920916899956502&#x5D;,&#x5B;19.697952300000001,47.921016799956497&#x5D;,&#x5B;19.698503599999999,47.921175799956401&#x5D;,&#x5B;19.6990579,47.921375999956403&#x5D;,&#x5B;19.6991072,47.921396599956402&#x5D;,&#x5B;19.699144199999999,47.921427599956402&#x5D;&#x5D;&#x5D;&#x7D;,&quot;properties&quot;&#x3A;null&#x7D;\" data-location-location-hierarchy-data-value=\"&#x5B;&#x7B;&quot;id&quot;&#x3A;80853,&quot;type&quot;&#x3A;&quot;street&quot;,&quot;name&quot;&#x3A;&quot;K&#x5C;u00f6lcsey&quot;,&quot;namePostfix&quot;&#x3A;&quot;utca&quot;,&quot;slug&quot;&#x3A;&quot;paszto-kolcsey-utca-80853&quot;,&quot;coordinates&quot;&#x3A;&#x7B;&quot;lat&quot;&#x3A;47.921219999999998,&quot;lon&quot;&#x3A;19.698229999999999&#x7D;,&quot;bounds&quot;&#x3A;&#x7B;&quot;south&quot;&#x3A;47.919600000000003,&quot;west&quot;&#x3A;19.696175,&quot;north&quot;&#x3A;47.921405999999998,&quot;east&quot;&#x3A;19.699017999999999&#x7D;,&quot;urlPart&quot;&#x3A;&quot;u&#x3A;K&#x5C;u00f6lcsey_utca&#x7C;80853&quot;,&quot;parentId&quot;&#x3A;2365,&quot;isOfficeBuilding&quot;&#x3A;false,&quot;oldName&quot;&#x3A;null,&quot;usableInAd&quot;&#x3A;true,&quot;polygon&quot;&#x3A;&quot;&#x7B;&#x5C;&quot;type&#x5C;&quot;&#x3A;&#x5C;&quot;Feature&#x5C;&quot;,&#x5C;&quot;geometry&#x5C;&quot;&#x3A;&#x7B;&#x5C;&quot;type&#x5C;&quot;&#x3A;&#x5C;&quot;MultiLineString&#x5C;&quot;,&#x5C;&quot;coordinates&#x5C;&quot;&#x3A;&#x5B;&#x5B;&#x5B;19.697303900000001,47.920815099956499&#x5D;,&#x5B;19.6970499,47.920719599956499&#x5D;,&#x5B;19.696797400000001,47.920622599956502&#x5D;,&#x5B;19.6967146,47.920577199956597&#x5D;,&#x5B;19.696600199999999,47.920492599956603&#x5D;,&#x5B;19.6964124,47.920296499956599&#x5D;,&#x5B;19.696245300000001,47.920127999956698&#x5D;,&#x5B;19.696117900000001,47.919999599956697&#x5D;&#x5D;,&#x5B;&#x5B;19.697178900000001,47.920352299956598&#x5D;,&#x5B;19.698289899999999,47.919880799956701&#x5D;&#x5D;,&#x5B;&#x5B;19.697303900000001,47.920815099956499&#x5D;,&#x5B;19.697478,47.920880599956497&#x5D;,&#x5B;19.697604500000001,47.920916899956502&#x5D;,&#x5B;19.697952300000001,47.921016799956497&#x5D;,&#x5B;19.698503599999999,47.921175799956401&#x5D;,&#x5B;19.6990579,47.921375999956403&#x5D;,&#x5B;19.6991072,47.921396599956402&#x5D;,&#x5B;19.699144199999999,47.921427599956402&#x5D;&#x5D;&#x5D;&#x7D;&#x7D;&quot;,&quot;inflectionFrom&quot;&#x3A;&quot;&quot;,&quot;inflectionAt&quot;&#x3A;&quot;&quot;,&quot;zipCode&quot;&#x3A;&quot;3060&quot;&#x7D;,&#x7B;&quot;id&quot;&#x3A;2365,&quot;type&quot;&#x3A;&quot;city&quot;,&quot;name&quot;&#x3A;&quot;P&#x5C;u00e1szt&#x5C;u00f3&quot;,&quot;namePostfix&quot;&#x3A;&quot;&quot;,&quot;slug&quot;&#x3A;&quot;paszto&quot;,&quot;coordinates&quot;&#x3A;&#x7B;&quot;lat&quot;&#x3A;47.921090999999997,&quot;lon&quot;&#x3A;19.699835&#x7D;,&quot;bounds&quot;&#x3A;&#x7B;&quot;south&quot;&#x3A;47.902718,&quot;west&quot;&#x3A;19.683959999999999,&quot;north&quot;&#x3A;47.935009999999998,&quot;east&quot;&#x3A;19.749018&#x7D;,&quot;urlPart&quot;&#x3A;&quot;paszto&quot;,&quot;parentId&quot;&#x3A;144813,&quot;isOfficeBuilding&quot;&#x3A;false,&quot;oldName&quot;&#x3A;null,&quot;usableInAd&quot;&#x3A;true,&quot;polygon&quot;&#x3A;&quot;&#x7B;&#x5C;&quot;type&#x5C;&quot;&#x3A;&#x5C;&quot;MultiPolygon&#x5C;&quot;,&#x5C;&quot;coordinates&#x5C;&quot;&#x3A;&#x5B;&#x5B;&#x5B;&#x5B;19.630219060722,47.921266639943&#x5D;,&#x5B;19.630802426668,47.923165937287&#x5D;,&#x5B;19.632533120894,47.92544373794&#x5D;,&#x5B;19.632545876971,47.926583774446&#x5D;,&#x5B;19.631991257115,47.928110886777&#x5D;,&#x5B;19.63200392336,47.929250864495&#x5D;,&#x5B;19.630345813009,47.932685753931&#x5D;,&#x5B;19.630375457413,47.935350061751&#x5D;,&#x5B;19.630950558858,47.936493490876&#x5D;,&#x5B;19.632093126068,47.937249865066&#x5D;,&#x5B;19.634365414579,47.937616372768&#x5D;,&#x5B;19.637767514223,47.937599160806&#x5D;,&#x5B;19.639459760555,47.937212552149&#x5D;,&#x5B;19.646228656053,47.93489145525&#x5D;,&#x5B;19.655273612985,47.933320185574&#x5D;,&#x5B;19.657528294517,47.932168259953&#x5D;,&#x5B;19.659193411728,47.929495060478&#x5D;,&#x5B;19.659760518167,47.929107969885&#x5D;,&#x5B;19.667103347299,47.927928863614&#x5D;,&#x5B;19.669370964571,47.927916764829&#x5D;,&#x5B;19.670495745138,47.927148576507&#x5D;,&#x5B;19.672191854226,47.927139487234&#x5D;,&#x5B;19.677842616689,47.925584656216&#x5D;,&#x5B;19.677847287929,47.925968763418&#x5D;,&#x5B;19.678994795872,47.927102648573&#x5D;,&#x5B;19.683520777768,47.927077969063&#x5D;,&#x5B;19.683525449008,47.927462185561&#x5D;,&#x5B;19.682400758272,47.928224289773&#x5D;,&#x5B;19.685226139504,47.927830749011&#x5D;,&#x5B;19.686392422237,47.930488746263&#x5D;,&#x5B;19.688130392817,47.933143657752&#x5D;,&#x5B;19.691002666107,47.936554335835&#x5D;,&#x5B;19.693294088734,47.938443864182&#x5D;,&#x5B;19.700599458119,47.934214371287&#x5D;,&#x5B;19.701185339347,47.935357344052&#x5D;,&#x5B;19.703463107581,47.936868850775&#x5D;,&#x5B;19.704044227739,47.93762148821&#x5D;,&#x5B;19.703477390794,47.938008876165&#x5D;,&#x5B;19.704620946151,47.938764566202&#x5D;,&#x5B;19.70520215614,47.939523374526&#x5D;,&#x5B;19.706336279186,47.939516935324&#x5D;,&#x5B;19.706893863483,47.939129679029&#x5D;,&#x5B;19.706326667212,47.938754877167&#x5D;,&#x5B;19.70632181631,47.938370744565&#x5D;,&#x5B;19.707455939356,47.9383643654&#x5D;,&#x5B;19.710824711503,47.936442876963&#x5D;,&#x5B;19.714183242856,47.932997042301&#x5D;,&#x5B;19.716451129622,47.932984041897&#x5D;,&#x5B;19.719295914464,47.934107782418&#x5D;,&#x5B;19.722698463266,47.934850168428&#x5D;,&#x5B;19.726115115617,47.935976576657&#x5D;,&#x5B;19.726120056351,47.936354588366&#x5D;,&#x5B;19.731238387346,47.937848854057&#x5D;,&#x5B;19.740286308719,47.936655081931&#x5D;,&#x5B;19.744797019255,47.934719687411&#x5D;,&#x5B;19.760597217293,47.930435056781&#x5D;,&#x5B;19.764005245818,47.931560357412&#x5D;,&#x5B;19.768540839687,47.931532369647&#x5D;,&#x5B;19.775324467555,47.930727880467&#x5D;,&#x5B;19.77702452923,47.930333094763&#x5D;,&#x5B;19.778143919906,47.929948056923&#x5D;,&#x5B;19.779833471292,47.928797260024&#x5D;,&#x5B;19.782081145965,47.928020838361&#x5D;,&#x5B;19.786054124972,47.927995737939&#x5D;,&#x5B;19.787734244048,47.926844837404&#x5D;,&#x5B;19.789419573352,47.926071937942&#x5D;,&#x5B;19.793943758618,47.925280847733&#x5D;,&#x5B;19.795066652723,47.924511476519&#x5D;,&#x5B;19.796757192256,47.924116342375&#x5D;,&#x5B;19.798442341897,47.923349542367&#x5D;,&#x5B;19.80014752397,47.923338586279&#x5D;,&#x5B;19.80295520839,47.921795982025&#x5D;,&#x5B;19.805224442629,47.922543360718&#x5D;,&#x5B;19.805229832521,47.92292129003&#x5D;,&#x5B;19.806369165796,47.923298072812&#x5D;,&#x5B;19.808074347868,47.92328687592&#x5D;,&#x5B;19.809202452202,47.92289534435&#x5D;,&#x5B;19.810273064358,47.919087087743&#x5D;,&#x5B;19.809710629158,47.918710153882&#x5D;,&#x5B;19.810251145465,47.917178067977&#x5D;,&#x5B;19.810806214479,47.916419473598&#x5D;,&#x5B;19.810769653047,47.914500541405&#x5D;,&#x5B;19.811882935178,47.91333458917&#x5D;,&#x5B;19.809551088364,47.908812745996&#x5D;,&#x5B;19.81182427519,47.90840785744&#x5D;,&#x5B;19.81183011424,47.908031989886&#x5D;,&#x5B;19.812934413218,47.90801627348&#x5D;,&#x5B;19.814077788912,47.907249174619&#x5D;,&#x5B;19.813501160331,47.907260374983&#x5D;,&#x5B;19.809498896246,47.904624489285&#x5D;,&#x5B;19.81173668945,47.902701265468&#x5D;,&#x5B;19.813442769838,47.901921742077&#x5D;,&#x5B;19.815703829408,47.901906144263&#x5D;,&#x5B;19.820720111786,47.899215541303&#x5D;,&#x5B;19.821283624964,47.897703054621&#x5D;,&#x5B;19.82240364446,47.896921046807&#x5D;,&#x5B;19.830322383521,47.896480891188&#x5D;,&#x5B;19.83033406162,47.896104756335&#x5D;,&#x5B;19.83260158906,47.896092891028&#x5D;,&#x5B;19.834842795862,47.896457461891&#x5D;,&#x5B;19.831759687975,47.898564851616&#x5D;,&#x5B;19.83377532781,47.899896636733&#x5D;,&#x5B;19.834330486656,47.899888867634&#x5D;,&#x5B;19.834901994839,47.899120865378&#x5D;,&#x5B;19.835462274082,47.899496135156&#x5D;,&#x5B;19.837175810486,47.899493244306&#x5D;,&#x5B;19.837187578417,47.900253170869&#x5D;,&#x5B;19.83774848648,47.900625240529&#x5D;,&#x5B;19.837742647431,47.900249256234&#x5D;,&#x5B;19.838309394544,47.900236187373&#x5D;,&#x5B;19.838404436301,47.900941178449&#x5D;,&#x5B;19.839451422764,47.901369853619&#x5D;,&#x5B;19.841187866208,47.901318964437&#x5D;,&#x5B;19.852314578981,47.893340367423&#x5D;,&#x5B;19.855144182294,47.890988870346&#x5D;,&#x5B;19.853444659608,47.890244288664&#x5D;,&#x5B;19.852287809185,47.890632091704&#x5D;,&#x5B;19.850610924044,47.89064383779&#x5D;,&#x5B;19.849477429819,47.890271636162&#x5D;,&#x5B;19.848899094439,47.889119775949&#x5D;,&#x5B;19.847748083065,47.887995359297&#x5D;,&#x5B;19.847748083065,47.887611391863&#x5D;,&#x5B;19.847169657854,47.887227361343&#x5D;,&#x5B;19.847716821693,47.886089288999&#x5D;,&#x5B;19.848262727892,47.885691451756&#x5D;,&#x5B;19.848241168325,47.883049949428&#x5D;,&#x5B;19.847647741248,47.881909556177&#x5D;,&#x5B;19.844772054361,47.878496058355&#x5D;,&#x5B;19.843608017415,47.8766055452&#x5D;,&#x5B;19.8413060845,47.875844187021&#x5D;,&#x5B;19.838504867949,47.875485074659&#x5D;,&#x5B;19.836204282507,47.874358253085&#x5D;,&#x5B;19.831694380454,47.874395069042&#x5D;,&#x5B;19.831147575941,47.874016243037&#x5D;,&#x5B;19.830562323533,47.874780881833&#x5D;,&#x5B;19.829466828044,47.875172777439&#x5D;,&#x5B;19.828873490799,47.875178863125&#x5D;,&#x5B;19.826618539773,47.876311692154&#x5D;,&#x5B;19.825561312515,47.87556575465&#x5D;,&#x5B;19.823284981585,47.87824077653&#x5D;,&#x5B;19.820459690185,47.880207745631&#x5D;,&#x5B;19.819354043733,47.880559053261&#x5D;,&#x5B;19.819925821412,47.881691162192&#x5D;,&#x5B;19.816513031816,47.883657638827&#x5D;,&#x5B;19.816012041382,47.884386953085&#x5D;,&#x5B;19.813778919417,47.8855560876&#x5D;,&#x5B;19.810354811049,47.885960191028&#x5D;,&#x5B;19.806945794377,47.88596838391&#x5D;,&#x5B;19.803561211881,47.886763147473&#x5D;,&#x5B;19.80245619425,47.886390978197&#x5D;,&#x5B;19.800213280648,47.887533441428&#x5D;,&#x5B;19.799076911814,47.888713287629&#x5D;,&#x5B;19.797366789008,47.889852085401&#x5D;,&#x5B;19.797987165543,47.890567759248&#x5D;,&#x5B;19.797439642377,47.890982846752&#x5D;,&#x5B;19.796889783592,47.892105271036&#x5D;,&#x5B;19.789570759814,47.896717773433&#x5D;,&#x5B;19.789583066734,47.897127391051&#x5D;,&#x5B;19.788410046636,47.897119139706&#x5D;,&#x5B;19.788507783339,47.897496050159&#x5D;,&#x5B;19.786210611494,47.899060638873&#x5D;,&#x5B;19.784524473706,47.899814368542&#x5D;,&#x5B;19.784512256618,47.900576157359&#x5D;,&#x5B;19.783962308001,47.900977553945&#x5D;,&#x5B;19.783986832008,47.901354376086&#x5D;,&#x5B;19.7806144666,47.902894337819&#x5D;,&#x5B;19.7806144666,47.903279336149&#x5D;,&#x5B;19.778903894636,47.903680771998&#x5D;,&#x5B;19.777249826704,47.904821649412&#x5D;,&#x5B;19.776675174416,47.904831886784&#x5D;,&#x5B;19.776092167797,47.904456053481&#x5D;,&#x5B;19.77496154818,47.904466893127&#x5D;,&#x5B;19.774393363763,47.904088347244&#x5D;,&#x5B;19.771607508404,47.903736175441&#x5D;,&#x5B;19.768154384452,47.9029913555&#x5D;,&#x5B;19.76753301977,47.900887157176&#x5D;,&#x5B;19.767482534451,47.896455594774&#x5D;,&#x5B;19.765828825844,47.895713741834&#x5D;,&#x5B;19.763442361461,47.893473663311&#x5D;,&#x5B;19.761771854358,47.893121539764&#x5D;,&#x5B;19.759522383055,47.8912637864&#x5D;,&#x5B;19.759411081792,47.888204148677&#x5D;,&#x5B;19.758869936664,47.886667846369&#x5D;,&#x5B;19.75773707126,47.886674774078&#x5D;,&#x5B;19.756037009584,47.886301037891&#x5D;,&#x5B;19.751464584788,47.88328635091&#x5D;,&#x5B;19.750296056267,47.880628940964&#x5D;,&#x5B;19.750285815472,47.879866858672&#x5D;,&#x5B;19.749703797,47.878346094745&#x5D;,&#x5B;19.746264956261,47.875324377096&#x5D;,&#x5B;19.745693178582,47.874565591058&#x5D;,&#x5B;19.746234593204,47.873037983019&#x5D;,&#x5B;19.740019778574,47.873837343647&#x5D;,&#x5B;19.738911257513,47.874984181061&#x5D;,&#x5B;19.737783692169,47.875375050809&#x5D;,&#x5B;19.736650916595,47.875381739013&#x5D;,&#x5B;19.733277742704,47.877304049554&#x5D;,&#x5B;19.732715936325,47.877307483909&#x5D;,&#x5B;19.731593132051,47.878076171202&#x5D;,&#x5B;19.729903580665,47.878464185852&#x5D;,&#x5B;19.729332521639,47.878467439379&#x5D;,&#x5B;19.729327670736,47.878089546911&#x5D;,&#x5B;19.72762814805,47.877715387271&#x5D;,&#x5B;19.716895975351,47.879680086854&#x5D;,&#x5B;19.713526125226,47.881223765846&#x5D;,&#x5B;19.710127618843,47.881243165469&#x5D;,&#x5B;19.705072708907,47.884320685073&#x5D;,&#x5B;19.70451099236,47.884323757501&#x5D;,&#x5B;19.702816410408,47.885095593804&#x5D;,&#x5B;19.700564513654,47.885486146302&#x5D;,&#x5B;19.697746318945,47.886264170152&#x5D;,&#x5B;19.697161156369,47.885127341742&#x5D;,&#x5B;19.695457052275,47.884374663387&#x5D;,&#x5B;19.695447619964,47.883612575954&#x5D;,&#x5B;19.6925873841,47.880964039139&#x5D;,&#x5B;19.692002221523,47.879820949017&#x5D;,&#x5B;19.688585389509,47.878321753483&#x5D;,&#x5B;19.684569830357,47.873770881372&#x5D;,&#x5B;19.674956060187,47.87382324377&#x5D;,&#x5B;19.673827955853,47.874213579977&#x5D;,&#x5B;19.660820350539,47.874660974683&#x5D;,&#x5B;19.660824842115,47.875045158623&#x5D;,&#x5B;19.659709853184,47.876569152582&#x5D;,&#x5B;19.660294297108,47.877712434954&#x5D;,&#x5B;19.660391854148,47.886083264836&#x5D;,&#x5B;19.657015266658,47.888009575796&#x5D;,&#x5B;19.654775676823,47.890301573825&#x5D;,&#x5B;19.6536470335,47.890691665415&#x5D;,&#x5B;19.651965207626,47.891840539155&#x5D;,&#x5B;19.649725348296,47.894138692031&#x5D;,&#x5B;19.648095624708,47.899853936788&#x5D;,&#x5B;19.646988540951,47.902146193503&#x5D;,&#x5B;19.646426465078,47.902149084204&#x5D;,&#x5B;19.645863940047,47.902914090657&#x5D;,&#x5B;19.645868251961,47.903292042912&#x5D;,&#x5B;19.647559240651,47.902905358458&#x5D;,&#x5B;19.648696867127,47.903277469279&#x5D;,&#x5B;19.648727320015,47.905941786509&#x5D;,&#x5B;19.646513332166,47.909763956693&#x5D;,&#x5B;19.643138990464,47.912061554877&#x5D;,&#x5B;19.642009718321,47.912451482533&#x5D;,&#x5B;19.637510685883,47.914760882638&#x5D;,&#x5B;19.635822751464,47.916287561329&#x5D;,&#x5B;19.63133153437,47.919358784253&#x5D;,&#x5B;19.630219060722,47.921266639943&#x5D;&#x5D;&#x5D;&#x5D;&#x7D;&quot;,&quot;inflectionFrom&quot;&#x3A;&quot;p&#x5C;u00e1szt&#x5C;u00f3i&quot;,&quot;inflectionAt&quot;&#x3A;&quot;P&#x5C;u00e1szt&#x5C;u00f3n&quot;,&quot;zipCode&quot;&#x3A;&quot;3060&quot;&#x7D;,&#x7B;&quot;id&quot;&#x3A;144813,&quot;type&quot;&#x3A;&quot;microRegion&quot;,&quot;name&quot;&#x3A;&quot;P&#x5C;u00e1szt&#x5C;u00f3i&quot;,&quot;namePostfix&quot;&#x3A;&quot;j&#x5C;u00e1r&#x5C;u00e1s&quot;,&quot;slug&quot;&#x3A;&quot;paszt&#x5C;u00f3i-jaras&quot;,&quot;coordinates&quot;&#x3A;&#x7B;&quot;lat&quot;&#x3A;47.843502000000001,&quot;lon&quot;&#x3A;19.635363999999999&#x7D;,&quot;bounds&quot;&#x3A;&#x7B;&quot;south&quot;&#x3A;47.687812999999998,&quot;west&quot;&#x3A;19.415585,&quot;north&quot;&#x3A;47.999189999999999,&quot;east&quot;&#x3A;19.855145&#x7D;,&quot;urlPart&quot;&#x3A;&quot;paszt&#x5C;u00f3i-jaras&quot;,&quot;parentId&quot;&#x3A;21,&quot;isOfficeBuilding&quot;&#x3A;false,&quot;oldName&quot;&#x3A;null,&quot;usableInAd&quot;&#x3A;true,&quot;polygon&quot;&#x3A;&quot;&#x7B;&#x5C;&quot;type&#x5C;&quot;&#x3A;&#x5C;&quot;MultiPolygon&#x5C;&quot;,&#x5C;&quot;coordinates&#x5C;&quot;&#x3A;&#x5B;&#x5B;&#x5B;&#x5B;19.41558405089828,47.77135953644272&#x5D;,&#x5B;19.4161099246656,47.77851226795187&#x5D;,&#x5B;19.42084287840304,47.780407383721325&#x5D;,&#x5B;19.426852877148388,47.79658869187283&#x5D;,&#x5B;19.44641288397633,47.80252564038915&#x5D;,&#x5B;19.42502327840922,47.81665963896767&#x5D;,&#x5B;19.427291614333146,47.81741438653635&#x5D;,&#x5B;19.426168360901883,47.818558189424714&#x5D;,&#x5B;19.425607273175427,47.818560059348684&#x5D;,&#x5B;19.425609968121275,47.81894417649645&#x5D;,&#x5B;19.42503962774739,47.81894604640653&#x5D;,&#x5B;19.425047892248003,47.82008613613269&#x5D;,&#x5B;19.426190369626347,47.82160673956629&#x5D;,&#x5B;19.42619584934958,47.822368954683434&#x5D;,&#x5B;19.42676897450085,47.82274508203615&#x5D;,&#x5B;19.426774454224084,47.82350715981061&#x5D;,&#x5B;19.42791154171072,47.82426566790106&#x5D;,&#x5B;19.427919896042862,47.82540576143004&#x5D;,&#x5B;19.427354945560676,47.82616979041602&#x5D;,&#x5B;19.42681299194977,47.8288359632399&#x5D;,&#x5B;19.423992641283753,47.830747456343516&#x5D;,&#x5B;19.422883671065502,47.832653391403205&#x5D;,&#x5B;19.42175736336228,47.833419243393486&#x5D;,&#x5B;19.42176275325398,47.834181345358644&#x5D;,&#x5B;19.420639050665073,47.8353313515935&#x5D;,&#x5B;19.422362019380017,47.83950838963703&#x5D;,&#x5B;19.424625953559055,47.839500973254964&#x5D;,&#x5B;19.426903631961938,47.841402064790834&#x5D;,&#x5B;19.427470558737745,47.84215615116511&#x5D;,&#x5B;19.42690911168517,47.842157959946306&#x5D;,&#x5B;19.427473343515125,47.8425403348751&#x5D;,&#x5B;19.4280439533836,47.84253846581498&#x5D;,&#x5B;19.429175022157835,47.843674841945166&#x5D;,&#x5B;19.428619144660026,47.84443884314157&#x5D;,&#x5B;19.42975677113583,47.84519728648179&#x5D;,&#x5B;19.429762250859067,47.84595933602966&#x5D;,&#x5B;19.430326482689015,47.84633559386526&#x5D;,&#x5B;19.42977051535968,47.84709955587233&#x5D;,&#x5B;19.431466983773735,47.84747803603803&#x5D;,&#x5B;19.43486602914579,47.84784475765457&#x5D;,&#x5B;19.442236885715047,47.85124646990088&#x5D;,&#x5B;19.442807585415046,47.851244540872315&#x5D;,&#x5B;19.443945571216968,47.85200288469696&#x5D;,&#x5B;19.445077717969543,47.85199896641476&#x5D;,&#x5B;19.447327189272507,47.85122904835903&#x5D;,&#x5B;19.449591572609187,47.85122127195957&#x5D;,&#x5B;19.4495944472181,47.85159917951186&#x5D;,&#x5B;19.451297383502204,47.851593271901834&#x5D;,&#x5B;19.454690679656437,47.852343593272316&#x5D;,&#x5B;19.45808738940875,47.85233153709767&#x5D;,&#x5B;19.458090353849187,47.8527157660051&#x5D;,&#x5B;19.458654855173727,47.85309179398676&#x5D;,&#x5B;19.459222590433292,47.85271178749633&#x5D;,&#x5B;19.459784037485868,47.85270973796139&#x5D;,&#x5B;19.459787091757832,47.85308763466683&#x5D;,&#x5B;19.46205156492604,47.85307967770605&#x5D;,&#x5B;19.462048510654075,47.85270166038172&#x5D;,&#x5B;19.46543605759049,47.85268948372938&#x5D;,&#x5B;19.466015830274863,47.853827566404384&#x5D;,&#x5B;19.468280393274597,47.85381936844053&#x5D;,&#x5B;19.466598657231195,47.85648984688892&#x5D;,&#x5B;19.466037030515565,47.8564919565505&#x5D;,&#x5B;19.466043139059497,47.85725408124832&#x5D;,&#x5B;19.4671845384595,47.85839007470446&#x5D;,&#x5B;19.46719379110693,47.85953634986998&#x5D;,&#x5B;19.467758382263,47.85991226811869&#x5D;,&#x5B;19.468902925766493,47.86143248819111&#x5D;,&#x5B;19.468909034310425,47.86219454026626&#x5D;,&#x5B;19.46835046186676,47.86257453753049&#x5D;,&#x5B;19.46891217841392,47.86257254865436&#x5D;,&#x5B;19.468353516138727,47.86295875080619&#x5D;,&#x5B;19.467791889423093,47.86410094732301&#x5D;,&#x5B;19.46836573322659,47.86447689273968&#x5D;,&#x5B;19.468368877330086,47.864860971382804&#x5D;,&#x5B;19.470633709824405,47.86599288093651&#x5D;,&#x5B;19.470655269391223,47.8686572485514&#x5D;,&#x5B;19.471232257298215,47.86941726606447&#x5D;,&#x5B;19.471806280764767,47.870939436987726&#x5D;,&#x5B;19.471821641956126,47.87284166597169&#x5D;,&#x5B;19.472395755254208,47.87322375442005&#x5D;,&#x5B;19.47295432769787,47.87283756849317&#x5D;,&#x5B;19.475219609349832,47.87282925302105&#x5D;,&#x5B;19.47466103690617,47.87321543900992&#x5D;,&#x5B;19.475787524272455,47.873589269608296&#x5D;,&#x5B;19.476367835945997,47.87472725505161&#x5D;,&#x5B;19.475244492683203,47.87587774823368&#x5D;,&#x5B;19.474682776136046,47.87587973659927&#x5D;,&#x5B;19.474133456339807,47.87854624696351&#x5D;,&#x5B;19.473019186061386,47.88083059055724&#x5D;,&#x5B;19.473596353631432,47.881590670525746&#x5D;,&#x5B;19.471330622821824,47.88159898459183&#x5D;,&#x5B;19.46963909514183,47.881989262221644&#x5D;,&#x5B;19.466240409095892,47.88200155248518&#x5D;,&#x5B;19.466805269746544,47.882377548795034&#x5D;,&#x5B;19.466817486834408,47.88390174879004&#x5D;,&#x5B;19.46625568045572,47.8839037368477&#x5D;,&#x5B;19.467968677871006,47.88618404899434&#x5D;,&#x5B;19.46853973689712,47.88618194054116&#x5D;,&#x5B;19.46854279116909,47.8865599547049&#x5D;,&#x5B;19.467986913671275,47.88846426075458&#x5D;,&#x5B;19.465186325941502,47.89190089452898&#x5D;,&#x5B;19.465189380213474,47.89228507109873&#x5D;,&#x5B;19.465751366255212,47.892283083362756&#x5D;,&#x5B;19.463512495072603,47.89457127835907&#x5D;,&#x5B;19.46351545951304,47.89495543511777&#x5D;,&#x5B;19.461817194468413,47.89572367985459&#x5D;,&#x5B;19.461820158908854,47.89610168460572&#x5D;,&#x5B;19.461261137307545,47.896481674172115&#x5D;,&#x5B;19.46126715601995,47.89724375294174&#x5D;,&#x5B;19.46070822425017,47.897629877403844&#x5D;,&#x5B;19.46071424296257,47.898392059728074&#x5D;,&#x5B;19.46014309410493,47.898394047229544&#x5D;,&#x5B;19.45958694711253,47.899158145549976&#x5D;,&#x5B;19.460154951866677,47.89991205447639&#x5D;,&#x5B;19.460160970579082,47.90067426342845&#x5D;,&#x5B;19.458477527736644,47.9022044892868&#x5D;,&#x5B;19.457909343319436,47.90259063697441&#x5D;,&#x5B;19.457347267446163,47.902592684537126&#x5D;,&#x5B;19.45678195763787,47.903350578292034&#x5D;,&#x5B;19.45791823664075,47.90373075554111&#x5D;,&#x5B;19.45907841083019,47.90715318860956&#x5D;,&#x5B;19.460211815224167,47.90714915406197&#x5D;,&#x5B;19.46079518116967,47.90867136052432&#x5D;,&#x5B;19.461925351628622,47.9094232642588&#x5D;,&#x5B;19.46192831606906,47.90980737103235&#x5D;,&#x5B;19.465307508673334,47.90713084805099&#x5D;,&#x5B;19.468142591710016,47.90788277416612&#x5D;,&#x5B;19.471545859163896,47.90824834589379&#x5D;,&#x5B;19.472685461933338,47.90900633748621&#x5D;,&#x5B;19.472682407661367,47.90862836673965&#x5D;,&#x5B;19.473247537806607,47.9090042901772&#x5D;,&#x5B;19.473818956158834,47.909002182653126&#x5D;,&#x5B;19.473250681910102,47.90938225817836&#x5D;,&#x5B;19.473821920599274,47.90938015066967&#x5D;,&#x5B;19.474387230407572,47.909762270698266&#x5D;,&#x5B;19.474390374511067,47.91014029337741&#x5D;,&#x5B;19.474961613200236,47.9101381858996&#x5D;,&#x5B;19.47439342878303,47.910524394829245&#x5D;,&#x5B;19.47496475730373,47.91052228736707&#x5D;,&#x5B;19.4749678115757,47.910900244281954&#x5D;,&#x5B;19.475529977280498,47.91089813683509&#x5D;,&#x5B;19.475533121383997,47.91128235308687&#x5D;,&#x5B;19.476095287088793,47.91128024565556&#x5D;,&#x5B;19.47609834136076,47.91165813682292&#x5D;,&#x5B;19.476669759712987,47.91165608961881&#x5D;,&#x5B;19.47723506952129,47.91203819284279&#x5D;,&#x5B;19.477238033961726,47.91241613868642&#x5D;,&#x5B;19.477806308210457,47.91203608544227&#x5D;,&#x5B;19.477809452313952,47.912413971090274&#x5D;,&#x5B;19.479505112244254,47.91240776935637&#x5D;,&#x5B;19.47950825634775,47.91278565229021&#x5D;,&#x5B;19.480070332221022,47.91278354492013&#x5D;,&#x5B;19.480067277949058,47.9124056619709&#x5D;,&#x5B;19.480638696301284,47.91240349437432&#x5D;,&#x5B;19.480635552197793,47.91202554843835&#x5D;,&#x5B;19.48120077217456,47.91240138698867&#x5D;,&#x5B;19.481197628071065,47.912023441037306&#x5D;,&#x5B;19.482902540648798,47.912017058622205&#x5D;,&#x5B;19.483461472418576,47.911630740408185&#x5D;,&#x5B;19.484032890770806,47.911628693202985&#x5D;,&#x5B;19.48402965683578,47.9112506813959&#x5D;,&#x5B;19.484594966644078,47.911626585785775&#x5D;,&#x5B;19.485157132348878,47.911624357944646&#x5D;,&#x5B;19.485725316766086,47.91124423867312&#x5D;,&#x5B;19.48685881099159,47.911239963594944&#x5D;,&#x5B;19.48855123698687,47.91084948489499&#x5D;,&#x5B;19.490240339215596,47.91008086247013&#x5D;,&#x5B;19.490814991502848,47.91046285689847&#x5D;,&#x5B;19.49137715720765,47.91046068922051&#x5D;,&#x5B;19.49306572044721,47.90855195332831&#x5D;,&#x5B;19.493627886152012,47.90854978557032&#x5D;,&#x5B;19.49363435402206,47.909305665236246&#x5D;,&#x5B;19.494774226286076,47.9100634607022&#x5D;,&#x5B;19.49592406984975,47.91196744434964&#x5D;,&#x5B;19.494800277429317,47.913111992565106&#x5D;,&#x5B;19.494245028752204,47.91501634571582&#x5D;,&#x5B;19.496528456372907,47.916909791743585&#x5D;,&#x5B;19.498256365821913,47.91956744716713&#x5D;,&#x5B;19.498821945124792,47.91994949197219&#x5D;,&#x5B;19.49940378393432,47.922227374056455&#x5D;,&#x5B;19.500547429122527,47.92336928739923&#x5D;,&#x5B;19.502262582494495,47.92450268776699&#x5D;,&#x5B;19.503406946334938,47.92678458296207&#x5D;,&#x5B;19.503423475336167,47.928686747503995&#x5D;,&#x5B;19.503998397118,47.92906246503212&#x5D;,&#x5B;19.504570623953988,47.930206454526434&#x5D;,&#x5B;19.50458382918866,47.93172449180217&#x5D;,&#x5B;19.50403477888701,47.933250970850615&#x5D;,&#x5B;19.50406136901942,47.936299340210454&#x5D;,&#x5B;19.50520860746877,47.937819064253134&#x5D;,&#x5B;19.51033412498537,47.94084116744817&#x5D;,&#x5B;19.510896650016285,47.9408388806871&#x5D;,&#x5B;19.510900063614365,47.94122305512801&#x5D;,&#x5B;19.51147507522773,47.94159868157503&#x5D;,&#x5B;19.51147830916275,47.94197665218016&#x5D;,&#x5B;19.51260335922458,47.94197213893497&#x5D;,&#x5B;19.512610096589214,47.94273427001986&#x5D;,&#x5B;19.514322734678387,47.943489590112215&#x5D;,&#x5B;19.514888673307382,47.943871458227434&#x5D;,&#x5B;19.51489199707393,47.94424935204079&#x5D;,&#x5B;19.51772285802878,47.94423797916221&#x5D;,&#x5B;19.51772627162686,47.944615870296055&#x5D;,&#x5B;19.518297959473674,47.944613583701965&#x5D;,&#x5B;19.518857070906506,47.944233345766506&#x5D;,&#x5B;19.51886048450459,47.94461123693423&#x5D;,&#x5B;19.51942875875332,47.94423105915549&#x5D;,&#x5B;19.51943908937909,47.945371042549326&#x5D;,&#x5B;19.520005028008086,47.94575295693745&#x5D;,&#x5B;19.520011855204242,47.946515092451136&#x5D;,&#x5B;19.520587046480667,47.94689068044408&#x5D;,&#x5B;19.520015268802325,47.94689296693743&#x5D;,&#x5B;19.520590460078743,47.94727487008021&#x5D;,&#x5B;19.520600790704513,47.94841484651257&#x5D;,&#x5B;19.5211632259039,47.948412560086524&#x5D;,&#x5B;19.521187390585045,47.95107683965993&#x5D;,&#x5B;19.521762581861463,47.95145245466836&#x5D;,&#x5B;19.52232519672391,47.95145016837671&#x5D;,&#x5B;19.522332023920068,47.95221228004534&#x5D;,&#x5B;19.52347333348854,47.95296974786204&#x5D;,&#x5B;19.52403594835099,47.95296746163753&#x5D;,&#x5B;19.525756042457022,47.95448459002409&#x5D;,&#x5B;19.526898519835363,47.95638218618539&#x5D;,&#x5B;19.530316070502263,47.9578922359785&#x5D;,&#x5B;19.533151153538945,47.95825835669802&#x5D;,&#x5B;19.539418429781662,47.961658475171184&#x5D;,&#x5B;19.545105753676953,47.96315856598731&#x5D;,&#x5B;19.547955838578883,47.96504856546131&#x5D;,&#x5B;19.548525729795124,47.96580819090848&#x5D;,&#x5B;19.54796302510115,47.96581053671368&#x5D;,&#x5B;19.54852941288779,47.966192360202335&#x5D;,&#x5B;19.54797039128648,47.966572677169346&#x5D;,&#x5B;19.547977667640282,47.96733474623204&#x5D;,&#x5B;19.546842915773382,47.967339678291964&#x5D;,&#x5B;19.546850192127188,47.968101736037795&#x5D;,&#x5B;19.546278234785788,47.96810426217738&#x5D;,&#x5B;19.546281828046922,47.96848215923681&#x5D;,&#x5B;19.545722716614083,47.96886877459877&#x5D;,&#x5B;19.545159922088583,47.968871180410254&#x5D;,&#x5B;19.545163515349724,47.96924907185817&#x5D;,&#x5B;19.544591558008324,47.96925153779678&#x5D;,&#x5B;19.544598834362127,47.97001368762104&#x5D;,&#x5B;19.54803578863917,47.97342536107096&#x5D;,&#x5B;19.548609452779605,47.97456295643731&#x5D;,&#x5B;19.549748067402227,47.974942249553756&#x5D;,&#x5B;19.550882819269127,47.974937258081646&#x5D;,&#x5B;19.550879136176462,47.974553153835295&#x5D;,&#x5B;19.552003018428422,47.97340816103327&#x5D;,&#x5B;19.55199574207462,47.97264606130519&#x5D;,&#x5B;19.55255485350746,47.97226578906069&#x5D;,&#x5B;19.55312681084886,47.972263263124674&#x5D;,&#x5B;19.55480603160946,47.97034748549374&#x5D;,&#x5B;19.555368736303436,47.97034507975103&#x5D;,&#x5B;19.55593719021523,47.96996454998626&#x5D;,&#x5B;19.556503578001863,47.97034008783453&#x5D;,&#x5B;19.557068169157933,47.969581671783764&#x5D;,&#x5B;19.557630963683433,47.96957914571646&#x5D;,&#x5B;19.55875825953347,47.96881217785121&#x5D;,&#x5B;19.56102776326727,47.96880219372141&#x5D;,&#x5B;19.561586695037054,47.9684154575694&#x5D;,&#x5B;19.56215865237845,47.96841299159087&#x5D;,&#x5B;19.5627102179629,47.96727044896882&#x5D;,&#x5B;19.564979542033644,47.96726034424664&#x5D;,&#x5B;19.564975769109452,47.96687618289634&#x5D;,&#x5B;19.565542336559144,47.967257878212955&#x5D;,&#x5B;19.565538563634952,47.9668736566967&#x5D;,&#x5B;19.566661996729273,47.96572855376604&#x5D;,&#x5B;19.56665813397355,47.96535063655897&#x5D;,&#x5B;19.566095429279574,47.965353162833104&#x5D;,&#x5B;19.566091656355383,47.9649689872975&#x5D;,&#x5B;19.566654361049356,47.96496646100458&#x5D;,&#x5B;19.566650677956687,47.96458853822157&#x5D;,&#x5B;19.567785250160536,47.96458348559838&#x5D;,&#x5B;19.56778147723634,47.96419936448889&#x5D;,&#x5B;19.568916049440183,47.9641942516769&#x5D;,&#x5B;19.570621051849443,47.96494865665095&#x5D;,&#x5B;19.571192919359312,47.96494619050689&#x5D;,&#x5B;19.571196782115035,47.965330245913236&#x5D;,&#x5B;19.571759486809004,47.9653277797874&#x5D;,&#x5B;19.572905557448486,47.966462666428804&#x5D;,&#x5B;19.572358034282818,47.967989382847925&#x5D;,&#x5B;19.572936189999673,47.96951106214141&#x5D;,&#x5B;19.575779896863086,47.97063827881894&#x5D;,&#x5B;19.575787532543,47.97140034803574&#x5D;,&#x5B;19.57523246352894,47.97216499208925&#x5D;,&#x5B;19.57580666665855,47.973302434801646&#x5D;,&#x5B;19.577525053965545,47.974434740661465&#x5D;,&#x5B;19.579207328998113,47.97290893646411&#x5D;,&#x5B;19.580901012634794,47.97251705893607&#x5D;,&#x5B;19.582035854333217,47.97251188680639&#x5D;,&#x5B;19.582039717088943,47.97289594609647&#x5D;,&#x5B;19.584324941340217,47.974403588750405&#x5D;,&#x5B;19.584328893927463,47.97478769410934&#x5D;,&#x5B;19.585471550968865,47.97554447012901&#x5D;,&#x5B;19.586610255423015,47.975917140957215&#x5D;,&#x5B;19.587735934305545,47.975911969168095&#x5D;,&#x5B;19.591704691230785,47.97513138389421&#x5D;,&#x5B;19.593394422280213,47.974361250987876&#x5D;,&#x5B;19.59509205850414,47.97435325251463&#x5D;,&#x5B;19.59508819574842,47.973975338276496&#x5D;,&#x5B;19.597361741901,47.97434254778911&#x5D;,&#x5B;19.59736973690703,47.975104682617555&#x5D;,&#x5B;19.595171649238313,47.98196795975066&#x5D;,&#x5B;19.59406043323186,47.984259584663654&#x5D;,&#x5B;19.59578367144139,47.98577579409884&#x5D;,&#x5B;19.5952114446054,47.98577837949943&#x5D;,&#x5B;19.59521548702418,47.98615638772131&#x5D;,&#x5B;19.592961074987155,47.9876911796854&#x5D;,&#x5B;19.593537164578862,47.988066468366775&#x5D;,&#x5B;19.59354515958489,47.98882858097586&#x5D;,&#x5B;19.595251239972487,47.98958268621721&#x5D;,&#x5B;19.595815471802446,47.9888178792516&#x5D;,&#x5B;19.598060541360518,47.987282940420904&#x5D;,&#x5B;19.60088691073894,47.985751563477784&#x5D;,&#x5B;19.60088286832016,47.98536735930603&#x5D;,&#x5B;19.602588948707762,47.98612139487034&#x5D;,&#x5B;19.6003388485841,47.98803436271321&#x5D;,&#x5B;19.611697326699563,47.98950398755646&#x5D;,&#x5B;19.611149713702364,47.9917930535136&#x5D;,&#x5B;19.612844834643496,47.99063858337913&#x5D;,&#x5B;19.61398003566804,47.99063299222518&#x5D;,&#x5B;19.614526480855368,47.98910604344575&#x5D;,&#x5B;19.61564928512899,47.98796059178187&#x5D;,&#x5B;19.61790297851379,47.98642526670574&#x5D;,&#x5B;19.6190380897068,47.98641967509533&#x5D;,&#x5B;19.620723688505926,47.98527127775315&#x5D;,&#x5B;19.624725323770562,47.98829998529106&#x5D;,&#x5B;19.624166571663842,47.98868074066716&#x5D;,&#x5B;19.624174925995984,47.98944278408418&#x5D;,&#x5B;19.62473799001607,47.989439958381844&#x5D;,&#x5B;19.625305096454937,47.989815174226045&#x5D;,&#x5B;19.62758385283616,47.99056595845056&#x5D;,&#x5B;19.629273583885592,47.989795394449146&#x5D;,&#x5B;19.630412917160434,47.9901738542148&#x5D;,&#x5B;19.630417139242272,47.99055177012477&#x5D;,&#x5B;19.632154391170232,47.993207384003156&#x5D;,&#x5B;19.633852566383332,47.99319884739711&#x5D;,&#x5B;19.63670759201932,47.99509273700156&#x5D;,&#x5B;19.63784288287539,47.995087086215456&#x5D;,&#x5B;19.640109062842637,47.994691349304524&#x5D;,&#x5B;19.642942618743337,47.99467686153684&#x5D;,&#x5B;19.645204486797223,47.99390317276447&#x5D;,&#x5B;19.64577186273067,47.994284487958105&#x5D;,&#x5B;19.64634417939818,47.994281482173804&#x5D;,&#x5B;19.650343568874614,47.99692518215838&#x5D;,&#x5B;19.6503523723644,47.99768728416893&#x5D;,&#x5B;19.65092855178763,47.9988243449283&#x5D;,&#x5B;19.65320362507619,47.99919047604429&#x5D;,&#x5B;19.65603304872658,47.99879777612693&#x5D;,&#x5B;19.656600963649204,47.99841679484136&#x5D;,&#x5B;19.658853579055663,47.99764286158897&#x5D;,&#x5B;19.66112425059933,47.99763083923329&#x5D;,&#x5B;19.662250648134087,47.99686284534665&#x5D;,&#x5B;19.662800237424914,47.99571365844104&#x5D;,&#x5B;19.663368062516003,47.9953326543812&#x5D;,&#x5B;19.66505734440779,47.99456156040256&#x5D;,&#x5B;19.6656296610753,47.9945585546344&#x5D;,&#x5B;19.666751207707527,47.994174536254604&#x5D;,&#x5B;19.66791802943007,47.99683278899778&#x5D;,&#x5B;19.66905781186256,47.99720458480195&#x5D;,&#x5B;19.669062393270508,47.99758876096632&#x5D;,&#x5B;19.67018861114221,47.99682058611514&#x5D;,&#x5B;19.67295874598385,47.991477069254316&#x5D;,&#x5B;19.676355276073107,47.99069653896071&#x5D;,&#x5B;19.67748122445022,47.989928381739475&#x5D;,&#x5B;19.679174728423842,47.98953507023513&#x5D;,&#x5B;19.680296185224535,47.988388846500165&#x5D;,&#x5B;19.68029151398506,47.98801097487434&#x5D;,&#x5B;19.680849816934142,47.987623661102084&#x5D;,&#x5B;19.681980436550734,47.98723959111348&#x5D;,&#x5B;19.68536268342697,47.98531883754291&#x5D;,&#x5B;19.686493033548977,47.9849284371124&#x5D;,&#x5B;19.687060678977012,47.985309578118255&#x5D;,&#x5B;19.691563484338662,47.98223613899688&#x5D;,&#x5B;19.691558723267658,47.98185828245575&#x5D;,&#x5B;19.690433044385127,47.98262036647546&#x5D;,&#x5B;19.689851654733243,47.98186766275982&#x5D;,&#x5B;19.69041444925875,47.981102440813984&#x5D;,&#x5B;19.6887025298218,47.979965590850696&#x5D;,&#x5B;19.687563016883896,47.97959385123577&#x5D;,&#x5B;19.68812114016992,47.97920665470155&#x5D;,&#x5B;19.68810721628301,47.97806663599256&#x5D;,&#x5B;19.688679353287466,47.97806344885993&#x5D;,&#x5B;19.69039109306136,47.979194146984376&#x5D;,&#x5B;19.691540038309746,47.98033408066448&#x5D;,&#x5B;19.69324252543621,47.98070256784807&#x5D;,&#x5B;19.69493575991525,47.980315139101435&#x5D;,&#x5B;19.695503046017173,47.979927887844475&#x5D;,&#x5B;19.699480247106077,47.98066775169439&#x5D;,&#x5B;19.700615268467565,47.98066137775006&#x5D;,&#x5B;19.705689312518384,47.97835257511058&#x5D;,&#x5B;19.717470447975032,47.96876797099676&#x5D;,&#x5B;19.718047795208133,47.969904646515126&#x5D;,&#x5B;19.719759355318963,47.97027278713015&#x5D;,&#x5B;19.721471544250498,47.97140918895901&#x5D;,&#x5B;19.721466693347963,47.971025058468605&#x5D;,&#x5B;19.72485127584394,47.96948105000695&#x5D;,&#x5B;19.72937105936446,47.96869874358811&#x5D;,&#x5B;19.729938075971795,47.968311284910186&#x5D;,&#x5B;19.731072738007168,47.96830454856472&#x5D;,&#x5B;19.73793173452753,47.97283069350589&#x5D;,&#x5B;19.740774273581074,47.973575891226226&#x5D;,&#x5B;19.741342008840636,47.973956634937956&#x5D;,&#x5B;19.74134703940623,47.97433466959081&#x5D;,&#x5B;19.741929237541864,47.975093256391354&#x5D;,&#x5B;19.74306407924029,47.975086460792454&#x5D;,&#x5B;19.743069019974357,47.97546448717369&#x5D;,&#x5B;19.74420395150431,47.97545769162365&#x5D;,&#x5B;19.744771866426934,47.97583836132262&#x5D;,&#x5B;19.745343823768334,47.97583499364091&#x5D;,&#x5B;19.74591173869095,47.97620958674791&#x5D;,&#x5B;19.746489894407812,47.977352352555506&#x5D;,&#x5B;19.748196783279166,47.97734206939969&#x5D;,&#x5B;19.749848515592078,47.9739055765934&#x5D;,&#x5B;19.749275659935396,47.97314697234436&#x5D;,&#x5B;19.749255268178445,47.97162275393124&#x5D;,&#x5B;19.748678190439925,47.97124824783313&#x5D;,&#x5B;19.748642527323145,47.96858404601784&#x5D;,&#x5B;19.749214484664545,47.968580677863&#x5D;,&#x5B;19.750324622692663,47.96742767337937&#x5D;,&#x5B;19.75031959212707,47.96704964830955&#x5D;,&#x5B;19.749751677204447,47.96666897396753&#x5D;,&#x5B;19.750860827085752,47.96475996621529&#x5D;,&#x5B;19.751403050191247,47.96323249266649&#x5D;,&#x5B;19.75083531493168,47.962857865572914&#x5D;,&#x5B;19.751964856569934,47.962473069950974&#x5D;,&#x5B;19.751959646341284,47.962088993300874&#x5D;,&#x5B;19.751387778831415,47.962092482185405&#x5D;,&#x5B;19.753641562047743,47.96093867116158&#x5D;,&#x5B;19.75534898990827,47.9616903566144&#x5D;,&#x5B;19.7656548221738,47.96923626100445&#x5D;,&#x5B;19.765649791608208,47.96885824917219&#x5D;,&#x5B;19.766216448889434,47.96847674612003&#x5D;,&#x5B;19.767356321153454,47.96884778388879&#x5D;,&#x5B;19.767898184932832,47.96732007034365&#x5D;,&#x5B;19.769574531084533,47.96578539448826&#x5D;,&#x5B;19.76955881056706,47.96464538019832&#x5D;,&#x5B;19.770656731507305,47.961974160745555&#x5D;,&#x5B;19.771780793422327,47.961204974549304&#x5D;,&#x5B;19.772336940414725,47.96006149045751&#x5D;,&#x5B;19.773451659850785,47.95929233593883&#x5D;,&#x5B;19.775725834824065,47.959656040496&#x5D;,&#x5B;19.77684459667891,47.958508972835695&#x5D;,&#x5B;19.778541693913667,47.95849826482586&#x5D;,&#x5B;19.780258643916202,47.959249685005126&#x5D;,&#x5B;19.783090223523274,47.95923175836804&#x5D;,&#x5B;19.78706167539437,47.95958457509874&#x5D;,&#x5B;19.788753472568953,47.9591957847621&#x5D;,&#x5B;19.790995487855056,47.957279161445165&#x5D;,&#x5B;19.79381062829243,47.956114835215004&#x5D;,&#x5B;19.79604707402377,47.95382015620333&#x5D;,&#x5B;19.79603611457731,47.953058068247664&#x5D;,&#x5B;19.79546801999163,47.95267759161443&#x5D;,&#x5B;19.796025244962372,47.95229608938182&#x5D;,&#x5B;19.796587859824815,47.95229235917735&#x5D;,&#x5B;19.797154157779925,47.95191079393566&#x5D;,&#x5B;19.799422853029967,47.95189617383015&#x5D;,&#x5B;19.800551676015992,47.95150467835533&#x5D;,&#x5B;19.801114290878434,47.95150094809372&#x5D;,&#x5B;19.80167133618612,47.951119377008446&#x5D;,&#x5B;19.802778240279213,47.949209975116496&#x5D;,&#x5B;19.803344448402797,47.9488220694098&#x5D;,&#x5B;19.80332252950986,47.947297975520925&#x5D;,&#x5B;19.802166487570723,47.94578737542653&#x5D;,&#x5B;19.802160918015964,47.945403174733556&#x5D;,&#x5B;19.802717963323644,47.94502155862623&#x5D;,&#x5B;19.802712483600413,47.94463747258791&#x5D;,&#x5B;19.804412814770195,47.94424844943146&#x5D;,&#x5B;19.80496977024635,47.94386056666095&#x5D;,&#x5B;19.807238196001805,47.94384576375478&#x5D;,&#x5B;19.807205048167823,47.9415657647238&#x5D;,&#x5B;19.80830602338004,47.93927206450863&#x5D;,&#x5B;19.808862978856194,47.93889046331766&#x5D;,&#x5B;19.808835220913917,47.93698217438351&#x5D;,&#x5B;19.809401429037496,47.93660043592516&#x5D;,&#x5B;19.809390379759503,47.93583833477929&#x5D;,&#x5B;19.810492971939233,47.93430687652588&#x5D;,&#x5B;19.80993053673984,47.934310547842934&#x5D;,&#x5B;19.8115881081021,47.931635171941785&#x5D;,&#x5B;19.812154136562626,47.93125345419625&#x5D;,&#x5B;19.81271648193048,47.93124978266216&#x5D;,&#x5B;19.813276940836243,47.930483991254995&#x5D;,&#x5B;19.814978619478953,47.93085066729481&#x5D;,&#x5B;19.815535485123576,47.93046906413855&#x5D;,&#x5B;19.815524256182524,47.92970699300527&#x5D;,&#x5B;19.81609028464305,47.929325261027266&#x5D;,&#x5B;19.81665254017938,47.929321468973626&#x5D;,&#x5B;19.816641490901386,47.928559380929784&#x5D;,&#x5B;19.817207339698854,47.92817144063665&#x5D;,&#x5B;19.817775254621473,47.92855185690211&#x5D;,&#x5B;19.818903448786802,47.92816024479911&#x5D;,&#x5B;19.82003721250689,47.92815266052069&#x5D;,&#x5B;19.820605217261036,47.92853307692429&#x5D;,&#x5B;19.822282461728015,47.92661965036508&#x5D;,&#x5B;19.8205535641322,47.92548394874757&#x5D;,&#x5B;19.81942447165159,47.92548647697095&#x5D;,&#x5B;19.81829654698085,47.9247378766695&#x5D;,&#x5B;19.817702670746513,47.92357865651373&#x5D;,&#x5B;19.816562528987912,47.92322457058671&#x5D;,&#x5B;19.816575374896477,47.9228456803089&#x5D;,&#x5B;19.81598697838538,47.92285127880318&#x5D;,&#x5B;19.814872618275423,47.92361573847673&#x5D;,&#x5B;19.81316671755088,47.92324774697534&#x5D;,&#x5B;19.811468272843197,47.92325569316334&#x5D;,&#x5B;19.81033118535656,47.92251825763809&#x5D;,&#x5B;19.809760575488085,47.92289383937964&#x5D;,&#x5B;19.809202452202065,47.92289534434988&#x5D;,&#x5B;19.810273064357673,47.91908708774279&#x5D;,&#x5B;19.80971062915829,47.918710153882145&#x5D;,&#x5B;19.810251145464743,47.917178067976536&#x5D;,&#x5B;19.810806214478802,47.91641947359773&#x5D;,&#x5B;19.81076965304674,47.91450054140498&#x5D;,&#x5B;19.81188293517835,47.91333458916972&#x5D;,&#x5B;19.809551088363833,47.90881274599575&#x5D;,&#x5B;19.811824275190293,47.908407857439535&#x5D;,&#x5B;19.81183011423964,47.90803198988587&#x5D;,&#x5B;19.812934413218407,47.90801627348045&#x5D;,&#x5B;19.814077788912034,47.90724917461943&#x5D;,&#x5B;19.81350116033116,47.90726037498289&#x5D;,&#x5B;19.809498896245824,47.90462448928511&#x5D;,&#x5B;19.811736689450093,47.90270126546762&#x5D;,&#x5B;19.81344276983769,47.90192174207745&#x5D;,&#x5B;19.815703829407823,47.90190614426313&#x5D;,&#x5B;19.820720111785874,47.89921554130329&#x5D;,&#x5B;19.821283624963602,47.89770305462122&#x5D;,&#x5B;19.82240364445984,47.89692104680701&#x5D;,&#x5B;19.830322383520883,47.89648089118808&#x5D;,&#x5B;19.830334061619578,47.896104756334736&#x5D;,&#x5B;19.832601589059752,47.8960928910275&#x5D;,&#x5B;19.8348427958621,47.89645746189111&#x5D;,&#x5B;19.831759687975477,47.89856485161617&#x5D;,&#x5B;19.83377532780998,47.89989663673325&#x5D;,&#x5B;19.834330486655567,47.899888867634374&#x5D;,&#x5B;19.834901994839324,47.899120865378116&#x5D;,&#x5B;19.83546227408203,47.89949613515616&#x5D;,&#x5B;19.83717581048649,47.89949324430644&#x5D;,&#x5B;19.83718757841671,47.90025317086878&#x5D;,&#x5B;19.837748486480116,47.90062524052916&#x5D;,&#x5B;19.83774264743077,47.90024925623367&#x5D;,&#x5B;19.83830939454352,47.90023618737275&#x5D;,&#x5B;19.838404436300582,47.90094117844893&#x5D;,&#x5B;19.839451422764217,47.901369853618576&#x5D;,&#x5B;19.841187866208426,47.9013189644367&#x5D;,&#x5B;19.852314578980582,47.89334036742254&#x5D;,&#x5B;19.855144182294033,47.89098887034576&#x5D;,&#x5B;19.853444659608005,47.89024428866397&#x5D;,&#x5B;19.852287809185118,47.89063209170414&#x5D;,&#x5B;19.850610924044254,47.890643837790066&#x5D;,&#x5B;19.84947742981875,47.890271636162105&#x5D;,&#x5B;19.848899094438835,47.88911977594929&#x5D;,&#x5B;19.84774808306529,47.887995359296674&#x5D;,&#x5B;19.84774808306529,47.887611391863345&#x5D;,&#x5B;19.847169657853847,47.887227361343164&#x5D;,&#x5B;19.847716821693403,47.886089288999266&#x5D;,&#x5B;19.848262727891562,47.885691451756266&#x5D;,&#x5B;19.848241168324748,47.88304994942787&#x5D;,&#x5B;19.847647741248057,47.88190955617711&#x5D;,&#x5B;19.844772054360533,47.878496058355125&#x5D;,&#x5B;19.84360801741537,47.87660554519966&#x5D;,&#x5B;19.841306084499813,47.87584418702096&#x5D;,&#x5B;19.83850486794934,47.875485074658776&#x5D;,&#x5B;19.836204282506714,47.87435825308484&#x5D;,&#x5B;19.831694380454323,47.87439506904246&#x5D;,&#x5B;19.831147575940875,47.87401624303702&#x5D;,&#x5B;19.83056232353327,47.87478088183331&#x5D;,&#x5B;19.82946682804429,47.87517277743859&#x5D;,&#x5B;19.82887349079913,47.87517886312497&#x5D;,&#x5B;19.826618539772934,47.876311692153905&#x5D;,&#x5B;19.825561312515052,47.875565754649536&#x5D;,&#x5B;19.823284981585093,47.87824077652971&#x5D;,&#x5B;19.820459690185007,47.88020774563062&#x5D;,&#x5B;19.819354043733313,47.880559053261216&#x5D;,&#x5B;19.81992582141165,47.88169116219166&#x5D;,&#x5B;19.81651303181576,47.88365763882679&#x5D;,&#x5B;19.816012041381803,47.88438695308507&#x5D;,&#x5B;19.81377891941701,47.885556087600264&#x5D;,&#x5B;19.810354811048533,47.88596019102833&#x5D;,&#x5B;19.806945794376826,47.885968383909585&#x5D;,&#x5B;19.80356121188085,47.886763147473104&#x5D;,&#x5B;19.802456194249853,47.88639097819659&#x5D;,&#x5B;19.800213280648467,47.88753344142808&#x5D;,&#x5B;19.799076911814055,47.888713287629194&#x5D;,&#x5B;19.797366789007675,47.8898520854006&#x5D;,&#x5B;19.79798716554289,47.89056775924789&#x5D;,&#x5B;19.797439642377217,47.89098284675242&#x5D;,&#x5B;19.79688978359181,47.892105271036364&#x5D;,&#x5B;19.789570759814442,47.89671777343321&#x5D;,&#x5B;19.789583066733837,47.89712739105112&#x5D;,&#x5B;19.788410046635832,47.8971191397063&#x5D;,&#x5B;19.788507783338744,47.89749605015936&#x5D;,&#x5B;19.786210611494198,47.89906063887251&#x5D;,&#x5B;19.784524473705904,47.89981436854184&#x5D;,&#x5B;19.78451225661804,47.90057615735867&#x5D;,&#x5B;19.7839623080011,47.90097755394535&#x5D;,&#x5B;19.783986832008356,47.90135437608572&#x5D;,&#x5B;19.780614466600245,47.90289433781865&#x5D;,&#x5B;19.780614466600245,47.90327933614935&#x5D;,&#x5B;19.778903894636223,47.903680771997564&#x5D;,&#x5B;19.777249826703574,47.9048216494121&#x5D;,&#x5B;19.776675174416326,47.904831886783654&#x5D;,&#x5B;19.776092167796925,47.904456053481006&#x5D;,&#x5B;19.774961548180336,47.90446689312737&#x5D;,&#x5B;19.774393363763128,47.904088347243544&#x5D;,&#x5B;19.771607508404017,47.90373617544051&#x5D;,&#x5B;19.768154384451865,47.902991355499864&#x5D;,&#x5B;19.76753301976984,47.90088715717613&#x5D;,&#x5B;19.76748253445087,47.89645559477444&#x5D;,&#x5B;19.765828825844338,47.89571374183394&#x5D;,&#x5B;19.76344236146054,47.89347366331082&#x5D;,&#x5B;19.761771854358194,47.89312153976387&#x5D;,&#x5B;19.759522383055234,47.89126378639999&#x5D;,&#x5B;19.75941108179153,47.88820414867671&#x5D;,&#x5B;19.76403453089583,47.8892885628413&#x5D;,&#x5B;19.765719321211204,47.888897075200475&#x5D;,&#x5B;19.76565338486935,47.886595557171624&#x5D;,&#x5B;19.766743759961212,47.88434207157732&#x5D;,&#x5B;19.762757396056404,47.88013948407046&#x5D;,&#x5B;19.763864569644078,47.87711955807438&#x5D;,&#x5B;19.763244372771922,47.87562986472438&#x5D;,&#x5B;19.763222184384407,47.87215238116758&#x5D;,&#x5B;19.764266745396778,47.86948258896521&#x5D;,&#x5B;19.76260638925714,47.86689648644187&#x5D;,&#x5B;19.76025558799013,47.864544994134555&#x5D;,&#x5B;19.75745032902088,47.86309037709939&#x5D;,&#x5B;19.750594027446365,47.86009386754041&#x5D;,&#x5B;19.748828209092373,47.85777985878488&#x5D;,&#x5B;19.74594506618799,47.855891543400936&#x5D;,&#x5B;19.743737725871853,47.854780751703665&#x5D;,&#x5B;19.742027153907834,47.85327185002377&#x5D;,&#x5B;19.73634225546381,47.85024975539381&#x5D;,&#x5B;19.731708296070686,47.845698950263746&#x5D;,&#x5B;19.729991076573558,47.8426761731614&#x5D;,&#x5B;19.727749061287454,47.84117144131943&#x5D;,&#x5B;19.725458986133646,47.84117144131943&#x5D;,&#x5B;19.724909396842822,47.84078977983213&#x5D;,&#x5B;19.726115834269397,47.84001668061344&#x5D;,&#x5B;19.721923576501467,47.83456986953351&#x5D;,&#x5B;19.722241580112048,47.83050574946844&#x5D;,&#x5B;19.719330948759968,47.829239544060265&#x5D;,&#x5B;19.71930651458424,47.827468155527974&#x5D;,&#x5B;19.71850036644827,47.826631652184396&#x5D;,&#x5B;19.716423641174444,47.82561468237727&#x5D;,&#x5B;19.71566519358006,47.823521273373416&#x5D;,&#x5B;19.720697196475587,47.81802278519761&#x5D;,&#x5B;19.716870463196763,47.81838519100604&#x5D;,&#x5B;19.709962957651054,47.815770238844536&#x5D;,&#x5B;19.708757688034353,47.815583477360775&#x5D;,&#x5B;19.70741326938014,47.81629957370219&#x5D;,&#x5B;19.704202870217756,47.81584039487434&#x5D;,&#x5B;19.696530539039145,47.81897668879419&#x5D;,&#x5B;19.690619714301167,47.81998835998886&#x5D;,&#x5B;19.6865054302999,47.82026063683742&#x5D;,&#x5B;19.684100909778895,47.811308289542616&#x5D;,&#x5B;19.66676019086037,47.81032076209014&#x5D;,&#x5B;19.66780726715554,47.802773873428684&#x5D;,&#x5B;19.665725870642234,47.800424059428714&#x5D;,&#x5B;19.66386707665633,47.8001645916437&#x5D;,&#x5B;19.662442258784193,47.80025335390855&#x5D;,&#x5B;19.661837512934923,47.80152943801406&#x5D;,&#x5B;19.662698458303222,47.80303785354386&#x5D;,&#x5B;19.6577205339878,47.80286184683668&#x5D;,&#x5B;19.65868128218417,47.80514958583695&#x5D;,&#x5B;19.656978256068534,47.80509087916199&#x5D;,&#x5B;19.65662899108607,47.807055736815734&#x5D;,&#x5B;19.652742789335438,47.80831687248145&#x5D;,&#x5B;19.653790763945892,47.81063357063698&#x5D;,&#x5B;19.65610886653656,47.81127185108459&#x5D;,&#x5B;19.653293276941547,47.81341335136097&#x5D;,&#x5B;19.648783734215268,47.81190994270384&#x5D;,&#x5B;19.632544080340484,47.80583698598518&#x5D;,&#x5B;19.635672014159788,47.80169995832206&#x5D;,&#x5B;19.63617974195837,47.7975096790091&#x5D;,&#x5B;19.63955686843749,47.79369147682834&#x5D;,&#x5B;19.64120186338577,47.791380480647874&#x5D;,&#x5B;19.641196383662535,47.78834277021343&#x5D;,&#x5B;19.642238609055173,47.78453415559007&#x5D;,&#x5B;19.642812542690198,47.78413366778151&#x5D;,&#x5B;19.64282359196819,47.783013975622026&#x5D;,&#x5B;19.643397435771686,47.7830287641662&#x5D;,&#x5B;19.642781550812895,47.782634059497845&#x5D;,&#x5B;19.645600643837515,47.78032365817562&#x5D;,&#x5B;19.642764752317078,47.778069838961784&#x5D;,&#x5B;19.64106513979953,47.773194842005026&#x5D;,&#x5B;19.639275066932864,47.7712016557223&#x5D;,&#x5B;19.638717482636007,47.76933506476377&#x5D;,&#x5B;19.6426086251207,47.76814749018782&#x5D;,&#x5B;19.640358794491625,47.76550054253568&#x5D;,&#x5B;19.639200147438164,47.76320544210064&#x5D;,&#x5B;19.63464577877921,47.759456038926515&#x5D;,&#x5B;19.631253380940258,47.75531386918891&#x5D;,&#x5B;19.629499240684957,47.754137993082004&#x5D;,&#x5B;19.626129031233525,47.75603979484456&#x5D;,&#x5B;19.625566326539552,47.75758026974911&#x5D;,&#x5B;19.622772655837473,47.75949287605884&#x5D;,&#x5B;19.617702923700016,47.76143506182274&#x5D;,&#x5B;19.613222396557415,47.76259646175405&#x5D;,&#x5B;19.612076954738633,47.76222267653315&#x5D;,&#x5B;19.6114745445091,47.759925076333566&#x5D;,&#x5B;19.610953431812785,47.759564436642975&#x5D;,&#x5B;19.60868006532326,47.758813860858744&#x5D;,&#x5B;19.607517465682555,47.75766034807408&#x5D;,&#x5B;19.601832028249362,47.755397393430094&#x5D;,&#x5B;19.599547073492676,47.75161904054421&#x5D;,&#x5B;19.598964785525506,47.75123666029437&#x5D;,&#x5B;19.59785168305696,47.75123056006544&#x5D;,&#x5B;19.592793090029023,47.74898188241104&#x5D;,&#x5B;19.59219382390299,47.748986352078894&#x5D;,&#x5B;19.591055748269536,47.748611079845105&#x5D;,&#x5B;19.587657691044296,47.74673177871877&#x5D;,&#x5B;19.58535189537302,47.74594193615703&#x5D;,&#x5B;19.5774284850725,47.73952894460259&#x5D;,&#x5B;19.57113255257222,47.734987947343434&#x5D;,&#x5B;19.570030858707778,47.735385490726905&#x5D;,&#x5B;19.570038494387692,47.735771974902974&#x5D;,&#x5B;19.567222994624203,47.7376818787387&#x5D;,&#x5B;19.561074295998992,47.739607540411114&#x5D;,&#x5B;19.558203729508584,47.74114844133898&#x5D;,&#x5B;19.554882029082496,47.74192428131582&#x5D;,&#x5B;19.55314226187174,47.742705365244284&#x5D;,&#x5B;19.54866227371831,47.743848638345526&#x5D;,&#x5B;19.54133786004924,47.74649837895238&#x5D;,&#x5B;19.53796765059781,47.743889473378104&#x5D;,&#x5B;19.53737781678226,47.743137040475276&#x5D;,&#x5B;19.536818076528725,47.74314066493729&#x5D;,&#x5B;19.535678024601648,47.742383750976416&#x5D;,&#x5B;19.531135334041384,47.73747665186606&#x5D;,&#x5B;19.528831335000675,47.73291263702165&#x5D;,&#x5B;19.527111510389226,47.73063235267364&#x5D;,&#x5B;19.526527335959962,47.73023664610563&#x5D;,&#x5B;19.52484021002486,47.7306262500299&#x5D;,&#x5B;19.524286218989143,47.729499967692625&#x5D;,&#x5B;19.522574838541367,47.729114343325115&#x5D;,&#x5B;19.522568191008265,47.72873989461891&#x5D;,&#x5B;19.521446554544514,47.72874104268264&#x5D;,&#x5B;19.52143945785377,47.728360246683934&#x5D;,&#x5B;19.520318450210716,47.72836568491995&#x5D;,&#x5B;19.519746942026956,47.72721935263735&#x5D;,&#x5B;19.519134560497772,47.724173180265865&#x5D;,&#x5B;19.518591079750884,47.72344058579728&#x5D;,&#x5B;19.516290134982135,47.722666283339635&#x5D;,&#x5B;19.51406689448547,47.72229958398987&#x5D;,&#x5B;19.508977848569405,47.72193687059077&#x5D;,&#x5B;19.506699182019705,47.72155088806374&#x5D;,&#x5B;19.503301214625996,47.72004808526188&#x5D;,&#x5B;19.499363449578055,47.71892598599187&#x5D;,&#x5B;19.493703075141294,47.71665463854142&#x5D;,&#x5B;19.493671274780237,47.71550146059592&#x5D;,&#x5B;19.49141695257474,47.71286537403118&#x5D;,&#x5B;19.489675388733417,47.70714154756754&#x5D;,&#x5B;19.496993424363964,47.70710316214588&#x5D;,&#x5B;19.49807032472657,47.70676585281548&#x5D;,&#x5B;19.500966762697153,47.7067158607272&#x5D;,&#x5B;19.504344967154616,47.70634203686888&#x5D;,&#x5B;19.505445044051548,47.70595545520463&#x5D;,&#x5B;19.50769298821853,47.704418953654105&#x5D;,&#x5B;19.508891879796714,47.703985990204664&#x5D;,&#x5B;19.509915689726025,47.70060419341844&#x5D;,&#x5B;19.511588622279643,47.69868446561746&#x5D;,&#x5B;19.510989984974305,47.69751595624587&#x5D;,&#x5B;19.509263422998227,47.696045170380714&#x5D;,&#x5B;19.507000836292114,47.69641997500951&#x5D;,&#x5B;19.504250284723668,47.69638877666281&#x5D;,&#x5B;19.49983102268344,47.69535208610008&#x5D;,&#x5B;19.49688041630122,47.694180841608194&#x5D;,&#x5B;19.495204788801757,47.69384405330844&#x5D;,&#x5B;19.491843921829282,47.692726892199964&#x5D;,&#x5B;19.486174025250506,47.69005155806962&#x5D;,&#x5B;19.484984835477384,47.689649677697126&#x5D;,&#x5B;19.48278072909627,47.689309957567005&#x5D;,&#x5B;19.47768009491304,47.68781348158774&#x5D;,&#x5B;19.477135985345445,47.6893276753145&#x5D;,&#x5B;19.47485004244195,47.692002562842646&#x5D;,&#x5B;19.473768111513756,47.69387216947054&#x5D;,&#x5B;19.471533372581455,47.696562664884425&#x5D;,&#x5B;19.46820385681239,47.70229484718634&#x5D;,&#x5B;19.46711105626926,47.70496175488657&#x5D;,&#x5B;19.466576019686038,47.707238689760324&#x5D;,&#x5B;19.46545869513565,47.709515464724284&#x5D;,&#x5B;19.466009452236342,47.71183457194888&#x5D;,&#x5B;19.46266367696064,47.71372909480057&#x5D;,&#x5B;19.46150763502151,47.71373797974739&#x5D;,&#x5B;19.46037953068771,47.714133751215996&#x5D;,&#x5B;19.458171741213928,47.71411749249007&#x5D;,&#x5B;19.45419507911419,47.71496608241178&#x5D;,&#x5B;19.45362716419157,47.714899658385804&#x5D;,&#x5B;19.452512175260917,47.71529548147145&#x5D;,&#x5B;19.450275370203464,47.71834863967017&#x5D;,&#x5B;19.44858977140434,47.72179273935701&#x5D;,&#x5B;19.445240941856667,47.72599818582456&#x5D;,&#x5B;19.443571872058776,47.72903978008916&#x5D;,&#x5B;19.44076436730132,47.73018009045502&#x5D;,&#x5B;19.439059095397475,47.732098779106515&#x5D;,&#x5B;19.437370172831802,47.73249338396473&#x5D;,&#x5B;19.436287972409023,47.73477515767744&#x5D;,&#x5B;19.43391327595545,47.73865894571732&#x5D;,&#x5B;19.43281032444961,47.74283838393801&#x5D;,&#x5B;19.433541014101714,47.745045888871495&#x5D;,&#x5B;19.434688522045644,47.747345052154195&#x5D;,&#x5B;19.434714393525827,47.74963354385217&#x5D;,&#x5B;19.436431613022954,47.75152463860505&#x5D;,&#x5B;19.44092759118844,47.75340944387574&#x5D;,&#x5B;19.44269565533065,47.75487945642175&#x5D;,&#x5B;19.444383050760337,47.75566366757443&#x5D;,&#x5B;19.447145190595947,47.762756059375086&#x5D;,&#x5B;19.444277858040564,47.768846187507556&#x5D;,&#x5B;19.43359760796461,47.7693226874168&#x5D;,&#x5B;19.428639895743082,47.77078717881599&#x5D;,&#x5B;19.424094150910857,47.7729359627337&#x5D;,&#x5B;19.417896853428772,47.77137245667931&#x5D;,&#x5B;19.41558405089828,47.77135953644272&#x5D;&#x5D;&#x5D;&#x5D;&#x7D;&quot;,&quot;inflectionFrom&quot;&#x3A;&quot;p&#x5C;u00e1szt&#x5C;u00f3i&#x20;j&#x5C;u00e1r&#x5C;u00e1si&quot;,&quot;inflectionAt&quot;&#x3A;&quot;P&#x5C;u00e1szt&#x5C;u00f3i&#x20;j&#x5C;u00e1r&#x5C;u00e1sban&quot;,&quot;zipCode&quot;&#x3A;&quot;&quot;&#x7D;,&#x7B;&quot;id&quot;&#x3A;21,&quot;type&quot;&#x3A;&quot;county&quot;,&quot;name&quot;&#x3A;&quot;N&#x5C;u00f3gr&#x5C;u00e1d&quot;,&quot;namePostfix&quot;&#x3A;&quot;megye&quot;,&quot;slug&quot;&#x3A;&quot;nograd-megye&quot;,&quot;coordinates&quot;&#x3A;&#x7B;&quot;lat&quot;&#x3A;47.958407000000001,&quot;lon&quot;&#x3A;19.530543000000002&#x7D;,&quot;bounds&quot;&#x3A;&#x7B;&quot;south&quot;&#x3A;47.749139999999997,&quot;west&quot;&#x3A;18.919771000000001,&quot;north&quot;&#x3A;48.237267000000003,&quot;east&quot;&#x3A;20.037735000000001&#x7D;,&quot;urlPart&quot;&#x3A;&quot;nograd-megye&quot;,&quot;parentId&quot;&#x3A;5,&quot;isOfficeBuilding&quot;&#x3A;false,&quot;oldName&quot;&#x3A;null,&quot;usableInAd&quot;&#x3A;true,&quot;polygon&quot;&#x3A;&quot;&#x7B;&#x5C;&quot;type&#x5C;&quot;&#x3A;&#x5C;&quot;Polygon&#x5C;&quot;,&#x5C;&quot;coordinates&#x5C;&quot;&#x3A;&#x5B;&#x5B;&#x5B;18.928060980021,48.057121958488&#x5D;,&#x5B;18.968349971356,48.058377970968&#x5D;,&#x5B;18.981609913434,48.053600949423&#x5D;,&#x5B;18.991292943713,48.057819947121&#x5D;,&#x5B;18.990560996419,48.061911981546&#x5D;,&#x5B;18.99590597236,48.068022950224&#x5D;,&#x5B;19.0089039657,48.070042970897&#x5D;,&#x5B;19.007757984892,48.073692985766&#x5D;,&#x5B;19.012737975333,48.073346951359&#x5D;,&#x5B;19.008888963835,48.076188986357&#x5D;,&#x5B;19.011581933394,48.074959938025&#x5D;,&#x5B;19.014863928284,48.07817897765&#x5D;,&#x5B;19.018201978049,48.077862982545&#x5D;,&#x5B;19.016295932679,48.07729496671&#x5D;,&#x5B;19.014779935805,48.075692977026&#x5D;,&#x5B;19.020972921374,48.074106963507&#x5D;,&#x5B;19.020509929677,48.070944994281&#x5D;,&#x5B;19.023812945145,48.072989990271&#x5D;,&#x5B;19.032483933425,48.068324958891&#x5D;,&#x5B;19.033307958035,48.064457961472&#x5D;,&#x5B;19.046235972615,48.066485986196&#x5D;,&#x5B;19.058524925701,48.057352941236&#x5D;,&#x5B;19.065466926554,48.064648988937&#x5D;,&#x5B;19.078464919895,48.067426971652&#x5D;,&#x5B;19.084361910577,48.072780986513&#x5D;,&#x5B;19.107401990816,48.065595951201&#x5D;,&#x5B;19.11896196105,48.066457951469&#x5D;,&#x5B;19.127444931941,48.073628941065&#x5D;,&#x5B;19.13528893117,48.074145978201&#x5D;,&#x5B;19.150228992323,48.066959992886&#x5D;,&#x5B;19.181171911442,48.06126994343&#x5D;,&#x5B;19.2128229725,48.064361967201&#x5D;,&#x5B;19.2413679288,48.053652949705&#x5D;,&#x5B;19.248272919063,48.058165965848&#x5D;,&#x5B;19.248998937475,48.063621982845&#x5D;,&#x5B;19.255781936522,48.071555938518&#x5D;,&#x5B;19.276735949008,48.073947963316&#x5D;,&#x5B;19.283856984097,48.08207597101&#x5D;,&#x5B;19.303111923055,48.088710977245&#x5D;,&#x5B;19.355847970966,48.090760967432&#x5D;,&#x5B;19.369606927184,48.085912960391&#x5D;,&#x5B;19.373552956733,48.08726098168&#x5D;,&#x5B;19.371645923216,48.089677958269&#x5D;,&#x5B;19.386596943816,48.091913975999&#x5D;,&#x5B;19.39193096031,48.087821986716&#x5D;,&#x5B;19.389810936239,48.086332960664&#x5D;,&#x5B;19.394967984622,48.086627960947&#x5D;,&#x5B;19.400017953824,48.082303961157&#x5D;,&#x5B;19.409116989336,48.088952979228&#x5D;,&#x5B;19.425213990744,48.088781963811&#x5D;,&#x5B;19.435490987089,48.099664971378&#x5D;,&#x5B;19.454052965636,48.101435988621&#x5D;,&#x5B;19.456993960045,48.09782297913&#x5D;,&#x5B;19.451641977245,48.096671962945&#x5D;,&#x5B;19.451795948485,48.091729949981&#x5D;,&#x5B;19.460912950303,48.086691989467&#x5D;,&#x5B;19.461303986947,48.083197968049&#x5D;,&#x5B;19.467353960722,48.083932990069&#x5D;,&#x5B;19.468312912288,48.092036979654&#x5D;,&#x5B;19.487215981149,48.09954096609&#x5D;,&#x5B;19.484641948533,48.105192951602&#x5D;,&#x5B;19.494419930738,48.109905983695&#x5D;,&#x5B;19.490919914728,48.112422958791&#x5D;,&#x5B;19.494709996743,48.11470896638&#x5D;,&#x5B;19.491964924898,48.117917961989&#x5D;,&#x5B;19.497076967685,48.124772967456&#x5D;,&#x5B;19.494051980798,48.127124982054&#x5D;,&#x5B;19.496507974784,48.13519596528&#x5D;,&#x5B;19.492376982119,48.139663943872&#x5D;,&#x5B;19.50815094935,48.147584972413&#x5D;,&#x5B;19.512821919333,48.154662968468&#x5D;,&#x5B;19.509769982987,48.168858988805&#x5D;,&#x5B;19.504517982678,48.173442952078&#x5D;,&#x5B;19.509640984912,48.174978935936&#x5D;,&#x5B;19.507395915354,48.178179972516&#x5D;,&#x5B;19.511776909163,48.177548970135&#x5D;,&#x5B;19.51307093233,48.182311965602&#x5D;,&#x5B;19.522875953825,48.183804978964&#x5D;,&#x5B;19.528966980609,48.190357982865&#x5D;,&#x5B;19.526043952506,48.203129967091&#x5D;,&#x5B;19.54130498171,48.209320953555&#x5D;,&#x5B;19.547022938156,48.205693979995&#x5D;,&#x5B;19.567092918571,48.215361966716&#x5D;,&#x5B;19.577501967263,48.216014949911&#x5D;,&#x5B;19.602325921993,48.231634980608&#x5D;,&#x5B;19.608216983794,48.238986946568&#x5D;,&#x5B;19.630826321854,48.250072492613&#x5D;,&#x5B;19.644523923138,48.239171940744&#x5D;,&#x5B;19.65438994024,48.238135976706&#x5D;,&#x5B;19.66021093345,48.24151996846&#x5D;,&#x5B;19.669856953139,48.239211966886&#x5D;,&#x5B;19.675821946289,48.224397942045&#x5D;,&#x5B;19.674661951763,48.219738991689&#x5D;,&#x5B;19.679859963323,48.216726942904&#x5D;,&#x5B;19.679858975176,48.213025967727&#x5D;,&#x5B;19.691296954194,48.20704795884&#x5D;,&#x5B;19.691218980427,48.20389398763&#x5D;,&#x5B;19.721124974214,48.201472983463&#x5D;,&#x5B;19.734886984704,48.215165992319&#x5D;,&#x5B;19.746179975635,48.216511939422&#x5D;,&#x5B;19.760708967714,48.213791935731&#x5D;,&#x5B;19.766746993896,48.205684939779&#x5D;,&#x5B;19.781321979718,48.201010994298&#x5D;,&#x5B;19.787162915527,48.192529974784&#x5D;,&#x5B;19.798732946892,48.194819961461&#x5D;,&#x5B;19.805282922954,48.183732985657&#x5D;,&#x5B;19.788707927984,48.17333697708&#x5D;,&#x5B;19.789587917636,48.1682739446&#x5D;,&#x5B;19.782414959924,48.165038976019&#x5D;,&#x5B;19.79481198034,48.153528986937&#x5D;,&#x5B;19.806470944918,48.15414494302&#x5D;,&#x5B;19.80658395298,48.16206098051&#x5D;,&#x5B;19.821330966179,48.169080962356&#x5D;,&#x5B;19.829896941402,48.166941948095&#x5D;,&#x5B;19.827358392241,48.163667589251&#x5D;,&#x5B;19.845281938116,48.162741966341&#x5D;,&#x5B;19.843942909353,48.167959941163&#x5D;,&#x5B;19.855172928383,48.178430957634&#x5D;,&#x5B;19.858430938256,48.175067954494&#x5D;,&#x5B;19.856113913643,48.171225938239&#x5D;,&#x5B;19.860130910099,48.169408978193&#x5D;,&#x5B;19.879155970175,48.170446992201&#x5D;,&#x5B;19.88239996633,48.164140939929&#x5D;,&#x5B;19.898744992587,48.166311945795&#x5D;,&#x5B;19.905909955293,48.151303980261&#x5D;,&#x5B;19.914535937977,48.146862967821&#x5D;,&#x5B;19.910272982797,48.139714957993&#x5D;,&#x5B;19.902103973097,48.136574947372&#x5D;,&#x5B;19.897957978567,48.129470953103&#x5D;,&#x5B;19.900432927006,48.124126976563&#x5D;,&#x5B;19.908307918113,48.129544941246&#x5D;,&#x5B;19.937382970262,48.131117973486&#x5D;,&#x5B;19.937113924834,48.137237987049&#x5D;,&#x5B;19.946688977616,48.143124936217&#x5D;,&#x5B;19.951556948141,48.151547964989&#x5D;,&#x5B;19.963564908206,48.152020948046&#x5D;,&#x5B;19.974393919293,48.166004940443&#x5D;,&#x5B;19.988705968232,48.162167937528&#x5D;,&#x5B;19.991440978946,48.168398982258&#x5D;,&#x5B;20.029037988869,48.177684947192&#x5D;,&#x5B;20.043028979924,48.173129938803&#x5D;,&#x5B;20.044387951286,48.167242956448&#x5D;,&#x5B;20.051906850214,48.167719689192&#x5D;,&#x5B;20.061985768039,48.167279264263&#x5D;,&#x5B;20.064598877369,48.155459353475&#x5D;,&#x5B;20.072515640136,48.153103782349&#x5D;,&#x5B;20.076541350251,48.155354659726&#x5D;,&#x5B;20.080454411628,48.151893652984&#x5D;,&#x5B;20.087881053577,48.153345780825&#x5D;,&#x5B;20.092260610081,48.144551537814&#x5D;,&#x5B;20.097920715023,48.143360747805&#x5D;,&#x5B;20.092231594498,48.143044493887&#x5D;,&#x5B;20.084748089192,48.137385461256&#x5D;,&#x5B;20.079044685453,48.137059458763&#x5D;,&#x5B;20.07827105633,48.126784044051&#x5D;,&#x5B;20.071324563901,48.121136292047&#x5D;,&#x5B;20.047494864528,48.123226965125&#x5D;,&#x5B;20.049609319044,48.115240344367&#x5D;,&#x5B;20.041553946228,48.106571059736&#x5D;,&#x5B;20.03241466619,48.107764682426&#x5D;,&#x5B;20.01868553404,48.102555043767&#x5D;,&#x5B;20.0056029194,48.102276392075&#x5D;,&#x5B;19.985551534111,48.093315480223&#x5D;,&#x5B;19.978728829528,48.092980137904&#x5D;,&#x5B;19.976519153593,48.095666475074&#x5D;,&#x5B;19.968458390885,48.090014162181&#x5D;,&#x5B;19.974624516827,48.085018760647&#x5D;,&#x5B;19.972778209423,48.078172975862&#x5D;,&#x5B;19.986934939649,48.075784748716&#x5D;,&#x5B;19.986268659203,48.070077246514&#x5D;,&#x5B;20.018333035122,48.053444047559&#x5D;,&#x5B;20.008094127346,48.052008670546&#x5D;,&#x5B;20.01364032591,48.044338537257&#x5D;,&#x5B;20.010713884209,48.041332939734&#x5D;,&#x5B;20.015664409908,48.031361453209&#x5D;,&#x5B;20.013310374706,48.024215456996&#x5D;,&#x5B;20.016015291858,48.017640455268&#x5D;,&#x5B;20.026712609924,48.015330482614&#x5D;,&#x5B;20.032297885203,48.009540554508&#x5D;,&#x5B;20.005451553274,48.004470265466&#x5D;,&#x5B;19.996532719807,48.007247467846&#x5D;,&#x5B;19.990661959931,47.999227443662&#x5D;,&#x5B;19.980515039639,47.998197089145&#x5D;,&#x5B;19.975810921823,47.989025480282&#x5D;,&#x5B;19.986398645424,47.980200046407&#x5D;,&#x5B;19.978374983138,47.97766325168&#x5D;,&#x5B;19.975967767671,47.973515450685&#x5D;,&#x5B;19.964089883658,47.971672371124&#x5D;,&#x5B;19.969445639382,47.956039394344&#x5D;,&#x5B;19.968319152016,47.950269285222&#x5D;,&#x5B;19.940947485309,47.944041270089&#x5D;,&#x5B;19.933219728077,47.925460652969&#x5D;,&#x5B;19.92529299401,47.923194952953&#x5D;,&#x5B;19.921830437748,47.918306787661&#x5D;,&#x5B;19.922465816148,47.923235466501&#x5D;,&#x5B;19.92022371103,47.923636747564&#x5D;,&#x5B;19.914424367219,47.916065158048&#x5D;,&#x5B;19.910507892243,47.919137839049&#x5D;,&#x5B;19.895177333436,47.916968191311&#x5D;,&#x5B;19.880681489191,47.930396775905&#x5D;,&#x5B;19.863653383991,47.927477775674&#x5D;,&#x5B;19.83591116223,47.928809960522&#x5D;,&#x5B;19.809202452202,47.92289534435&#x5D;,&#x5B;19.811882935178,47.91333458917&#x5D;,&#x5B;19.809551088364,47.908812745996&#x5D;,&#x5B;19.814077788912,47.907249174619&#x5D;,&#x5B;19.809498896246,47.904624489285&#x5D;,&#x5B;19.81173668945,47.902701265468&#x5D;,&#x5B;19.83033406162,47.896104756335&#x5D;,&#x5B;19.841187866208,47.901318964437&#x5D;,&#x5B;19.855144182294,47.890988870346&#x5D;,&#x5B;19.849477429819,47.890271636162&#x5D;,&#x5B;19.843608017415,47.8766055452&#x5D;,&#x5B;19.836204282507,47.874358253085&#x5D;,&#x5B;19.825561312515,47.87556575465&#x5D;,&#x5B;19.813778919417,47.8855560876&#x5D;,&#x5B;19.800213280648,47.887533441428&#x5D;,&#x5B;19.777249826704,47.904821649412&#x5D;,&#x5B;19.768154384452,47.9029913555&#x5D;,&#x5B;19.767482534451,47.896455594774&#x5D;,&#x5B;19.759522383055,47.8912637864&#x5D;,&#x5B;19.759411081792,47.888204148677&#x5D;,&#x5B;19.765719321211,47.8888970752&#x5D;,&#x5B;19.766743759961,47.884342071577&#x5D;,&#x5B;19.762757396056,47.88013948407&#x5D;,&#x5B;19.764266745397,47.869482588965&#x5D;,&#x5B;19.724909396843,47.840789779832&#x5D;,&#x5B;19.722241580112,47.830505749468&#x5D;,&#x5B;19.71566519358,47.823521273373&#x5D;,&#x5B;19.720697196476,47.818022785198&#x5D;,&#x5B;19.704202870218,47.815840394874&#x5D;,&#x5B;19.6865054303,47.820260636837&#x5D;,&#x5B;19.684100909779,47.811308289543&#x5D;,&#x5B;19.66676019086,47.81032076209&#x5D;,&#x5B;19.667807267156,47.802773873429&#x5D;,&#x5B;19.663867076656,47.800164591644&#x5D;,&#x5B;19.652742789335,47.808316872481&#x5D;,&#x5B;19.656108866537,47.811271851085&#x5D;,&#x5B;19.653293276942,47.813413351361&#x5D;,&#x5B;19.63254408034,47.805836985985&#x5D;,&#x5B;19.645600643838,47.780323658176&#x5D;,&#x5B;19.639275066933,47.771201655722&#x5D;,&#x5B;19.642608625121,47.768147490188&#x5D;,&#x5B;19.639200147438,47.763205442101&#x5D;,&#x5B;19.629499240685,47.754137993082&#x5D;,&#x5B;19.622772655837,47.759492876059&#x5D;,&#x5B;19.612076954739,47.762222676533&#x5D;,&#x5B;19.571132552572,47.734987947343&#x5D;,&#x5B;19.567222994624,47.737681878739&#x5D;,&#x5B;19.541337860049,47.746498378952&#x5D;,&#x5B;19.527111510389,47.730632352674&#x5D;,&#x5B;19.520318450211,47.72836568492&#x5D;,&#x5B;19.518591079751,47.723440585797&#x5D;,&#x5B;19.493703075141,47.716654638541&#x5D;,&#x5B;19.489675388733,47.707141547568&#x5D;,&#x5B;19.505445044052,47.705955455205&#x5D;,&#x5B;19.510989984974,47.697515956246&#x5D;,&#x5B;19.477680094913,47.687813481588&#x5D;,&#x5B;19.468203856812,47.702294847186&#x5D;,&#x5B;19.466009452236,47.711834571949&#x5D;,&#x5B;19.452512175261,47.715295481471&#x5D;,&#x5B;19.433913275955,47.738658945717&#x5D;,&#x5B;19.434714393526,47.749633543852&#x5D;,&#x5B;19.44438305076,47.755663667574&#x5D;,&#x5B;19.447145190596,47.762756059375&#x5D;,&#x5B;19.444277858041,47.768846187508&#x5D;,&#x5B;19.424094150911,47.772935962734&#x5D;,&#x5B;19.415584050898,47.771359536443&#x5D;,&#x5B;19.416109924666,47.778512267952&#x5D;,&#x5B;19.420842878403,47.780407383721&#x5D;,&#x5B;19.426852877148,47.796588691873&#x5D;,&#x5B;19.446412883976,47.802525640389&#x5D;,&#x5B;19.425023278409,47.816659638968&#x5D;,&#x5B;19.412034358053,47.815933775238&#x5D;,&#x5B;19.393968788532,47.822091139818&#x5D;,&#x5B;19.355508048463,47.818750067401&#x5D;,&#x5B;19.32452731027,47.832568845475&#x5D;,&#x5B;19.275851647443,47.825043284004&#x5D;,&#x5B;19.260161942185,47.827587689368&#x5D;,&#x5B;19.231202143887,47.825122775942&#x5D;,&#x5B;19.22048012215,47.835423249686&#x5D;,&#x5B;19.208601519485,47.838881490574&#x5D;,&#x5B;19.208077622012,47.841912146004&#x5D;,&#x5B;19.180384627927,47.849178449802&#x5D;,&#x5B;19.17811844796,47.846897473582&#x5D;,&#x5B;19.168456258596,47.84882078036&#x5D;,&#x5B;19.163802446435,47.84454356686&#x5D;,&#x5B;19.142853823841,47.849150477765&#x5D;,&#x5B;19.108922389434,47.850566241754&#x5D;,&#x5B;19.100877976065,47.847204153646&#x5D;,&#x5B;19.098789393029,47.841853782355&#x5D;,&#x5B;19.086498283986,47.83820658731&#x5D;,&#x5B;19.074630371273,47.845063142899&#x5D;,&#x5B;19.073502716097,47.853818765649&#x5D;,&#x5B;19.065026213076,47.85877124505&#x5D;,&#x5B;19.048049850836,47.861437068734&#x5D;,&#x5B;19.04352854018,47.874003047044&#x5D;,&#x5B;19.045793821832,47.878185586808&#x5D;,&#x5B;19.028245142925,47.889987980463&#x5D;,&#x5B;19.013532714865,47.891886859803&#x5D;,&#x5B;19.00333917201,47.89797438159&#x5D;,&#x5B;18.986901619278,47.915099492865&#x5D;,&#x5B;18.967639314135,47.921562946959&#x5D;,&#x5B;18.961400334824,47.926502993342&#x5D;,&#x5B;18.957994552087,47.934499650411&#x5D;,&#x5B;18.943239633714,47.944001434755&#x5D;,&#x5B;18.948906835347,47.948943850575&#x5D;,&#x5B;18.94095369081,47.954281843558&#x5D;,&#x5B;18.994200161467,47.979443639289&#x5D;,&#x5B;18.989099257789,47.987802467914&#x5D;,&#x5B;19.00496961425,47.991647746685&#x5D;,&#x5B;19.002131926099,48.004220052672&#x5D;,&#x5B;19.007216031281,48.01027915251&#x5D;,&#x5B;19.000406082776,48.009900479624&#x5D;,&#x5B;19.005496476165,48.017099175502&#x5D;,&#x5B;18.990282159355,48.029317266471&#x5D;,&#x5B;18.975441451872,48.024444364356&#x5D;,&#x5B;18.968120182307,48.028429953174&#x5D;,&#x5B;18.95879171707,48.026836175175&#x5D;,&#x5B;18.928060980021,48.057121958488&#x5D;&#x5D;&#x5D;&#x7D;&quot;,&quot;inflectionFrom&quot;&#x3A;&quot;N&#x5C;u00f3gr&#x5C;u00e1d&#x20;megyei&quot;,&quot;inflectionAt&quot;&#x3A;&quot;N&#x5C;u00f3gr&#x5C;u00e1d&#x20;megy&#x5C;u00e9ben&quot;,&quot;zipCode&quot;&#x3A;&quot;&quot;&#x7D;,&#x7B;&quot;id&quot;&#x3A;5,&quot;type&quot;&#x3A;&quot;region&quot;,&quot;name&quot;&#x3A;&quot;&#x5C;u00c9szak-Magyarorsz&#x5C;u00e1g&quot;,&quot;namePostfix&quot;&#x3A;&quot;&quot;,&quot;slug&quot;&#x3A;&quot;eszak-magyarorszag&quot;,&quot;coordinates&quot;&#x3A;&#x7B;&quot;lat&quot;&#x3A;47.920000000000002,&quot;lon&quot;&#x3A;20.399999999999999&#x7D;,&quot;bounds&quot;&#x3A;&#x7B;&quot;south&quot;&#x3A;47.383471999999998,&quot;west&quot;&#x3A;18.89649,&quot;north&quot;&#x3A;48.611122000000002,&quot;east&quot;&#x3A;22.141110000000001&#x7D;,&quot;urlPart&quot;&#x3A;&quot;eszak-magyarorszag&quot;,&quot;parentId&quot;&#x3A;1,&quot;isOfficeBuilding&quot;&#x3A;false,&quot;oldName&quot;&#x3A;null,&quot;usableInAd&quot;&#x3A;true,&quot;polygon&quot;&#x3A;&quot;&quot;,&quot;inflectionFrom&quot;&#x3A;&quot;&quot;,&quot;inflectionAt&quot;&#x3A;&quot;&quot;,&quot;zipCode&quot;&#x3A;&quot;&quot;&#x7D;,&#x7B;&quot;id&quot;&#x3A;1,&quot;type&quot;&#x3A;&quot;country&quot;,&quot;name&quot;&#x3A;&quot;Magyarorsz&#x5C;u00e1g&quot;,&quot;namePostfix&quot;&#x3A;&quot;&quot;,&quot;slug&quot;&#x3A;&quot;magyarorszag&quot;,&quot;coordinates&quot;&#x3A;&#x7B;&quot;lat&quot;&#x3A;47.409959999999998,&quot;lon&quot;&#x3A;19.061834000000001&#x7D;,&quot;bounds&quot;&#x3A;&#x7B;&quot;south&quot;&#x3A;45.783645999999997,&quot;west&quot;&#x3A;16.163329999999998,&quot;north&quot;&#x3A;48.559704000000004,&quot;east&quot;&#x3A;22.817394&#x7D;,&quot;urlPart&quot;&#x3A;&quot;magyarorszag&quot;,&quot;parentId&quot;&#x3A;null,&quot;isOfficeBuilding&quot;&#x3A;false,&quot;oldName&quot;&#x3A;null,&quot;usableInAd&quot;&#x3A;true,&quot;polygon&quot;&#x3A;&quot;&quot;,&quot;inflectionFrom&quot;&#x3A;&quot;&quot;,&quot;inflectionAt&quot;&#x3A;&quot;&quot;,&quot;zipCode&quot;&#x3A;&quot;&quot;&#x7D;&#x5D;\" data-location-id-value=\"map\" data-location-address-value=\"P&#x00E1;szt&#x00F3;,&#x20;K&#x00F6;lcsey&#x20;utca&#x20;\" data-location-bkk-routes-value=\"&#x5B;&#x5D;\" data-location-fullscreen-value=\"true\"></div>\\n            </div>\\n</div>\\n\\n                                \\n                <div class=\"row card border-ash bg-white rounded-5 p-4 mt-3 me-md-1\">\\n    <h5 class=\"card-title px-0 mb-4 fw-bold font-family-secondary\">L\\xc3\\xa9pj kapcsolatba a hirdet\\xc5\\x91vel</h5>\\n    <div class=\"row flex-column-reverse flex-xl-row box-sizing-content\">\\n        <div class=\"col-xl-6 col-12\">\\n            <div class=\"row\">\\n                <div class=\"col-12 row\">\\n                    \\n<div class=\"d-flex align-items-center  justify-content-start my-4\">\\n    <div class=\"col-print print-flex-0 justify-content-end d-flex me-3\">\\n                    <img src=\"https://ingatlan.com/images/profile-pic-placeholder.svg\" alt=\"ingatlan.com\" class=\"avatar shadow-sm rounded-3\" />\\n            </div>\\n    <div class=\"col-print print-flex-1 \">\\n                    <span class=\"d-flex align-items-center text-start h-100 my-auto font-family-secondary\">Mag\\xc3\\xa1nszem\\xc3\\xa9ly</span>\\n            </div>\\n</div>\\n                </div>\\n                <div class=\"col-12 row\">\\n                                    </div>\\n            </div>\\n        </div>\\n        <div class=\"col-xl-6 col-12\">\\n            \\n    <div class=\"d-grid gap-3 contact-phone-number-container\">\\n        <div class=\"border border-ash rounded-3 d-flex position-relative rounded-5\">\\n            <span class=\"w-50 d-flex align-items-center justify-content-center p-2 d-flex align-items-center justify-content-center chunked-phone-number\">\\n                <span class=\"material-icons pe-2\">phone</span>\\n                <span class=\"fw-bold text-dark\" data-testid=\"chunked-phone-number\">+36 30 234 </span>\\n            </span>\\n            <button type=\"button\" data-phone-number-reveal-button=\"true\" class=\"btn btn-tomato w-50\" data-testid=\"phone-number-reveal-button\" data-seller-type=\"PrivateIndividual\" data-discriminator=\"secondary\">\\n                Felfed\\xc3\\xa9s\\n            </button>\\n            <div class=\"revealed-phone-numbers w-100 d-none\">\\n                <div class=\"btn-group w-100 position-relative d-flex\">\\n                    <button type=\"button\" class=\"btn w-100 fw-bold shadow-none\" style=\"position: initial;\">\\n                        <span>&nbsp;</span>\\n                        <span class=\"position-absolute w-100 h-100 start-0 top-0 d-flex justify-content-center align-items-center\">\\n                            <span data-number=\"{&quot;ct&quot;:&quot;Eyppv6NsW8aQeSyPlPytoTJilW5APU5vctGyCP5IxWY=&quot;,&quot;iv&quot;:&quot;cc0093b1fc1057b1d1cf5092aad93ab4&quot;,&quot;s&quot;:&quot;dcfbf38416d74a39&quot;}\" class=\"d-flex justify-content-center align-items-center\">\\n            <span class=\"material-icons pe-1\">phone</span>\\n        <a class=\"phone-number fw-bold text-decoration-none text-dark\" href=\"tel:%number%\" data-testid=\"contact-phone-number\" onclick=\"window.icomEvents.detailsPageContactPhoneNumberEvent({ action: \\'select\\', discriminator: \\'secondary\\' })\">%number%</a>\\n</span>\\n                        </span>\\n                    </button>\\n                                    </div>\\n                            </div>\\n        </div>\\n    </div>\\n\\n    <div class=\"d-grid mt-3\" data-controller=\"chatwidget\">\\n        <button type=\"button\" class=\"send-message-button btn btn-outline-ash d-flex align-items-center justify-content-center\" data-action=\"click->chatwidget#mount\" onclick=\"window.icomEvents.openChatWithContactButtonEvent(\\'lent\\');window.icomEvents.yuspEvent({event: \\'LETTER_SEND\\', listingId: 33441333 })\" data-discriminator=\"secondary\">\\n            <span class=\"material-icons pe-2 text-tomato fs-5\">question_answer</span>\\n            <span class=\"fw-bold text-dark\">\\xc3\\x9czenet k\\xc3\\xbcld\\xc3\\xa9se</span>\\n        </button>\\n    </div>\\n        </div>\\n    </div>\\n    </div>\\n            </div>\\n            <div class=\"col-xl-4 col-md-10 col-12 mt-3\">\\n                                    <div id=\"details-page-banners\">\\n                        <span class=\"advert-container-text d-none fs-7 text-nickel text-decoration-none mb-4 text-center\">Hirdet\\xc3\\xa9s</span>\\n<div class=\"advert-container text-center\">\\n        <script type=\"text/javascript\">\\n        window.goAdverticum3.onReady((goa3) => {\\n            goa3.invocation([\\n                                {\\n                    node: document.getElementById(\\'zone-container-3685457\\'),\\n                    id: 3685457,\\n                    cT: \\'dXNlcmRiX2lkPTQ2JmFkX2RheW9mbW9udGg9OSZhZF93ZWVrb2Z5ZWFyPTEwJmFkX3Bhcm9zaGV0PVkmYWRfYXI9OTAwMDAmYWRfZXJ0ZWtlc2l0ZXNfdGlwdXNhPTImYWRfaW5nYXRsYW5fdGlwdXM9MTAyNSZhZF9pbmdhdGxhbl9hbGxhcG90YT0zMiZhZF9lbGhlbHllemtlZGVzPTQxOTQ5NDQmYWRfbWVneWU9MTAyNA==\\'\\n                },\\n                                {\\n                    node: document.getElementById(\\'zone-container-3685461\\'),\\n                    id: 3685461,\\n                    cT: \\'dXNlcmRiX2lkPTQ2JmFkX2RheW9mbW9udGg9OSZhZF93ZWVrb2Z5ZWFyPTEwJmFkX3Bhcm9zaGV0PVkmYWRfYXI9OTAwMDAmYWRfZXJ0ZWtlc2l0ZXNfdGlwdXNhPTImYWRfaW5nYXRsYW5fdGlwdXM9MTAyNSZhZF9pbmdhdGxhbl9hbGxhcG90YT0zMiZhZF9lbGhlbHllemtlZGVzPTQxOTQ5NDQmYWRfbWVneWU9MTAyNA==\\'\\n                },\\n                                {\\n                    node: document.getElementById(\\'zone-container-3685464\\'),\\n                    id: 3685464,\\n                    cT: \\'dXNlcmRiX2lkPTQ2JmFkX2RheW9mbW9udGg9OSZhZF93ZWVrb2Z5ZWFyPTEwJmFkX3Bhcm9zaGV0PVkmYWRfYXI9OTAwMDAmYWRfZXJ0ZWtlc2l0ZXNfdGlwdXNhPTImYWRfaW5nYXRsYW5fdGlwdXM9MTAyNSZhZF9pbmdhdGxhbl9hbGxhcG90YT0zMiZhZF9lbGhlbHllemtlZGVzPTQxOTQ5NDQmYWRfbWVneWU9MTAyNA==\\'\\n                },\\n                                {\\n                    node: document.getElementById(\\'zone-container-3798666\\'),\\n                    id: 3798666,\\n                    cT: \\'dXNlcmRiX2lkPTQ2JmFkX2RheW9mbW9udGg9OSZhZF93ZWVrb2Z5ZWFyPTEwJmFkX3Bhcm9zaGV0PVkmYWRfYXI9OTAwMDAmYWRfZXJ0ZWtlc2l0ZXNfdGlwdXNhPTImYWRfaW5nYXRsYW5fdGlwdXM9MTAyNSZhZF9pbmdhdGxhbl9hbGxhcG90YT0zMiZhZF9lbGhlbHllemtlZGVzPTQxOTQ5NDQmYWRfbWVneWU9MTAyNA==\\'\\n                },\\n                            ], (response) => {\\n                response.forEach((data) => {\\n                  const zoneWithId = `zone${data.zone}`;\\n                  if (typeof window.icomEvents === \\'object\\') {\\n                    window.icomEvents.detailsPageAdverticumBannerLoad(zoneWithId);\\n                    return;\\n                  }\\n\\n                  const icomEventsAvailableInterval = setInterval(() => {\\n                    if (typeof window.icomEvents !== \\'object\\') {\\n                      return;\\n                    }\\n\\n                    clearInterval(icomEventsAvailableInterval);\\n                    window.icomEvents.detailsPageAdverticumBannerLoad(zoneWithId);\\n                  }, 1000);\\n                });\\n            });\\n        });\\n    </script>\\n\\n            <div id=\"zone-container-3685457\" class=\"goAdverticum\" data-banner-type=\"banner_1\"></div>\\n            <div id=\"zone-container-3685461\" class=\"goAdverticum\" data-banner-type=\"banner_1\"></div>\\n            <div id=\"zone-container-3685464\" class=\"goAdverticum\" data-banner-type=\"banner_1\"></div>\\n            <div id=\"zone-container-3798666\" class=\"goAdverticum\" data-banner-type=\"banner_1\"></div>\\n    </div>\\n                        <span class=\"advert-container-text d-none fs-7 text-nickel text-decoration-none mb-4 text-center\">Hirdet\\xc3\\xa9s</span>\\n<div class=\"advert-container text-center\">\\n        <div class=\"ao-container\" id=\"adoceanindexhukoergkokac\" data-ad-text=\"Hirdet\\xc3\\xa9s\" data-master=\".poGG9Z7kqxCkjU0yc._qgJX4XDv0sbhURw9n2MWSTr.Y7\" data-custom-target=\"dXNlcmRiX2lkPTQ2JmFkX2RheW9mbW9udGg9OSZhZF93ZWVrb2Z5ZWFyPTEwJmFkX3Bhcm9zaGV0PVkmYWRfYXI9OTAwMDAmYWRfZXJ0ZWtlc2l0ZXNfdGlwdXNhPTImYWRfaW5nYXRsYW5fdGlwdXM9MTAyNSZhZF9pbmdhdGxhbl9hbGxhcG90YT0zMiZhZF9lbGhlbHllemtlZGVzPTQxOTQ5NDQmYWRfbWVneWU9MTAyNA==\" data-banner-type=\"banner_2\"></div>\\n</div>\\n                    </div>\\n                            </div>\\n        </div>\\n\\n                    <div class=\"bottom-fixed-contact row d-flex d-lg-none position-fixed start-0 bottom-0 end-0 p-3 bg-white shadow z-index-400\" data-controller=\"chatwidget\">\\n            <div class=\"col-6 px-2 px-md-3\">\\n            <button type=\"button\" class=\"send-message-button btn btn-outline-ash d-flex w-100 align-items-center justify-content-center\" data-action=\"click->chatwidget#mount\" onclick=\"window.icomEvents.openChatWithContactButtonEvent(\\'sticky\\')\" data-discriminator=\"sticky\">\\n                <span class=\"material-icons pe-2 text-tomato fs-5\">question_answer</span>\\n                <span class=\"caption fw-bold text-dark fs-7\">\\xc3\\x9czenet</span>\\n            </button>\\n        </div>\\n            <div class=\"col-6 px-2 px-md-3\">\\n        <button id=\"call-hero-contact\" class=\"btn btn-tomato d-flex align-items-center justify-content-center w-100\">\\n            <span class=\"material-icons pe-2\">phone</span>\\n            <span class=\"caption fw-bold fs-7\">Felh\\xc3\\xadvom</span>\\n        </button>\\n    </div>\\n    </div>\\n            </section>\\n    <section id=\"recommended_listings\" class=\"container-xl\">\\n    <div class=\"row card border-ash rounded-5 p-4 pb-0 mt-3\">\\n        <h5 id=\"recommendation-title\" class=\"d-none card-title px-0 mb-4 fw-bold font-family-secondary\">Ez is \\xc3\\xa9rdekelhet</h5>\\n        <div id=\"recommendation-container\" class=\"d-none row w-100 flex-nowrap overflow-auto box-sizing-content pb-4\" data-listing-id=\"33441333\">\\n            <a class=\"col card me-3 me-lg-4 p-0 border-ash text-decoration-none rounded-5 recommended-listing-banner-card d-none\" href=\"https://ingatlan.com/\" target=\"_blank\" data-recommendation-empty>\\n                <img src=\"\" loading=\"lazy\" class=\"card-img-top img-fluid rounded-5 w-100\" alt=\"\" data-recommendation-image>\\n                <div class=\"card-body\">\\n                    <span class=\"card-title mb-0 h5 mb-1 text-onyx text-truncate mw-100 d-block font-family-secondary fw-bold fs-7\" data-recommendation-address></span>\\n                    <span class=\"card-text d-block mb-2 text-onyx fs-7\" data-recommendation-title></span>\\n                    <span class=\"card-text d-block text-nickel fs-8\">\\n                        <span data-recommendation-price></span>\\n                        <span data-recommendation-separator class=\"d-none mx-2 fs-10\">\\xe2\\x80\\xa2</span>\\n                        <span data-recommendation-areasize></span>\\n                    </span>\\n                </div>\\n            </a>\\n        </div>\\n    </div>\\n</section>\\n\\n    <section id=\"moneyhu-calculator\" class=\"container-xl\">\\n    <div class=\"row card border-ash rounded-5 p-4 mt-3 calculator-card\">\\n        <script type=\"text/javascript\" src=\"https://www.money.hu/assets-new/js/calculator-widget-init.js?v3\"></script>\\n        <div id=\"money-widget\" data-source=\"ingatlan.com\"></div>\\n    </div>\\n</section>\\n\\n    <div class=\"container-xl mt-3 ps-0\">\\n\\n    <nav style=\"--bs-breadcrumb-divider: \\'>\\';\" aria-label=\"breadcrumb\">\\n        <ol class=\"breadcrumb\" itemscope itemtype=\"https://schema.org/BreadcrumbList\">\\n            <li class=\"breadcrumb-item fw-normal\" itemprop=\"itemListElement\" itemscope itemtype=\"https://schema.org/ListItem\">\\n                <a itemprop=\"item\" href=\"/\" class=\"text-decoration-none text-dark fs-8 font-family-secondary\">\\n                    <span itemprop=\"name\">F\\xc5\\x91oldal</span>\\n                    <meta itemprop=\"position\" content=\"1\" />\\n                </a>\\n            </li>\\n\\n                        \\n                            <li class=\"breadcrumb-item fw-normal\" itemprop=\"itemListElement\" itemscope itemtype=\"https://schema.org/ListItem\">\\n                    <a itemprop=\"item\" href=\"/paszto\" class=\"text-decoration-none text-dark fs-8 font-family-secondary\">\\n                        <span itemprop=\"name\">P\\xc3\\xa1szt\\xc3\\xb3 </span>\\n                        <meta itemprop=\"position\" content=\"2\" />\\n                    </a>\\n                </li>\\n\\n                                            \\n            <li class=\"breadcrumb-item fw-normal\" itemprop=\"itemListElement\" itemscope itemtype=\"https://schema.org/ListItem\">\\n                <a itemprop=\"item\" href=\"/paszto/kiado+lakas\" class=\"text-decoration-none text-dark fs-8 font-family-secondary\">\\n                    <span itemprop=\"name\">Kiad\\xc3\\xb3 lak\\xc3\\xa1sok - P\\xc3\\xa1szt\\xc3\\xb3 </span>\\n                    <meta itemprop=\"position\" content=\"3\" />\\n                </a>\\n            </li>\\n        </ol>\\n    </nav>\\n</div>\\n    \\n    <div id=\"toast-container\" class=\"toast-container position-fixed p-3 bottom-0 start-0 z-index-1100\">\\n    <div id=\"empty-toast-message\" class=\"toast align-items-center text-white top-0 border border-1 text-onyx\" role=\"alert\" aria-live=\"assertive\" aria-atomic=\"true\">\\n        <div class=\"d-flex\">\\n            <div class=\"toast-icon-container d-none d-lg-flex justify-content-center align-items-center px-3\">\\n                <span class=\"toast-icon material-icons-outlined icon text-bright p-1 rounded-circle fs-5\"></span>\\n            </div>\\n            <div class=\"d-flex justify-content-center ps-3 ps-lg-0 flex-column flex-fill\">\\n                <div class=\"toast-title ps-0 toast-body fw-700 font-family-secondary pt-2 pb-0 fs-6 d-none\"></div>\\n                <div class=\"toast-message ps-0 toast-body\"></div>\\n            </div>\\n            <button type=\"button\" class=\"toast-close-btn btn pe-0 me-2 m-auto d-inline-flex\" data-bs-dismiss=\"toast\" aria-label=\"Bez\\xc3\\xa1r\\xc3\\xa1s\">\\n                <span class=\"material-icons icon fs-6\">close</span>\\n            </button>\\n        </div>\\n    </div>\\n</div>\\n                <footer>\\n    <div class=\"bg-nickel d-flex flex-column d-lg-none align-items-center py-4\">\\n        <img src=\"/images/logo-footer.svg\" alt=\"ingatlan.com logo\" width=\"130\" class=\"mb-3\" />\\n\\n        <a class=\"text-white text-decoration-none text-uppercase fw-bold fs-7\" href=\"tel:+3612372065\" onclick=\"window.icomEvents.footerItemClickEvent({ discriminator: \\'main\\', emphasized: false, name: \\'contactPhone\\' })\">+36 1 237 2065</a>\\n        <a class=\"my-1 text-white text-decoration-none fs-9\" href=\"mailto:segitunk@ingatlan.com\" onclick=\"window.icomEvents.footerItemClickEvent({ discriminator: \\'main\\', emphasized: false, name: \\'contactEmail\\' })\">segitunk@ingatlan.com</a>\\n        <span class=\"text-white mb-3 fs-9\">munkanapokon 10:00-17:00-ig</span>\\n\\n        <a class=\"text-white text-decoration-none text-uppercase fw-bold mb-3 fs-7\" href=\"https://hirdetesfeladas.ingatlan.com/hirdetesfeladas\" onclick=\"window.icomEvents.footerItemClickEvent({ discriminator: \\'main\\', emphasized: true, name: \\'ownerPostListing\\' })\">Hirdet\\xc3\\xa9s felad\\xc3\\xa1sa</a>\\n\\n        <a class=\"text-white text-decoration-none fs-9\" href=\"https://info.ingatlan.com/aszf\" onclick=\"window.icomEvents.footerItemClickEvent({ discriminator: \\'colophon\\', name: \\'toc\\' })\">\\xc3\\x81ltal\\xc3\\xa1nos Szerz\\xc5\\x91d\\xc3\\xa9si felt\\xc3\\xa9telek</a>\\n        <a class=\"my-1 text-white text-decoration-none fs-9\" href=\"https://info.ingatlan.com/adatvedelem\" onclick=\"window.icomEvents.footerItemClickEvent({ discriminator: \\'colophon\\', name: \\'privacy\\' })\">Adatv\\xc3\\xa9delmi Szab\\xc3\\xa1lyzat</a>\\n        <a class=\"text-white text-decoration-none fs-9\" href=\"https://info.ingatlan.com/dsa\" onclick=\"window.icomEvents.footerItemClickEvent({ discriminator: \\'colophon\\', name: \\'dsa\\' })\">DSA</a>\\n        <a class=\"my-1 text-white text-decoration-none fs-9\" href=\"https://info.ingatlan.com/\" onclick=\"window.icomEvents.footerItemClickEvent({ discriminator: \\'colophon\\', name: \\'impressum\\' })\">Impresszum</a>\\n        <a role=\"button\" class=\"update-cookie-consent-button text-white text-decoration-none fs-9\">S\\xc3\\xbctik kezel\\xc3\\xa9se</a>\\n        <a class=\"my-1 text-white text-decoration-none fs-9\" href=\"https://money.hu\" onclick=\"window.icomEvents.footerItemClickEvent({ discriminator: \\'colophon\\', name: \\'money\\' })\">money.hu</a>\\n        <a class=\"text-white text-decoration-none fs-9\" href=\"https://kocsi.hu\" onclick=\"window.icomEvents.footerItemClickEvent({ discriminator: \\'colophon\\', name: \\'kocsi\\' })\">kocsi.hu</a>\\n\\n        <div class=\"d-flex justify-content-center my-3\">\\n            <a class=\"text-tomato text-decoration-none fs-9\" href=\"https://ingatlan.com/33441333\" onclick=\"window.icomEvents.footerItemClickEvent({ discriminator: \\'colophon\\', name: \\'languageSelector\\', locale: \\'hu\\' })\">Magyar</a>\\n            <a class=\"text-midnight text-decoration-none mx-3 fs-9\" href=\"https://realestatehungary.hu/33441333\" onclick=\"window.icomEvents.footerItemClickEvent({ discriminator: \\'colophon\\', name: \\'languageSelector\\', locale: \\'en\\' })\">English</a>\\n                            <a class=\"text-midnight text-decoration-none fs-9\" href=\"https://immobilienungarn.net/33441333\" onclick=\"window.icomEvents.footerItemClickEvent({ discriminator: \\'colophon\\', name: \\'languageSelector\\', locale: \\'de\\' })\">Deutsch</a>\\n                    </div>\\n\\n        <span class=\"text-white fs-9\">\\xc2\\xa9 ingatlan.com - 1999 - 2023</span>\\n    </div>\\n    <div class=\"bg-midnight d-none d-lg-block\">\\n        <div class=\"container-xl\">\\n            <div class=\"row gx-5\">\\n                <div class=\"col d-flex flex-column my-4\">\\n                    <span class=\"text-tomato fw-bold mb-3 fs-7\">Mag\\xc3\\xa1nszem\\xc3\\xa9lyeknek</span>\\n                    <a class=\"text-white text-underline-hover text-uppercase fw-bold mb-3 fs-7\" href=\"https://hirdetesfeladas.ingatlan.com/hirdetesfeladas\" onclick=\"window.icomEvents.footerItemClickEvent({ discriminator: \\'main\\', emphasized: true, name: \\'ownerPostListing\\' })\">Hirdet\\xc3\\xa9s felad\\xc3\\xa1sa</a>\\n                    <a class=\"text-white text-underline-hover fs-9\" href=\"https://hirdetesfeladas.ingatlan.com/szolgaltatasaink-maganhirdetoknek/\" onclick=\"window.icomEvents.footerItemClickEvent({ discriminator: \\'main\\', emphasized: false, name: \\'ownerServices\\' })\">\\xc3\\x81rak \\xc3\\xa9s hirdet\\xc3\\xa9si lehet\\xc5\\x91s\\xc3\\xa9gek</a>\\n                    <a class=\"text-white text-underline-hover fs-9\" href=\"https://info.ingatlan.com/magan/fizetesi-lehetosegek\" onclick=\"window.icomEvents.footerItemClickEvent({ discriminator: \\'main\\', emphasized: false, name: \\'ownerPaymentOptions\\' })\">Fizet\\xc3\\xa9si lehet\\xc5\\x91s\\xc3\\xa9gek</a>\\n                    <a class=\"text-white text-underline-hover fs-9\" href=\"https://hirdetesfeladas.ingatlan.com/hirdetotabla\" onclick=\"window.icomEvents.footerItemClickEvent({ discriminator: \\'main\\', emphasized: false, name: \\'signBoard\\' })\">Hirdet\\xc5\\x91t\\xc3\\xa1bla</a>\\n                </div>\\n                <div class=\"col d-flex flex-column my-4\">\\n                    <span class=\"text-tomato fw-bold mb-3 fs-7\">&nbsp</span>\\n                    <a class=\"text-white text-underline-hover text-uppercase fw-bold mb-3 fs-7\" href=\"https://partner.ingatlan.com\" onclick=\"window.icomEvents.pppClickEvent(\\'footer\\')\">Ingatlanoskeres\\xc5\\x91</a>\\n                    <a class=\"text-white text-underline-hover fs-9\" href=\"https://money.hu/lakashitel/hasznalt-lakasra?utm_source=icom&utm_medium=link&utm_campaign=footer&ref=wZrcdFD8HV\" onclick=\"window.icomEvents.footerItemClickEvent({ discriminator: \\'main\\', emphasized: false, name: \\'mortgageCalculator\\' })\">Lak\\xc3\\xa1shitel-kalkul\\xc3\\xa1tor</a>\\n                    <a class=\"text-white text-underline-hover fs-9\" href=\"https://energiatanusitvany.ingatlan.com\" onclick=\"window.icomEvents.footerItemClickEvent({ discriminator: \\'main\\', emphasized: false, name: \\'energyPerformanceCertificate\\' })\">Energiatan\\xc3\\xbas\\xc3\\xadtv\\xc3\\xa1ny</a>\\n                    <a class=\"text-white text-underline-hover fs-9 mt-4\" href=\"https://alaprajz.ingatlan.com\" target=\"_blank\" onclick=\"window.icomEvents.footerItemClickEvent({ discriminator: \\'main\\', emphasized: false, name: \\'floorPlanner\\' })\">Alaprajztervez\\xc5\\x91</a>\\n                </div>\\n                <div class=\"col d-flex flex-column my-4\">\\n                    <span class=\"text-tomato fw-bold mb-3 fs-7\">K\\xc3\\xb6zvet\\xc3\\xadt\\xc5\\x91knek</span>\\n                    <a class=\"text-white text-underline-hover text-uppercase fw-bold mb-3 fs-7\" href=\"https://admin.ingatlan.com/belepes\" onclick=\"window.icomEvents.footerItemClickEvent({ discriminator: \\'main\\', emphasized: true, name: \\'agenciesLogin\\' })\">Bel\\xc3\\xa9p\\xc3\\xa9s k\\xc3\\xb6zvet\\xc3\\xadt\\xc5\\x91knek</a>\\n                    <a class=\"text-white text-underline-hover fs-9\" href=\"https://info.ingatlan.com/office\" onclick=\"window.icomEvents.footerItemClickEvent({ discriminator: \\'main\\', emphasized: false, name: \\'agenciesServices\\' })\">\\xc3\\x81rak \\xc3\\xa9s hirdet\\xc3\\xa9si lehet\\xc5\\x91s\\xc3\\xa9gek</a>\\n                    <a class=\"text-white text-underline-hover fs-9\" href=\"https://info.ingatlan.com/fizetesi-lehetosegek-irodaknak\" onclick=\"window.icomEvents.footerItemClickEvent({ discriminator: \\'main\\', emphasized: false, name: \\'agenciesPaymentOptions\\' })\">Fizet\\xc3\\xa9si lehet\\xc5\\x91s\\xc3\\xa9gek</a>\\n                    <a class=\"text-white text-underline-hover fs-9\" href=\"https://admin.ingatlan.com/kapcsolatfelvetel\" onclick=\"window.icomEvents.footerItemClickEvent({ discriminator: \\'main\\', emphasized: false, name: \\'agenciesRegistration\\' })\">Regisztr\\xc3\\xa1ci\\xc3\\xb3 k\\xc3\\xb6zvet\\xc3\\xadt\\xc5\\x91knek</a>\\n                    <a class=\"text-white text-underline-hover fs-9 mt-3\" href=\"https://adat.ingatlan.com\" onclick=\"window.icomEvents.footerItemClickEvent({ discriminator: \\'main\\', emphasized: false, name: \\'realEstateMarketData\\' })\">Ingatlanpiaci adatok</a>\\n                </div>\\n                <div class=\"col d-flex flex-column my-4\">\\n                    <span class=\"text-tomato fw-bold mb-3 fs-7\">Csapatunk</span>\\n                    <a class=\"text-white text-underline-hover text-uppercase fw-bold mb-3 fs-7\" href=\"https://csapatunk.ingatlan.com/\" onclick=\"window.icomEvents.footerItemClickEvent({ discriminator: \\'main\\', emphasized: true, name: \\'teamHistory\\' })\">R\\xc3\\xb3lunk</a>\\n                    <a class=\"text-white text-underline-hover fs-9\" href=\"https://csapatunk.ingatlan.com/#kikvagyunk\" onclick=\"window.icomEvents.footerItemClickEvent({ discriminator: \\'main\\', emphasized: false, name: \\'teamAboutUs\\' })\">Kik vagyunk</a>\\n                    <a class=\"text-white text-underline-hover fs-9\" href=\"https://csapatunk.ingatlan.com/allas\" onclick=\"window.icomEvents.footerItemClickEvent({ discriminator: \\'main\\', emphasized: false, name: \\'teamJobs\\' })\">\\xc3\\x81ll\\xc3\\xa1sok</a>\\n                </div>\\n                <div class=\"col d-flex flex-column my-4\">\\n                    <span class=\"text-tomato fw-bold mb-3 fs-7\">Kapcsolat</span>\\n                    <a class=\"text-white text-underline-hover text-uppercase fw-bold fs-7\" href=\"tel:+3612372065\" onclick=\"window.icomEvents.footerItemClickEvent({ discriminator: \\'main\\', emphasized: false, name: \\'contactPhone\\' })\">+36 1 237 2065</a>\\n                    <a class=\"text-white text-underline-hover fs-9\" href=\"mailto:segitunk@ingatlan.com\" onclick=\"window.icomEvents.footerItemClickEvent({ discriminator: \\'main\\', emphasized: false, name: \\'contactEmail\\' })\">segitunk@ingatlan.com</a>\\n                    <span class=\"text-white mb-3 fs-9\">munkanapokon 10:00-17:00-ig</span>\\n                    <a class=\"text-white text-underline-hover fs-9\" href=\"https://info.ingatlan.com/kapcsolat\" onclick=\"window.icomEvents.footerItemClickEvent({ discriminator: \\'main\\', emphasized: false, name: \\'contactData\\' })\">\\xc3\\x96sszes el\\xc3\\xa9rhet\\xc5\\x91s\\xc3\\xa9g\\xc3\\xbcnk</a>\\n                    <a class=\"text-white text-underline-hover fs-9\" href=\"https://sales.ingatlan.com\" onclick=\"window.icomEvents.footerItemClickEvent({ discriminator: \\'main\\', emphasized: false, name: \\'contactSales\\' })\">M\\xc3\\xa9diaaj\\xc3\\xa1nlat</a>\\n                </div>\\n            </div>\\n        </div>\\n    </div>\\n</footer>\\n        <div class=\"container-xl bg-concrete d-lg-flex justify-content-between p-3 d-none\">\\n    <div>\\n        <span class=\"text-midnight me-3 fs-9\">\\xc2\\xa9 ingatlan.com - 1999 - 2023</span>\\n        <a class=\"text-midnight text-underline-hover me-3 fs-9\" href=\"https://info.ingatlan.com/aszf\" onclick=\"window.icomEvents.footerItemClickEvent({ discriminator: \\'colophon\\', name: \\'toc\\' })\">\\xc3\\x81ltal\\xc3\\xa1nos Szerz\\xc5\\x91d\\xc3\\xa9si felt\\xc3\\xa9telek</a>\\n        <a class=\"text-midnight text-underline-hover me-3 fs-9\" href=\"https://info.ingatlan.com/adatvedelem\" onclick=\"window.icomEvents.footerItemClickEvent({ discriminator: \\'colophon\\', name: \\'privacy\\' })\">Adatv\\xc3\\xa9delmi Szab\\xc3\\xa1lyzat</a>\\n        <a class=\"text-midnight text-underline-hover me-3 fs-9\" href=\"https://info.ingatlan.com/dsa\" onclick=\"window.icomEvents.footerItemClickEvent({ discriminator: \\'colophon\\', name: \\'dsa\\' })\">DSA</a>\\n        <a class=\"text-midnight text-underline-hover me-3 fs-9\" href=\"https://info.ingatlan.com/\" onclick=\"window.icomEvents.footerItemClickEvent({ discriminator: \\'colophon\\', name: \\'impressum\\' })\">Impresszum</a>\\n        <a role=\"button\" class=\"update-cookie-consent-button text-midnight text-underline-hover me-3 fs-9\">S\\xc3\\xbctik kezel\\xc3\\xa9se</a>\\n        <a class=\"text-midnight text-underline-hover me-3 fs-9\" href=\"https://www.facebook.com/ingatlancom\" onclick=\"window.icomEvents.footerItemClickEvent({ discriminator: \\'colophon\\', name: \\'facebook\\' })\">Facebook</a>\\n        <a class=\"text-midnight text-underline-hover me-3 fs-9\" href=\"https://money.hu\" onclick=\"window.icomEvents.footerItemClickEvent({ discriminator: \\'colophon\\', name: \\'money\\' })\">money.hu</a>\\n        <a class=\"text-midnight text-underline-hover fs-9\" href=\"https://kocsi.hu\" onclick=\"window.icomEvents.footerItemClickEvent({ discriminator: \\'colophon\\', name: \\'kocsi\\' })\">kocsi.hu</a>\\n    </div>\\n    <div>\\n        <a class=\"text-tomato text-underline-hover me-3 fs-9\" href=\"https://ingatlan.com/33441333\" onclick=\"window.icomEvents.footerItemClickEvent({ discriminator: \\'colophon\\', name: \\'languageSelector\\', locale: \\'hu\\' })\">Magyar</a>\\n        <a class=\"text-midnight text-underline-hover me-3 fs-9\" href=\"https://realestatehungary.hu/33441333\" onclick=\"window.icomEvents.footerItemClickEvent({ discriminator: \\'colophon\\', name: \\'languageSelector\\', locale: \\'en\\' })\">English</a>\\n                    <a class=\"text-midnight text-underline-hover fs-9\" href=\"https://immobilienungarn.net/33441333\" onclick=\"window.icomEvents.footerItemClickEvent({ discriminator: \\'colophon\\', name: \\'languageSelector\\', locale: \\'de\\' })\">Deutsch</a>\\n            </div>\\n</div>\\n    \\n\\n            <div class=\"pb-5 pb-lg-0\"></div>\\n    \\n        \\n            <script src=\"https://ingatlan.com/build/9200.729072f1.js\" defer></script><script src=\"https://ingatlan.com/build/5666.27ae89f7.js\" defer></script><script src=\"https://ingatlan.com/build/7679.2aa86f46.js\" defer></script><script src=\"https://ingatlan.com/build/7955.3fd6dd69.js\" defer></script><script src=\"https://ingatlan.com/build/2998.678aa89f.js\" defer></script><script src=\"https://ingatlan.com/build/1937.ea183d59.js\" defer></script><script src=\"https://ingatlan.com/build/5465.85c4e201.js\" defer></script><script src=\"https://ingatlan.com/build/8657.4beb9097.js\" defer></script><script src=\"https://ingatlan.com/build/app.3b46bc80.js\" defer></script>\\n        <script src=\"https://ingatlan.com/build/63.89498363.js\" defer></script><script src=\"https://ingatlan.com/build/common.46b6675b.js\" defer></script>\\n        <script src=\"//www.google.com/recaptcha/api.js?hl=hu&render=explicit\"></script>\\n        <!-- Google Tag Manager -->\\n                    <script data-cookieconsent=\"ignore\">\\n                (function(w,d,s,l,i){w[l]=w[l]||[];w[l].push({\\'gtm.start\\':new Date().getTime(),event:\\'gtm.js\\'});var f=d.getElementsByTagName(s)[0],j=d.createElement(s),dl=l!=\\'dataLayer\\'?\\'&l=\\'+l:\\'\\';j.async=true;j.src=\\'//www.googletagmanager.com/gtm.js?id=\\'+i+dl;f.parentNode.insertBefore(j,f);})(window,document,\\'script\\',\\'dataLayer\\',\\'GTM-LSRG\\');\\n            </script>\\n                <!-- End Google Tag Manager -->\\n    \\n    <script src=\"https://ingatlan.com/build/details.74d1636e.js\" defer></script>\\n    <script src=\"https://ingatlan.com/build/recommendation.163f97c3.js\" defer></script>\\n    <script src=\"https://ingatlan.com/build/140.7398d74c.js\" defer></script><script src=\"https://ingatlan.com/build/details-phone.22b5e775.js\" defer></script>\\n\\n    <script src=\"//gahu.hit.gemius.pl/xgemius.js\" type=\"text/plain\" data-cookieconsent=\"statistics\"></script>\\n    <script src=\"//indexhu.adocean.pl/files/js/ado.js\" type=\"text/plain\" data-cookieconsent=\"marketing\"></script>\\n    <script type=\"text/plain\" data-cookieconsent=\"marketing\">\\n      /* (c)AdOcean 2003-2022 */\\n      if (typeof ado !== \\'object\\') {\\n        ado = {};\\n        ado.config = ado.preview = ado.placement = ado.master = ado.slave = function(){};\\n      }\\n      ado.config({ mode: \\'new\\', xml: false, consent: true, characterEncoding: true, attachReferrer: true, fpc: \\'auto\\', defaultServer: \\'indexhu.adocean.pl\\' ,cookieDomain: \\'SLD\\' });\\n      ado.preview({ enabled: true });\\n    </script>\\n                        <script src=\"https://ingatlan.com/build/google-one-tap.4528986a.js\" defer></script>\\n                </body>\\n</html>\\n'"
      ]
     },
     "execution_count": 15,
     "metadata": {},
     "output_type": "execute_result"
    }
   ],
   "source": [
    "pcev.content"
   ]
  },
  {
   "cell_type": "code",
   "execution_count": 3,
   "id": "2c75cfc0",
   "metadata": {
    "ExecuteTime": {
     "end_time": "2023-03-10T10:03:29.350818Z",
     "start_time": "2023-03-10T10:03:29.223232Z"
    },
    "scrolled": true
   },
   "outputs": [
    {
     "name": "stdout",
     "output_type": "stream",
     "text": [
      "2023-03-10 11:03:29 [info     ] running function reset_surls   batch=prep\n",
      "2023-03-10 11:03:29 [info     ] function reset_surls returned None batch=prep\n",
      "2023-03-10 11:03:29 [info     ] running function _create_scheduler batch=prep\n",
      "2023-03-10 11:03:29 [info     ] function _create_scheduler returned None batch=prep\n",
      "2023-03-10 11:03:29 [info     ] running function join          batch=cleanup\n",
      "2023-03-10 11:03:29 [info     ] function join returned []      batch=cleanup\n"
     ]
    }
   ],
   "source": [
    "from monitor import project\n"
   ]
  },
  {
   "cell_type": "code",
   "execution_count": 14,
   "id": "b7910000",
   "metadata": {},
   "outputs": [
    {
     "name": "stdout",
     "output_type": "stream",
     "text": [
      "2022-12-01 22:26.59 [info     ]  monitor app at: http://localhost:6969\n"
     ]
    }
   ],
   "source": [
    "project.start_monitor_process()\n"
   ]
  },
  {
   "cell_type": "code",
   "execution_count": 4,
   "id": "88d21cdf",
   "metadata": {
    "ExecuteTime": {
     "end_time": "2023-03-10T10:03:43.014459Z",
     "start_time": "2023-03-10T10:03:43.011878Z"
    }
   },
   "outputs": [],
   "source": [
    "runs = project.depot.get_all_run_ids()\n"
   ]
  },
  {
   "cell_type": "code",
   "execution_count": 5,
   "id": "48f2c73a",
   "metadata": {
    "ExecuteTime": {
     "end_time": "2023-03-10T10:03:48.507737Z",
     "start_time": "2023-03-10T10:03:48.499583Z"
    }
   },
   "outputs": [
    {
     "data": {
      "text/plain": [
       "{'1677547518.238915-dbf1d4ff0ca1d2cbc41d',\n",
       " '1677634879.0912476-2d1363a9959a2fb30709',\n",
       " '1677721117.6978493-cf0127a907eab2dbf669',\n",
       " '1677813665.0186493-9c28e373d3764ec455df',\n",
       " '1677893036.56738-86e7663ca7134139ba07',\n",
       " '1677980702.7469556-07db93dd1358ac288556',\n",
       " '1678065987.9540503-a453360958a843ddc67e',\n",
       " '1678153190.9027052-c5149be5eca9914fbff6',\n",
       " '1678239438.9047127-53998b47696178abffe6',\n",
       " '1678325889.2494328-e0c8a49800ffbdc4f26e'}"
      ]
     },
     "execution_count": 5,
     "metadata": {},
     "output_type": "execute_result"
    }
   ],
   "source": [
    "runs"
   ]
  },
  {
   "cell_type": "code",
   "execution_count": 9,
   "id": "4a262496",
   "metadata": {
    "ExecuteTime": {
     "end_time": "2022-11-25T10:32:45.913664Z",
     "start_time": "2022-11-25T10:32:45.910699Z"
    }
   },
   "outputs": [],
   "source": [
    "import pandas as pd\n"
   ]
  },
  {
   "cell_type": "code",
   "execution_count": 10,
   "id": "aba01a81",
   "metadata": {
    "ExecuteTime": {
     "end_time": "2022-11-25T10:36:39.111809Z",
     "start_time": "2022-11-25T10:36:39.085421Z"
    }
   },
   "outputs": [
    {
     "data": {
      "text/html": [
       "<div>\n",
       "<style scoped>\n",
       "    .dataframe tbody tr th:only-of-type {\n",
       "        vertical-align: middle;\n",
       "    }\n",
       "\n",
       "    .dataframe tbody tr th {\n",
       "        vertical-align: top;\n",
       "    }\n",
       "\n",
       "    .dataframe thead th {\n",
       "        text-align: right;\n",
       "    }\n",
       "</style>\n",
       "<table border=\"1\" class=\"dataframe\">\n",
       "  <thead>\n",
       "    <tr style=\"text-align: right;\">\n",
       "      <th></th>\n",
       "      <th>0</th>\n",
       "      <th>1</th>\n",
       "      <th>time</th>\n",
       "    </tr>\n",
       "  </thead>\n",
       "  <tbody>\n",
       "    <tr>\n",
       "      <th>17</th>\n",
       "      <td>1667644565.8186398</td>\n",
       "      <td>13d85a2b9ab2ea7407ed</td>\n",
       "      <td>2022-11-05 10:36:05.818639872</td>\n",
       "    </tr>\n",
       "    <tr>\n",
       "      <th>1</th>\n",
       "      <td>1667646736.643094</td>\n",
       "      <td>39114ff069d6becc642f</td>\n",
       "      <td>2022-11-05 11:12:16.643094016</td>\n",
       "    </tr>\n",
       "    <tr>\n",
       "      <th>26</th>\n",
       "      <td>1667646881.047009</td>\n",
       "      <td>be33030b24259a9be3b4</td>\n",
       "      <td>2022-11-05 11:14:41.047009024</td>\n",
       "    </tr>\n",
       "    <tr>\n",
       "      <th>39</th>\n",
       "      <td>1667646998.5112228</td>\n",
       "      <td>7444f5f21ddd60b15d4b</td>\n",
       "      <td>2022-11-05 11:16:38.511222784</td>\n",
       "    </tr>\n",
       "    <tr>\n",
       "      <th>19</th>\n",
       "      <td>1667647127.543495</td>\n",
       "      <td>bd37b422c15ab8d66138</td>\n",
       "      <td>2022-11-05 11:18:47.543494912</td>\n",
       "    </tr>\n",
       "    <tr>\n",
       "      <th>23</th>\n",
       "      <td>1667647660.2320185</td>\n",
       "      <td>a335db514ad696c3f716</td>\n",
       "      <td>2022-11-05 11:27:40.232018432</td>\n",
       "    </tr>\n",
       "    <tr>\n",
       "      <th>12</th>\n",
       "      <td>1667647981.1522987</td>\n",
       "      <td>3d3a5c5ec6897793bc48</td>\n",
       "      <td>2022-11-05 11:33:01.152298752</td>\n",
       "    </tr>\n",
       "    <tr>\n",
       "      <th>42</th>\n",
       "      <td>1667648887.6197555</td>\n",
       "      <td>70ef02dcc28b167445c3</td>\n",
       "      <td>2022-11-05 11:48:07.619755520</td>\n",
       "    </tr>\n",
       "    <tr>\n",
       "      <th>6</th>\n",
       "      <td>1667649117.2517085</td>\n",
       "      <td>e6d1c31165b1f550fc12</td>\n",
       "      <td>2022-11-05 11:51:57.251708416</td>\n",
       "    </tr>\n",
       "    <tr>\n",
       "      <th>8</th>\n",
       "      <td>1667650217.5889032</td>\n",
       "      <td>8f28dc9a795fd41c7991</td>\n",
       "      <td>2022-11-05 12:10:17.588903168</td>\n",
       "    </tr>\n",
       "    <tr>\n",
       "      <th>20</th>\n",
       "      <td>1667652429.953522</td>\n",
       "      <td>7ce0b76e0b9b6fee14eb</td>\n",
       "      <td>2022-11-05 12:47:09.953521920</td>\n",
       "    </tr>\n",
       "    <tr>\n",
       "      <th>38</th>\n",
       "      <td>1667669622.5403297</td>\n",
       "      <td>c9cfa82ed58e5a482c80</td>\n",
       "      <td>2022-11-05 17:33:42.540329728</td>\n",
       "    </tr>\n",
       "    <tr>\n",
       "      <th>32</th>\n",
       "      <td>1667836552.2635894</td>\n",
       "      <td>7f0f473b05b6cdbf4214</td>\n",
       "      <td>2022-11-07 15:55:52.263589376</td>\n",
       "    </tr>\n",
       "    <tr>\n",
       "      <th>27</th>\n",
       "      <td>1667848810.879155</td>\n",
       "      <td>a3bb2a8c96200d1bc92b</td>\n",
       "      <td>2022-11-07 19:20:10.879154944</td>\n",
       "    </tr>\n",
       "    <tr>\n",
       "      <th>2</th>\n",
       "      <td>1667848958.0971305</td>\n",
       "      <td>4c8d77f8cab0faff3c3b</td>\n",
       "      <td>2022-11-07 19:22:38.097130496</td>\n",
       "    </tr>\n",
       "    <tr>\n",
       "      <th>37</th>\n",
       "      <td>1667850203.6155157</td>\n",
       "      <td>aa40bd409f901f7042ad</td>\n",
       "      <td>2022-11-07 19:43:23.615515648</td>\n",
       "    </tr>\n",
       "    <tr>\n",
       "      <th>5</th>\n",
       "      <td>1667850499.6282167</td>\n",
       "      <td>b9d86518deac20073969</td>\n",
       "      <td>2022-11-07 19:48:19.628216832</td>\n",
       "    </tr>\n",
       "    <tr>\n",
       "      <th>29</th>\n",
       "      <td>1667850923.4808404</td>\n",
       "      <td>9ed09a0eea9eb7fa1dce</td>\n",
       "      <td>2022-11-07 19:55:23.480840448</td>\n",
       "    </tr>\n",
       "    <tr>\n",
       "      <th>31</th>\n",
       "      <td>1667851287.7058449</td>\n",
       "      <td>bad038945c5495706da7</td>\n",
       "      <td>2022-11-07 20:01:27.705844992</td>\n",
       "    </tr>\n",
       "    <tr>\n",
       "      <th>41</th>\n",
       "      <td>1667851447.4992373</td>\n",
       "      <td>dc1e6521f38111e6f3db</td>\n",
       "      <td>2022-11-07 20:04:07.499237376</td>\n",
       "    </tr>\n",
       "    <tr>\n",
       "      <th>22</th>\n",
       "      <td>1668010087.4875753</td>\n",
       "      <td>ffdd1a76e84423528971</td>\n",
       "      <td>2022-11-09 16:08:07.487575296</td>\n",
       "    </tr>\n",
       "    <tr>\n",
       "      <th>14</th>\n",
       "      <td>1668798335.2256558</td>\n",
       "      <td>fa4f0d55f3bb6dc8dc3a</td>\n",
       "      <td>2022-11-18 19:05:35.225655808</td>\n",
       "    </tr>\n",
       "    <tr>\n",
       "      <th>21</th>\n",
       "      <td>1668800470.5420926</td>\n",
       "      <td>b2b6846bc596e0286d09</td>\n",
       "      <td>2022-11-18 19:41:10.542092544</td>\n",
       "    </tr>\n",
       "    <tr>\n",
       "      <th>25</th>\n",
       "      <td>1668800832.0770245</td>\n",
       "      <td>9aa4f33b843d9fdadb39</td>\n",
       "      <td>2022-11-18 19:47:12.077024512</td>\n",
       "    </tr>\n",
       "    <tr>\n",
       "      <th>33</th>\n",
       "      <td>1668801257.2906024</td>\n",
       "      <td>86e2890c930f39ce9c65</td>\n",
       "      <td>2022-11-18 19:54:17.290602496</td>\n",
       "    </tr>\n",
       "    <tr>\n",
       "      <th>40</th>\n",
       "      <td>1668801648.4008794</td>\n",
       "      <td>6e253a74c2bc5364631f</td>\n",
       "      <td>2022-11-18 20:00:48.400879360</td>\n",
       "    </tr>\n",
       "    <tr>\n",
       "      <th>36</th>\n",
       "      <td>1668801787.5513098</td>\n",
       "      <td>07bc7d10743b082c1a56</td>\n",
       "      <td>2022-11-18 20:03:07.551309824</td>\n",
       "    </tr>\n",
       "    <tr>\n",
       "      <th>18</th>\n",
       "      <td>1668802376.1379924</td>\n",
       "      <td>36e4b45854129123e93d</td>\n",
       "      <td>2022-11-18 20:12:56.137992448</td>\n",
       "    </tr>\n",
       "    <tr>\n",
       "      <th>0</th>\n",
       "      <td>1668812981.185601</td>\n",
       "      <td>bd0ba0b10fd6aff4194d</td>\n",
       "      <td>2022-11-18 23:09:41.185601024</td>\n",
       "    </tr>\n",
       "    <tr>\n",
       "      <th>28</th>\n",
       "      <td>1668884062.7046916</td>\n",
       "      <td>4dde23767b0ff8616184</td>\n",
       "      <td>2022-11-19 18:54:22.704691712</td>\n",
       "    </tr>\n",
       "    <tr>\n",
       "      <th>10</th>\n",
       "      <td>1668885044.1903162</td>\n",
       "      <td>79b2ccb0787012df7606</td>\n",
       "      <td>2022-11-19 19:10:44.190316288</td>\n",
       "    </tr>\n",
       "    <tr>\n",
       "      <th>11</th>\n",
       "      <td>1668885231.8741086</td>\n",
       "      <td>0c591fbb5fa1cc59bd4f</td>\n",
       "      <td>2022-11-19 19:13:51.874108672</td>\n",
       "    </tr>\n",
       "    <tr>\n",
       "      <th>4</th>\n",
       "      <td>1668937533.4412477</td>\n",
       "      <td>b735520afac2db858690</td>\n",
       "      <td>2022-11-20 09:45:33.441247744</td>\n",
       "    </tr>\n",
       "    <tr>\n",
       "      <th>35</th>\n",
       "      <td>1668995232.506884</td>\n",
       "      <td>99c0bdf93011e111f63a</td>\n",
       "      <td>2022-11-21 01:47:12.506884096</td>\n",
       "    </tr>\n",
       "    <tr>\n",
       "      <th>16</th>\n",
       "      <td>1669081747.0153365</td>\n",
       "      <td>a04ca1b67bab8152cbb0</td>\n",
       "      <td>2022-11-22 01:49:07.015336448</td>\n",
       "    </tr>\n",
       "    <tr>\n",
       "      <th>7</th>\n",
       "      <td>1669167388.6489162</td>\n",
       "      <td>aecbe4de062ec136f87c</td>\n",
       "      <td>2022-11-23 01:36:28.648916224</td>\n",
       "    </tr>\n",
       "    <tr>\n",
       "      <th>34</th>\n",
       "      <td>1669254072.871513</td>\n",
       "      <td>8397146a243eede0be9d</td>\n",
       "      <td>2022-11-24 01:41:12.871512832</td>\n",
       "    </tr>\n",
       "    <tr>\n",
       "      <th>43</th>\n",
       "      <td>1669340241.61963</td>\n",
       "      <td>1705417be6a7407807cc</td>\n",
       "      <td>2022-11-25 01:37:21.619630080</td>\n",
       "    </tr>\n",
       "    <tr>\n",
       "      <th>30</th>\n",
       "      <td>1669425937.94845</td>\n",
       "      <td>c787acdbf6f56eafd1d7</td>\n",
       "      <td>2022-11-26 01:25:37.948450048</td>\n",
       "    </tr>\n",
       "    <tr>\n",
       "      <th>13</th>\n",
       "      <td>1669513337.0492516</td>\n",
       "      <td>45b768e6b3d8ab81c4c4</td>\n",
       "      <td>2022-11-27 01:42:17.049251584</td>\n",
       "    </tr>\n",
       "    <tr>\n",
       "      <th>3</th>\n",
       "      <td>1669598836.9571664</td>\n",
       "      <td>352478bce4e5ca9c75d4</td>\n",
       "      <td>2022-11-28 01:27:16.957166336</td>\n",
       "    </tr>\n",
       "    <tr>\n",
       "      <th>15</th>\n",
       "      <td>1669685752.642928</td>\n",
       "      <td>090f72e7982c9848c152</td>\n",
       "      <td>2022-11-29 01:35:52.642927872</td>\n",
       "    </tr>\n",
       "    <tr>\n",
       "      <th>9</th>\n",
       "      <td>1669772215.730492</td>\n",
       "      <td>abc54049a932c721a5f7</td>\n",
       "      <td>2022-11-30 01:36:55.730492160</td>\n",
       "    </tr>\n",
       "    <tr>\n",
       "      <th>24</th>\n",
       "      <td>1669859214.627012</td>\n",
       "      <td>24732b2a99411d158dbc</td>\n",
       "      <td>2022-12-01 01:46:54.627012096</td>\n",
       "    </tr>\n",
       "  </tbody>\n",
       "</table>\n",
       "</div>"
      ],
      "text/plain": [
       "                     0                     1                          time\n",
       "17  1667644565.8186398  13d85a2b9ab2ea7407ed 2022-11-05 10:36:05.818639872\n",
       "1    1667646736.643094  39114ff069d6becc642f 2022-11-05 11:12:16.643094016\n",
       "26   1667646881.047009  be33030b24259a9be3b4 2022-11-05 11:14:41.047009024\n",
       "39  1667646998.5112228  7444f5f21ddd60b15d4b 2022-11-05 11:16:38.511222784\n",
       "19   1667647127.543495  bd37b422c15ab8d66138 2022-11-05 11:18:47.543494912\n",
       "23  1667647660.2320185  a335db514ad696c3f716 2022-11-05 11:27:40.232018432\n",
       "12  1667647981.1522987  3d3a5c5ec6897793bc48 2022-11-05 11:33:01.152298752\n",
       "42  1667648887.6197555  70ef02dcc28b167445c3 2022-11-05 11:48:07.619755520\n",
       "6   1667649117.2517085  e6d1c31165b1f550fc12 2022-11-05 11:51:57.251708416\n",
       "8   1667650217.5889032  8f28dc9a795fd41c7991 2022-11-05 12:10:17.588903168\n",
       "20   1667652429.953522  7ce0b76e0b9b6fee14eb 2022-11-05 12:47:09.953521920\n",
       "38  1667669622.5403297  c9cfa82ed58e5a482c80 2022-11-05 17:33:42.540329728\n",
       "32  1667836552.2635894  7f0f473b05b6cdbf4214 2022-11-07 15:55:52.263589376\n",
       "27   1667848810.879155  a3bb2a8c96200d1bc92b 2022-11-07 19:20:10.879154944\n",
       "2   1667848958.0971305  4c8d77f8cab0faff3c3b 2022-11-07 19:22:38.097130496\n",
       "37  1667850203.6155157  aa40bd409f901f7042ad 2022-11-07 19:43:23.615515648\n",
       "5   1667850499.6282167  b9d86518deac20073969 2022-11-07 19:48:19.628216832\n",
       "29  1667850923.4808404  9ed09a0eea9eb7fa1dce 2022-11-07 19:55:23.480840448\n",
       "31  1667851287.7058449  bad038945c5495706da7 2022-11-07 20:01:27.705844992\n",
       "41  1667851447.4992373  dc1e6521f38111e6f3db 2022-11-07 20:04:07.499237376\n",
       "22  1668010087.4875753  ffdd1a76e84423528971 2022-11-09 16:08:07.487575296\n",
       "14  1668798335.2256558  fa4f0d55f3bb6dc8dc3a 2022-11-18 19:05:35.225655808\n",
       "21  1668800470.5420926  b2b6846bc596e0286d09 2022-11-18 19:41:10.542092544\n",
       "25  1668800832.0770245  9aa4f33b843d9fdadb39 2022-11-18 19:47:12.077024512\n",
       "33  1668801257.2906024  86e2890c930f39ce9c65 2022-11-18 19:54:17.290602496\n",
       "40  1668801648.4008794  6e253a74c2bc5364631f 2022-11-18 20:00:48.400879360\n",
       "36  1668801787.5513098  07bc7d10743b082c1a56 2022-11-18 20:03:07.551309824\n",
       "18  1668802376.1379924  36e4b45854129123e93d 2022-11-18 20:12:56.137992448\n",
       "0    1668812981.185601  bd0ba0b10fd6aff4194d 2022-11-18 23:09:41.185601024\n",
       "28  1668884062.7046916  4dde23767b0ff8616184 2022-11-19 18:54:22.704691712\n",
       "10  1668885044.1903162  79b2ccb0787012df7606 2022-11-19 19:10:44.190316288\n",
       "11  1668885231.8741086  0c591fbb5fa1cc59bd4f 2022-11-19 19:13:51.874108672\n",
       "4   1668937533.4412477  b735520afac2db858690 2022-11-20 09:45:33.441247744\n",
       "35   1668995232.506884  99c0bdf93011e111f63a 2022-11-21 01:47:12.506884096\n",
       "16  1669081747.0153365  a04ca1b67bab8152cbb0 2022-11-22 01:49:07.015336448\n",
       "7   1669167388.6489162  aecbe4de062ec136f87c 2022-11-23 01:36:28.648916224\n",
       "34   1669254072.871513  8397146a243eede0be9d 2022-11-24 01:41:12.871512832\n",
       "43    1669340241.61963  1705417be6a7407807cc 2022-11-25 01:37:21.619630080\n",
       "30    1669425937.94845  c787acdbf6f56eafd1d7 2022-11-26 01:25:37.948450048\n",
       "13  1669513337.0492516  45b768e6b3d8ab81c4c4 2022-11-27 01:42:17.049251584\n",
       "3   1669598836.9571664  352478bce4e5ca9c75d4 2022-11-28 01:27:16.957166336\n",
       "15   1669685752.642928  090f72e7982c9848c152 2022-11-29 01:35:52.642927872\n",
       "9    1669772215.730492  abc54049a932c721a5f7 2022-11-30 01:36:55.730492160\n",
       "24   1669859214.627012  24732b2a99411d158dbc 2022-12-01 01:46:54.627012096"
      ]
     },
     "execution_count": 10,
     "metadata": {},
     "output_type": "execute_result"
    }
   ],
   "source": [
    "pd.Series(list(runs)).str.split(\"-\").apply(pd.Series).assign(\n",
    "    time=lambda _df: pd.to_datetime(_df[0].astype(float), unit=\"s\")\n",
    ").sort_values(\"time\")\n"
   ]
  },
  {
   "cell_type": "code",
   "execution_count": 11,
   "id": "049aa580",
   "metadata": {
    "ExecuteTime": {
     "end_time": "2022-11-25T10:31:42.980158Z",
     "start_time": "2022-11-25T10:31:42.975778Z"
    }
   },
   "outputs": [
    {
     "ename": "NameError",
     "evalue": "name 'datetime' is not defined",
     "output_type": "error",
     "traceback": [
      "\u001b[0;31m---------------------------------------------------------------------------\u001b[0m",
      "\u001b[0;31mNameError\u001b[0m                                 Traceback (most recent call last)",
      "Cell \u001b[0;32mIn [11], line 1\u001b[0m\n\u001b[0;32m----> 1\u001b[0m \u001b[43mdatetime\u001b[49m\u001b[38;5;241m.\u001b[39mfromtimestamp(\u001b[38;5;241m1668937533.4412477\u001b[39m)\n",
      "\u001b[0;31mNameError\u001b[0m: name 'datetime' is not defined"
     ]
    }
   ],
   "source": [
    "datetime.fromtimestamp(1668937533.4412477)\n"
   ]
  },
  {
   "cell_type": "code",
   "execution_count": 21,
   "id": "45b498d2",
   "metadata": {
    "ExecuteTime": {
     "end_time": "2022-11-25T10:29:01.084409Z",
     "start_time": "2022-11-25T10:29:01.081372Z"
    }
   },
   "outputs": [],
   "source": [
    "from datetime import datetime\n"
   ]
  },
  {
   "cell_type": "code",
   "execution_count": 2,
   "id": "c45992f2",
   "metadata": {
    "ExecuteTime": {
     "end_time": "2023-03-10T10:03:19.854605Z",
     "start_time": "2023-03-10T10:03:19.845056Z"
    }
   },
   "outputs": [
    {
     "ename": "NameError",
     "evalue": "name 'project' is not defined",
     "output_type": "error",
     "traceback": [
      "\u001b[0;31m---------------------------------------------------------------------------\u001b[0m",
      "\u001b[0;31mNameError\u001b[0m                                 Traceback (most recent call last)",
      "\u001b[0;32m/tmp/ipykernel_2798664/1695026428.py\u001b[0m in \u001b[0;36m<module>\u001b[0;34m\u001b[0m\n\u001b[0;32m----> 1\u001b[0;31m \u001b[0mevents\u001b[0m \u001b[0;34m=\u001b[0m \u001b[0mproject\u001b[0m\u001b[0;34m.\u001b[0m\u001b[0mdepot\u001b[0m\u001b[0;34m.\u001b[0m\u001b[0mget_handler_events\u001b[0m\u001b[0;34m(\u001b[0m\u001b[0mAdHandler\u001b[0m\u001b[0;34m,\u001b[0m \u001b[0mpast_runs\u001b[0m\u001b[0;34m=\u001b[0m\u001b[0;36m1\u001b[0m\u001b[0;34m)\u001b[0m\u001b[0;34m\u001b[0m\u001b[0;34m\u001b[0m\u001b[0m\n\u001b[0m",
      "\u001b[0;31mNameError\u001b[0m: name 'project' is not defined"
     ]
    }
   ],
   "source": [
    "events = project.depot.get_handler_events(AdHandler, past_runs=1)\n"
   ]
  },
  {
   "cell_type": "code",
   "execution_count": 32,
   "id": "61f123a2",
   "metadata": {},
   "outputs": [
    {
     "data": {
      "text/plain": [
       "PosixPath('/home/psebi/aswan-depots/ingatlan/current-run/events')"
      ]
     },
     "execution_count": 32,
     "metadata": {},
     "output_type": "execute_result"
    }
   ],
   "source": [
    "project.depot.current.events\n"
   ]
  },
  {
   "cell_type": "code",
   "execution_count": 4,
   "id": "b82772ae",
   "metadata": {},
   "outputs": [
    {
     "data": {
      "text/plain": [
       "PosixPath('/home/psebi/aswan-depots/ingatlan/current-run/events/r-AdHandler-fd5e1b41e0588a7e0fb64934465cad2a')"
      ]
     },
     "execution_count": 4,
     "metadata": {},
     "output_type": "execute_result"
    }
   ],
   "source": [
    "[*project.depot.current.events.iterdir()][-10]\n"
   ]
  },
  {
   "cell_type": "code",
   "execution_count": 6,
   "id": "244334a2",
   "metadata": {},
   "outputs": [
    {
     "data": {
      "text/plain": [
       "PosixPath('/home/psebi/aswan-depots/ingatlan')"
      ]
     },
     "execution_count": 6,
     "metadata": {},
     "output_type": "execute_result"
    }
   ],
   "source": [
    "project.depot.root\n"
   ]
  },
  {
   "cell_type": "code",
   "execution_count": 2,
   "id": "5a0e293a",
   "metadata": {},
   "outputs": [
    {
     "ename": "NameError",
     "evalue": "name 'project' is not defined",
     "output_type": "error",
     "traceback": [
      "\u001b[0;31m---------------------------------------------------------------------------\u001b[0m",
      "\u001b[0;31mNameError\u001b[0m                                 Traceback (most recent call last)",
      "Cell \u001b[0;32mIn [2], line 1\u001b[0m\n\u001b[0;32m----> 1\u001b[0m \u001b[39mlen\u001b[39m([\u001b[39m*\u001b[39mproject\u001b[39m.\u001b[39mdepot\u001b[39m.\u001b[39mcurrent\u001b[39m.\u001b[39mevents\u001b[39m.\u001b[39miterdir()])\n",
      "\u001b[0;31mNameError\u001b[0m: name 'project' is not defined"
     ]
    }
   ],
   "source": [
    "len([*project.depot.current.events.iterdir()])\n"
   ]
  },
  {
   "cell_type": "code",
   "execution_count": 5,
   "id": "96fd03de",
   "metadata": {},
   "outputs": [
    {
     "data": {
      "text/plain": [
       "124187"
      ]
     },
     "execution_count": 5,
     "metadata": {},
     "output_type": "execute_result"
    },
    {
     "ename": "",
     "evalue": "",
     "output_type": "error",
     "traceback": [
      "\u001b[1;31mThe Kernel crashed while executing code in the the current cell or a previous cell. Please review the code in the cell(s) to identify a possible cause of the failure. Click <a href='https://aka.ms/vscodeJupyterKernelCrash'>here</a> for more info. View Jupyter <a href='command:jupyter.viewOutput'>log</a> for further details."
     ]
    }
   ],
   "source": [
    "len([*project.depot.current.events.iterdir()])\n"
   ]
  },
  {
   "cell_type": "code",
   "execution_count": 36,
   "id": "d1f74b9f",
   "metadata": {
    "ExecuteTime": {
     "end_time": "2022-11-25T10:27:31.270861Z",
     "start_time": "2022-11-25T10:27:21.509121Z"
    }
   },
   "outputs": [
    {
     "data": {
      "text/plain": [
       "96540"
      ]
     },
     "execution_count": 36,
     "metadata": {},
     "output_type": "execute_result"
    }
   ],
   "source": [
    "len([*project.depot.current.events.iterdir()])\n"
   ]
  },
  {
   "cell_type": "code",
   "execution_count": 18,
   "id": "999e0d41",
   "metadata": {
    "ExecuteTime": {
     "end_time": "2022-11-20T11:19:27.024166Z",
     "start_time": "2022-11-20T11:19:27.021643Z"
    }
   },
   "outputs": [],
   "source": [
    "from bs4 import BeautifulSoup\n"
   ]
  },
  {
   "cell_type": "code",
   "execution_count": 23,
   "id": "d62c0b9b",
   "metadata": {
    "ExecuteTime": {
     "end_time": "2022-11-20T11:19:54.034573Z",
     "start_time": "2022-11-20T11:19:54.030737Z"
    }
   },
   "outputs": [
    {
     "data": {
      "text/plain": [
       "----\n",
       "2022-11-20T11:22:44\n",
       "D\n",
       "https://ingatlan.com/lista/kiado+lakas?page=168\n",
       "ListingHandler\n",
       "----"
      ]
     },
     "execution_count": 23,
     "metadata": {},
     "output_type": "execute_result"
    }
   ],
   "source": [
    "event.cev\n"
   ]
  },
  {
   "cell_type": "code",
   "execution_count": 21,
   "id": "d785b27c",
   "metadata": {
    "ExecuteTime": {
     "end_time": "2022-11-20T11:19:44.408309Z",
     "start_time": "2022-11-20T11:19:43.843401Z"
    }
   },
   "outputs": [],
   "source": [
    "soup = BeautifulSoup(event.content, \"html5lib\")\n"
   ]
  },
  {
   "cell_type": "code",
   "execution_count": 68,
   "id": "cedcd9be",
   "metadata": {
    "ExecuteTime": {
     "end_time": "2022-11-20T11:38:48.816458Z",
     "start_time": "2022-11-20T11:38:48.742486Z"
    }
   },
   "outputs": [
    {
     "data": {
      "text/plain": [
       "[{'property_id': '33257299',\n",
       "  'photo_count': '13',\n",
       "  'price': '240 000 Ft/hó',\n",
       "  'address': 'Széna tér, I. kerület',\n",
       "  'area_size': '60 m² terület',\n",
       "  'room_count': '1 + 2 fél szoba',\n",
       "  'balcony_size': None},\n",
       " {'property_id': '33255770',\n",
       "  'photo_count': '8',\n",
       "  'price': '100 000 Ft/hó',\n",
       "  'address': 'Kecskemét, Széchenyiváros',\n",
       "  'area_size': '60 m² terület',\n",
       "  'room_count': '2 szoba',\n",
       "  'balcony_size': None},\n",
       " {'property_id': '33251740',\n",
       "  'photo_count': '5',\n",
       "  'price': '160 000 Ft/hó',\n",
       "  'address': 'Böszörményi út, Debrecen',\n",
       "  'area_size': '45 m² terület',\n",
       "  'room_count': '1 + 1 fél szoba',\n",
       "  'balcony_size': None},\n",
       " {'property_id': '33258956',\n",
       "  'photo_count': '8',\n",
       "  'price': '350 000 Ft/hó',\n",
       "  'address': 'Farkastorki út, III. kerület',\n",
       "  'area_size': '67 m² terület',\n",
       "  'room_count': '1 + 2 fél szoba',\n",
       "  'balcony_size': '17 m² erkély'},\n",
       " {'property_id': '33256096',\n",
       "  'photo_count': '12',\n",
       "  'price': '205 250 Ft/hó',\n",
       "  'address': 'Belváros, V. kerület',\n",
       "  'area_size': '53 m² terület',\n",
       "  'room_count': '1 szoba',\n",
       "  'balcony_size': None},\n",
       " {'property_id': '31554189',\n",
       "  'photo_count': '9',\n",
       "  'price': '140 000 Ft/hó',\n",
       "  'address': 'Fillér utca, II. kerület',\n",
       "  'area_size': '44 m² terület',\n",
       "  'room_count': '1 szoba',\n",
       "  'balcony_size': None},\n",
       " {'property_id': '33262220',\n",
       "  'photo_count': '8',\n",
       "  'price': '369 450 Ft/hó',\n",
       "  'address': 'Virányos, XII. kerület',\n",
       "  'area_size': '65 m² terület',\n",
       "  'room_count': '2 szoba',\n",
       "  'balcony_size': '7 m² erkély'},\n",
       " {'property_id': '33259539',\n",
       "  'photo_count': '7',\n",
       "  'price': '125 000 Ft/hó',\n",
       "  'address': 'Hajó utca, Debrecen',\n",
       "  'area_size': '56 m² terület',\n",
       "  'room_count': '1 + 2 fél szoba',\n",
       "  'balcony_size': '5 m² erkély'},\n",
       " {'property_id': '33258771',\n",
       "  'photo_count': '15',\n",
       "  'price': '492 600 Ft/hó',\n",
       "  'address': 'Józsefváros - Népszínháznegyed, VIII. kerület',\n",
       "  'area_size': '121 m² terület',\n",
       "  'room_count': '4 szoba',\n",
       "  'balcony_size': None},\n",
       " {'property_id': '33256368',\n",
       "  'photo_count': '17',\n",
       "  'price': '170 000 Ft/hó',\n",
       "  'address': 'Pilinszky János tér, Székesfehérvár',\n",
       "  'area_size': '49 m² terület',\n",
       "  'room_count': '2 szoba',\n",
       "  'balcony_size': None},\n",
       " {'property_id': '33251706',\n",
       "  'photo_count': '10',\n",
       "  'price': '280 000 Ft/hó',\n",
       "  'address': 'Rákóczi utca, Debrecen',\n",
       "  'area_size': '68 m² terület',\n",
       "  'room_count': '2 + 1 fél szoba',\n",
       "  'balcony_size': None},\n",
       " {'property_id': '33264504',\n",
       "  'photo_count': '6',\n",
       "  'price': '574 700 Ft/hó',\n",
       "  'address': 'Krisztinaváros, I. kerület',\n",
       "  'area_size': '69 m² terület',\n",
       "  'room_count': '3 szoba',\n",
       "  'balcony_size': None},\n",
       " {'property_id': '33263513',\n",
       "  'photo_count': '21',\n",
       "  'price': '1 026 250 Ft/hó',\n",
       "  'address': 'Mátyáshegy, III. kerület',\n",
       "  'area_size': '189 m² terület',\n",
       "  'room_count': '5 szoba',\n",
       "  'balcony_size': '26 m² erkély'},\n",
       " {'property_id': '33260228',\n",
       "  'photo_count': '22',\n",
       "  'price': '425 000 Ft/hó',\n",
       "  'address': 'Wesselényi utca, VII. kerület',\n",
       "  'area_size': '115 m² terület',\n",
       "  'room_count': '4 szoba',\n",
       "  'balcony_size': None},\n",
       " {'property_id': '33238125',\n",
       "  'photo_count': '13',\n",
       "  'price': '210 000 Ft/hó',\n",
       "  'address': 'Menyecske utca, XI. kerület',\n",
       "  'area_size': '54 m² terület',\n",
       "  'room_count': '2 szoba',\n",
       "  'balcony_size': None},\n",
       " {'property_id': '33262069',\n",
       "  'photo_count': '16',\n",
       "  'price': '450 000 Ft/hó',\n",
       "  'address': 'Debrecen, Sestakert',\n",
       "  'area_size': '83 m² terület',\n",
       "  'room_count': '2 szoba',\n",
       "  'balcony_size': None},\n",
       " {'property_id': '33258020',\n",
       "  'photo_count': '14',\n",
       "  'price': '160 000 Ft/hó',\n",
       "  'address': 'Debrecen, Belváros',\n",
       "  'area_size': '56 m² terület',\n",
       "  'room_count': '2 szoba',\n",
       "  'balcony_size': None},\n",
       " {'property_id': '33251960',\n",
       "  'photo_count': '11',\n",
       "  'price': '320 000 Ft/hó',\n",
       "  'address': 'Debrecen',\n",
       "  'area_size': '67 m² terület',\n",
       "  'room_count': '2 szoba',\n",
       "  'balcony_size': None},\n",
       " {'property_id': '33248408',\n",
       "  'photo_count': '14',\n",
       "  'price': '160 000 Ft/hó',\n",
       "  'address': 'Debrecen, Nagyerdő',\n",
       "  'area_size': '58 m² terület',\n",
       "  'room_count': '2 szoba',\n",
       "  'balcony_size': None},\n",
       " {'property_id': '33248358',\n",
       "  'photo_count': '23',\n",
       "  'price': '380 000 Ft/hó',\n",
       "  'address': 'Debrecen, Akadémiakert',\n",
       "  'area_size': '86 m² terület',\n",
       "  'room_count': '3 szoba',\n",
       "  'balcony_size': None}]"
      ]
     },
     "execution_count": 68,
     "metadata": {},
     "output_type": "execute_result"
    }
   ],
   "source": [
    "parse_listing(soup)\n"
   ]
  },
  {
   "cell_type": "code",
   "execution_count": 67,
   "id": "cb61918f",
   "metadata": {
    "ExecuteTime": {
     "end_time": "2022-11-20T11:38:43.967935Z",
     "start_time": "2022-11-20T11:38:43.963404Z"
    }
   },
   "outputs": [],
   "source": []
  },
  {
   "cell_type": "code",
   "execution_count": 6,
   "id": "d520a8a2",
   "metadata": {
    "ExecuteTime": {
     "end_time": "2022-11-20T11:18:20.163048Z",
     "start_time": "2022-11-20T11:18:20.159271Z"
    }
   },
   "outputs": [
    {
     "data": {
      "text/plain": [
       "aswan.depot.ParsedCollectionEvent"
      ]
     },
     "execution_count": 6,
     "metadata": {},
     "output_type": "execute_result"
    }
   ],
   "source": [
    "type(event)\n"
   ]
  },
  {
   "cell_type": "code",
   "execution_count": 140,
   "id": "73e029f5",
   "metadata": {
    "ExecuteTime": {
     "end_time": "2022-11-18T21:50:53.824649Z",
     "start_time": "2022-11-18T21:50:53.820798Z"
    }
   },
   "outputs": [
    {
     "data": {
      "text/plain": [
       "datetime.datetime(2022, 11, 18, 21, 18, 33)"
      ]
     },
     "execution_count": 140,
     "metadata": {},
     "output_type": "execute_result"
    }
   ],
   "source": [
    "def parse_cev(event):\n",
    "    dt.datetime.fromtimestamp(event.cev.timestamp)\n"
   ]
  },
  {
   "cell_type": "markdown",
   "id": "be406105",
   "metadata": {
    "ExecuteTime": {
     "end_time": "2022-11-18T21:45:24.808171Z",
     "start_time": "2022-11-18T21:45:24.804507Z"
    }
   },
   "source": [
    "-------------"
   ]
  },
  {
   "cell_type": "code",
   "execution_count": 27,
   "id": "d1f23efd",
   "metadata": {
    "ExecuteTime": {
     "end_time": "2022-11-18T20:47:40.083305Z",
     "start_time": "2022-11-18T20:47:40.080021Z"
    }
   },
   "outputs": [],
   "source": [
    "from bs4 import BeautifulSoup\n",
    "import pandas as pd\n",
    "from src.parse import parse_property\n",
    "\n",
    "from src.parse import (\n",
    "    parse_contact,\n",
    "    parse_heating,\n",
    "    parse_label,\n",
    "    parse_location,\n",
    "    parse_parking,\n",
    "    parse_price,\n",
    "    parse_property,\n",
    "    parse_seller,\n",
    "    parse_utility_cost,\n",
    ")\n",
    "\n",
    "from src.core import (\n",
    "    utility_cost_table,\n",
    "    price_table,\n",
    "    contact_table,\n",
    "    heating_table,\n",
    "    parking_table,\n",
    "    label_table,\n",
    "    seller_table,\n",
    "    property_table,\n",
    ")\n",
    "\n",
    "from src.core import UNUSED_COLS\n",
    "from src.core import logger\n"
   ]
  },
  {
   "cell_type": "code",
   "execution_count": 11,
   "id": "bde39160",
   "metadata": {},
   "outputs": [],
   "source": [
    "import pandas as pd\n",
    "from datetime import datetime\n"
   ]
  },
  {
   "cell_type": "code",
   "execution_count": 61,
   "id": "484138fa",
   "metadata": {},
   "outputs": [
    {
     "data": {
      "text/plain": [
       "datetime.datetime(2, 11, 30, 0, 0, tzinfo=datetime.timezone.utc)"
      ]
     },
     "execution_count": 61,
     "metadata": {},
     "output_type": "execute_result"
    }
   ],
   "source": [
    "datetime.fromisoformat()\n"
   ]
  },
  {
   "cell_type": "code",
   "execution_count": 106,
   "id": "cc251653",
   "metadata": {},
   "outputs": [],
   "source": [
    "df = pd.DataFrame([{\"date\": \"0002-11-30T00:00:00+00:00\"}])\n"
   ]
  },
  {
   "cell_type": "code",
   "execution_count": 107,
   "id": "5a9a70fc",
   "metadata": {},
   "outputs": [],
   "source": [
    "df[\"date\"] = pd.to_datetime(df[\"date\"], errors=\"coerce\").mask(\n",
    "    lambda _s: _s.isna(), other=None\n",
    ")\n"
   ]
  },
  {
   "cell_type": "code",
   "execution_count": 109,
   "id": "4e7ed783",
   "metadata": {},
   "outputs": [
    {
     "name": "stdout",
     "output_type": "stream",
     "text": [
      "<class 'pandas.core.frame.DataFrame'>\n",
      "RangeIndex: 1 entries, 0 to 0\n",
      "Data columns (total 1 columns):\n",
      " #   Column  Non-Null Count  Dtype              \n",
      "---  ------  --------------  -----              \n",
      " 0   date    0 non-null      datetime64[ns, UTC]\n",
      "dtypes: datetime64[ns, UTC](1)\n",
      "memory usage: 136.0 bytes\n"
     ]
    }
   ],
   "source": [
    "df.info()\n"
   ]
  },
  {
   "cell_type": "code",
   "execution_count": 105,
   "id": "a9592fba",
   "metadata": {},
   "outputs": [
    {
     "data": {
      "text/html": [
       "<div>\n",
       "<style scoped>\n",
       "    .dataframe tbody tr th:only-of-type {\n",
       "        vertical-align: middle;\n",
       "    }\n",
       "\n",
       "    .dataframe tbody tr th {\n",
       "        vertical-align: top;\n",
       "    }\n",
       "\n",
       "    .dataframe thead th {\n",
       "        text-align: right;\n",
       "    }\n",
       "</style>\n",
       "<table border=\"1\" class=\"dataframe\">\n",
       "  <thead>\n",
       "    <tr style=\"text-align: right;\">\n",
       "      <th></th>\n",
       "      <th>date</th>\n",
       "    </tr>\n",
       "  </thead>\n",
       "  <tbody>\n",
       "    <tr>\n",
       "      <th>0</th>\n",
       "      <td>NaT</td>\n",
       "    </tr>\n",
       "  </tbody>\n",
       "</table>\n",
       "</div>"
      ],
      "text/plain": [
       "  date\n",
       "0  NaT"
      ]
     },
     "execution_count": 105,
     "metadata": {},
     "output_type": "execute_result"
    }
   ],
   "source": [
    "df.astype({\"date\": \"datetime64[ns]\"})\n"
   ]
  },
  {
   "cell_type": "code",
   "execution_count": 59,
   "id": "4994fe04",
   "metadata": {},
   "outputs": [
    {
     "name": "stderr",
     "output_type": "stream",
     "text": [
      "/tmp/ipykernel_2540663/3441774330.py:1: FutureWarning: Using .astype to convert from timezone-naive dtype to timezone-aware dtype is deprecated and will raise in a future version.  Use ser.dt.tz_localize instead.\n",
      "  df.astype({'date': \"datetime64[ns, UTC]\"})\n"
     ]
    },
    {
     "data": {
      "text/html": [
       "<div>\n",
       "<style scoped>\n",
       "    .dataframe tbody tr th:only-of-type {\n",
       "        vertical-align: middle;\n",
       "    }\n",
       "\n",
       "    .dataframe tbody tr th {\n",
       "        vertical-align: top;\n",
       "    }\n",
       "\n",
       "    .dataframe thead th {\n",
       "        text-align: right;\n",
       "    }\n",
       "</style>\n",
       "<table border=\"1\" class=\"dataframe\">\n",
       "  <thead>\n",
       "    <tr style=\"text-align: right;\">\n",
       "      <th></th>\n",
       "      <th>date</th>\n",
       "    </tr>\n",
       "  </thead>\n",
       "  <tbody>\n",
       "    <tr>\n",
       "      <th>0</th>\n",
       "      <td>2022-11-19 00:15:25+00:00</td>\n",
       "    </tr>\n",
       "  </tbody>\n",
       "</table>\n",
       "</div>"
      ],
      "text/plain": [
       "                       date\n",
       "0 2022-11-19 00:15:25+00:00"
      ]
     },
     "execution_count": 59,
     "metadata": {},
     "output_type": "execute_result"
    }
   ],
   "source": [
    "df.astype({\"date\": \"datetime64[ns]\"})\n"
   ]
  },
  {
   "cell_type": "code",
   "execution_count": 106,
   "id": "e252b165",
   "metadata": {
    "ExecuteTime": {
     "end_time": "2022-11-18T21:29:56.402395Z",
     "start_time": "2022-11-18T21:29:56.399008Z"
    }
   },
   "outputs": [],
   "source": [
    "PARSER_MAPPING = {\n",
    "    \"utility_costs\": (parse_utility_cost, utility_cost_table),\n",
    "    \"prices\": (parse_price, price_table),\n",
    "    \"contact_phone_numbers\": (parse_contact, contact_table),\n",
    "    \"heating_types\": (parse_heating, heating_table),\n",
    "    \"parking\": (parse_parking, parking_table),\n",
    "    \"labels\": (parse_label, label_table),\n",
    "    \"seller\": (parse_seller, seller_table),\n",
    "}\n"
   ]
  },
  {
   "cell_type": "code",
   "execution_count": 107,
   "id": "5d4e7ec8",
   "metadata": {
    "ExecuteTime": {
     "end_time": "2022-11-18T21:31:54.060734Z",
     "start_time": "2022-11-18T21:31:53.602827Z"
    }
   },
   "outputs": [
    {
     "name": "stdout",
     "output_type": "stream",
     "text": [
      "2022-11-18 22:31.53 [info     ] parsing                        namespace=core table=utility_cost\n",
      "2022-11-18 22:31.53 [info     ] parsing                        namespace=core table=price\n",
      "2022-11-18 22:31.53 [info     ] parsing                        namespace=core table=contact\n",
      "2022-11-18 22:31.53 [info     ] parsing                        namespace=core table=heating\n",
      "2022-11-18 22:31.53 [info     ] parsing                        namespace=core table=seller\n"
     ]
    },
    {
     "ename": "AttributeError",
     "evalue": "'NoneType' object has no attribute '__name__'",
     "output_type": "error",
     "traceback": [
      "\u001b[0;31m---------------------------------------------------------------------------\u001b[0m",
      "\u001b[0;31mAttributeError\u001b[0m                            Traceback (most recent call last)",
      "Cell \u001b[0;32mIn [107], line 20\u001b[0m\n\u001b[1;32m     11\u001b[0m     \u001b[38;5;28;01mif\u001b[39;00m property_df[colname]\u001b[38;5;241m.\u001b[39mastype(\u001b[38;5;28mbool\u001b[39m)\u001b[38;5;241m.\u001b[39mall():\n\u001b[1;32m     12\u001b[0m         (\n\u001b[1;32m     13\u001b[0m             parser(property_df)\n\u001b[1;32m     14\u001b[0m             \u001b[38;5;241m.\u001b[39mreindex(table\u001b[38;5;241m.\u001b[39mfeature_cols, axis\u001b[38;5;241m=\u001b[39m\u001b[38;5;241m1\u001b[39m)\n\u001b[1;32m     15\u001b[0m             \u001b[38;5;241m.\u001b[39mpipe(\u001b[38;5;28;01mlambda\u001b[39;00m _df: table\u001b[38;5;241m.\u001b[39mreplace_records(_df, env\u001b[38;5;241m=\u001b[39m\u001b[38;5;124m\"\u001b[39m\u001b[38;5;124mcomplete\u001b[39m\u001b[38;5;124m\"\u001b[39m))\n\u001b[1;32m     16\u001b[0m         )\n\u001b[1;32m     18\u001b[0m property_df \u001b[38;5;241m=\u001b[39m (\n\u001b[1;32m     19\u001b[0m     \u001b[43mproperty_df\u001b[49m\u001b[38;5;241;43m.\u001b[39;49m\u001b[43mdrop\u001b[49m\u001b[43m(\u001b[49m\u001b[43mcolumns\u001b[49m\u001b[38;5;241;43m=\u001b[39;49m\u001b[43m[\u001b[49m\u001b[38;5;241;43m*\u001b[39;49m\u001b[43mUNUSED_COLS\u001b[49m\u001b[43m,\u001b[49m\u001b[43m \u001b[49m\u001b[38;5;241;43m*\u001b[39;49m\u001b[43mPARSER_MAPPING\u001b[49m\u001b[38;5;241;43m.\u001b[39;49m\u001b[43mkeys\u001b[49m\u001b[43m(\u001b[49m\u001b[43m)\u001b[49m\u001b[43m]\u001b[49m\u001b[43m,\u001b[49m\u001b[43m \u001b[49m\u001b[43merrors\u001b[49m\u001b[38;5;241;43m=\u001b[39;49m\u001b[38;5;124;43m\"\u001b[39;49m\u001b[38;5;124;43mignore\u001b[39;49m\u001b[38;5;124;43m\"\u001b[39;49m\u001b[43m)\u001b[49m\n\u001b[0;32m---> 20\u001b[0m \u001b[43m    \u001b[49m\u001b[38;5;241;43m.\u001b[39;49m\u001b[43mpipe\u001b[49m\u001b[43m(\u001b[49m\u001b[38;5;28;43;01mlambda\u001b[39;49;00m\u001b[43m \u001b[49m\u001b[43m_df\u001b[49m\u001b[43m:\u001b[49m\u001b[43m \u001b[49m\u001b[43m_check_missing_col\u001b[49m\u001b[43m(\u001b[49m\u001b[43mdf\u001b[49m\u001b[38;5;241;43m=\u001b[39;49m\u001b[43m_df\u001b[49m\u001b[43m,\u001b[49m\u001b[43m \u001b[49m\u001b[43mtable\u001b[49m\u001b[38;5;241;43m=\u001b[39;49m\u001b[43mproperty_table\u001b[49m\u001b[43m)\u001b[49m\u001b[43m)\u001b[49m\n\u001b[1;32m     21\u001b[0m     \u001b[38;5;241m.\u001b[39mpipe(property_table\u001b[38;5;241m.\u001b[39mreplace_records)\n\u001b[1;32m     22\u001b[0m )\n\u001b[1;32m     24\u001b[0m \u001b[38;5;66;03m# LOCATION PARSING\u001b[39;00m\n\u001b[1;32m     25\u001b[0m location_df \u001b[38;5;241m=\u001b[39m pd\u001b[38;5;241m.\u001b[39mDataFrame([json\u001b[38;5;241m.\u001b[39mloads(data_elem\u001b[38;5;241m.\u001b[39mget(\u001b[38;5;124m\"\u001b[39m\u001b[38;5;124mdata-location-hierarchy\u001b[39m\u001b[38;5;124m\"\u001b[39m))])\n",
      "File \u001b[0;32m~/Github/real-estate-data/venv/lib/python3.10/site-packages/pandas/core/generic.py:5839\u001b[0m, in \u001b[0;36mNDFrame.pipe\u001b[0;34m(self, func, *args, **kwargs)\u001b[0m\n\u001b[1;32m   5781\u001b[0m \u001b[38;5;129m@final\u001b[39m\n\u001b[1;32m   5782\u001b[0m \u001b[38;5;129m@doc\u001b[39m(klass\u001b[38;5;241m=\u001b[39m_shared_doc_kwargs[\u001b[38;5;124m\"\u001b[39m\u001b[38;5;124mklass\u001b[39m\u001b[38;5;124m\"\u001b[39m])\n\u001b[1;32m   5783\u001b[0m \u001b[38;5;28;01mdef\u001b[39;00m \u001b[38;5;21mpipe\u001b[39m(\n\u001b[0;32m   (...)\u001b[0m\n\u001b[1;32m   5787\u001b[0m     \u001b[38;5;241m*\u001b[39m\u001b[38;5;241m*\u001b[39mkwargs,\n\u001b[1;32m   5788\u001b[0m ) \u001b[38;5;241m-\u001b[39m\u001b[38;5;241m>\u001b[39m T:\n\u001b[1;32m   5789\u001b[0m     \u001b[38;5;124mr\u001b[39m\u001b[38;5;124;03m\"\"\"\u001b[39;00m\n\u001b[1;32m   5790\u001b[0m \u001b[38;5;124;03m    Apply chainable functions that expect Series or DataFrames.\u001b[39;00m\n\u001b[1;32m   5791\u001b[0m \n\u001b[0;32m   (...)\u001b[0m\n\u001b[1;32m   5837\u001b[0m \u001b[38;5;124;03m    ...  )  # doctest: +SKIP\u001b[39;00m\n\u001b[1;32m   5838\u001b[0m \u001b[38;5;124;03m    \"\"\"\u001b[39;00m\n\u001b[0;32m-> 5839\u001b[0m     \u001b[38;5;28;01mreturn\u001b[39;00m \u001b[43mcom\u001b[49m\u001b[38;5;241;43m.\u001b[39;49m\u001b[43mpipe\u001b[49m\u001b[43m(\u001b[49m\u001b[38;5;28;43mself\u001b[39;49m\u001b[43m,\u001b[49m\u001b[43m \u001b[49m\u001b[43mfunc\u001b[49m\u001b[43m,\u001b[49m\u001b[43m \u001b[49m\u001b[38;5;241;43m*\u001b[39;49m\u001b[43margs\u001b[49m\u001b[43m,\u001b[49m\u001b[43m \u001b[49m\u001b[38;5;241;43m*\u001b[39;49m\u001b[38;5;241;43m*\u001b[39;49m\u001b[43mkwargs\u001b[49m\u001b[43m)\u001b[49m\n",
      "File \u001b[0;32m~/Github/real-estate-data/venv/lib/python3.10/site-packages/pandas/core/common.py:503\u001b[0m, in \u001b[0;36mpipe\u001b[0;34m(obj, func, *args, **kwargs)\u001b[0m\n\u001b[1;32m    501\u001b[0m     \u001b[38;5;28;01mreturn\u001b[39;00m func(\u001b[38;5;241m*\u001b[39margs, \u001b[38;5;241m*\u001b[39m\u001b[38;5;241m*\u001b[39mkwargs)\n\u001b[1;32m    502\u001b[0m \u001b[38;5;28;01melse\u001b[39;00m:\n\u001b[0;32m--> 503\u001b[0m     \u001b[38;5;28;01mreturn\u001b[39;00m \u001b[43mfunc\u001b[49m\u001b[43m(\u001b[49m\u001b[43mobj\u001b[49m\u001b[43m,\u001b[49m\u001b[43m \u001b[49m\u001b[38;5;241;43m*\u001b[39;49m\u001b[43margs\u001b[49m\u001b[43m,\u001b[49m\u001b[43m \u001b[49m\u001b[38;5;241;43m*\u001b[39;49m\u001b[38;5;241;43m*\u001b[39;49m\u001b[43mkwargs\u001b[49m\u001b[43m)\u001b[49m\n",
      "Cell \u001b[0;32mIn [107], line 20\u001b[0m, in \u001b[0;36m<lambda>\u001b[0;34m(_df)\u001b[0m\n\u001b[1;32m     11\u001b[0m     \u001b[38;5;28;01mif\u001b[39;00m property_df[colname]\u001b[38;5;241m.\u001b[39mastype(\u001b[38;5;28mbool\u001b[39m)\u001b[38;5;241m.\u001b[39mall():\n\u001b[1;32m     12\u001b[0m         (\n\u001b[1;32m     13\u001b[0m             parser(property_df)\n\u001b[1;32m     14\u001b[0m             \u001b[38;5;241m.\u001b[39mreindex(table\u001b[38;5;241m.\u001b[39mfeature_cols, axis\u001b[38;5;241m=\u001b[39m\u001b[38;5;241m1\u001b[39m)\n\u001b[1;32m     15\u001b[0m             \u001b[38;5;241m.\u001b[39mpipe(\u001b[38;5;28;01mlambda\u001b[39;00m _df: table\u001b[38;5;241m.\u001b[39mreplace_records(_df, env\u001b[38;5;241m=\u001b[39m\u001b[38;5;124m\"\u001b[39m\u001b[38;5;124mcomplete\u001b[39m\u001b[38;5;124m\"\u001b[39m))\n\u001b[1;32m     16\u001b[0m         )\n\u001b[1;32m     18\u001b[0m property_df \u001b[38;5;241m=\u001b[39m (\n\u001b[1;32m     19\u001b[0m     property_df\u001b[38;5;241m.\u001b[39mdrop(columns\u001b[38;5;241m=\u001b[39m[\u001b[38;5;241m*\u001b[39mUNUSED_COLS, \u001b[38;5;241m*\u001b[39mPARSER_MAPPING\u001b[38;5;241m.\u001b[39mkeys()], errors\u001b[38;5;241m=\u001b[39m\u001b[38;5;124m\"\u001b[39m\u001b[38;5;124mignore\u001b[39m\u001b[38;5;124m\"\u001b[39m)\n\u001b[0;32m---> 20\u001b[0m     \u001b[38;5;241m.\u001b[39mpipe(\u001b[38;5;28;01mlambda\u001b[39;00m _df: \u001b[43m_check_missing_col\u001b[49m\u001b[43m(\u001b[49m\u001b[43mdf\u001b[49m\u001b[38;5;241;43m=\u001b[39;49m\u001b[43m_df\u001b[49m\u001b[43m,\u001b[49m\u001b[43m \u001b[49m\u001b[43mtable\u001b[49m\u001b[38;5;241;43m=\u001b[39;49m\u001b[43mproperty_table\u001b[49m\u001b[43m)\u001b[49m)\n\u001b[1;32m     21\u001b[0m     \u001b[38;5;241m.\u001b[39mpipe(property_table\u001b[38;5;241m.\u001b[39mreplace_records)\n\u001b[1;32m     22\u001b[0m )\n\u001b[1;32m     24\u001b[0m \u001b[38;5;66;03m# LOCATION PARSING\u001b[39;00m\n\u001b[1;32m     25\u001b[0m location_df \u001b[38;5;241m=\u001b[39m pd\u001b[38;5;241m.\u001b[39mDataFrame([json\u001b[38;5;241m.\u001b[39mloads(data_elem\u001b[38;5;241m.\u001b[39mget(\u001b[38;5;124m\"\u001b[39m\u001b[38;5;124mdata-location-hierarchy\u001b[39m\u001b[38;5;124m\"\u001b[39m))])\n",
      "Cell \u001b[0;32mIn [97], line 8\u001b[0m, in \u001b[0;36m_check_missing_col\u001b[0;34m(df, table)\u001b[0m\n\u001b[1;32m      6\u001b[0m     \u001b[38;5;28;01mreturn\u001b[39;00m property_df\u001b[38;5;241m.\u001b[39mreindex(property_table\u001b[38;5;241m.\u001b[39mfeature_cols, axis\u001b[38;5;241m=\u001b[39m\u001b[38;5;241m1\u001b[39m)\n\u001b[1;32m      7\u001b[0m \u001b[38;5;28;01melse\u001b[39;00m:\n\u001b[0;32m----> 8\u001b[0m     \u001b[43mlogger\u001b[49m\u001b[38;5;241;43m.\u001b[39;49m\u001b[43mexception\u001b[49m\u001b[43m(\u001b[49m\n\u001b[1;32m      9\u001b[0m \u001b[43m        \u001b[49m\u001b[38;5;124;43m\"\u001b[39;49m\u001b[38;5;124;43mMissing variable\u001b[39;49m\u001b[38;5;124;43m\"\u001b[39;49m\u001b[43m,\u001b[49m\n\u001b[1;32m     10\u001b[0m \u001b[43m        \u001b[49m\u001b[43mcols\u001b[49m\u001b[38;5;241;43m=\u001b[39;49m\u001b[43mremaining_df\u001b[49m\u001b[38;5;241;43m.\u001b[39;49m\u001b[43mcolumns\u001b[49m\u001b[43m,\u001b[49m\n\u001b[1;32m     11\u001b[0m \u001b[43m    \u001b[49m\u001b[43m)\u001b[49m\n\u001b[1;32m     12\u001b[0m     \u001b[38;5;28;01mraise\u001b[39;00m \u001b[38;5;167;01mAssertionError\u001b[39;00m(\u001b[38;5;124m\"\u001b[39m\u001b[38;5;124mMissing variable\u001b[39m\u001b[38;5;124m\"\u001b[39m)\n",
      "File \u001b[0;32m~/Github/real-estate-data/venv/lib/python3.10/site-packages/structlog/_log_levels.py:79\u001b[0m, in \u001b[0;36mexception\u001b[0;34m(self, event, **kw)\u001b[0m\n\u001b[1;32m     76\u001b[0m \u001b[38;5;28;01mdef\u001b[39;00m \u001b[38;5;21mexception\u001b[39m(\u001b[38;5;28mself\u001b[39m: FilteringBoundLogger, event: \u001b[38;5;28mstr\u001b[39m, \u001b[38;5;241m*\u001b[39m\u001b[38;5;241m*\u001b[39mkw: Any) \u001b[38;5;241m-\u001b[39m\u001b[38;5;241m>\u001b[39m Any:\n\u001b[1;32m     77\u001b[0m     kw\u001b[38;5;241m.\u001b[39msetdefault(\u001b[38;5;124m\"\u001b[39m\u001b[38;5;124mexc_info\u001b[39m\u001b[38;5;124m\"\u001b[39m, \u001b[38;5;28;01mTrue\u001b[39;00m)\n\u001b[0;32m---> 79\u001b[0m     \u001b[38;5;28;01mreturn\u001b[39;00m \u001b[38;5;28;43mself\u001b[39;49m\u001b[38;5;241;43m.\u001b[39;49m\u001b[43merror\u001b[49m\u001b[43m(\u001b[49m\u001b[43mevent\u001b[49m\u001b[43m,\u001b[49m\u001b[43m \u001b[49m\u001b[38;5;241;43m*\u001b[39;49m\u001b[38;5;241;43m*\u001b[39;49m\u001b[43mkw\u001b[49m\u001b[43m)\u001b[49m\n",
      "File \u001b[0;32m~/Github/real-estate-data/venv/lib/python3.10/site-packages/structlog/_log_levels.py:130\u001b[0m, in \u001b[0;36m_make_filtering_bound_logger.<locals>.make_method.<locals>.meth\u001b[0;34m(self, event, **kw)\u001b[0m\n\u001b[1;32m    129\u001b[0m \u001b[38;5;28;01mdef\u001b[39;00m \u001b[38;5;21mmeth\u001b[39m(\u001b[38;5;28mself\u001b[39m: Any, event: \u001b[38;5;28mstr\u001b[39m, \u001b[38;5;241m*\u001b[39m\u001b[38;5;241m*\u001b[39mkw: Any) \u001b[38;5;241m-\u001b[39m\u001b[38;5;241m>\u001b[39m Any:\n\u001b[0;32m--> 130\u001b[0m     \u001b[38;5;28;01mreturn\u001b[39;00m \u001b[38;5;28;43mself\u001b[39;49m\u001b[38;5;241;43m.\u001b[39;49m\u001b[43m_proxy_to_logger\u001b[49m\u001b[43m(\u001b[49m\u001b[43mname\u001b[49m\u001b[43m,\u001b[49m\u001b[43m \u001b[49m\u001b[43mevent\u001b[49m\u001b[43m,\u001b[49m\u001b[43m \u001b[49m\u001b[38;5;241;43m*\u001b[39;49m\u001b[38;5;241;43m*\u001b[39;49m\u001b[43mkw\u001b[49m\u001b[43m)\u001b[49m\n",
      "File \u001b[0;32m~/Github/real-estate-data/venv/lib/python3.10/site-packages/structlog/_base.py:205\u001b[0m, in \u001b[0;36mBoundLoggerBase._proxy_to_logger\u001b[0;34m(self, method_name, event, **event_kw)\u001b[0m\n\u001b[1;32m    182\u001b[0m \u001b[38;5;124;03m\"\"\"\u001b[39;00m\n\u001b[1;32m    183\u001b[0m \u001b[38;5;124;03mRun processor chain on event & call *method_name* on wrapped logger.\u001b[39;00m\n\u001b[1;32m    184\u001b[0m \n\u001b[0;32m   (...)\u001b[0m\n\u001b[1;32m    202\u001b[0m \u001b[38;5;124;03m    See also `custom-wrappers`.\u001b[39;00m\n\u001b[1;32m    203\u001b[0m \u001b[38;5;124;03m\"\"\"\u001b[39;00m\n\u001b[1;32m    204\u001b[0m \u001b[38;5;28;01mtry\u001b[39;00m:\n\u001b[0;32m--> 205\u001b[0m     args, kw \u001b[38;5;241m=\u001b[39m \u001b[38;5;28;43mself\u001b[39;49m\u001b[38;5;241;43m.\u001b[39;49m\u001b[43m_process_event\u001b[49m\u001b[43m(\u001b[49m\u001b[43mmethod_name\u001b[49m\u001b[43m,\u001b[49m\u001b[43m \u001b[49m\u001b[43mevent\u001b[49m\u001b[43m,\u001b[49m\u001b[43m \u001b[49m\u001b[43mevent_kw\u001b[49m\u001b[43m)\u001b[49m\n\u001b[1;32m    206\u001b[0m     \u001b[38;5;28;01mreturn\u001b[39;00m \u001b[38;5;28mgetattr\u001b[39m(\u001b[38;5;28mself\u001b[39m\u001b[38;5;241m.\u001b[39m_logger, method_name)(\u001b[38;5;241m*\u001b[39margs, \u001b[38;5;241m*\u001b[39m\u001b[38;5;241m*\u001b[39mkw)\n\u001b[1;32m    207\u001b[0m \u001b[38;5;28;01mexcept\u001b[39;00m DropEvent:\n",
      "File \u001b[0;32m~/Github/real-estate-data/venv/lib/python3.10/site-packages/structlog/_base.py:162\u001b[0m, in \u001b[0;36mBoundLoggerBase._process_event\u001b[0;34m(self, method_name, event, event_kw)\u001b[0m\n\u001b[1;32m    160\u001b[0m     event_dict[\u001b[38;5;124m\"\u001b[39m\u001b[38;5;124mevent\u001b[39m\u001b[38;5;124m\"\u001b[39m] \u001b[38;5;241m=\u001b[39m event\n\u001b[1;32m    161\u001b[0m \u001b[38;5;28;01mfor\u001b[39;00m proc \u001b[38;5;129;01min\u001b[39;00m \u001b[38;5;28mself\u001b[39m\u001b[38;5;241m.\u001b[39m_processors:\n\u001b[0;32m--> 162\u001b[0m     event_dict \u001b[38;5;241m=\u001b[39m \u001b[43mproc\u001b[49m\u001b[43m(\u001b[49m\u001b[38;5;28;43mself\u001b[39;49m\u001b[38;5;241;43m.\u001b[39;49m\u001b[43m_logger\u001b[49m\u001b[43m,\u001b[49m\u001b[43m \u001b[49m\u001b[43mmethod_name\u001b[49m\u001b[43m,\u001b[49m\u001b[43m \u001b[49m\u001b[43mevent_dict\u001b[49m\u001b[43m)\u001b[49m\n\u001b[1;32m    164\u001b[0m \u001b[38;5;28;01mif\u001b[39;00m \u001b[38;5;28misinstance\u001b[39m(event_dict, (\u001b[38;5;28mstr\u001b[39m, \u001b[38;5;28mbytes\u001b[39m, \u001b[38;5;28mbytearray\u001b[39m)):\n\u001b[1;32m    165\u001b[0m     \u001b[38;5;28;01mreturn\u001b[39;00m (event_dict,), {}\n",
      "File \u001b[0;32m~/Github/real-estate-data/venv/lib/python3.10/site-packages/structlog/dev.py:425\u001b[0m, in \u001b[0;36mConsoleRenderer.__call__\u001b[0;34m(self, logger, name, event_dict)\u001b[0m\n\u001b[1;32m    422\u001b[0m     \u001b[38;5;28;01mif\u001b[39;00m \u001b[38;5;129;01mnot\u001b[39;00m \u001b[38;5;28misinstance\u001b[39m(exc_info, \u001b[38;5;28mtuple\u001b[39m):\n\u001b[1;32m    423\u001b[0m         exc_info \u001b[38;5;241m=\u001b[39m sys\u001b[38;5;241m.\u001b[39mexc_info()\n\u001b[0;32m--> 425\u001b[0m     \u001b[38;5;28;43mself\u001b[39;49m\u001b[38;5;241;43m.\u001b[39;49m\u001b[43m_exception_formatter\u001b[49m\u001b[43m(\u001b[49m\u001b[43msio\u001b[49m\u001b[43m,\u001b[49m\u001b[43m \u001b[49m\u001b[43mexc_info\u001b[49m\u001b[43m)\u001b[49m\n\u001b[1;32m    426\u001b[0m \u001b[38;5;28;01melif\u001b[39;00m exc \u001b[38;5;129;01mis\u001b[39;00m \u001b[38;5;129;01mnot\u001b[39;00m \u001b[38;5;28;01mNone\u001b[39;00m:\n\u001b[1;32m    427\u001b[0m     \u001b[38;5;28;01mif\u001b[39;00m \u001b[38;5;28mself\u001b[39m\u001b[38;5;241m.\u001b[39m_exception_formatter \u001b[38;5;129;01mis\u001b[39;00m \u001b[38;5;129;01mnot\u001b[39;00m plain_traceback:\n",
      "File \u001b[0;32m~/Github/real-estate-data/venv/lib/python3.10/site-packages/structlog/dev.py:187\u001b[0m, in \u001b[0;36mrich_traceback\u001b[0;34m(sio, exc_info)\u001b[0m\n\u001b[1;32m    176\u001b[0m \u001b[38;5;124;03m\"\"\"\u001b[39;00m\n\u001b[1;32m    177\u001b[0m \u001b[38;5;124;03mPretty-print *exc_info* to *sio* using the ``rich`` package.\u001b[39;00m\n\u001b[1;32m    178\u001b[0m \n\u001b[0;32m   (...)\u001b[0m\n\u001b[1;32m    183\u001b[0m \u001b[38;5;124;03m.. versionadded:: 21.2\u001b[39;00m\n\u001b[1;32m    184\u001b[0m \u001b[38;5;124;03m\"\"\"\u001b[39;00m\n\u001b[1;32m    185\u001b[0m sio\u001b[38;5;241m.\u001b[39mwrite(\u001b[38;5;124m\"\u001b[39m\u001b[38;5;130;01m\\n\u001b[39;00m\u001b[38;5;124m\"\u001b[39m)\n\u001b[1;32m    186\u001b[0m Console(file\u001b[38;5;241m=\u001b[39msio, color_system\u001b[38;5;241m=\u001b[39m\u001b[38;5;124m\"\u001b[39m\u001b[38;5;124mtruecolor\u001b[39m\u001b[38;5;124m\"\u001b[39m)\u001b[38;5;241m.\u001b[39mprint(\n\u001b[0;32m--> 187\u001b[0m     \u001b[43mTraceback\u001b[49m\u001b[38;5;241;43m.\u001b[39;49m\u001b[43mfrom_exception\u001b[49m\u001b[43m(\u001b[49m\u001b[38;5;241;43m*\u001b[39;49m\u001b[43mexc_info\u001b[49m\u001b[43m,\u001b[49m\u001b[43m \u001b[49m\u001b[43mshow_locals\u001b[49m\u001b[38;5;241;43m=\u001b[39;49m\u001b[38;5;28;43;01mTrue\u001b[39;49;00m\u001b[43m)\u001b[49m\n\u001b[1;32m    188\u001b[0m )\n",
      "File \u001b[0;32m~/Github/real-estate-data/venv/lib/python3.10/site-packages/rich/traceback.py:292\u001b[0m, in \u001b[0;36mTraceback.from_exception\u001b[0;34m(cls, exc_type, exc_value, traceback, width, extra_lines, theme, word_wrap, show_locals, indent_guides, locals_max_length, locals_max_string, suppress, max_frames)\u001b[0m\n\u001b[1;32m    254\u001b[0m \u001b[38;5;129m@classmethod\u001b[39m\n\u001b[1;32m    255\u001b[0m \u001b[38;5;28;01mdef\u001b[39;00m \u001b[38;5;21mfrom_exception\u001b[39m(\n\u001b[1;32m    256\u001b[0m     \u001b[38;5;28mcls\u001b[39m,\n\u001b[0;32m   (...)\u001b[0m\n\u001b[1;32m    269\u001b[0m     max_frames: \u001b[38;5;28mint\u001b[39m \u001b[38;5;241m=\u001b[39m \u001b[38;5;241m100\u001b[39m,\n\u001b[1;32m    270\u001b[0m ) \u001b[38;5;241m-\u001b[39m\u001b[38;5;241m>\u001b[39m \u001b[38;5;124m\"\u001b[39m\u001b[38;5;124mTraceback\u001b[39m\u001b[38;5;124m\"\u001b[39m:\n\u001b[1;32m    271\u001b[0m     \u001b[38;5;124;03m\"\"\"Create a traceback from exception info\u001b[39;00m\n\u001b[1;32m    272\u001b[0m \n\u001b[1;32m    273\u001b[0m \u001b[38;5;124;03m    Args:\u001b[39;00m\n\u001b[0;32m   (...)\u001b[0m\n\u001b[1;32m    290\u001b[0m \u001b[38;5;124;03m        Traceback: A Traceback instance that may be printed.\u001b[39;00m\n\u001b[1;32m    291\u001b[0m \u001b[38;5;124;03m    \"\"\"\u001b[39;00m\n\u001b[0;32m--> 292\u001b[0m     rich_traceback \u001b[38;5;241m=\u001b[39m \u001b[38;5;28;43mcls\u001b[39;49m\u001b[38;5;241;43m.\u001b[39;49m\u001b[43mextract\u001b[49m\u001b[43m(\u001b[49m\n\u001b[1;32m    293\u001b[0m \u001b[43m        \u001b[49m\u001b[43mexc_type\u001b[49m\u001b[43m,\u001b[49m\u001b[43m \u001b[49m\u001b[43mexc_value\u001b[49m\u001b[43m,\u001b[49m\u001b[43m \u001b[49m\u001b[43mtraceback\u001b[49m\u001b[43m,\u001b[49m\u001b[43m \u001b[49m\u001b[43mshow_locals\u001b[49m\u001b[38;5;241;43m=\u001b[39;49m\u001b[43mshow_locals\u001b[49m\n\u001b[1;32m    294\u001b[0m \u001b[43m    \u001b[49m\u001b[43m)\u001b[49m\n\u001b[1;32m    295\u001b[0m     \u001b[38;5;28;01mreturn\u001b[39;00m \u001b[38;5;28mcls\u001b[39m(\n\u001b[1;32m    296\u001b[0m         rich_traceback,\n\u001b[1;32m    297\u001b[0m         width\u001b[38;5;241m=\u001b[39mwidth,\n\u001b[0;32m   (...)\u001b[0m\n\u001b[1;32m    306\u001b[0m         max_frames\u001b[38;5;241m=\u001b[39mmax_frames,\n\u001b[1;32m    307\u001b[0m     )\n",
      "File \u001b[0;32m~/Github/real-estate-data/venv/lib/python3.10/site-packages/rich/traceback.py:348\u001b[0m, in \u001b[0;36mTraceback.extract\u001b[0;34m(cls, exc_type, exc_value, traceback, show_locals, locals_max_length, locals_max_string)\u001b[0m\n\u001b[1;32m    344\u001b[0m         \u001b[38;5;28;01mreturn\u001b[39;00m \u001b[38;5;124m\"\u001b[39m\u001b[38;5;124m<exception str() failed>\u001b[39m\u001b[38;5;124m\"\u001b[39m\n\u001b[1;32m    346\u001b[0m \u001b[38;5;28;01mwhile\u001b[39;00m \u001b[38;5;28;01mTrue\u001b[39;00m:\n\u001b[1;32m    347\u001b[0m     stack \u001b[38;5;241m=\u001b[39m Stack(\n\u001b[0;32m--> 348\u001b[0m         exc_type\u001b[38;5;241m=\u001b[39msafe_str(\u001b[43mexc_type\u001b[49m\u001b[38;5;241;43m.\u001b[39;49m\u001b[38;5;18;43m__name__\u001b[39;49m),\n\u001b[1;32m    349\u001b[0m         exc_value\u001b[38;5;241m=\u001b[39msafe_str(exc_value),\n\u001b[1;32m    350\u001b[0m         is_cause\u001b[38;5;241m=\u001b[39mis_cause,\n\u001b[1;32m    351\u001b[0m     )\n\u001b[1;32m    353\u001b[0m     \u001b[38;5;28;01mif\u001b[39;00m \u001b[38;5;28misinstance\u001b[39m(exc_value, \u001b[38;5;167;01mSyntaxError\u001b[39;00m):\n\u001b[1;32m    354\u001b[0m         stack\u001b[38;5;241m.\u001b[39msyntax_error \u001b[38;5;241m=\u001b[39m _SyntaxError(\n\u001b[1;32m    355\u001b[0m             offset\u001b[38;5;241m=\u001b[39mexc_value\u001b[38;5;241m.\u001b[39moffset \u001b[38;5;129;01mor\u001b[39;00m \u001b[38;5;241m0\u001b[39m,\n\u001b[1;32m    356\u001b[0m             filename\u001b[38;5;241m=\u001b[39mexc_value\u001b[38;5;241m.\u001b[39mfilename \u001b[38;5;129;01mor\u001b[39;00m \u001b[38;5;124m\"\u001b[39m\u001b[38;5;124m?\u001b[39m\u001b[38;5;124m\"\u001b[39m,\n\u001b[0;32m   (...)\u001b[0m\n\u001b[1;32m    359\u001b[0m             msg\u001b[38;5;241m=\u001b[39mexc_value\u001b[38;5;241m.\u001b[39mmsg,\n\u001b[1;32m    360\u001b[0m         )\n",
      "\u001b[0;31mAttributeError\u001b[0m: 'NoneType' object has no attribute '__name__'"
     ]
    }
   ],
   "source": [
    "soup = BeautifulSoup(event.content, \"html5\")\n",
    "\n",
    "data_elem = soup.select_one(\"#listing\")\n",
    "\n",
    "# PROPERTY PARSING\n",
    "property_df = pd.DataFrame([json.loads(data_elem.get(\"data-listing\"))]).pipe(\n",
    "    parse_property\n",
    ")\n",
    "\n",
    "for colname, (parser, table) in PARSER_MAPPING.items():\n",
    "    if property_df[colname].astype(bool).all():\n",
    "        (\n",
    "            parser(property_df)\n",
    "            .reindex(table.feature_cols, axis=1)\n",
    "            .pipe(lambda _df: table.replace_records(_df, env=\"complete\"))\n",
    "        )\n",
    "\n",
    "property_df = (\n",
    "    property_df.drop(columns=[*UNUSED_COLS, *PARSER_MAPPING.keys()], errors=\"ignore\")\n",
    "    .pipe(lambda _df: _check_missing_col(df=_df, table=property_table))\n",
    "    .pipe(property_table.replace_records)\n",
    ")\n",
    "\n",
    "# LOCATION PARSING\n",
    "pd.DataFrame([json.loads(data_elem.get(\"data-location-hierarchy\"))]).pipe(\n",
    "    location_trepo.replace_records\n",
    ")\n"
   ]
  },
  {
   "cell_type": "code",
   "execution_count": 97,
   "id": "42d41d44",
   "metadata": {
    "ExecuteTime": {
     "end_time": "2022-11-18T21:22:03.527176Z",
     "start_time": "2022-11-18T21:22:03.523205Z"
    }
   },
   "outputs": [],
   "source": [
    "def _check_missing_col(df: pd.DataFrame, table: \"dz.ScruTable\"):\n",
    "    remaining_df = df.dropna(axis=1, how=\"all\").drop(\n",
    "        columns=table.feature_cols, errors=\"ignore\"\n",
    "    )\n",
    "    if remaining_df.empty:\n",
    "        return property_df.reindex(property_table.feature_cols, axis=1)\n",
    "    else:\n",
    "        logger.exception(\n",
    "            \"Missing variable\",\n",
    "            cols=remaining_df.columns,\n",
    "        )\n",
    "        raise AssertionError(\"Missing variable\")\n"
   ]
  },
  {
   "cell_type": "code",
   "execution_count": 28,
   "id": "f91d8e2f",
   "metadata": {
    "ExecuteTime": {
     "end_time": "2022-11-18T20:47:41.802468Z",
     "start_time": "2022-11-18T20:47:41.793136Z"
    }
   },
   "outputs": [],
   "source": [
    "def _get_property_rec(\n",
    "    soup: \"BeautifulSoup\",\n",
    "    prop_id: int,\n",
    "    url: str,\n",
    "    wait: int,\n",
    "    property_table,\n",
    "    seller_table,\n",
    "    parking_table,\n",
    "    price_table,\n",
    "    heating_table,\n",
    "    utility_cost_table,\n",
    "    contact_table,\n",
    "    label_table,\n",
    "    location_trepo,\n",
    "):\n",
    "    data_elem = soup.select_one(\"#listing\")\n",
    "\n",
    "    location_df = pd.DataFrame(\n",
    "        [json.loads(data_elem.get(\"data-location-hierarchy\"))]\n",
    "    ).pipe(parse_location)\n",
    "\n",
    "    location_trepo.replace_records(location_df)\n"
   ]
  },
  {
   "cell_type": "markdown",
   "id": "6e84845a",
   "metadata": {
    "heading_collapsed": true
   },
   "source": [
    "# Check"
   ]
  },
  {
   "cell_type": "markdown",
   "id": "cd6c8e64",
   "metadata": {},
   "source": [
    "# Scrape"
   ]
  },
  {
   "cell_type": "code",
   "execution_count": 1,
   "id": "4b57474d",
   "metadata": {
    "ExecuteTime": {
     "end_time": "2022-08-23T11:55:42.266445Z",
     "start_time": "2022-08-23T11:55:40.501611Z"
    }
   },
   "outputs": [
    {
     "name": "stdout",
     "output_type": "stream",
     "text": [
      "2022-08-23 13:55.41 [warning  ] can't get default remote from  dvc repo ctx=config loading\n",
      "2022-08-23 13:55.41 [warning  ] can't get default remote from  dvc repo ctx=config loading\n",
      "2022-08-23 13:55.41 [warning  ] can't get default remote from  dvc repo ctx=config loading\n",
      "2022-08-23 13:55.41 [warning  ] can't get default remote from  dvc repo ctx=config loading\n",
      "2022-08-23 13:55.42 [warning  ] can't get default remote from  dvc repo ctx=config loading\n",
      "2022-08-23 13:55.42 [warning  ] can't get default remote from  dvc repo ctx=config loading\n",
      "2022-08-23 13:55.42 [warning  ] can't get default remote from  dvc repo ctx=config loading\n",
      "2022-08-23 13:55.42 [warning  ] can't get default remote from  dvc repo ctx=config loading\n",
      "2022-08-23 13:55.42 [warning  ] can't get default remote from  dvc repo ctx=config loading\n",
      "2022-08-23 13:55.42 [warning  ] can't get default remote from  dvc repo ctx=config loading\n"
     ]
    }
   ],
   "source": [
    "from src.core import property_rec_table, property_table\n",
    "from src.meta import (\n",
    "    RealEstateRecord,\n",
    "    RealEstate,\n",
    "    Contact,\n",
    "    Price,\n",
    "    UtilityCost,\n",
    "    Heating,\n",
    "    Parking,\n",
    "    Label,\n",
    "    Seller,\n",
    "    Location,\n",
    ")\n",
    "from src.utils import get_soup\n",
    "import json\n",
    "from tqdm import tqdm\n",
    "from pathlib import Path\n",
    "import pandas as pd\n",
    "import re\n",
    "import datazimmer as dz\n",
    "\n",
    "\n",
    "def _camel_to_snake(name):\n",
    "    name = re.sub(\"(.)([A-Z][a-z]+)\", r\"\\1_\\2\", name)\n",
    "    return re.sub(\"([a-z0-9])([A-Z])\", r\"\\1_\\2\", name).lower()\n",
    "\n",
    "\n",
    "from bs4 import BeautifulSoup\n"
   ]
  },
  {
   "cell_type": "code",
   "execution_count": 2,
   "id": "1de6fa12",
   "metadata": {
    "ExecuteTime": {
     "end_time": "2022-08-23T11:55:43.021414Z",
     "start_time": "2022-08-23T11:55:42.997168Z"
    }
   },
   "outputs": [],
   "source": [
    "property_rec_df = property_rec_table.get_full_df(env=\"complete\")\n"
   ]
  },
  {
   "cell_type": "code",
   "execution_count": 12,
   "id": "b3855de8",
   "metadata": {
    "ExecuteTime": {
     "end_time": "2022-08-23T11:56:37.009847Z",
     "start_time": "2022-08-23T11:56:37.006805Z"
    }
   },
   "outputs": [],
   "source": [
    "def parse_data_listing(html_bytes, attr):\n",
    "    soup = BeautifulSoup(html_bytes, \"html5lib\", from_encoding=\"utf-8\")\n",
    "    return json.loads(soup.div.get(attr))\n"
   ]
  },
  {
   "cell_type": "code",
   "execution_count": 10,
   "id": "e8e6fa45",
   "metadata": {
    "ExecuteTime": {
     "end_time": "2022-08-23T11:56:33.094828Z",
     "start_time": "2022-08-23T11:56:33.082228Z"
    }
   },
   "outputs": [],
   "source": [
    "fp_list = [*Path(\"source_data\").iterdir()]\n"
   ]
  },
  {
   "cell_type": "code",
   "execution_count": 18,
   "id": "37665b10",
   "metadata": {
    "ExecuteTime": {
     "end_time": "2022-08-23T12:00:32.076761Z",
     "start_time": "2022-08-23T12:00:04.613814Z"
    },
    "scrolled": true
   },
   "outputs": [
    {
     "name": "stderr",
     "output_type": "stream",
     "text": [
      "\n",
      "  0%|                                                                                                                        | 0/6664 [00:00<?, ?it/s]\n",
      "  0%|▍                                                                                                             | 30/6664 [00:00<00:22, 297.09it/s]\n",
      "  1%|▉                                                                                                             | 60/6664 [00:00<00:22, 295.87it/s]\n",
      "  1%|█▍                                                                                                            | 90/6664 [00:00<00:23, 285.65it/s]\n",
      "  2%|█▉                                                                                                           | 119/6664 [00:00<00:23, 281.28it/s]\n",
      "  2%|██▍                                                                                                          | 149/6664 [00:00<00:22, 287.78it/s]\n",
      "  3%|██▉                                                                                                          | 178/6664 [00:00<00:23, 276.31it/s]\n",
      "  3%|███▎                                                                                                         | 206/6664 [00:00<00:25, 248.51it/s]\n",
      "  4%|███▊                                                                                                         | 235/6664 [00:00<00:24, 258.85it/s]\n",
      "  4%|████▎                                                                                                        | 262/6664 [00:00<00:25, 251.54it/s]\n",
      "  4%|████▋                                                                                                        | 290/6664 [00:01<00:25, 249.92it/s]\n",
      "  5%|█████▏                                                                                                       | 320/6664 [00:01<00:24, 263.17it/s]\n",
      "  5%|█████▋                                                                                                       | 349/6664 [00:01<00:23, 269.22it/s]\n",
      "  6%|██████▏                                                                                                      | 378/6664 [00:01<00:22, 274.70it/s]\n",
      "  6%|██████▋                                                                                                      | 406/6664 [00:01<00:22, 275.97it/s]\n",
      "  7%|███████                                                                                                      | 435/6664 [00:01<00:22, 277.42it/s]\n",
      "  7%|███████▌                                                                                                     | 463/6664 [00:01<00:22, 270.24it/s]\n",
      "  7%|████████                                                                                                     | 493/6664 [00:01<00:22, 276.42it/s]\n",
      "  8%|████████▌                                                                                                    | 521/6664 [00:01<00:22, 271.69it/s]\n",
      "  8%|████████▉                                                                                                    | 550/6664 [00:02<00:22, 276.64it/s]\n",
      "  9%|█████████▍                                                                                                   | 579/6664 [00:02<00:22, 274.19it/s]\n",
      "  9%|█████████▉                                                                                                   | 607/6664 [00:02<00:22, 267.35it/s]\n",
      " 10%|██████████▎                                                                                                  | 634/6664 [00:02<00:22, 267.77it/s]\n",
      " 10%|██████████▊                                                                                                  | 661/6664 [00:02<00:22, 263.90it/s]\n",
      " 10%|███████████▎                                                                                                 | 689/6664 [00:02<00:22, 266.50it/s]\n",
      " 11%|███████████▋                                                                                                 | 716/6664 [00:02<00:22, 262.33it/s]\n",
      " 11%|████████████▏                                                                                                | 746/6664 [00:02<00:21, 271.71it/s]\n",
      " 12%|████████████▋                                                                                                | 776/6664 [00:02<00:21, 277.80it/s]\n",
      " 12%|█████████████▏                                                                                               | 804/6664 [00:02<00:21, 267.57it/s]\n",
      " 12%|█████████████▋                                                                                               | 833/6664 [00:03<00:21, 272.87it/s]\n",
      " 13%|██████████████                                                                                               | 863/6664 [00:03<00:20, 279.18it/s]\n",
      " 13%|██████████████▌                                                                                              | 891/6664 [00:03<00:22, 261.10it/s]\n",
      " 14%|███████████████                                                                                              | 918/6664 [00:03<00:22, 260.20it/s]\n",
      " 14%|███████████████▍                                                                                             | 945/6664 [00:03<00:21, 262.89it/s]\n",
      " 15%|███████████████▉                                                                                             | 973/6664 [00:03<00:21, 266.36it/s]\n",
      " 15%|████████████████▎                                                                                           | 1003/6664 [00:03<00:20, 274.45it/s]\n",
      " 15%|████████████████▋                                                                                           | 1031/6664 [00:03<00:20, 273.72it/s]\n",
      " 16%|█████████████████▏                                                                                          | 1061/6664 [00:03<00:19, 281.28it/s]\n",
      " 16%|█████████████████▋                                                                                          | 1090/6664 [00:04<00:20, 277.32it/s]\n",
      " 17%|██████████████████                                                                                          | 1118/6664 [00:04<00:20, 266.85it/s]\n",
      " 17%|██████████████████▌                                                                                         | 1145/6664 [00:04<00:20, 267.14it/s]\n",
      " 18%|███████████████████                                                                                         | 1175/6664 [00:04<00:20, 273.96it/s]\n",
      " 18%|███████████████████▌                                                                                        | 1205/6664 [00:04<00:19, 279.97it/s]\n",
      " 19%|████████████████████                                                                                        | 1235/6664 [00:04<00:19, 284.04it/s]\n",
      " 19%|████████████████████▍                                                                                       | 1264/6664 [00:04<00:19, 270.58it/s]\n",
      " 19%|████████████████████▉                                                                                       | 1294/6664 [00:04<00:19, 278.58it/s]\n",
      " 20%|█████████████████████▍                                                                                      | 1323/6664 [00:04<00:19, 269.62it/s]\n",
      " 20%|█████████████████████▉                                                                                      | 1351/6664 [00:04<00:20, 263.41it/s]\n",
      " 21%|██████████████████████▍                                                                                     | 1381/6664 [00:05<00:19, 273.01it/s]\n",
      " 21%|██████████████████████▊                                                                                     | 1411/6664 [00:05<00:18, 279.47it/s]\n",
      " 22%|███████████████████████▎                                                                                    | 1440/6664 [00:05<00:18, 279.61it/s]\n",
      " 22%|███████████████████████▊                                                                                    | 1469/6664 [00:05<00:18, 282.46it/s]\n",
      " 22%|████████████████████████▎                                                                                   | 1498/6664 [00:05<00:18, 273.11it/s]\n",
      " 23%|████████████████████████▋                                                                                   | 1526/6664 [00:05<00:19, 261.59it/s]\n",
      " 23%|█████████████████████████▏                                                                                  | 1553/6664 [00:05<00:19, 260.49it/s]\n",
      " 24%|█████████████████████████▌                                                                                  | 1580/6664 [00:05<00:19, 262.37it/s]\n",
      " 24%|██████████████████████████                                                                                  | 1610/6664 [00:05<00:18, 272.56it/s]\n",
      " 25%|██████████████████████████▌                                                                                 | 1639/6664 [00:06<00:18, 276.01it/s]\n",
      " 25%|███████████████████████████                                                                                 | 1667/6664 [00:06<00:18, 275.52it/s]\n",
      " 25%|███████████████████████████▌                                                                                | 1697/6664 [00:06<00:17, 281.54it/s]\n",
      " 26%|███████████████████████████▉                                                                                | 1727/6664 [00:06<00:17, 284.11it/s]\n",
      " 26%|████████████████████████████▍                                                                               | 1756/6664 [00:06<00:17, 282.02it/s]\n",
      " 27%|████████████████████████████▉                                                                               | 1785/6664 [00:06<00:17, 273.87it/s]\n",
      " 27%|█████████████████████████████▍                                                                              | 1814/6664 [00:06<00:17, 276.01it/s]\n",
      " 28%|█████████████████████████████▊                                                                              | 1843/6664 [00:06<00:17, 278.34it/s]\n",
      " 28%|██████████████████████████████▎                                                                             | 1871/6664 [00:06<00:17, 274.88it/s]\n",
      " 28%|██████████████████████████████▊                                                                             | 1899/6664 [00:06<00:18, 263.30it/s]\n",
      " 29%|███████████████████████████████▏                                                                            | 1926/6664 [00:07<00:19, 238.92it/s]\n",
      " 29%|███████████████████████████████▋                                                                            | 1955/6664 [00:07<00:18, 252.32it/s]\n",
      " 30%|████████████████████████████████                                                                            | 1981/6664 [00:07<00:19, 245.40it/s]\n",
      " 30%|████████████████████████████████▌                                                                           | 2010/6664 [00:07<00:18, 256.87it/s]\n",
      " 31%|█████████████████████████████████                                                                           | 2039/6664 [00:07<00:17, 265.29it/s]\n",
      " 31%|█████████████████████████████████▍                                                                          | 2067/6664 [00:07<00:17, 268.59it/s]\n",
      " 31%|█████████████████████████████████▉                                                                          | 2095/6664 [00:07<00:16, 269.18it/s]\n",
      " 32%|██████████████████████████████████▍                                                                         | 2123/6664 [00:07<00:16, 270.78it/s]\n",
      " 32%|██████████████████████████████████▉                                                                         | 2154/6664 [00:07<00:16, 279.54it/s]\n",
      " 33%|███████████████████████████████████▍                                                                        | 2183/6664 [00:08<00:15, 282.04it/s]\n",
      " 33%|███████████████████████████████████▊                                                                        | 2212/6664 [00:08<00:15, 282.23it/s]\n",
      " 34%|████████████████████████████████████▎                                                                       | 2241/6664 [00:08<00:16, 273.52it/s]\n",
      " 34%|████████████████████████████████████▊                                                                       | 2269/6664 [00:08<00:16, 266.14it/s]\n",
      " 34%|█████████████████████████████████████▏                                                                      | 2296/6664 [00:08<00:16, 265.74it/s]\n",
      " 35%|█████████████████████████████████████▋                                                                      | 2323/6664 [00:08<00:16, 264.43it/s]\n",
      " 35%|██████████████████████████████████████                                                                      | 2352/6664 [00:08<00:15, 269.94it/s]\n",
      " 36%|██████████████████████████████████████▌                                                                     | 2380/6664 [00:08<00:16, 258.02it/s]\n",
      " 36%|██████████████████████████████████████▉                                                                     | 2406/6664 [00:08<00:17, 244.68it/s]\n",
      " 36%|███████████████████████████████████████▍                                                                    | 2431/6664 [00:09<00:17, 242.55it/s]\n",
      " 37%|███████████████████████████████████████▉                                                                    | 2462/6664 [00:09<00:16, 259.64it/s]\n",
      " 37%|████████████████████████████████████████▎                                                                   | 2489/6664 [00:09<00:16, 252.20it/s]\n",
      " 38%|████████████████████████████████████████▊                                                                   | 2518/6664 [00:09<00:15, 262.56it/s]\n",
      " 38%|█████████████████████████████████████████▏                                                                  | 2545/6664 [00:09<00:15, 260.16it/s]\n",
      " 39%|█████████████████████████████████████████▋                                                                  | 2575/6664 [00:09<00:15, 269.66it/s]\n",
      " 39%|██████████████████████████████████████████▏                                                                 | 2603/6664 [00:09<00:15, 269.67it/s]\n",
      " 40%|██████████████████████████████████████████▋                                                                 | 2633/6664 [00:09<00:14, 276.15it/s]\n",
      " 40%|███████████████████████████████████████████▏                                                                | 2661/6664 [00:09<00:14, 276.99it/s]\n",
      " 40%|███████████████████████████████████████████▌                                                                | 2689/6664 [00:09<00:14, 275.43it/s]\n",
      " 41%|████████████████████████████████████████████                                                                | 2717/6664 [00:10<00:15, 259.51it/s]\n",
      " 41%|████████████████████████████████████████████▌                                                               | 2748/6664 [00:10<00:14, 271.33it/s]\n",
      " 42%|████████████████████████████████████████████▉                                                               | 2776/6664 [00:10<00:14, 261.29it/s]\n",
      " 42%|█████████████████████████████████████████████▍                                                              | 2806/6664 [00:10<00:14, 271.18it/s]\n",
      " 43%|█████████████████████████████████████████████▉                                                              | 2834/6664 [00:10<00:14, 265.42it/s]\n",
      " 43%|██████████████████████████████████████████████▍                                                             | 2863/6664 [00:10<00:14, 270.79it/s]\n",
      " 43%|██████████████████████████████████████████████▉                                                             | 2894/6664 [00:10<00:13, 279.51it/s]\n",
      " 44%|███████████████████████████████████████████████▎                                                            | 2923/6664 [00:10<00:14, 265.61it/s]\n",
      " 44%|███████████████████████████████████████████████▊                                                            | 2950/6664 [00:10<00:14, 261.20it/s]\n",
      " 45%|████████████████████████████████████████████████▎                                                           | 2979/6664 [00:11<00:13, 266.80it/s]\n",
      " 45%|████████████████████████████████████████████████▊                                                           | 3009/6664 [00:11<00:13, 275.66it/s]\n",
      " 46%|█████████████████████████████████████████████████▎                                                          | 3040/6664 [00:11<00:12, 284.05it/s]\n",
      " 46%|█████████████████████████████████████████████████▋                                                          | 3069/6664 [00:11<00:13, 269.10it/s]\n"
     ]
    },
    {
     "name": "stderr",
     "output_type": "stream",
     "text": [
      " 47%|██████████████████████████████████████████████████▏                                                         | 3099/6664 [00:11<00:12, 277.73it/s]\n",
      " 47%|██████████████████████████████████████████████████▋                                                         | 3127/6664 [00:11<00:13, 268.53it/s]\n",
      " 47%|███████████████████████████████████████████████████▏                                                        | 3157/6664 [00:11<00:12, 277.16it/s]\n",
      " 48%|███████████████████████████████████████████████████▌                                                        | 3185/6664 [00:12<00:27, 126.36it/s]\n",
      " 48%|████████████████████████████████████████████████████                                                        | 3215/6664 [00:12<00:22, 153.61it/s]\n",
      " 49%|████████████████████████████████████████████████████▌                                                       | 3245/6664 [00:12<00:19, 179.16it/s]\n",
      " 49%|█████████████████████████████████████████████████████                                                       | 3275/6664 [00:12<00:16, 203.38it/s]\n",
      " 50%|█████████████████████████████████████████████████████▌                                                      | 3304/6664 [00:12<00:15, 221.33it/s]\n",
      " 50%|██████████████████████████████████████████████████████                                                      | 3335/6664 [00:12<00:13, 240.98it/s]\n",
      " 51%|██████████████████████████████████████████████████████▌                                                     | 3366/6664 [00:12<00:12, 256.74it/s]\n",
      " 51%|███████████████████████████████████████████████████████                                                     | 3395/6664 [00:12<00:13, 239.27it/s]\n",
      " 51%|███████████████████████████████████████████████████████▌                                                    | 3425/6664 [00:13<00:12, 253.28it/s]\n",
      " 52%|███████████████████████████████████████████████████████▉                                                    | 3455/6664 [00:13<00:12, 265.54it/s]\n",
      " 52%|████████████████████████████████████████████████████████▍                                                   | 3483/6664 [00:13<00:12, 264.08it/s]\n",
      " 53%|████████████████████████████████████████████████████████▉                                                   | 3511/6664 [00:13<00:12, 253.33it/s]\n",
      " 53%|█████████████████████████████████████████████████████████▎                                                  | 3540/6664 [00:13<00:11, 262.69it/s]\n",
      " 54%|█████████████████████████████████████████████████████████▊                                                  | 3568/6664 [00:13<00:11, 267.17it/s]\n",
      " 54%|██████████████████████████████████████████████████████████▎                                                 | 3598/6664 [00:13<00:11, 276.26it/s]\n",
      " 54%|██████████████████████████████████████████████████████████▊                                                 | 3629/6664 [00:13<00:10, 285.78it/s]\n",
      " 55%|███████████████████████████████████████████████████████████▎                                                | 3658/6664 [00:13<00:10, 286.27it/s]\n",
      " 55%|███████████████████████████████████████████████████████████▊                                                | 3687/6664 [00:14<00:10, 286.26it/s]\n",
      " 56%|████████████████████████████████████████████████████████████▎                                               | 3718/6664 [00:14<00:10, 290.83it/s]\n",
      " 56%|████████████████████████████████████████████████████████████▋                                               | 3748/6664 [00:14<00:10, 280.67it/s]\n",
      " 57%|█████████████████████████████████████████████████████████████▏                                              | 3777/6664 [00:14<00:10, 279.66it/s]\n",
      " 57%|█████████████████████████████████████████████████████████████▋                                              | 3806/6664 [00:14<00:10, 277.82it/s]\n",
      " 58%|██████████████████████████████████████████████████████████████▏                                             | 3837/6664 [00:14<00:09, 284.60it/s]\n",
      " 58%|██████████████████████████████████████████████████████████████▋                                             | 3866/6664 [00:14<00:10, 274.43it/s]\n",
      " 58%|███████████████████████████████████████████████████████████████▏                                            | 3896/6664 [00:14<00:09, 280.31it/s]\n",
      " 59%|███████████████████████████████████████████████████████████████▋                                            | 3927/6664 [00:14<00:09, 286.43it/s]\n",
      " 59%|████████████████████████████████████████████████████████████████                                            | 3956/6664 [00:14<00:09, 283.18it/s]\n",
      " 60%|████████████████████████████████████████████████████████████████▌                                           | 3986/6664 [00:15<00:09, 287.38it/s]\n",
      " 60%|█████████████████████████████████████████████████████████████████                                           | 4015/6664 [00:15<00:09, 282.33it/s]\n",
      " 61%|█████████████████████████████████████████████████████████████████▌                                          | 4045/6664 [00:15<00:09, 286.13it/s]\n",
      " 61%|██████████████████████████████████████████████████████████████████                                          | 4074/6664 [00:15<00:09, 282.68it/s]\n",
      " 62%|██████████████████████████████████████████████████████████████████▍                                         | 4103/6664 [00:15<00:09, 280.91it/s]\n",
      " 62%|██████████████████████████████████████████████████████████████████▉                                         | 4132/6664 [00:15<00:09, 263.54it/s]\n",
      " 62%|███████████████████████████████████████████████████████████████████▍                                        | 4162/6664 [00:15<00:09, 267.56it/s]\n",
      " 63%|███████████████████████████████████████████████████████████████████▉                                        | 4192/6664 [00:15<00:08, 275.91it/s]\n",
      " 63%|████████████████████████████████████████████████████████████████████▍                                       | 4223/6664 [00:15<00:08, 283.58it/s]\n",
      " 64%|████████████████████████████████████████████████████████████████████▉                                       | 4253/6664 [00:16<00:08, 287.70it/s]\n",
      " 64%|█████████████████████████████████████████████████████████████████████▍                                      | 4282/6664 [00:16<00:08, 275.63it/s]\n",
      " 65%|█████████████████████████████████████████████████████████████████████▊                                      | 4311/6664 [00:16<00:08, 278.70it/s]\n",
      " 65%|██████████████████████████████████████████████████████████████████████▎                                     | 4341/6664 [00:16<00:08, 284.37it/s]\n",
      " 66%|██████████████████████████████████████████████████████████████████████▊                                     | 4370/6664 [00:16<00:08, 276.09it/s]\n",
      " 66%|███████████████████████████████████████████████████████████████████████▎                                    | 4401/6664 [00:16<00:07, 283.68it/s]\n",
      " 66%|███████████████████████████████████████████████████████████████████████▊                                    | 4430/6664 [00:16<00:07, 282.29it/s]\n",
      " 67%|████████████████████████████████████████████████████████████████████████▎                                   | 4459/6664 [00:16<00:07, 279.27it/s]\n",
      " 67%|████████████████████████████████████████████████████████████████████████▋                                   | 4487/6664 [00:16<00:07, 277.36it/s]\n",
      " 68%|█████████████████████████████████████████████████████████████████████████▏                                  | 4517/6664 [00:16<00:07, 283.80it/s]\n",
      " 68%|█████████████████████████████████████████████████████████████████████████▋                                  | 4546/6664 [00:17<00:07, 285.13it/s]\n",
      " 69%|██████████████████████████████████████████████████████████████████████████▏                                 | 4575/6664 [00:17<00:07, 280.12it/s]\n",
      " 69%|██████████████████████████████████████████████████████████████████████████▌                                 | 4604/6664 [00:17<00:07, 281.83it/s]\n",
      " 70%|███████████████████████████████████████████████████████████████████████████                                 | 4633/6664 [00:17<00:07, 279.66it/s]\n",
      " 70%|███████████████████████████████████████████████████████████████████████████▌                                | 4663/6664 [00:17<00:07, 284.21it/s]\n",
      " 70%|████████████████████████████████████████████████████████████████████████████                                | 4692/6664 [00:17<00:07, 268.70it/s]\n",
      " 71%|████████████████████████████████████████████████████████████████████████████▍                               | 4720/6664 [00:17<00:07, 270.02it/s]\n",
      " 71%|████████████████████████████████████████████████████████████████████████████▉                               | 4748/6664 [00:17<00:07, 266.68it/s]\n",
      " 72%|█████████████████████████████████████████████████████████████████████████████▍                              | 4778/6664 [00:17<00:06, 276.08it/s]\n",
      " 72%|█████████████████████████████████████████████████████████████████████████████▉                              | 4808/6664 [00:18<00:06, 281.44it/s]\n",
      " 73%|██████████████████████████████████████████████████████████████████████████████▍                             | 4837/6664 [00:18<00:06, 280.70it/s]\n",
      " 73%|██████████████████████████████████████████████████████████████████████████████▉                             | 4868/6664 [00:18<00:06, 286.73it/s]\n",
      " 73%|███████████████████████████████████████████████████████████████████████████████▎                            | 4897/6664 [00:18<00:06, 277.67it/s]\n",
      " 74%|███████████████████████████████████████████████████████████████████████████████▊                            | 4925/6664 [00:18<00:06, 276.14it/s]\n",
      " 74%|████████████████████████████████████████████████████████████████████████████████▎                           | 4953/6664 [00:18<00:06, 271.99it/s]\n",
      " 75%|████████████████████████████████████████████████████████████████████████████████▊                           | 4984/6664 [00:18<00:05, 280.61it/s]\n",
      " 75%|█████████████████████████████████████████████████████████████████████████████████▏                          | 5013/6664 [00:18<00:06, 272.27it/s]\n",
      " 76%|█████████████████████████████████████████████████████████████████████████████████▋                          | 5044/6664 [00:18<00:05, 281.04it/s]\n",
      " 76%|██████████████████████████████████████████████████████████████████████████████████▏                         | 5073/6664 [00:18<00:05, 274.59it/s]\n",
      " 77%|██████████████████████████████████████████████████████████████████████████████████▋                         | 5101/6664 [00:19<00:05, 272.83it/s]\n",
      " 77%|███████████████████████████████████████████████████████████████████████████████████▏                        | 5131/6664 [00:19<00:05, 279.74it/s]\n",
      " 77%|███████████████████████████████████████████████████████████████████████████████████▋                        | 5160/6664 [00:19<00:05, 270.51it/s]\n",
      " 78%|████████████████████████████████████████████████████████████████████████████████████                        | 5188/6664 [00:19<00:05, 272.06it/s]\n",
      " 78%|████████████████████████████████████████████████████████████████████████████████████▌                       | 5219/6664 [00:19<00:05, 281.10it/s]\n",
      " 79%|█████████████████████████████████████████████████████████████████████████████████████                       | 5248/6664 [00:19<00:05, 275.58it/s]\n",
      " 79%|█████████████████████████████████████████████████████████████████████████████████████▌                      | 5276/6664 [00:19<00:05, 276.41it/s]\n",
      " 80%|██████████████████████████████████████████████████████████████████████████████████████                      | 5307/6664 [00:19<00:04, 284.18it/s]\n",
      " 80%|██████████████████████████████████████████████████████████████████████████████████████▍                     | 5336/6664 [00:19<00:04, 279.54it/s]\n",
      " 81%|██████████████████████████████████████████████████████████████████████████████████████▉                     | 5366/6664 [00:20<00:04, 285.16it/s]\n",
      " 81%|███████████████████████████████████████████████████████████████████████████████████████▍                    | 5395/6664 [00:20<00:04, 268.81it/s]\n",
      " 81%|███████████████████████████████████████████████████████████████████████████████████████▉                    | 5424/6664 [00:20<00:04, 274.61it/s]\n",
      " 82%|████████████████████████████████████████████████████████████████████████████████████████▎                   | 5452/6664 [00:20<00:04, 267.00it/s]\n",
      " 82%|████████████████████████████████████████████████████████████████████████████████████████▊                   | 5479/6664 [00:20<00:04, 267.54it/s]\n",
      " 83%|█████████████████████████████████████████████████████████████████████████████████████████▏                  | 5506/6664 [00:20<00:04, 267.28it/s]\n",
      " 83%|█████████████████████████████████████████████████████████████████████████████████████████▋                  | 5534/6664 [00:20<00:04, 269.69it/s]\n",
      " 83%|██████████████████████████████████████████████████████████████████████████████████████████▏                 | 5562/6664 [00:20<00:04, 269.08it/s]\n",
      " 84%|██████████████████████████████████████████████████████████████████████████████████████████▌                 | 5590/6664 [00:20<00:03, 270.27it/s]\n",
      " 84%|███████████████████████████████████████████████████████████████████████████████████████████                 | 5621/6664 [00:20<00:03, 280.79it/s]\n",
      " 85%|███████████████████████████████████████████████████████████████████████████████████████████▌                | 5650/6664 [00:21<00:03, 270.83it/s]\n",
      " 85%|████████████████████████████████████████████████████████████████████████████████████████████                | 5680/6664 [00:21<00:03, 278.86it/s]\n",
      " 86%|████████████████████████████████████████████████████████████████████████████████████████████▌               | 5708/6664 [00:21<00:03, 275.34it/s]\n",
      " 86%|████████████████████████████████████████████████████████████████████████████████████████████▉               | 5738/6664 [00:21<00:03, 280.36it/s]\n",
      " 87%|█████████████████████████████████████████████████████████████████████████████████████████████▍              | 5768/6664 [00:21<00:03, 285.28it/s]\n",
      " 87%|█████████████████████████████████████████████████████████████████████████████████████████████▉              | 5797/6664 [00:21<00:03, 279.00it/s]\n",
      " 87%|██████████████████████████████████████████████████████████████████████████████████████████████▍             | 5828/6664 [00:21<00:02, 285.14it/s]\n",
      " 88%|██████████████████████████████████████████████████████████████████████████████████████████████▉             | 5857/6664 [00:21<00:02, 277.84it/s]\n",
      " 88%|███████████████████████████████████████████████████████████████████████████████████████████████▍            | 5885/6664 [00:21<00:02, 274.10it/s]\n",
      " 89%|███████████████████████████████████████████████████████████████████████████████████████████████▊            | 5913/6664 [00:22<00:02, 274.31it/s]\n",
      " 89%|████████████████████████████████████████████████████████████████████████████████████████████████▎           | 5941/6664 [00:22<00:02, 272.54it/s]\n",
      " 90%|████████████████████████████████████████████████████████████████████████████████████████████████▋           | 5969/6664 [00:22<00:02, 267.79it/s]\n",
      " 90%|█████████████████████████████████████████████████████████████████████████████████████████████████▏          | 5999/6664 [00:22<00:02, 276.18it/s]\n",
      " 90%|█████████████████████████████████████████████████████████████████████████████████████████████████▋          | 6029/6664 [00:22<00:02, 282.62it/s]\n",
      " 91%|██████████████████████████████████████████████████████████████████████████████████████████████████▏         | 6058/6664 [00:22<00:02, 268.27it/s]\n",
      " 91%|██████████████████████████████████████████████████████████████████████████████████████████████████▋         | 6088/6664 [00:22<00:02, 276.42it/s]\n",
      " 92%|███████████████████████████████████████████████████████████████████████████████████████████████████▏        | 6119/6664 [00:22<00:01, 284.30it/s]\n",
      " 92%|███████████████████████████████████████████████████████████████████████████████████████████████████▋        | 6149/6664 [00:22<00:01, 288.07it/s]\n",
      " 93%|████████████████████████████████████████████████████████████████████████████████████████████████████▏       | 6180/6664 [00:22<00:01, 292.63it/s]\n",
      " 93%|████████████████████████████████████████████████████████████████████████████████████████████████████▋       | 6210/6664 [00:23<00:01, 292.66it/s]\n",
      " 94%|█████████████████████████████████████████████████████████████████████████████████████████████████████▏      | 6240/6664 [00:23<00:01, 289.85it/s]\n"
     ]
    },
    {
     "name": "stderr",
     "output_type": "stream",
     "text": [
      " 94%|█████████████████████████████████████████████████████████████████████████████████████████████████████▌      | 6270/6664 [00:23<00:01, 291.45it/s]\n",
      " 95%|██████████████████████████████████████████████████████████████████████████████████████████████████████      | 6301/6664 [00:23<00:01, 295.29it/s]\n",
      " 95%|██████████████████████████████████████████████████████████████████████████████████████████████████████▌     | 6331/6664 [00:23<00:01, 296.01it/s]\n",
      " 95%|███████████████████████████████████████████████████████████████████████████████████████████████████████     | 6361/6664 [00:23<00:01, 296.11it/s]\n",
      " 96%|███████████████████████████████████████████████████████████████████████████████████████████████████████▌    | 6391/6664 [00:23<00:00, 294.89it/s]\n",
      " 96%|████████████████████████████████████████████████████████████████████████████████████████████████████████    | 6421/6664 [00:23<00:00, 288.64it/s]\n",
      " 97%|████████████████████████████████████████████████████████████████████████████████████████████████████████▌   | 6451/6664 [00:23<00:00, 290.93it/s]\n",
      " 97%|█████████████████████████████████████████████████████████████████████████████████████████████████████████   | 6481/6664 [00:24<00:00, 281.82it/s]\n",
      " 98%|█████████████████████████████████████████████████████████████████████████████████████████████████████████▌  | 6510/6664 [00:24<00:00, 278.73it/s]\n",
      " 98%|█████████████████████████████████████████████████████████████████████████████████████████████████████████▉  | 6538/6664 [00:24<00:00, 275.90it/s]\n",
      " 99%|██████████████████████████████████████████████████████████████████████████████████████████████████████████▍ | 6566/6664 [00:24<00:00, 267.87it/s]\n",
      " 99%|██████████████████████████████████████████████████████████████████████████████████████████████████████████▉ | 6596/6664 [00:24<00:00, 274.31it/s]\n",
      " 99%|███████████████████████████████████████████████████████████████████████████████████████████████████████████▎| 6624/6664 [00:24<00:00, 273.77it/s]\n",
      "100%|████████████████████████████████████████████████████████████████████████████████████████████████████████████| 6664/6664 [00:24<00:00, 269.83it/s]\n"
     ]
    }
   ],
   "source": [
    "property_df = pd.DataFrame(\n",
    "    [parse_data_listing(fp.read_bytes(), attr=\"data-listing\") for fp in tqdm(fp_list)]\n",
    ").pipe(parse_property)\n",
    "\n",
    "# location_df = pd.DataFrame(\n",
    "#     [\n",
    "#         parse_data_listing(fp.read_bytes(), attr=\"data-location-hierarchy\")\n",
    "#         for fp in tqdm(fp_list)\n",
    "#     ]\n",
    "# ).pipe(lambda _df: parse_location(_df))\n"
   ]
  },
  {
   "cell_type": "code",
   "execution_count": 17,
   "id": "667922fc",
   "metadata": {
    "ExecuteTime": {
     "end_time": "2022-08-23T12:00:00.803027Z",
     "start_time": "2022-08-23T12:00:00.797938Z"
    }
   },
   "outputs": [],
   "source": [
    "def parse_property(df: pd.DataFrame):\n",
    "    return (\n",
    "        df.set_index(RealEstate.id)\n",
    "        .rename(columns={\"type\": \"offer_type\"})\n",
    "        .drop(columns=\"minimumRentalPeriodMonth\")\n",
    "        .pipe(\n",
    "            lambda _df: pd.concat(\n",
    "                [_df.drop(columns=\"property\"), _df[\"property\"].apply(pd.Series)], axis=1\n",
    "            )\n",
    "        )\n",
    "        .rename(_camel_to_snake, axis=1)\n",
    "        .rename(\n",
    "            columns={\n",
    "                \"seller_id\": RealEstate.seller_id.id,\n",
    "                \"location_id\": RealEstate.location_id.id,\n",
    "            }\n",
    "        )\n",
    "        .assign(\n",
    "            **{\n",
    "                RealEstate.available_from: lambda _df: _df[\n",
    "                    RealEstate.available_from\n",
    "                ].mask(\n",
    "                    pd.to_datetime(\n",
    "                        property_df[\"available_from\"], errors=\"ignore\"\n",
    "                    ).isna(),\n",
    "                    other=None,\n",
    "                ),\n",
    "            }\n",
    "        )\n",
    "    )\n"
   ]
  },
  {
   "cell_type": "code",
   "execution_count": 35,
   "id": "ecd927a5",
   "metadata": {
    "ExecuteTime": {
     "end_time": "2022-08-23T12:11:38.624728Z",
     "start_time": "2022-08-23T12:11:38.615178Z"
    }
   },
   "outputs": [
    {
     "data": {
      "text/plain": [
       "id\n",
       "33047284    False\n",
       "32972383    False\n",
       "33012119    False\n",
       "29306510    False\n",
       "33017797     True\n",
       "            ...  \n",
       "32903329    False\n",
       "33066885    False\n",
       "31910369    False\n",
       "32404697    False\n",
       "32399026    False\n",
       "Name: available_from, Length: 6664, dtype: bool"
      ]
     },
     "execution_count": 35,
     "metadata": {},
     "output_type": "execute_result"
    }
   ],
   "source": []
  },
  {
   "cell_type": "code",
   "execution_count": 32,
   "id": "20d00d66",
   "metadata": {
    "ExecuteTime": {
     "end_time": "2022-08-23T12:05:54.596566Z",
     "start_time": "2022-08-23T12:05:54.590286Z"
    }
   },
   "outputs": [
    {
     "data": {
      "text/plain": [
       "0    None\n",
       "dtype: object"
      ]
     },
     "execution_count": 32,
     "metadata": {},
     "output_type": "execute_result"
    }
   ],
   "source": [
    "pd.Series([float(\"NaN\")], dtype=\"object\").mask(\n",
    "    pd.Series([float(\"NaN\")], dtype=\"object\").str.startswith(\"0002\", na=True),\n",
    "    other=None,\n",
    ")\n"
   ]
  },
  {
   "cell_type": "code",
   "execution_count": 14,
   "id": "d2474b00",
   "metadata": {
    "ExecuteTime": {
     "end_time": "2022-08-23T11:57:05.103891Z",
     "start_time": "2022-08-23T11:57:05.093337Z"
    }
   },
   "outputs": [
    {
     "data": {
      "text/plain": [
       "id\n",
       "33047284    2022-08-01T00:00:00+00:00\n",
       "32972383    2022-08-01T00:00:00+00:00\n",
       "33012119    2022-07-08T00:00:00+00:00\n",
       "29306510    2022-09-01T00:00:00+00:00\n",
       "33017797                         None\n",
       "                      ...            \n",
       "32903329    2022-06-01T00:00:00+00:00\n",
       "33066885    2022-11-01T00:00:00+00:00\n",
       "31910369    2022-08-01T00:00:00+00:00\n",
       "32404697    2021-12-01T00:00:00+00:00\n",
       "32399026    2022-08-08T00:00:00+00:00\n",
       "Name: available_from, Length: 6664, dtype: object"
      ]
     },
     "execution_count": 14,
     "metadata": {},
     "output_type": "execute_result"
    }
   ],
   "source": [
    "property_df[\"available_from\"].mask(\n",
    "    property_df[\"available_from\"].str.startswith(\"0002\", na=False), other=None\n",
    ")\n"
   ]
  },
  {
   "cell_type": "code",
   "execution_count": 195,
   "id": "4e45f9e7",
   "metadata": {
    "ExecuteTime": {
     "end_time": "2022-08-23T11:47:50.629653Z",
     "start_time": "2022-08-23T11:47:50.611051Z"
    }
   },
   "outputs": [],
   "source": [
    "property_df2 = pd.DataFrame(\n",
    "    [\n",
    "        parse_data_listing(\n",
    "            Path(\"source_data/469613.html\").read_bytes(), attr=\"data-listing\"\n",
    "        )\n",
    "    ]\n",
    ").pipe(parse_property)\n"
   ]
  },
  {
   "cell_type": "code",
   "execution_count": 197,
   "id": "57743a70",
   "metadata": {
    "ExecuteTime": {
     "end_time": "2022-08-23T11:47:56.933854Z",
     "start_time": "2022-08-23T11:47:56.929034Z"
    }
   },
   "outputs": [
    {
     "data": {
      "text/plain": [
       "id\n",
       "469613    0002-11-30T00:00:00+00:00\n",
       "Name: available_from, dtype: object"
      ]
     },
     "execution_count": 197,
     "metadata": {},
     "output_type": "execute_result"
    }
   ],
   "source": [
    "property_df2[\"available_from\"]\n"
   ]
  },
  {
   "cell_type": "code",
   "execution_count": 174,
   "id": "27f07b77",
   "metadata": {
    "ExecuteTime": {
     "end_time": "2022-08-23T11:43:45.088564Z",
     "start_time": "2022-08-23T11:43:45.086037Z"
    }
   },
   "outputs": [],
   "source": [
    "import datetime as dt\n"
   ]
  },
  {
   "cell_type": "code",
   "execution_count": 176,
   "id": "9025400f",
   "metadata": {
    "ExecuteTime": {
     "end_time": "2022-08-23T11:44:13.913461Z",
     "start_time": "2022-08-23T11:44:13.908616Z"
    }
   },
   "outputs": [
    {
     "data": {
      "text/plain": [
       "id\n",
       "469613    2022-08-22T14:32:03+00:00\n",
       "Name: updated_at, dtype: object"
      ]
     },
     "execution_count": 176,
     "metadata": {},
     "output_type": "execute_result"
    }
   ],
   "source": [
    "property_df[\"updated_at\"]\n"
   ]
  },
  {
   "cell_type": "code",
   "execution_count": 186,
   "id": "5eb9ceee",
   "metadata": {
    "ExecuteTime": {
     "end_time": "2022-08-23T11:46:11.687900Z",
     "start_time": "2022-08-23T11:46:11.674738Z"
    }
   },
   "outputs": [
    {
     "ename": "TypeError",
     "evalue": "fromisoformat: argument must be str",
     "output_type": "error",
     "traceback": [
      "\u001b[0;31m---------------------------------------------------------------------------\u001b[0m",
      "\u001b[0;31mTypeError\u001b[0m                                 Traceback (most recent call last)",
      "Input \u001b[0;32mIn [186]\u001b[0m, in \u001b[0;36m<cell line: 2>\u001b[0;34m()\u001b[0m\n\u001b[1;32m      1\u001b[0m x \u001b[38;5;241m=\u001b[39m dt\u001b[38;5;241m.\u001b[39mdatetime\u001b[38;5;241m.\u001b[39mfromisoformat(\u001b[38;5;124m'\u001b[39m\u001b[38;5;124m2022-08-22T14:32:03+00:00\u001b[39m\u001b[38;5;124m'\u001b[39m)\n\u001b[0;32m----> 2\u001b[0m x \u001b[38;5;241m=\u001b[39m \u001b[43mdt\u001b[49m\u001b[38;5;241;43m.\u001b[39;49m\u001b[43mdatetime\u001b[49m\u001b[38;5;241;43m.\u001b[39;49m\u001b[43mfromisoformat\u001b[49m\u001b[43m(\u001b[49m\u001b[38;5;28;43;01mNone\u001b[39;49;00m\u001b[43m)\u001b[49m\n",
      "\u001b[0;31mTypeError\u001b[0m: fromisoformat: argument must be str"
     ]
    }
   ],
   "source": [
    "x = dt.datetime.fromisoformat(\"2022-08-22T14:32:03+00:00\")\n",
    "x = dt.datetime.fromisoformat(None)\n"
   ]
  },
  {
   "cell_type": "code",
   "execution_count": 182,
   "id": "937ae2a1",
   "metadata": {
    "ExecuteTime": {
     "end_time": "2022-08-23T11:45:25.670130Z",
     "start_time": "2022-08-23T11:45:25.666437Z"
    }
   },
   "outputs": [
    {
     "data": {
      "text/plain": [
       "'2022-08-22T14:32:03+00:00'"
      ]
     },
     "execution_count": 182,
     "metadata": {},
     "output_type": "execute_result"
    }
   ],
   "source": [
    "x.t\n"
   ]
  },
  {
   "cell_type": "code",
   "execution_count": 112,
   "id": "848488f4",
   "metadata": {
    "ExecuteTime": {
     "end_time": "2022-08-23T11:32:15.902749Z",
     "start_time": "2022-08-23T11:32:15.900103Z"
    }
   },
   "outputs": [],
   "source": [
    "x = property_df[\"available_from\"]\n"
   ]
  },
  {
   "cell_type": "code",
   "execution_count": 171,
   "id": "be1f525c",
   "metadata": {
    "ExecuteTime": {
     "end_time": "2022-08-23T11:42:55.171322Z",
     "start_time": "2022-08-23T11:42:55.167319Z"
    }
   },
   "outputs": [
    {
     "name": "stdout",
     "output_type": "stream",
     "text": [
      "True\n"
     ]
    }
   ],
   "source": [
    "for i in x:\n",
    "    print(pd.isna(i))\n"
   ]
  },
  {
   "cell_type": "code",
   "execution_count": 158,
   "id": "e4eb7665",
   "metadata": {
    "ExecuteTime": {
     "end_time": "2022-08-23T11:41:03.054074Z",
     "start_time": "2022-08-23T11:41:03.047494Z"
    }
   },
   "outputs": [
    {
     "name": "stderr",
     "output_type": "stream",
     "text": [
      "/usr/lib/python3/dist-packages/pandas/core/series.py:4893: FutureWarning: In a future version, constructing a Series from datetime64[ns] data and a DatetimeTZDtype will interpret the data as wall-times instead of UTC times, matching the behavior of DatetimeIndex. To treat the data as UTC times, use pd.Series(data).dt.tz_localize('UTC').tz_convert(dtype.tz) or pd.Series(data.view('int64'), dtype=dtype)\n",
      "  result = self._constructor(values, index=self.index, dtype=self.dtype)\n"
     ]
    },
    {
     "data": {
      "text/plain": [
       "id\n",
       "469613    NaT\n",
       "Name: available_from, dtype: object"
      ]
     },
     "execution_count": 158,
     "metadata": {},
     "output_type": "execute_result"
    }
   ],
   "source": [
    "x.replace(pd.NaT, None)\n"
   ]
  },
  {
   "cell_type": "code",
   "execution_count": 102,
   "id": "683118d8",
   "metadata": {
    "ExecuteTime": {
     "end_time": "2022-08-23T11:29:42.939547Z",
     "start_time": "2022-08-23T11:29:42.926073Z"
    }
   },
   "outputs": [
    {
     "ename": "AttributeError",
     "evalue": "'numpy.ndarray' object has no attribute 'apply'",
     "output_type": "error",
     "traceback": [
      "\u001b[0;31m---------------------------------------------------------------------------\u001b[0m",
      "\u001b[0;31mAttributeError\u001b[0m                            Traceback (most recent call last)",
      "Input \u001b[0;32mIn [102]\u001b[0m, in \u001b[0;36m<cell line: 1>\u001b[0;34m()\u001b[0m\n\u001b[0;32m----> 1\u001b[0m \u001b[43mx\u001b[49m\u001b[38;5;241;43m.\u001b[39;49m\u001b[43mto_pydatetime\u001b[49m\u001b[43m(\u001b[49m\u001b[43m)\u001b[49m\u001b[38;5;241;43m.\u001b[39;49m\u001b[43mapply\u001b[49m(\u001b[38;5;28;01mlambda\u001b[39;00m x: x\u001b[38;5;241m.\u001b[39misoformat())\n",
      "\u001b[0;31mAttributeError\u001b[0m: 'numpy.ndarray' object has no attribute 'apply'"
     ]
    }
   ],
   "source": [
    "x.to_pydatetime().apply(lambda x: x.isoformat())\n"
   ]
  },
  {
   "cell_type": "code",
   "execution_count": 57,
   "id": "703cc55c",
   "metadata": {
    "ExecuteTime": {
     "end_time": "2022-08-23T11:23:19.972478Z",
     "start_time": "2022-08-23T11:23:19.966925Z"
    }
   },
   "outputs": [
    {
     "data": {
      "text/plain": [
       "a   NaT\n",
       "dtype: datetime64[ns]"
      ]
     },
     "execution_count": 57,
     "metadata": {},
     "output_type": "execute_result"
    }
   ],
   "source": [
    "pd.Series({\"a\": float(\"NaN\")}).astype(\"datetime64[ns]\")\n"
   ]
  },
  {
   "cell_type": "code",
   "execution_count": 43,
   "id": "78e9b470",
   "metadata": {
    "ExecuteTime": {
     "end_time": "2022-08-23T11:17:33.624562Z",
     "start_time": "2022-08-23T11:17:33.595095Z"
    }
   },
   "outputs": [
    {
     "data": {
      "text/html": [
       "<div>\n",
       "<style scoped>\n",
       "    .dataframe tbody tr th:only-of-type {\n",
       "        vertical-align: middle;\n",
       "    }\n",
       "\n",
       "    .dataframe tbody tr th {\n",
       "        vertical-align: top;\n",
       "    }\n",
       "\n",
       "    .dataframe thead th {\n",
       "        text-align: right;\n",
       "    }\n",
       "</style>\n",
       "<table border=\"1\" class=\"dataframe\">\n",
       "  <thead>\n",
       "    <tr style=\"text-align: right;\">\n",
       "      <th></th>\n",
       "      <th>stripped_photos</th>\n",
       "      <th>photo_count</th>\n",
       "      <th>photo_url</th>\n",
       "      <th>cluster_id</th>\n",
       "      <th>offer_type</th>\n",
       "      <th>rank</th>\n",
       "      <th>has_rank</th>\n",
       "      <th>rank_sum</th>\n",
       "      <th>description</th>\n",
       "      <th>reference_id</th>\n",
       "      <th>...</th>\n",
       "      <th>year_of_construction</th>\n",
       "      <th>heating_types</th>\n",
       "      <th>minimum_rentable_area</th>\n",
       "      <th>minimum_rental_period_month</th>\n",
       "      <th>office_category</th>\n",
       "      <th>project_id</th>\n",
       "      <th>lot_ratio</th>\n",
       "      <th>gross_floor_area</th>\n",
       "      <th>operational_cost</th>\n",
       "      <th>is_unincorporated_area</th>\n",
       "    </tr>\n",
       "    <tr>\n",
       "      <th>id</th>\n",
       "      <th></th>\n",
       "      <th></th>\n",
       "      <th></th>\n",
       "      <th></th>\n",
       "      <th></th>\n",
       "      <th></th>\n",
       "      <th></th>\n",
       "      <th></th>\n",
       "      <th></th>\n",
       "      <th></th>\n",
       "      <th></th>\n",
       "      <th></th>\n",
       "      <th></th>\n",
       "      <th></th>\n",
       "      <th></th>\n",
       "      <th></th>\n",
       "      <th></th>\n",
       "      <th></th>\n",
       "      <th></th>\n",
       "      <th></th>\n",
       "      <th></th>\n",
       "    </tr>\n",
       "  </thead>\n",
       "  <tbody>\n",
       "    <tr>\n",
       "      <th>469613</th>\n",
       "      <td>[{'caption': '', 'description': '', 'urls': {'...</td>\n",
       "      <td>5.0</td>\n",
       "      <td>https://ot.ingatlancdn.com/87/f9/469613_930954...</td>\n",
       "      <td>1171093</td>\n",
       "      <td>rent</td>\n",
       "      <td>0</td>\n",
       "      <td>0</td>\n",
       "      <td>0</td>\n",
       "      <td>XII. Városkúton, 140 nm beépített területű, 2....</td>\n",
       "      <td>COM A41460</td>\n",
       "      <td>...</td>\n",
       "      <td>NaN</td>\n",
       "      <td>[gasCirco]</td>\n",
       "      <td>None</td>\n",
       "      <td>NaN</td>\n",
       "      <td>None</td>\n",
       "      <td>None</td>\n",
       "      <td>None</td>\n",
       "      <td>None</td>\n",
       "      <td>None</td>\n",
       "      <td>0.0</td>\n",
       "    </tr>\n",
       "  </tbody>\n",
       "</table>\n",
       "<p>1 rows × 76 columns</p>\n",
       "</div>"
      ],
      "text/plain": [
       "                                          stripped_photos  photo_count  \\\n",
       "id                                                                       \n",
       "469613  [{'caption': '', 'description': '', 'urls': {'...          5.0   \n",
       "\n",
       "                                                photo_url  cluster_id  \\\n",
       "id                                                                      \n",
       "469613  https://ot.ingatlancdn.com/87/f9/469613_930954...     1171093   \n",
       "\n",
       "       offer_type  rank  has_rank  rank_sum  \\\n",
       "id                                            \n",
       "469613       rent     0         0         0   \n",
       "\n",
       "                                              description reference_id  ...  \\\n",
       "id                                                                      ...   \n",
       "469613  XII. Városkúton, 140 nm beépített területű, 2....   COM A41460  ...   \n",
       "\n",
       "        year_of_construction  heating_types  minimum_rentable_area  \\\n",
       "id                                                                   \n",
       "469613                   NaN     [gasCirco]                   None   \n",
       "\n",
       "        minimum_rental_period_month office_category project_id lot_ratio  \\\n",
       "id                                                                         \n",
       "469613                          NaN            None       None      None   \n",
       "\n",
       "       gross_floor_area operational_cost is_unincorporated_area  \n",
       "id                                                               \n",
       "469613             None             None                    0.0  \n",
       "\n",
       "[1 rows x 76 columns]"
      ]
     },
     "execution_count": 43,
     "metadata": {},
     "output_type": "execute_result"
    }
   ],
   "source": [
    "property_df.astype(property_table.features_map)\n"
   ]
  },
  {
   "cell_type": "code",
   "execution_count": 25,
   "id": "f2b5ffa1",
   "metadata": {
    "ExecuteTime": {
     "end_time": "2022-08-23T11:09:56.423798Z",
     "start_time": "2022-08-23T11:09:56.418292Z"
    }
   },
   "outputs": [
    {
     "data": {
      "text/plain": [
       "id\n",
       "469613   NaT\n",
       "Name: available_from, dtype: datetime64[ns]"
      ]
     },
     "execution_count": 25,
     "metadata": {},
     "output_type": "execute_result"
    }
   ],
   "source": [
    "property_df[\"available_from\"].astype(\"datetime64\")\n"
   ]
  },
  {
   "cell_type": "code",
   "execution_count": 237,
   "id": "5abfef32",
   "metadata": {
    "ExecuteTime": {
     "end_time": "2022-08-23T10:17:52.645489Z",
     "start_time": "2022-08-23T10:17:52.639085Z"
    }
   },
   "outputs": [
    {
     "data": {
      "text/plain": [
       "a   NaT\n",
       "dtype: datetime64[ns]"
      ]
     },
     "execution_count": 237,
     "metadata": {},
     "output_type": "execute_result"
    }
   ],
   "source": [
    "pd.to_datetime(pd.Series({\"a\": pd.NA}), errors=\"coerce\")\n"
   ]
  },
  {
   "cell_type": "code",
   "execution_count": 257,
   "id": "c7b8e0ce",
   "metadata": {
    "ExecuteTime": {
     "end_time": "2022-08-23T10:30:48.143759Z",
     "start_time": "2022-08-23T10:30:48.139692Z"
    }
   },
   "outputs": [],
   "source": [
    "t = pd.to_datetime(property_df[\"available_from\"], errors=\"coerce\").dt.tz_localize(None)\n"
   ]
  },
  {
   "cell_type": "code",
   "execution_count": 265,
   "id": "936a20c2",
   "metadata": {
    "ExecuteTime": {
     "end_time": "2022-08-23T10:30:58.524977Z",
     "start_time": "2022-08-23T10:30:58.520435Z"
    }
   },
   "outputs": [
    {
     "data": {
      "text/plain": [
       "id\n",
       "469613   NaT\n",
       "Name: available_from, dtype: datetime64[ns]"
      ]
     },
     "execution_count": 265,
     "metadata": {},
     "output_type": "execute_result"
    }
   ],
   "source": [
    "t.astype(\"datetime64\")\n"
   ]
  },
  {
   "cell_type": "code",
   "execution_count": 224,
   "id": "9829ce2f",
   "metadata": {
    "ExecuteTime": {
     "end_time": "2022-08-23T10:01:10.584086Z",
     "start_time": "2022-08-23T10:01:10.578964Z"
    }
   },
   "outputs": [
    {
     "data": {
      "text/plain": [
       "id\n",
       "32945894    None\n",
       "Name: contact_phone_numbers, dtype: object"
      ]
     },
     "execution_count": 224,
     "metadata": {},
     "output_type": "execute_result"
    }
   ],
   "source": [
    "property_df[\"contact_phone_numbers\"]\n"
   ]
  },
  {
   "cell_type": "code",
   "execution_count": 6,
   "id": "181d7c9b",
   "metadata": {
    "ExecuteTime": {
     "end_time": "2022-08-22T19:28:08.082320Z",
     "start_time": "2022-08-22T19:28:08.077759Z"
    }
   },
   "outputs": [],
   "source": [
    "UNUSED_COLS = [\n",
    "    \"stripped_photos\",\n",
    "    \"photo_url\",\n",
    "    \"rank\",\n",
    "    \"has_rank\",\n",
    "    \"rank_sum\",\n",
    "    \"photos\",\n",
    "    \"parking_price\",\n",
    "    \"links\",\n",
    "    \"area_prices\",\n",
    "    \"street_number\",\n",
    "    \"street_number_coordinates\",\n",
    "]\n",
    "\n",
    "EXTRACTION_COLS = [\n",
    "    \"utility_costs\",\n",
    "    \"prices\",\n",
    "    \"contact_phone_numbers\",\n",
    "    \"heating_types\",\n",
    "    \"parking\",\n",
    "    \"labels\",\n",
    "    \"seller\",\n",
    "]\n"
   ]
  },
  {
   "cell_type": "code",
   "execution_count": 4,
   "id": "0da37a36",
   "metadata": {
    "ExecuteTime": {
     "end_time": "2022-08-23T07:53:38.474317Z",
     "start_time": "2022-08-23T07:53:38.465454Z"
    }
   },
   "outputs": [
    {
     "data": {
      "text/html": [
       "<div>\n",
       "<style scoped>\n",
       "    .dataframe tbody tr th:only-of-type {\n",
       "        vertical-align: middle;\n",
       "    }\n",
       "\n",
       "    .dataframe tbody tr th {\n",
       "        vertical-align: top;\n",
       "    }\n",
       "\n",
       "    .dataframe thead th {\n",
       "        text-align: right;\n",
       "    }\n",
       "</style>\n",
       "<table border=\"1\" class=\"dataframe\">\n",
       "  <thead>\n",
       "    <tr style=\"text-align: right;\">\n",
       "      <th></th>\n",
       "      <th>a</th>\n",
       "      <th>b</th>\n",
       "      <th>c</th>\n",
       "    </tr>\n",
       "  </thead>\n",
       "  <tbody>\n",
       "    <tr>\n",
       "      <th>0</th>\n",
       "      <td>1</td>\n",
       "      <td>5</td>\n",
       "      <td>NaN</td>\n",
       "    </tr>\n",
       "  </tbody>\n",
       "</table>\n",
       "</div>"
      ],
      "text/plain": [
       "   a  b   c\n",
       "0  1  5 NaN"
      ]
     },
     "execution_count": 4,
     "metadata": {},
     "output_type": "execute_result"
    }
   ],
   "source": [
    "pd.DataFrame([{\"a\": 1, \"b\": 5}])\n"
   ]
  },
  {
   "cell_type": "code",
   "execution_count": 30,
   "id": "859b34fe",
   "metadata": {
    "ExecuteTime": {
     "end_time": "2022-08-22T19:33:18.128049Z",
     "start_time": "2022-08-22T19:33:18.084557Z"
    },
    "scrolled": true
   },
   "outputs": [
    {
     "data": {
      "text/plain": [
       "True"
      ]
     },
     "execution_count": 30,
     "metadata": {},
     "output_type": "execute_result"
    }
   ],
   "source": [
    "(\n",
    "    property_df.dropna(axis=1, how=\"all\")\n",
    "    .drop(columns=[*EXTRACTION_COLS, *UNUSED_COLS, *property_table.feature_cols])\n",
    "    .empty\n",
    ")\n"
   ]
  },
  {
   "cell_type": "code",
   "execution_count": 7,
   "id": "96e7341c",
   "metadata": {
    "ExecuteTime": {
     "end_time": "2022-08-23T11:07:28.080186Z",
     "start_time": "2022-08-23T11:07:28.065743Z"
    }
   },
   "outputs": [],
   "source": [
    "def parse_property(df: pd.DataFrame):\n",
    "    return (\n",
    "        df.set_index(RealEstate.id)\n",
    "        .rename(columns={\"type\": \"offer_type\"})\n",
    "        .drop(columns=\"minimumRentalPeriodMonth\")\n",
    "        .pipe(\n",
    "            lambda _df: pd.concat(\n",
    "                [_df.drop(columns=\"property\"), _df[\"property\"].apply(pd.Series)], axis=1\n",
    "            )\n",
    "        )\n",
    "        .rename(_camel_to_snake, axis=1)\n",
    "        .rename(\n",
    "            columns={\n",
    "                \"seller_id\": RealEstate.seller_id.id,\n",
    "                \"location_id\": RealEstate.location_id.id,\n",
    "            }\n",
    "        )\n",
    "        .assign(\n",
    "            {\n",
    "                RealEstate.updated_at: lambda _df: pd.to_datetime(\n",
    "                    _df[RealEstate.updated_at]\n",
    "                ),\n",
    "                RealEstate.available_from: lambda _df: pd.to_datetime(\n",
    "                    _df[RealEstate.available_from]\n",
    "                ),\n",
    "            }\n",
    "        )\n",
    "    )\n",
    "\n",
    "\n",
    "def parse_location(df: pd.DataFrame):\n",
    "    return (\n",
    "        df[\"locations\"]\n",
    "        .explode()\n",
    "        .apply(pd.Series)\n",
    "        .rename(_camel_to_snake, axis=1)\n",
    "        .set_index(Location.id)\n",
    "    )\n",
    "\n",
    "\n",
    "def parse_seller(df: pd.DataFrame):\n",
    "    return (\n",
    "        df[RealEstate.seller_id.id]\n",
    "        .apply(pd.Series)\n",
    "        .rename(_camel_to_snake, axis=1)\n",
    "        .assign(\n",
    "            **{\n",
    "                Seller.agency: lambda _df: _df[\"office\"].apply(\n",
    "                    lambda dic: dic[\"name\"] if not pd.isna(dic) else None\n",
    "                )\n",
    "            }\n",
    "        )\n",
    "        .drop(columns=[\"photo_url\", \"project_logo_url\", \"office\"])\n",
    "        .set_index(Seller.id)\n",
    "    )\n",
    "\n",
    "\n",
    "def parse_label(df: pd.DataFrame):\n",
    "    return (\n",
    "        property_df[\"labels\"]\n",
    "        .explode()\n",
    "        .dropna()\n",
    "        .apply(pd.Series)\n",
    "        .drop(columns=[\"slug\"])\n",
    "        .reset_index()\n",
    "        .rename(columns={RealEstate.id: Label.property_id.id, \"name\": Label.label})\n",
    "        .set_index([Label.property_id.id, Label.label])\n",
    "    )\n",
    "\n",
    "\n",
    "def parse_parking(df: pd.DataFrame):\n",
    "    return (\n",
    "        df[\"parking\"]\n",
    "        .dropna()\n",
    "        .apply(pd.Series)\n",
    "        .pipe(\n",
    "            lambda _df: pd.concat(\n",
    "                [_df.drop(columns=\"price\"), _df[\"price\"].apply(pd.Series)], axis=1\n",
    "            )\n",
    "        )\n",
    "        .pipe(\n",
    "            lambda _df: pd.concat(\n",
    "                [\n",
    "                    _df.drop(columns=\"interval\"),\n",
    "                    (\n",
    "                        _df[\"interval\"]\n",
    "                        .apply(pd.Series)\n",
    "                        .dropna(how=\"all\", axis=1)\n",
    "                        .add_prefix(\"interval_\")\n",
    "                    ),\n",
    "                ],\n",
    "                axis=1,\n",
    "            )\n",
    "        )\n",
    "        .rename_axis(index=Parking.property_id.id)\n",
    "    )\n",
    "\n",
    "\n",
    "def parse_heating(df: pd.DataFrame):\n",
    "    return (\n",
    "        df[\"heating_types\"]\n",
    "        .explode()\n",
    "        .dropna()\n",
    "        .to_frame()\n",
    "        .reset_index()\n",
    "        .rename(\n",
    "            columns={\n",
    "                RealEstate.id: Heating.property_id.id,\n",
    "                \"heating_types\": Heating.heating_type,\n",
    "            }\n",
    "        )\n",
    "        .set_index([Heating.property_id.id, Heating.heating_type])\n",
    "    )\n",
    "\n",
    "\n",
    "def parse_utility_cost(df: pd.DataFrame):\n",
    "    return (\n",
    "        df[\"utility_costs\"]\n",
    "        .dropna()\n",
    "        .apply(pd.Series)\n",
    "        .pipe(\n",
    "            lambda _df: pd.concat(\n",
    "                [\n",
    "                    _df.drop(columns=\"interval\"),\n",
    "                    _df[\"interval\"].apply(pd.Series).add_prefix(\"interval_\"),\n",
    "                ],\n",
    "                axis=1,\n",
    "            )\n",
    "        )\n",
    "        .rename_axis(index=UtilityCost.property_id.id)\n",
    "    )\n",
    "\n",
    "\n",
    "def parse_price(df: pd.DataFrame):\n",
    "    return (\n",
    "        df[\"prices\"]\n",
    "        .explode()\n",
    "        .dropna()\n",
    "        .apply(pd.Series)\n",
    "        .pipe(\n",
    "            lambda _df: pd.concat(\n",
    "                [\n",
    "                    _df.drop(columns=\"interval\"),\n",
    "                    _df[\"interval\"].apply(pd.Series).add_prefix(\"interval_\"),\n",
    "                ],\n",
    "                axis=1,\n",
    "            )\n",
    "        )\n",
    "        .reset_index()\n",
    "        .rename(columns={RealEstate.id: Price.property_id.id})\n",
    "        .set_index([Price.property_id.id, Price.currency])\n",
    "    )\n",
    "\n",
    "\n",
    "def parse_contact(df: pd.DataFrame):\n",
    "    return (\n",
    "        df[\"contact_phone_numbers\"]\n",
    "        .apply(pd.Series)[\"numbers\"]\n",
    "        .explode()\n",
    "        .dropna()\n",
    "        .to_frame()\n",
    "        .reset_index()\n",
    "        .rename(\n",
    "            columns={\n",
    "                \"numbers\": Contact.phone_number,\n",
    "                RealEstate.id: Contact.property_id.id,\n",
    "            }\n",
    "        )\n",
    "        .set_index([Contact.property_id.id, Contact.phone_number])\n",
    "    )\n"
   ]
  }
 ],
 "metadata": {
  "kernelspec": {
   "display_name": "Python 3 (ipykernel)",
   "language": "python",
   "name": "python3"
  },
  "language_info": {
   "codemirror_mode": {
    "name": "ipython",
    "version": 3
   },
   "file_extension": ".py",
   "mimetype": "text/x-python",
   "name": "python",
   "nbconvert_exporter": "python",
   "pygments_lexer": "ipython3",
   "version": "3.10.6"
  },
  "toc": {
   "base_numbering": 1,
   "nav_menu": {},
   "number_sections": true,
   "sideBar": true,
   "skip_h1_title": false,
   "title_cell": "Table of Contents",
   "title_sidebar": "Contents",
   "toc_cell": false,
   "toc_position": {},
   "toc_section_display": true,
   "toc_window_display": false
  },
  "vscode": {
   "interpreter": {
    "hash": "b96a8557845300ad2909516fcbe7a949fbd46d0301b1056f96d2f7fe0176c8fa"
   }
  }
 },
 "nbformat": 4,
 "nbformat_minor": 5
}
